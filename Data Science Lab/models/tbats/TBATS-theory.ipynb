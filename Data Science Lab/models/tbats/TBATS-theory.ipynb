{
 "cells": [
  {
   "cell_type": "markdown",
   "metadata": {},
   "source": [
    "from https://github.com/intive-DataScience/tbats/blob/master/examples/detailed_tbats.py"
   ]
  },
  {
   "cell_type": "code",
   "execution_count": null,
   "metadata": {},
   "outputs": [],
   "source": [
    "import pandas as pd\n",
    "import numpy as np\n",
    "import datetime as dt"
   ]
  },
  {
   "cell_type": "code",
   "execution_count": null,
   "metadata": {},
   "outputs": [],
   "source": [
    "import matplotlib.pyplot as plt\n",
    "%matplotlib inline"
   ]
  },
  {
   "cell_type": "code",
   "execution_count": null,
   "metadata": {},
   "outputs": [],
   "source": [
    "# ! pip install tbats"
   ]
  },
  {
   "cell_type": "code",
   "execution_count": null,
   "metadata": {},
   "outputs": [],
   "source": [
    "from tbats import BATS, TBATS"
   ]
  },
  {
   "cell_type": "code",
   "execution_count": null,
   "metadata": {},
   "outputs": [],
   "source": [
    "if __name__ == '__main__':\n",
    "    steps = 14\n",
    "    np.random.seed(2342)\n",
    "    t = np.array(range(0, 160))\n",
    "    y = 5 * np.sin(t * 2 * np.pi / 7) + 5 * np.cos(t * 2 * np.pi / 30.25) + \\\n",
    "        ((t / 20) ** 1.5 + np.random.normal(size=160) * t / 50) + 10\n",
    "    y = np.asarray(y)\n",
    "    y_to_train = y[:(len(y) - steps)]\n",
    "    y_to_predict = y[(len(y) - steps):]"
   ]
  },
  {
   "cell_type": "code",
   "execution_count": null,
   "metadata": {},
   "outputs": [],
   "source": [
    "estimator = TBATS(\n",
    "        seasonal_periods=[14.5, 30.25],\n",
    "        use_arma_errors=None,  # shall try models with and without ARMA\n",
    "        use_box_cox=False,  # will not use Box-Cox\n",
    "        use_trend=None,  # will try models with trend and without it\n",
    "        use_damped_trend=None,  # will try models with daming and without it\n",
    "        show_warnings=False,  # will not be showing any warnings for chosen model\n",
    "    )"
   ]
  },
  {
   "cell_type": "code",
   "execution_count": null,
   "metadata": {},
   "outputs": [],
   "source": [
    "fitted_model = estimator.fit(y_to_train)"
   ]
  },
  {
   "cell_type": "code",
   "execution_count": null,
   "metadata": {},
   "outputs": [],
   "source": [
    "# Warning messages from the model, if any\n",
    "for warning in fitted_model.warnings:\n",
    "    print(warning)"
   ]
  },
  {
   "cell_type": "code",
   "execution_count": null,
   "metadata": {},
   "outputs": [
    {
     "name": "stdout",
     "output_type": "stream",
     "text": [
      "Did the model fit? True\n",
      "AIC 69727.21263550116\n"
     ]
    }
   ],
   "source": [
    "print('Did the model fit?', fitted_model.is_fitted)  # Model may fail to fit in edge-case situations\n",
    "print('AIC', fitted_model.aic)  # may be np.inf"
   ]
  },
  {
   "cell_type": "code",
   "execution_count": null,
   "metadata": {},
   "outputs": [
    {
     "name": "stdout",
     "output_type": "stream",
     "text": [
      "\n",
      "\n",
      "MODEL SUMMARY\n",
      "\n",
      "\n"
     ]
    }
   ],
   "source": [
    "# Lets check components used in the model\n",
    "print('\\n\\nMODEL SUMMARY\\n\\n')\n",
    "params = fitted_model.params\n",
    "components = fitted_model.params.components"
   ]
  },
  {
   "cell_type": "code",
   "execution_count": null,
   "metadata": {},
   "outputs": [
    {
     "name": "stdout",
     "output_type": "stream",
     "text": [
      "Smoothing parameter 0.14638137120476663\n"
     ]
    }
   ],
   "source": [
    "print('Smoothing parameter', params.alpha)"
   ]
  },
  {
   "cell_type": "code",
   "execution_count": null,
   "metadata": {},
   "outputs": [
    {
     "name": "stdout",
     "output_type": "stream",
     "text": [
      "Seasonal periods [  7.   365.25]\n",
      "Harmonics amount for each season [3 1]\n",
      "1st seasonal smoothing parameters [ 1.51479130e-08 -5.18968735e-09]\n",
      "2nd seasonal smoothing parameters [2.17852355e-08 1.78665609e-08]\n"
     ]
    }
   ],
   "source": [
    "print('Seasonal periods',\n",
    "          components.seasonal_periods)  # TBATS may choose non-seasonal model even if you provide seasons\n",
    "print('Harmonics amount for each season', components.seasonal_harmonics)\n",
    "print('1st seasonal smoothing parameters', params.gamma_1())  # one value for each season\n",
    "print('2nd seasonal smoothing parameters', params.gamma_2())  # one value for each season"
   ]
  },
  {
   "cell_type": "code",
   "execution_count": null,
   "metadata": {},
   "outputs": [
    {
     "name": "stdout",
     "output_type": "stream",
     "text": [
      "Trend and damping True True\n",
      "Trend -0.02356179882178914\n",
      "Damping 0.8000000001761762\n"
     ]
    }
   ],
   "source": [
    "print('Trend and damping', components.use_trend, components.use_damped_trend)\n",
    "print('Trend', params.beta)\n",
    "print('Damping', params.phi)"
   ]
  },
  {
   "cell_type": "code",
   "execution_count": null,
   "metadata": {},
   "outputs": [
    {
     "name": "stdout",
     "output_type": "stream",
     "text": [
      "Use Box-Cox False\n",
      "Box-Cox lambda interval that was considered (0, 1)\n",
      "Box-Cox lambda None\n"
     ]
    }
   ],
   "source": [
    "print('Use Box-Cox', components.use_box_cox)\n",
    "print('Box-Cox lambda interval that was considered', components.box_cox_bounds)\n",
    "print('Box-Cox lambda', params.box_cox_lambda)"
   ]
  },
  {
   "cell_type": "code",
   "execution_count": null,
   "metadata": {},
   "outputs": [
    {
     "name": "stdout",
     "output_type": "stream",
     "text": [
      "ARMA residuals modelling False\n",
      "ARMA(p, q) 0 0\n",
      "AR parameters []\n",
      "MA parameters []\n"
     ]
    }
   ],
   "source": [
    "print('ARMA residuals modelling', components.use_arma_errors)\n",
    "print('ARMA(p, q)', components.p, components.q)\n",
    "print('AR parameters', params.ar_coefs)\n",
    "print('MA parameters', params.ma_coefs)"
   ]
  },
  {
   "cell_type": "code",
   "execution_count": null,
   "metadata": {},
   "outputs": [
    {
     "name": "stdout",
     "output_type": "stream",
     "text": [
      "Seed state [ 2046.06248987   113.56905563  1784.12981697 -1343.42064111\n",
      "   567.53486248 -2962.76571841   180.66241952   191.55113227\n",
      " -1129.8617667   3961.55985326]\n"
     ]
    }
   ],
   "source": [
    "print('Seed state', params.x0)"
   ]
  },
  {
   "cell_type": "code",
   "execution_count": null,
   "metadata": {},
   "outputs": [
    {
     "name": "stdout",
     "output_type": "stream",
     "text": [
      "\n",
      "\n",
      "SUMMARY FUNCTION\n",
      "\n",
      "\n",
      "Use Box-Cox: False\n",
      "Use trend: True\n",
      "Use damped trend: True\n",
      "Seasonal periods: [  7.   365.25]\n",
      "Seasonal harmonics [3 1]\n",
      "ARMA errors (p, q): (0, 0)\n",
      "Smoothing (Alpha): 0.146381\n",
      "Trend (Beta): -0.023562\n",
      "Damping Parameter (Phi): 0.800000\n",
      "Seasonal Parameters (Gamma): [ 1.51479130e-08  2.17852355e-08 -5.18968735e-09  1.78665609e-08]\n",
      "AR coefficients []\n",
      "MA coefficients []\n",
      "Seed vector [ 2046.06248987   113.56905563  1784.12981697 -1343.42064111\n",
      "   567.53486248 -2962.76571841   180.66241952   191.55113227\n",
      " -1129.8617667   3961.55985326]\n",
      "\n",
      "AIC 69727.212636\n"
     ]
    }
   ],
   "source": [
    "# Short model summary\n",
    "print('\\n\\nSUMMARY FUNCTION\\n\\n')\n",
    "print(fitted_model.summary())"
   ]
  },
  {
   "cell_type": "code",
   "execution_count": null,
   "metadata": {},
   "outputs": [
    {
     "name": "stdout",
     "output_type": "stream",
     "text": [
      "\n",
      "\n",
      "IN SAMPLE PREDICTIONS\n",
      "\n",
      "\n",
      "Original time series (5 first values) [0. 0. 0. 0. 0.]\n",
      "Predictions (5 first values) [ 2015.30000604  -266.10781625  -867.26601342 -2482.85833473\n",
      "   423.34441147]\n",
      "Residuals (5 first values) [-2015.30000604   266.10781625   867.26601342  2482.85833473\n",
      "  -423.34441147]\n"
     ]
    }
   ],
   "source": [
    "print('\\n\\nIN SAMPLE PREDICTIONS\\n\\n')\n",
    "print('Original time series (5 first values)', fitted_model.y[:5])\n",
    "print('Predictions (5 first values)', fitted_model.y_hat[:5])\n",
    "print('Residuals (5 first values)', fitted_model.resid[:5])"
   ]
  },
  {
   "cell_type": "code",
   "execution_count": null,
   "metadata": {},
   "outputs": [],
   "source": [
    "y_forecasted = fitted_model.forecast(steps=steps)"
   ]
  },
  {
   "cell_type": "code",
   "execution_count": null,
   "metadata": {},
   "outputs": [
    {
     "name": "stdout",
     "output_type": "stream",
     "text": [
      "\n",
      "\n",
      "FORECAST\n",
      "\n",
      "\n",
      "Values [27702.03372466 25997.93971865 24026.61276121 23387.58605805\n",
      " 21645.97901207 24219.72989306 29907.2024981  28635.31516069\n",
      " 26727.07355715 24590.74716738 23818.04523758 21967.82849886\n",
      " 24453.02877764 30068.00520835 28736.47288432 26778.87537743\n",
      " 24601.43296929 23794.2160302  21914.77467058 24374.99269748\n",
      " 29968.3913041  28618.01570186 26643.77402495 24451.45866932\n",
      " 23630.79815761 21739.06957942 24187.93877858 29770.75302719\n",
      " 28410.41884528 26426.73385513 24225.40248009 23396.08329716\n",
      " 21495.99786727 23936.76803445 29511.70628927 28143.69173982\n",
      " 26152.50048713 23943.82014052 23107.29622349 21200.14024642\n",
      " 23633.9663996  29202.0814316  27827.36023218 25829.57589697\n",
      " 23614.41399433 22771.51877218 20858.10107139 23285.77489132\n",
      " 28847.847166   27467.19326523 25463.58699377 23242.71480559\n",
      " 22394.22196864 20475.32044443 22897.62542642 28454.44509446\n",
      " 27068.65609837 25060.03354298 22834.26519111 21980.99761911\n",
      " 20057.44408903 22475.22108106 28027.63804303 26637.57287006\n",
      " 24624.80188636 22395.0140455  21537.85708382 19610.54539073\n",
      " 22024.69653966 27573.62103632 26180.19779725 24164.20413069\n",
      " 21931.32993615 21071.22385707 19141.10115064 21552.58021814\n",
      " 27098.97235285 25703.15721811 23684.91282797 21449.92974634\n",
      " 20587.85723941 18655.91114524 21065.71040384 26610.56680491\n",
      " 25213.36046572 23193.86981156 20957.7857748  20094.75794715\n",
      " 18162.00244913 20571.13846012 26115.47796592 24717.90123666\n",
      " 22698.18680715 20462.02567589 19599.06745736 17666.52825144\n",
      " 20076.02717346 25620.8761018  24223.95515583 22205.04267627\n",
      " 19969.8294243  19107.9647339  17176.66438134 19587.54711535\n",
      " 25133.92440483 23738.67591684 21721.57949722 19488.32536974\n",
      " 18628.56228863 16699.50540826 19112.7728135  24661.67526754\n",
      " 23269.09169026 21254.79913887 19024.48700744 18167.80317961\n",
      " 16241.96189857 18658.58029761 24210.96814834 22822.00333923\n",
      " 20811.46185664 18585.03198465 17732.36045808 15810.66033281\n",
      " 18231.54751668 23788.33051811 22403.88592498 20397.98838604\n",
      " 18176.32481116 17328.54052472 15411.84713638 17837.85907244\n",
      " 23399.88332481 22020.79493038 20020.36695293 17804.2846838\n",
      " 16962.19179577 15051.29821433 17483.21664951 23051.25234539\n",
      " 21678.27855999 19684.06654769 17474.29976039 16638.62000205\n",
      " 14734.23530039 17172.75643937 22747.48670923 21381.29738695\n",
      " 19393.95771926 17191.14912446 16362.51134743 14465.25033209\n",
      " 16910.97475436 22492.98577293 21134.15251026 19154.24203635\n",
      " 16958.93357104 16137.86463983 14248.23894688 16701.66290871\n",
      " 22291.43540556 20940.42326319 18968.39123717 16781.01621599\n",
      " 15967.93337753 14086.34406271 16547.85230997 22145.75460729\n",
      " 20802.91537468 18839.09694922 16659.97378885 15855.1786296\n",
      " 13981.91035994 16451.77055598 22058.05323421 20723.62033476\n",
      " 18768.23170713 16597.55931477 15801.23339296 13936.45032402\n",
      " 16414.80917312 22029.60144189 20703.68655231 18756.82183328\n",
      " 16594.67672589 15806.87894206 13950.62234048 16437.50346322\n",
      " 22060.81129002 20743.40272298 18805.03257384 16651.36777\n",
      " 15872.03351393 14024.22115982 16519.52475095 22151.23077473\n",
      " 20842.19364809 18912.16570552 16766.81140583 15995.75349229\n",
      " 14156.18086997 16659.6851439  22299.55037476 20998.62856504\n",
      " 19076.66964778 16939.33569405 16176.24707374 14344.59033371\n",
      " 16855.95473653 22503.62201694 21210.4418687  19296.16193396\n",
      " 17166.44201144 16410.90021794 14586.72086707 17105.49100873\n",
      " 22760.49018619 21474.56592358 19567.4637159  17444.84123788\n",
      " 16696.31450607 14879.06575821 17404.67999333 23066.43472941\n",
      " 21787.1754915  19886.64580233 17770.5013917  17028.35635921\n",
      " 15217.39105414 17749.18861614 23417.02473347 22143.74313159\n",
      " 20249.08556434 18138.70602388 17402.21690387 15596.79687994\n",
      " 18134.0274508  23807.18269698 22539.10476993 20649.53388364\n",
      " 18544.12252504 17812.48161763 16011.78840237 18553.62297923\n",
      " 24231.25806634 22967.53448949 21082.19117417 18980.87935628\n",
      " 18253.2087462  16456.35541003 19001.89831144 24683.10907123\n",
      " 23422.82745707 21540.79137592 19442.65108503 18718.01535627\n",
      " 16924.05935766 19472.36119551 25156.1916742  23898.38978619\n",
      " 22018.69270465 19922.74999467 19200.16977783 17408.12661389\n",
      " 19958.19804313 25643.65434626 24387.33403465 22508.97384303\n",
      " 20414.2229409  19692.68909716 17901.54656193 20452.37260897\n",
      " 26138.43729571 24882.57895346 23004.53418027 20909.9520523\n",
      " 20188.44028849 18397.17313243 20947.72789477 26633.37471321\n",
      " 25376.95204272 23498.19664834 21402.75781651 20680.24351968\n",
      " 18887.82829813 21437.08980221 27121.29855233 25863.29342901\n",
      " 23982.81166555 21885.50305926 21160.9761359  19366.40603129\n",
      " 21913.37103347 27595.1423424  26334.5595599  24451.36068203\n",
      " 22351.19631013 21623.67581503 19825.97521841 22369.67373466\n",
      " 28048.04353036 26783.92521386 24897.05782748 22793.09305811\n",
      " 22061.64140119 20259.88004168 22799.38939563 28473.44286923\n",
      " 27204.88234815 25313.44818918 23204.79343063 22468.52995575\n",
      " 20661.83637342 23196.2945592  28865.17941401 27591.33435299\n",
      " 25694.50129672 23580.33488112 22838.44862044 21026.02278741\n",
      " 23554.64095388 29217.57974893 27937.6843472  26034.6984597\n",
      " 23914.27854305 23166.03996202 21347.16486909 23869.23874455\n",
      " 29525.54015404 28238.91623632 26329.11269346 24201.78799954\n",
      " 23446.55956257 21620.61160344 24135.53169541 29784.60052104\n",
      " 28490.66735933 26573.48007527 24438.69932791 23675.94473163\n",
      " 21842.40273443 24349.66315677 29991.00894781 28689.29167195\n",
      " 26764.26149761 24621.58140467 23850.87334506 22009.32612035\n",
      " 24508.53191985 30141.77607624 28831.9125513  26898.69392407\n",
      " 24747.78559753 23968.81195847 22118.96425436 24609.83713079\n",
      " 30234.71838626 28916.46445728 26974.83040573 24815.48412487\n",
      " 24028.0524984  22169.72927666 24652.11161326 30268.48981922\n",
      " 28941.7228472 ]\n",
      "MAE 21812.269209916405\n"
     ]
    }
   ],
   "source": [
    "print('\\n\\nFORECAST\\n\\n')\n",
    "print('Values', y_forecasted)\n",
    "print('MAE', np.mean(np.abs(y_forecasted - y_to_predict)))"
   ]
  },
  {
   "cell_type": "markdown",
   "metadata": {},
   "source": [
    "https://www.sktime.org/en/stable/api_reference/auto_generated/sktime.forecasting.tbats.TBATS.html#"
   ]
  }
 ],
 "metadata": {
  "interpreter": {
   "hash": "2e627b9c3365cbf30b9fb2813f2f201fd405f3c2eae938228fccf6a6c69b70ea"
  },
  "kernelspec": {
   "display_name": "Python 3.10.4 ('timeSeries')",
   "language": "python",
   "name": "python3"
  },
  "language_info": {
   "name": "python",
   "version": "3.10.4"
  },
  "orig_nbformat": 4
 },
 "nbformat": 4,
 "nbformat_minor": 2
}
