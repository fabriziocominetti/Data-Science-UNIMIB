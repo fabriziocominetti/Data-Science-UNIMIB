{
 "cells": [
  {
   "cell_type": "markdown",
   "metadata": {},
   "source": [
    "**TBATS**: periodo di 2 anni più tre mesi 2022, osservazioni trimestrali, due stagionalità: settimanale e annuale"
   ]
  },
  {
   "cell_type": "markdown",
   "metadata": {},
   "source": [
    "**T**rigonometric seasonality, **B**ox-Cox transformation, **A**RMA errors, **T**rend and **S**easonal components."
   ]
  },
  {
   "cell_type": "markdown",
   "metadata": {},
   "source": [
    "![tbats](https://miro.medium.com/max/1050/1*yfruZnSYsNt1X1uyag46eQ.png)"
   ]
  },
  {
   "cell_type": "markdown",
   "metadata": {},
   "source": [
    "Each seasonality is modeled by a trigonometric representation based on Fourier series. One major advantage of this approach is that it requires only 2 seed states regardless of the length of period. Another advantage is the ability to model seasonal effects of non-integer lengths. For example, given a series of daily observations, one can model leap years with a season of length 365.25."
   ]
  },
  {
   "cell_type": "markdown",
   "metadata": {},
   "source": [
    "**BATS** differs from TBATS only in the way it models seasonal effects. In BATS we have a more traditional approach where each seasonality is modeled by:\n",
    "\n",
    "![bats](https://miro.medium.com/max/1050/1*D8KY2jQRmVRLHY5f4RNqKA.png)\n",
    "\n",
    "This implies that BATS can only model integer period lengths. Approach taken in BATS requires m_i seed states for season i, if this season is long the model may become intractable."
   ]
  },
  {
   "cell_type": "markdown",
   "metadata": {},
   "source": [
    "How Does TBATS Choose The Final Model\n",
    "\n",
    "Under the hood TBATS will consider various alternatives and fit quite a few models. It will consider models:\n",
    "- with Box-Cox transformation and without it.\n",
    "- with and without Trend\n",
    "- with and without Trend Damping\n",
    "- with and without ARMA(p,q) process used to model residuals\n",
    "- non-seasonal model\n",
    "- various amounts of harmonics used to model seasonal effects\n",
    "\n",
    "The final model will be chosen using Akaike information criterion (AIC)."
   ]
  },
  {
   "cell_type": "code",
   "execution_count": 1,
   "metadata": {},
   "outputs": [],
   "source": [
    "import pandas as pd\n",
    "import numpy as np\n",
    "import datetime as dt\n",
    "\n",
    "import matplotlib.pyplot as plt\n",
    "%matplotlib inline"
   ]
  },
  {
   "cell_type": "code",
   "execution_count": 2,
   "metadata": {},
   "outputs": [],
   "source": [
    "from tbats import BATS, TBATS"
   ]
  },
  {
   "cell_type": "code",
   "execution_count": 3,
   "metadata": {},
   "outputs": [
    {
     "data": {
      "text/html": [
       "<div>\n",
       "<style scoped>\n",
       "    .dataframe tbody tr th:only-of-type {\n",
       "        vertical-align: middle;\n",
       "    }\n",
       "\n",
       "    .dataframe tbody tr th {\n",
       "        vertical-align: top;\n",
       "    }\n",
       "\n",
       "    .dataframe thead th {\n",
       "        text-align: right;\n",
       "    }\n",
       "</style>\n",
       "<table border=\"1\" class=\"dataframe\">\n",
       "  <thead>\n",
       "    <tr style=\"text-align: right;\">\n",
       "      <th></th>\n",
       "      <th>Unnamed: 0</th>\n",
       "      <th>year</th>\n",
       "      <th>revenue</th>\n",
       "    </tr>\n",
       "  </thead>\n",
       "  <tbody>\n",
       "    <tr>\n",
       "      <th>0</th>\n",
       "      <td>0</td>\n",
       "      <td>2014-03-31</td>\n",
       "      <td>282703.09</td>\n",
       "    </tr>\n",
       "    <tr>\n",
       "      <th>1</th>\n",
       "      <td>1</td>\n",
       "      <td>2014-06-30</td>\n",
       "      <td>396765.88</td>\n",
       "    </tr>\n",
       "    <tr>\n",
       "      <th>2</th>\n",
       "      <td>2</td>\n",
       "      <td>2014-09-30</td>\n",
       "      <td>653145.10</td>\n",
       "    </tr>\n",
       "    <tr>\n",
       "      <th>3</th>\n",
       "      <td>3</td>\n",
       "      <td>2014-12-31</td>\n",
       "      <td>627096.51</td>\n",
       "    </tr>\n",
       "    <tr>\n",
       "      <th>4</th>\n",
       "      <td>4</td>\n",
       "      <td>2015-03-31</td>\n",
       "      <td>731566.64</td>\n",
       "    </tr>\n",
       "  </tbody>\n",
       "</table>\n",
       "</div>"
      ],
      "text/plain": [
       "   Unnamed: 0        year    revenue\n",
       "0           0  2014-03-31  282703.09\n",
       "1           1  2014-06-30  396765.88\n",
       "2           2  2014-09-30  653145.10\n",
       "3           3  2014-12-31  627096.51\n",
       "4           4  2015-03-31  731566.64"
      ]
     },
     "execution_count": 3,
     "metadata": {},
     "output_type": "execute_result"
    }
   ],
   "source": [
    "df = pd.read_csv('../data/pesca_trimestrale.csv')\n",
    "df.head()"
   ]
  },
  {
   "cell_type": "code",
   "execution_count": 4,
   "metadata": {},
   "outputs": [],
   "source": [
    "# df = df[(df['settore'] == 'Pesca')] # df solo pesca\n",
    "df = df.rename(columns={\"year\": \"data\", \"revenue\": \"totale\"})\n",
    "df['data'] = pd.to_datetime(df['data'])"
   ]
  },
  {
   "cell_type": "code",
   "execution_count": 5,
   "metadata": {},
   "outputs": [
    {
     "data": {
      "text/plain": [
       "Unnamed: 0             int64\n",
       "data          datetime64[ns]\n",
       "totale               float64\n",
       "dtype: object"
      ]
     },
     "execution_count": 5,
     "metadata": {},
     "output_type": "execute_result"
    }
   ],
   "source": [
    "df.dtypes"
   ]
  },
  {
   "cell_type": "code",
   "execution_count": 6,
   "metadata": {},
   "outputs": [
    {
     "data": {
      "text/html": [
       "<div>\n",
       "<style scoped>\n",
       "    .dataframe tbody tr th:only-of-type {\n",
       "        vertical-align: middle;\n",
       "    }\n",
       "\n",
       "    .dataframe tbody tr th {\n",
       "        vertical-align: top;\n",
       "    }\n",
       "\n",
       "    .dataframe thead th {\n",
       "        text-align: right;\n",
       "    }\n",
       "</style>\n",
       "<table border=\"1\" class=\"dataframe\">\n",
       "  <thead>\n",
       "    <tr style=\"text-align: right;\">\n",
       "      <th></th>\n",
       "      <th>Unnamed: 0</th>\n",
       "      <th>data</th>\n",
       "      <th>totale</th>\n",
       "    </tr>\n",
       "  </thead>\n",
       "  <tbody>\n",
       "    <tr>\n",
       "      <th>0</th>\n",
       "      <td>0</td>\n",
       "      <td>2014-03-31</td>\n",
       "      <td>282703.09</td>\n",
       "    </tr>\n",
       "    <tr>\n",
       "      <th>1</th>\n",
       "      <td>1</td>\n",
       "      <td>2014-06-30</td>\n",
       "      <td>396765.88</td>\n",
       "    </tr>\n",
       "    <tr>\n",
       "      <th>2</th>\n",
       "      <td>2</td>\n",
       "      <td>2014-09-30</td>\n",
       "      <td>653145.10</td>\n",
       "    </tr>\n",
       "    <tr>\n",
       "      <th>3</th>\n",
       "      <td>3</td>\n",
       "      <td>2014-12-31</td>\n",
       "      <td>627096.51</td>\n",
       "    </tr>\n",
       "    <tr>\n",
       "      <th>4</th>\n",
       "      <td>4</td>\n",
       "      <td>2015-03-31</td>\n",
       "      <td>731566.64</td>\n",
       "    </tr>\n",
       "  </tbody>\n",
       "</table>\n",
       "</div>"
      ],
      "text/plain": [
       "   Unnamed: 0       data     totale\n",
       "0           0 2014-03-31  282703.09\n",
       "1           1 2014-06-30  396765.88\n",
       "2           2 2014-09-30  653145.10\n",
       "3           3 2014-12-31  627096.51\n",
       "4           4 2015-03-31  731566.64"
      ]
     },
     "execution_count": 6,
     "metadata": {},
     "output_type": "execute_result"
    }
   ],
   "source": [
    "df.head()"
   ]
  },
  {
   "cell_type": "code",
   "execution_count": 7,
   "metadata": {},
   "outputs": [],
   "source": [
    "mask = (df['data'] < '2022-01-01')"
   ]
  },
  {
   "cell_type": "code",
   "execution_count": 8,
   "metadata": {},
   "outputs": [],
   "source": [
    "df = df.loc[mask]"
   ]
  },
  {
   "cell_type": "code",
   "execution_count": 10,
   "metadata": {},
   "outputs": [
    {
     "data": {
      "text/html": [
       "<div>\n",
       "<style scoped>\n",
       "    .dataframe tbody tr th:only-of-type {\n",
       "        vertical-align: middle;\n",
       "    }\n",
       "\n",
       "    .dataframe tbody tr th {\n",
       "        vertical-align: top;\n",
       "    }\n",
       "\n",
       "    .dataframe thead th {\n",
       "        text-align: right;\n",
       "    }\n",
       "</style>\n",
       "<table border=\"1\" class=\"dataframe\">\n",
       "  <thead>\n",
       "    <tr style=\"text-align: right;\">\n",
       "      <th></th>\n",
       "      <th>Unnamed: 0</th>\n",
       "      <th>data</th>\n",
       "      <th>totale</th>\n",
       "    </tr>\n",
       "  </thead>\n",
       "  <tbody>\n",
       "    <tr>\n",
       "      <th>0</th>\n",
       "      <td>0</td>\n",
       "      <td>2014-03-31</td>\n",
       "      <td>282703.09</td>\n",
       "    </tr>\n",
       "    <tr>\n",
       "      <th>1</th>\n",
       "      <td>1</td>\n",
       "      <td>2014-06-30</td>\n",
       "      <td>396765.88</td>\n",
       "    </tr>\n",
       "    <tr>\n",
       "      <th>2</th>\n",
       "      <td>2</td>\n",
       "      <td>2014-09-30</td>\n",
       "      <td>653145.10</td>\n",
       "    </tr>\n",
       "    <tr>\n",
       "      <th>3</th>\n",
       "      <td>3</td>\n",
       "      <td>2014-12-31</td>\n",
       "      <td>627096.51</td>\n",
       "    </tr>\n",
       "    <tr>\n",
       "      <th>4</th>\n",
       "      <td>4</td>\n",
       "      <td>2015-03-31</td>\n",
       "      <td>731566.64</td>\n",
       "    </tr>\n",
       "    <tr>\n",
       "      <th>5</th>\n",
       "      <td>5</td>\n",
       "      <td>2015-06-30</td>\n",
       "      <td>1005902.58</td>\n",
       "    </tr>\n",
       "    <tr>\n",
       "      <th>6</th>\n",
       "      <td>6</td>\n",
       "      <td>2015-09-30</td>\n",
       "      <td>1166984.00</td>\n",
       "    </tr>\n",
       "    <tr>\n",
       "      <th>7</th>\n",
       "      <td>7</td>\n",
       "      <td>2015-12-31</td>\n",
       "      <td>1298311.14</td>\n",
       "    </tr>\n",
       "    <tr>\n",
       "      <th>8</th>\n",
       "      <td>8</td>\n",
       "      <td>2016-03-31</td>\n",
       "      <td>1721404.72</td>\n",
       "    </tr>\n",
       "    <tr>\n",
       "      <th>9</th>\n",
       "      <td>9</td>\n",
       "      <td>2016-06-30</td>\n",
       "      <td>1895262.11</td>\n",
       "    </tr>\n",
       "    <tr>\n",
       "      <th>10</th>\n",
       "      <td>10</td>\n",
       "      <td>2016-09-30</td>\n",
       "      <td>1885508.08</td>\n",
       "    </tr>\n",
       "    <tr>\n",
       "      <th>11</th>\n",
       "      <td>11</td>\n",
       "      <td>2016-12-31</td>\n",
       "      <td>1826503.06</td>\n",
       "    </tr>\n",
       "    <tr>\n",
       "      <th>12</th>\n",
       "      <td>12</td>\n",
       "      <td>2017-03-31</td>\n",
       "      <td>2107961.51</td>\n",
       "    </tr>\n",
       "    <tr>\n",
       "      <th>13</th>\n",
       "      <td>13</td>\n",
       "      <td>2017-06-30</td>\n",
       "      <td>2245044.07</td>\n",
       "    </tr>\n",
       "    <tr>\n",
       "      <th>14</th>\n",
       "      <td>14</td>\n",
       "      <td>2017-09-30</td>\n",
       "      <td>2416536.64</td>\n",
       "    </tr>\n",
       "    <tr>\n",
       "      <th>15</th>\n",
       "      <td>15</td>\n",
       "      <td>2017-12-31</td>\n",
       "      <td>2452117.02</td>\n",
       "    </tr>\n",
       "    <tr>\n",
       "      <th>16</th>\n",
       "      <td>16</td>\n",
       "      <td>2018-03-31</td>\n",
       "      <td>2107743.97</td>\n",
       "    </tr>\n",
       "    <tr>\n",
       "      <th>17</th>\n",
       "      <td>17</td>\n",
       "      <td>2018-06-30</td>\n",
       "      <td>2125116.01</td>\n",
       "    </tr>\n",
       "    <tr>\n",
       "      <th>18</th>\n",
       "      <td>18</td>\n",
       "      <td>2018-09-30</td>\n",
       "      <td>2092537.70</td>\n",
       "    </tr>\n",
       "    <tr>\n",
       "      <th>19</th>\n",
       "      <td>19</td>\n",
       "      <td>2018-12-31</td>\n",
       "      <td>1950548.65</td>\n",
       "    </tr>\n",
       "    <tr>\n",
       "      <th>20</th>\n",
       "      <td>20</td>\n",
       "      <td>2019-03-31</td>\n",
       "      <td>2052647.12</td>\n",
       "    </tr>\n",
       "    <tr>\n",
       "      <th>21</th>\n",
       "      <td>21</td>\n",
       "      <td>2019-06-30</td>\n",
       "      <td>1823202.02</td>\n",
       "    </tr>\n",
       "    <tr>\n",
       "      <th>22</th>\n",
       "      <td>22</td>\n",
       "      <td>2019-09-30</td>\n",
       "      <td>1483071.18</td>\n",
       "    </tr>\n",
       "    <tr>\n",
       "      <th>23</th>\n",
       "      <td>23</td>\n",
       "      <td>2019-12-31</td>\n",
       "      <td>1462509.31</td>\n",
       "    </tr>\n",
       "    <tr>\n",
       "      <th>24</th>\n",
       "      <td>24</td>\n",
       "      <td>2020-03-31</td>\n",
       "      <td>1581087.62</td>\n",
       "    </tr>\n",
       "    <tr>\n",
       "      <th>25</th>\n",
       "      <td>25</td>\n",
       "      <td>2020-06-30</td>\n",
       "      <td>3000092.88</td>\n",
       "    </tr>\n",
       "    <tr>\n",
       "      <th>26</th>\n",
       "      <td>26</td>\n",
       "      <td>2020-09-30</td>\n",
       "      <td>1727871.52</td>\n",
       "    </tr>\n",
       "    <tr>\n",
       "      <th>27</th>\n",
       "      <td>27</td>\n",
       "      <td>2020-12-31</td>\n",
       "      <td>1881887.80</td>\n",
       "    </tr>\n",
       "    <tr>\n",
       "      <th>28</th>\n",
       "      <td>28</td>\n",
       "      <td>2021-03-31</td>\n",
       "      <td>2258617.01</td>\n",
       "    </tr>\n",
       "    <tr>\n",
       "      <th>29</th>\n",
       "      <td>29</td>\n",
       "      <td>2021-06-30</td>\n",
       "      <td>1923040.08</td>\n",
       "    </tr>\n",
       "    <tr>\n",
       "      <th>30</th>\n",
       "      <td>30</td>\n",
       "      <td>2021-09-30</td>\n",
       "      <td>1620445.53</td>\n",
       "    </tr>\n",
       "    <tr>\n",
       "      <th>31</th>\n",
       "      <td>31</td>\n",
       "      <td>2021-12-31</td>\n",
       "      <td>1704044.85</td>\n",
       "    </tr>\n",
       "  </tbody>\n",
       "</table>\n",
       "</div>"
      ],
      "text/plain": [
       "    Unnamed: 0       data      totale\n",
       "0            0 2014-03-31   282703.09\n",
       "1            1 2014-06-30   396765.88\n",
       "2            2 2014-09-30   653145.10\n",
       "3            3 2014-12-31   627096.51\n",
       "4            4 2015-03-31   731566.64\n",
       "5            5 2015-06-30  1005902.58\n",
       "6            6 2015-09-30  1166984.00\n",
       "7            7 2015-12-31  1298311.14\n",
       "8            8 2016-03-31  1721404.72\n",
       "9            9 2016-06-30  1895262.11\n",
       "10          10 2016-09-30  1885508.08\n",
       "11          11 2016-12-31  1826503.06\n",
       "12          12 2017-03-31  2107961.51\n",
       "13          13 2017-06-30  2245044.07\n",
       "14          14 2017-09-30  2416536.64\n",
       "15          15 2017-12-31  2452117.02\n",
       "16          16 2018-03-31  2107743.97\n",
       "17          17 2018-06-30  2125116.01\n",
       "18          18 2018-09-30  2092537.70\n",
       "19          19 2018-12-31  1950548.65\n",
       "20          20 2019-03-31  2052647.12\n",
       "21          21 2019-06-30  1823202.02\n",
       "22          22 2019-09-30  1483071.18\n",
       "23          23 2019-12-31  1462509.31\n",
       "24          24 2020-03-31  1581087.62\n",
       "25          25 2020-06-30  3000092.88\n",
       "26          26 2020-09-30  1727871.52\n",
       "27          27 2020-12-31  1881887.80\n",
       "28          28 2021-03-31  2258617.01\n",
       "29          29 2021-06-30  1923040.08\n",
       "30          30 2021-09-30  1620445.53\n",
       "31          31 2021-12-31  1704044.85"
      ]
     },
     "execution_count": 10,
     "metadata": {},
     "output_type": "execute_result"
    }
   ],
   "source": [
    "df"
   ]
  },
  {
   "cell_type": "code",
   "execution_count": 11,
   "metadata": {},
   "outputs": [
    {
     "data": {
      "text/html": [
       "<div>\n",
       "<style scoped>\n",
       "    .dataframe tbody tr th:only-of-type {\n",
       "        vertical-align: middle;\n",
       "    }\n",
       "\n",
       "    .dataframe tbody tr th {\n",
       "        vertical-align: top;\n",
       "    }\n",
       "\n",
       "    .dataframe thead th {\n",
       "        text-align: right;\n",
       "    }\n",
       "</style>\n",
       "<table border=\"1\" class=\"dataframe\">\n",
       "  <thead>\n",
       "    <tr style=\"text-align: right;\">\n",
       "      <th></th>\n",
       "      <th>Unnamed: 0</th>\n",
       "      <th>totale</th>\n",
       "    </tr>\n",
       "    <tr>\n",
       "      <th>data</th>\n",
       "      <th></th>\n",
       "      <th></th>\n",
       "    </tr>\n",
       "  </thead>\n",
       "  <tbody>\n",
       "    <tr>\n",
       "      <th>2014-03-31</th>\n",
       "      <td>0</td>\n",
       "      <td>282703.09</td>\n",
       "    </tr>\n",
       "    <tr>\n",
       "      <th>2014-06-30</th>\n",
       "      <td>1</td>\n",
       "      <td>396765.88</td>\n",
       "    </tr>\n",
       "    <tr>\n",
       "      <th>2014-09-30</th>\n",
       "      <td>2</td>\n",
       "      <td>653145.10</td>\n",
       "    </tr>\n",
       "    <tr>\n",
       "      <th>2014-12-31</th>\n",
       "      <td>3</td>\n",
       "      <td>627096.51</td>\n",
       "    </tr>\n",
       "    <tr>\n",
       "      <th>2015-03-31</th>\n",
       "      <td>4</td>\n",
       "      <td>731566.64</td>\n",
       "    </tr>\n",
       "  </tbody>\n",
       "</table>\n",
       "</div>"
      ],
      "text/plain": [
       "            Unnamed: 0     totale\n",
       "data                             \n",
       "2014-03-31           0  282703.09\n",
       "2014-06-30           1  396765.88\n",
       "2014-09-30           2  653145.10\n",
       "2014-12-31           3  627096.51\n",
       "2015-03-31           4  731566.64"
      ]
     },
     "execution_count": 11,
     "metadata": {},
     "output_type": "execute_result"
    }
   ],
   "source": [
    "df = df.set_index('data')\n",
    "df.head()"
   ]
  },
  {
   "cell_type": "code",
   "execution_count": 12,
   "metadata": {},
   "outputs": [
    {
     "data": {
      "text/html": [
       "<div>\n",
       "<style scoped>\n",
       "    .dataframe tbody tr th:only-of-type {\n",
       "        vertical-align: middle;\n",
       "    }\n",
       "\n",
       "    .dataframe tbody tr th {\n",
       "        vertical-align: top;\n",
       "    }\n",
       "\n",
       "    .dataframe thead th {\n",
       "        text-align: right;\n",
       "    }\n",
       "</style>\n",
       "<table border=\"1\" class=\"dataframe\">\n",
       "  <thead>\n",
       "    <tr style=\"text-align: right;\">\n",
       "      <th></th>\n",
       "      <th>totale</th>\n",
       "    </tr>\n",
       "    <tr>\n",
       "      <th>data</th>\n",
       "      <th></th>\n",
       "    </tr>\n",
       "  </thead>\n",
       "  <tbody>\n",
       "    <tr>\n",
       "      <th>2014-03-31</th>\n",
       "      <td>282703.09</td>\n",
       "    </tr>\n",
       "    <tr>\n",
       "      <th>2014-06-30</th>\n",
       "      <td>396765.88</td>\n",
       "    </tr>\n",
       "    <tr>\n",
       "      <th>2014-09-30</th>\n",
       "      <td>653145.10</td>\n",
       "    </tr>\n",
       "    <tr>\n",
       "      <th>2014-12-31</th>\n",
       "      <td>627096.51</td>\n",
       "    </tr>\n",
       "    <tr>\n",
       "      <th>2015-03-31</th>\n",
       "      <td>731566.64</td>\n",
       "    </tr>\n",
       "  </tbody>\n",
       "</table>\n",
       "</div>"
      ],
      "text/plain": [
       "               totale\n",
       "data                 \n",
       "2014-03-31  282703.09\n",
       "2014-06-30  396765.88\n",
       "2014-09-30  653145.10\n",
       "2014-12-31  627096.51\n",
       "2015-03-31  731566.64"
      ]
     },
     "execution_count": 12,
     "metadata": {},
     "output_type": "execute_result"
    }
   ],
   "source": [
    "df = df[['totale']]\n",
    "df.head()"
   ]
  },
  {
   "cell_type": "code",
   "execution_count": 13,
   "metadata": {},
   "outputs": [],
   "source": [
    "y = df['totale']"
   ]
  },
  {
   "cell_type": "code",
   "execution_count": 14,
   "metadata": {},
   "outputs": [
    {
     "data": {
      "text/plain": [
       "32"
      ]
     },
     "execution_count": 14,
     "metadata": {},
     "output_type": "execute_result"
    }
   ],
   "source": [
    "len(y)"
   ]
  },
  {
   "cell_type": "code",
   "execution_count": 15,
   "metadata": {},
   "outputs": [
    {
     "data": {
      "text/plain": [
       "6.4"
      ]
     },
     "execution_count": 15,
     "metadata": {},
     "output_type": "execute_result"
    }
   ],
   "source": [
    "len(y) / 100 * 20"
   ]
  },
  {
   "cell_type": "code",
   "execution_count": 16,
   "metadata": {},
   "outputs": [],
   "source": [
    "steps = 6\n",
    "\n",
    "y_to_train = y.iloc[:(len(y)-steps)]\n",
    "y_to_test = y.iloc[(len(y)-steps):] # last year for testing"
   ]
  },
  {
   "cell_type": "code",
   "execution_count": 17,
   "metadata": {},
   "outputs": [
    {
     "data": {
      "image/png": "[encoded data removed]",
      "text/plain": [
       "<Figure size 1008x576 with 1 Axes>"
      ]
     },
     "metadata": {
      "needs_background": "light"
     },
     "output_type": "display_data"
    }
   ],
   "source": [
    "fig, ax = plt.subplots(figsize=(14, 8))\n",
    "ax.plot(df['totale'])\n",
    "ax.set_xlabel('Days')\n",
    "ax.set_ylabel('Vendite Pesca')\n",
    "\n",
    "fig.autofmt_xdate()\n",
    "\n",
    "plt.tight_layout()\n",
    "plt.show()"
   ]
  },
  {
   "cell_type": "code",
   "execution_count": 18,
   "metadata": {},
   "outputs": [
    {
     "data": {
      "image/png": "[encoded data removed]",
      "text/plain": [
       "<Figure size 1008x576 with 1 Axes>"
      ]
     },
     "metadata": {
      "needs_background": "light"
     },
     "output_type": "display_data"
    }
   ],
   "source": [
    "fig, ax = plt.subplots(figsize=(14, 8))\n",
    "\n",
    "ax.plot(y_to_train, ls='-', label='Train')\n",
    "ax.plot(y_to_test, ls='--', label='Test')\n",
    "ax.set_xlabel('data')\n",
    "ax.set_ylabel('Vendite Pesca')\n",
    "\n",
    "ax.legend(loc='best')\n",
    "plt.tight_layout()\n",
    "plt.show()"
   ]
  },
  {
   "cell_type": "markdown",
   "metadata": {},
   "source": [
    "Da questa figura dovremmo individuare pattern di stagionalità. (Ad esempio settimanale, mensile, annuale, ecc.)"
   ]
  },
  {
   "cell_type": "markdown",
   "metadata": {},
   "source": [
    "Before we implement our more complex BATS and TBATS models, it’s always a good idea to have a baseline model. That way, we can determine if our more complex forecasting methods are actually performant."
   ]
  },
  {
   "cell_type": "code",
   "execution_count": 19,
   "metadata": {},
   "outputs": [],
   "source": [
    "y_pred_baseline = y_to_train[-steps:].values"
   ]
  },
  {
   "cell_type": "code",
   "execution_count": 20,
   "metadata": {},
   "outputs": [],
   "source": [
    "# Fit the model\n",
    "estimator = TBATS()\n",
    "model = estimator.fit(y_to_train)\n",
    "\n",
    "# Forecast 365 days ahead\n",
    "y_forecast = model.forecast(steps)"
   ]
  },
  {
   "cell_type": "code",
   "execution_count": 21,
   "metadata": {},
   "outputs": [
    {
     "data": {
      "image/png": "[encoded data removed]",
      "text/plain": [
       "<Figure size 1008x576 with 1 Axes>"
      ]
     },
     "metadata": {
      "needs_background": "light"
     },
     "output_type": "display_data"
    }
   ],
   "source": [
    "fig, ax = plt.subplots(figsize=(14, 8))\n",
    "ax.plot(y_to_train, ls='-', label='Train')\n",
    "ax.plot(y_to_test, ls='-', label='Test')\n",
    "ax.plot(y_to_test.index, y_pred_baseline, ls=':', label='Baseline')\n",
    "ax.plot(y_to_test.index, y_forecast, ls='-.', label='TBATS')\n",
    "\n",
    "ax.set_xlabel('data')\n",
    "ax.set_ylabel('Vendite')\n",
    "\n",
    "ax.legend(loc='best')\n",
    "plt.tight_layout()\n",
    "plt.show()"
   ]
  },
  {
   "cell_type": "markdown",
   "metadata": {},
   "source": [
    "MAPE"
   ]
  },
  {
   "cell_type": "code",
   "execution_count": 22,
   "metadata": {},
   "outputs": [
    {
     "name": "stdout",
     "output_type": "stream",
     "text": [
      "Did the model fit? True\n",
      "AIC 750.7435605318265\n"
     ]
    }
   ],
   "source": [
    "print('Did the model fit?', model.is_fitted)  # Model may fail to fit in edge-case situations\n",
    "print('AIC', model.aic)  # may be np.inf"
   ]
  },
  {
   "cell_type": "code",
   "execution_count": 23,
   "metadata": {},
   "outputs": [
    {
     "name": "stdout",
     "output_type": "stream",
     "text": [
      "\n",
      "\n",
      "SUMMARY FUNCTION\n",
      "\n",
      "\n",
      "Use Box-Cox: False\n",
      "Use trend: True\n",
      "Use damped trend: True\n",
      "Seasonal periods: []\n",
      "Seasonal harmonics []\n",
      "ARMA errors (p, q): (0, 0)\n",
      "Smoothing (Alpha): 1.461550\n",
      "Trend (Beta): -0.177890\n",
      "Damping Parameter (Phi): 0.900102\n",
      "Seasonal Parameters (Gamma): []\n",
      "AR coefficients []\n",
      "MA coefficients []\n",
      "Seed vector [ 97857.07520007 252554.31717825]\n",
      "\n",
      "AIC 750.743561\n"
     ]
    }
   ],
   "source": [
    "# Short model summary\n",
    "print('\\n\\nSUMMARY FUNCTION\\n\\n')\n",
    "print(model.summary())"
   ]
  },
  {
   "cell_type": "code",
   "execution_count": 24,
   "metadata": {},
   "outputs": [
    {
     "name": "stdout",
     "output_type": "stream",
     "text": [
      "\n",
      "\n",
      "IN SAMPLE PREDICTIONS\n",
      "\n",
      "\n",
      "Original time series (5 first values) [282703.09 396765.88 653145.1  627096.51 731566.64]\n",
      "Predictions (5 first values) [325181.78318413 474514.17138892 563627.15180663 862620.71382294\n",
      " 707462.13615713]\n",
      "Residuals (5 first values) [ -42478.69318413  -77748.29138892   89517.94819337 -235524.20382294\n",
      "   24104.50384287]\n"
     ]
    }
   ],
   "source": [
    "print('\\n\\nIN SAMPLE PREDICTIONS\\n\\n')\n",
    "print('Original time series (5 first values)', model.y[:5])\n",
    "print('Predictions (5 first values)', model.y_hat[:5])\n",
    "print('Residuals (5 first values)', model.resid[:5])"
   ]
  },
  {
   "cell_type": "code",
   "execution_count": 25,
   "metadata": {},
   "outputs": [],
   "source": [
    "steps = steps # one year in this case\n",
    "y_forecasted = model.forecast(steps=steps)"
   ]
  },
  {
   "cell_type": "code",
   "execution_count": 26,
   "metadata": {},
   "outputs": [
    {
     "name": "stdout",
     "output_type": "stream",
     "text": [
      "\n",
      "\n",
      "FORECAST\n",
      "\n",
      "\n",
      "Values [3475351.8764694  3353046.0579092  3242958.31599454 3143868.09230333\n",
      " 3054676.75945915 2974395.44049361]\n",
      "MAE 1354731.625438206\n"
     ]
    }
   ],
   "source": [
    "print('\\n\\nFORECAST\\n\\n')\n",
    "print('Values', y_forecasted)\n",
    "print('MAE', np.mean(np.abs(y_forecasted - y_to_test)))"
   ]
  },
  {
   "cell_type": "code",
   "execution_count": 27,
   "metadata": {},
   "outputs": [],
   "source": [
    "def mean_absolute_percentage_error(y_true, y_pred): \n",
    "    y_true, y_pred = np.array(y_forecasted), np.array(y_to_test)\n",
    "    return np.mean(np.abs((y_forecasted - y_to_test) / y_forecasted)) * 100"
   ]
  },
  {
   "cell_type": "code",
   "execution_count": 28,
   "metadata": {},
   "outputs": [
    {
     "name": "stdout",
     "output_type": "stream",
     "text": [
      "MAPE 42.16735614378231\n"
     ]
    }
   ],
   "source": [
    "print('MAPE', mean_absolute_percentage_error(y_forecasted, y_to_test))"
   ]
  }
 ],
 "metadata": {
  "interpreter": {
   "hash": "2e627b9c3365cbf30b9fb2813f2f201fd405f3c2eae938228fccf6a6c69b70ea"
  },
  "kernelspec": {
   "display_name": "Python 3.10.4 ('timeSeries')",
   "language": "python",
   "name": "python3"
  },
  "language_info": {
   "codemirror_mode": {
    "name": "ipython",
    "version": 3
   },
   "file_extension": ".py",
   "mimetype": "text/x-python",
   "name": "python",
   "nbconvert_exporter": "python",
   "pygments_lexer": "ipython3",
   "version": "3.10.4"
  },
  "orig_nbformat": 4
 },
 "nbformat": 4,
 "nbformat_minor": 2
}
