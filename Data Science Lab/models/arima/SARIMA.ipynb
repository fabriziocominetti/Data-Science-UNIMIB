{
 "cells": [
  {
   "cell_type": "code",
   "execution_count": 52,
   "metadata": {},
   "outputs": [
    {
     "name": "stdout",
     "output_type": "stream",
     "text": [
      "Requirement already satisfied: pmdarima in c:\\users\\ruben\\appdata\\local\\programs\\python\\python310\\lib\\site-packages (1.8.5)\n",
      "Requirement already satisfied: joblib>=0.11 in c:\\users\\ruben\\appdata\\local\\programs\\python\\python310\\lib\\site-packages (from pmdarima) (1.1.0)\n",
      "Requirement already satisfied: numpy>=1.19.3 in c:\\users\\ruben\\appdata\\local\\programs\\python\\python310\\lib\\site-packages (from pmdarima) (1.22.0)\n",
      "Requirement already satisfied: scipy>=1.3.2 in c:\\users\\ruben\\appdata\\local\\programs\\python\\python310\\lib\\site-packages (from pmdarima) (1.7.3)\n",
      "Requirement already satisfied: pandas>=0.19 in c:\\users\\ruben\\appdata\\local\\programs\\python\\python310\\lib\\site-packages (from pmdarima) (1.3.5)\n",
      "Requirement already satisfied: scikit-learn>=0.22 in c:\\users\\ruben\\appdata\\local\\programs\\python\\python310\\lib\\site-packages (from pmdarima) (1.1.1)\n",
      "Requirement already satisfied: setuptools!=50.0.0,>=38.6.0 in c:\\users\\ruben\\appdata\\local\\programs\\python\\python310\\lib\\site-packages (from pmdarima) (58.1.0)\n",
      "Requirement already satisfied: Cython!=0.29.18,>=0.29 in c:\\users\\ruben\\appdata\\local\\programs\\python\\python310\\lib\\site-packages (from pmdarima) (0.29.28)\n",
      "Requirement already satisfied: statsmodels!=0.12.0,>=0.11 in c:\\users\\ruben\\appdata\\local\\programs\\python\\python310\\lib\\site-packages (from pmdarima) (0.13.1)\n",
      "Requirement already satisfied: urllib3 in c:\\users\\ruben\\appdata\\local\\programs\\python\\python310\\lib\\site-packages (from pmdarima) (1.26.8)\n",
      "Requirement already satisfied: python-dateutil>=2.7.3 in c:\\users\\ruben\\appdata\\local\\programs\\python\\python310\\lib\\site-packages (from pandas>=0.19->pmdarima) (2.8.2)\n",
      "Requirement already satisfied: pytz>=2017.3 in c:\\users\\ruben\\appdata\\local\\programs\\python\\python310\\lib\\site-packages (from pandas>=0.19->pmdarima) (2021.3)\n",
      "Requirement already satisfied: six>=1.5 in c:\\users\\ruben\\appdata\\local\\programs\\python\\python310\\lib\\site-packages (from python-dateutil>=2.7.3->pandas>=0.19->pmdarima) (1.16.0)\n",
      "Requirement already satisfied: threadpoolctl>=2.0.0 in c:\\users\\ruben\\appdata\\local\\programs\\python\\python310\\lib\\site-packages (from scikit-learn>=0.22->pmdarima) (3.1.0)\n",
      "Requirement already satisfied: patsy>=0.5.2 in c:\\users\\ruben\\appdata\\local\\programs\\python\\python310\\lib\\site-packages (from statsmodels!=0.12.0,>=0.11->pmdarima) (0.5.2)\n"
     ]
    },
    {
     "name": "stderr",
     "output_type": "stream",
     "text": [
      "WARNING: You are using pip version 21.2.4; however, version 22.1.2 is available.\n",
      "You should consider upgrading via the 'C:\\Users\\Ruben\\AppData\\Local\\Programs\\Python\\Python310\\python.exe -m pip install --upgrade pip' command.\n"
     ]
    }
   ],
   "source": [
    "! pip install pmdarima"
   ]
  },
  {
   "cell_type": "code",
   "execution_count": 53,
   "metadata": {},
   "outputs": [],
   "source": [
    "import pandas as pd\n",
    "import pmdarima as pmd\n",
    "import numpy as np\n",
    "from pmdarima.model_selection import train_test_split"
   ]
  },
  {
   "cell_type": "markdown",
   "metadata": {},
   "source": [
    "Import dataset casual"
   ]
  },
  {
   "cell_type": "code",
   "execution_count": 54,
   "metadata": {},
   "outputs": [
    {
     "data": {
      "text/html": [
       "<div>\n",
       "<style scoped>\n",
       "    .dataframe tbody tr th:only-of-type {\n",
       "        vertical-align: middle;\n",
       "    }\n",
       "\n",
       "    .dataframe tbody tr th {\n",
       "        vertical-align: top;\n",
       "    }\n",
       "\n",
       "    .dataframe thead th {\n",
       "        text-align: right;\n",
       "    }\n",
       "</style>\n",
       "<table border=\"1\" class=\"dataframe\">\n",
       "  <thead>\n",
       "    <tr style=\"text-align: right;\">\n",
       "      <th></th>\n",
       "      <th>Unnamed: 0</th>\n",
       "      <th>year</th>\n",
       "      <th>revenue</th>\n",
       "    </tr>\n",
       "  </thead>\n",
       "  <tbody>\n",
       "    <tr>\n",
       "      <th>4</th>\n",
       "      <td>4</td>\n",
       "      <td>2018</td>\n",
       "      <td>4743939.25</td>\n",
       "    </tr>\n",
       "    <tr>\n",
       "      <th>5</th>\n",
       "      <td>5</td>\n",
       "      <td>2019</td>\n",
       "      <td>3197252.84</td>\n",
       "    </tr>\n",
       "    <tr>\n",
       "      <th>6</th>\n",
       "      <td>6</td>\n",
       "      <td>2020</td>\n",
       "      <td>3824241.17</td>\n",
       "    </tr>\n",
       "    <tr>\n",
       "      <th>7</th>\n",
       "      <td>7</td>\n",
       "      <td>2021</td>\n",
       "      <td>2902705.33</td>\n",
       "    </tr>\n",
       "    <tr>\n",
       "      <th>8</th>\n",
       "      <td>8</td>\n",
       "      <td>2022</td>\n",
       "      <td>570076.92</td>\n",
       "    </tr>\n",
       "  </tbody>\n",
       "</table>\n",
       "</div>"
      ],
      "text/plain": [
       "   Unnamed: 0  year     revenue\n",
       "4           4  2018  4743939.25\n",
       "5           5  2019  3197252.84\n",
       "6           6  2020  3824241.17\n",
       "7           7  2021  2902705.33\n",
       "8           8  2022   570076.92"
      ]
     },
     "execution_count": 54,
     "metadata": {},
     "output_type": "execute_result"
    }
   ],
   "source": [
    "dataset_year_casual = pd.read_csv('./data/casual_annuale.csv')\n",
    "dataset_year_casual = dataset_year_casual.sort_values(by='year')\n",
    "dataset_year_casual.tail()"
   ]
  },
  {
   "cell_type": "code",
   "execution_count": 55,
   "metadata": {},
   "outputs": [],
   "source": [
    "dataset_trim_casual = pd.read_csv('./data/casual_trimestrale.csv')\n",
    "dataset_trim_casual = dataset_trim_casual.sort_values(by='year')\n",
    "dataset_trim_casual[\"year\"] = pd.to_datetime(dataset_trim_casual[\"year\"])\n",
    "dataset_trim_casual = dataset_trim_casual.loc[dataset_trim_casual[\"year\"] < '2022-01-01']\n"
   ]
  },
  {
   "cell_type": "code",
   "execution_count": 56,
   "metadata": {},
   "outputs": [],
   "source": [
    "dataset_settimanale_casual = pd.read_csv('./data/casual_settimanale.csv')\n",
    "dataset_settimanale_casual = dataset_settimanale_casual.sort_values(by='year')\n",
    "dataset_settimanale_casual = dataset_settimanale_casual[dataset_settimanale_casual['revenue'] != 0]\n",
    "dataset_settimanale_casual = dataset_settimanale_casual.loc[dataset_settimanale_casual[\"year\"] < '2022-01-01']\n"
   ]
  },
  {
   "cell_type": "code",
   "execution_count": 57,
   "metadata": {},
   "outputs": [],
   "source": [
    "dataset_mensile_casual =  pd.read_csv('./data/casual_mensile.csv')\n",
    "dataset_mensile_casual = dataset_mensile_casual.sort_values(by='year')\n",
    "dataset_mensile_casual = dataset_mensile_casual.loc[dataset_mensile_casual[\"year\"] < '2022-01-01']\n"
   ]
  },
  {
   "cell_type": "markdown",
   "metadata": {},
   "source": [
    "Import dataset pesca"
   ]
  },
  {
   "cell_type": "code",
   "execution_count": 85,
   "metadata": {},
   "outputs": [],
   "source": [
    "dataset_year_pesca = pd.read_csv('./data/casual_annuale.csv')\n",
    "dataset_year_pesca = dataset_year_pesca.sort_values(by='year')\n"
   ]
  },
  {
   "cell_type": "code",
   "execution_count": 59,
   "metadata": {},
   "outputs": [],
   "source": [
    "dataset_trim_pesca = pd.read_csv('./data/pesca_trimestrale.csv')\n",
    "dataset_trim_pesca = dataset_trim_pesca.sort_values(by='year')\n",
    "dataset_trim_pesca = dataset_trim_pesca.loc[dataset_trim_pesca[\"year\"] < '2022-01-01']\n"
   ]
  },
  {
   "cell_type": "code",
   "execution_count": 60,
   "metadata": {},
   "outputs": [],
   "source": [
    "dataset_settimanale_pesca = pd.read_csv('./data/pesca_settimanale.csv')\n",
    "dataset_settimanale_pesca = dataset_settimanale_pesca.sort_values(by='year')\n",
    "dataset_settimanale_pesca = dataset_settimanale_pesca[dataset_settimanale_pesca['revenue'] != 0]\n",
    "dataset_settimanale_pesca = dataset_settimanale_pesca.loc[dataset_settimanale_pesca[\"year\"] < '2022-01-01']\n"
   ]
  },
  {
   "cell_type": "code",
   "execution_count": 61,
   "metadata": {},
   "outputs": [],
   "source": [
    "dataset_mensile_pesca =  pd.read_csv('./data/pesca_mensile.csv')\n",
    "dataset_mensile_pesca = dataset_mensile_pesca.sort_values(by='Datetime')\n",
    "dataset_mensile_pesca = dataset_mensile_pesca.loc[dataset_mensile_pesca[\"Datetime\"] < '2022-01-01']\n"
   ]
  },
  {
   "cell_type": "markdown",
   "metadata": {},
   "source": [
    "import dataset calcio"
   ]
  },
  {
   "cell_type": "code",
   "execution_count": 62,
   "metadata": {},
   "outputs": [],
   "source": [
    "dataset_trim_calcio = pd.read_csv('./data/calcio_trimestrale.csv')\n",
    "dataset_trim_calcio = dataset_trim_calcio.sort_values(by='year')\n",
    "dataset_trim_calcio = dataset_trim_calcio.loc[dataset_trim_calcio[\"year\"] < '2022-01-01']\n"
   ]
  },
  {
   "cell_type": "code",
   "execution_count": 63,
   "metadata": {},
   "outputs": [],
   "source": [
    "dataset_year_calcio = pd.read_csv('./data/calcio_annuale.csv')\n",
    "dataset_year_calcio = dataset_year_calcio.sort_values(by='year')\n"
   ]
  },
  {
   "cell_type": "code",
   "execution_count": 64,
   "metadata": {},
   "outputs": [],
   "source": [
    "dataset_mensile_calcio = pd.read_csv('./data/calcio_mensile.csv')\n",
    "dataset_mensile_calcio = dataset_mensile_calcio.sort_values(by='Datetime')\n",
    "dataset_mensile_calcio = dataset_mensile_calcio.loc[dataset_mensile_calcio[\"Datetime\"] < '2022-01-01']\n"
   ]
  },
  {
   "cell_type": "code",
   "execution_count": 65,
   "metadata": {},
   "outputs": [],
   "source": [
    "dataset_settimanale_calcio = pd.read_csv('./data/calcio_settimanale.csv')\n",
    "dataset_settimanale_calcio = dataset_settimanale_calcio.sort_values(by='year')\n",
    "dataset_settimanale_calcio = dataset_settimanale_calcio[dataset_settimanale_calcio['revenue'] != 0]\n",
    "dataset_settimanale_calcio = dataset_settimanale_calcio.loc[dataset_settimanale_calcio[\"year\"] < '2022-01-01']\n"
   ]
  },
  {
   "cell_type": "markdown",
   "metadata": {},
   "source": [
    "splitting train test casual"
   ]
  },
  {
   "cell_type": "code",
   "execution_count": 66,
   "metadata": {},
   "outputs": [],
   "source": [
    "train_mensile_casual, test_mensile_casual= train_test_split(dataset_mensile_casual, train_size=0.8)"
   ]
  },
  {
   "cell_type": "code",
   "execution_count": 67,
   "metadata": {},
   "outputs": [],
   "source": [
    "train_year_casual, test_year_casual = train_test_split(dataset_year_casual, train_size=0.8)\n"
   ]
  },
  {
   "cell_type": "code",
   "execution_count": 68,
   "metadata": {},
   "outputs": [],
   "source": [
    "train_trim_casual, test_trim_casual = train_test_split(dataset_trim_casual, train_size=0.8)\n"
   ]
  },
  {
   "cell_type": "code",
   "execution_count": 69,
   "metadata": {},
   "outputs": [],
   "source": [
    "train_settimanale_casual, test_settimanale_casual = train_test_split(dataset_settimanale_casual, train_size=0.8)\n"
   ]
  },
  {
   "cell_type": "markdown",
   "metadata": {},
   "source": [
    "splitting train test pesca"
   ]
  },
  {
   "cell_type": "code",
   "execution_count": 70,
   "metadata": {},
   "outputs": [],
   "source": [
    "train_mensile_pesca, test_mensile_pesca= train_test_split(dataset_mensile_pesca, train_size=0.8)"
   ]
  },
  {
   "cell_type": "code",
   "execution_count": 86,
   "metadata": {},
   "outputs": [],
   "source": [
    "train_year_pesca, test_year_pesca = train_test_split(dataset_year_pesca, train_size=0.8)\n"
   ]
  },
  {
   "cell_type": "code",
   "execution_count": 72,
   "metadata": {},
   "outputs": [],
   "source": [
    "train_trim_pesca, test_trim_pesca = train_test_split(dataset_trim_pesca, train_size=0.8)\n"
   ]
  },
  {
   "cell_type": "code",
   "execution_count": 73,
   "metadata": {},
   "outputs": [],
   "source": [
    "train_settimanale_pesca, test_settimanale_pesca = train_test_split(dataset_settimanale_pesca, train_size=0.8)\n"
   ]
  },
  {
   "cell_type": "markdown",
   "metadata": {},
   "source": [
    "splitting train test calcio"
   ]
  },
  {
   "cell_type": "code",
   "execution_count": 74,
   "metadata": {},
   "outputs": [],
   "source": [
    "train_mensile_calcio, test_mensile_calcio= train_test_split(dataset_mensile_calcio, train_size=0.8)\n"
   ]
  },
  {
   "cell_type": "code",
   "execution_count": 75,
   "metadata": {},
   "outputs": [],
   "source": [
    "train_trim_calcio, test_trim_calcio = train_test_split(dataset_trim_calcio, train_size=0.8)\n"
   ]
  },
  {
   "cell_type": "code",
   "execution_count": 76,
   "metadata": {},
   "outputs": [],
   "source": [
    "train_year_calcio, test_year_calcio = train_test_split(dataset_year_calcio, train_size=0.8)\n"
   ]
  },
  {
   "cell_type": "code",
   "execution_count": 77,
   "metadata": {},
   "outputs": [],
   "source": [
    "train_settimanale_calcio, test_settimanale_calcio = train_test_split(dataset_settimanale_calcio, train_size=0.8)\n"
   ]
  },
  {
   "cell_type": "markdown",
   "metadata": {},
   "source": [
    "Creazione modelli casual"
   ]
  },
  {
   "cell_type": "code",
   "execution_count": 78,
   "metadata": {},
   "outputs": [
    {
     "name": "stdout",
     "output_type": "stream",
     "text": [
      "Performing stepwise search to minimize aic\n",
      " ARIMA(0,1,1)(0,0,1)[12] intercept   : AIC=2010.187, Time=0.04 sec\n",
      " ARIMA(0,1,0)(0,0,0)[12] intercept   : AIC=2049.334, Time=0.01 sec\n",
      " ARIMA(1,1,0)(1,0,0)[12] intercept   : AIC=2017.814, Time=0.04 sec\n",
      " ARIMA(0,1,0)(0,0,0)[12]             : AIC=2047.423, Time=0.00 sec\n",
      " ARIMA(0,1,1)(0,0,0)[12] intercept   : AIC=2020.628, Time=0.02 sec\n",
      " ARIMA(0,1,1)(1,0,1)[12] intercept   : AIC=2006.522, Time=0.06 sec\n",
      " ARIMA(0,1,1)(1,0,0)[12] intercept   : AIC=2005.042, Time=0.04 sec\n",
      " ARIMA(0,1,1)(2,0,0)[12] intercept   : AIC=2006.252, Time=0.11 sec\n",
      " ARIMA(0,1,1)(2,0,1)[12] intercept   : AIC=2008.115, Time=0.18 sec\n",
      " ARIMA(0,1,0)(1,0,0)[12] intercept   : AIC=2026.091, Time=0.03 sec\n",
      " ARIMA(1,1,1)(1,0,0)[12] intercept   : AIC=2005.406, Time=0.07 sec\n",
      " ARIMA(0,1,2)(1,0,0)[12] intercept   : AIC=2004.514, Time=0.05 sec\n",
      " ARIMA(0,1,2)(0,0,0)[12] intercept   : AIC=2024.157, Time=0.03 sec\n",
      " ARIMA(0,1,2)(2,0,0)[12] intercept   : AIC=2005.333, Time=0.11 sec\n",
      " ARIMA(0,1,2)(1,0,1)[12] intercept   : AIC=2006.235, Time=0.08 sec\n",
      " ARIMA(0,1,2)(0,0,1)[12] intercept   : AIC=2010.309, Time=0.05 sec\n",
      " ARIMA(0,1,2)(2,0,1)[12] intercept   : AIC=2006.599, Time=0.21 sec\n",
      " ARIMA(1,1,2)(1,0,0)[12] intercept   : AIC=inf, Time=0.18 sec\n",
      " ARIMA(0,1,3)(1,0,0)[12] intercept   : AIC=2014.249, Time=0.07 sec\n",
      " ARIMA(1,1,3)(1,0,0)[12] intercept   : AIC=2008.010, Time=0.11 sec\n",
      " ARIMA(0,1,2)(1,0,0)[12]             : AIC=2000.598, Time=0.04 sec\n",
      " ARIMA(0,1,2)(0,0,0)[12]             : AIC=2020.395, Time=0.02 sec\n",
      " ARIMA(0,1,2)(2,0,0)[12]             : AIC=2001.446, Time=0.10 sec\n",
      " ARIMA(0,1,2)(1,0,1)[12]             : AIC=2001.768, Time=0.07 sec\n",
      " ARIMA(0,1,2)(0,0,1)[12]             : AIC=2007.168, Time=0.05 sec\n",
      " ARIMA(0,1,2)(2,0,1)[12]             : AIC=2003.378, Time=0.18 sec\n",
      " ARIMA(0,1,1)(1,0,0)[12]             : AIC=2002.966, Time=0.03 sec\n",
      " ARIMA(1,1,2)(1,0,0)[12]             : AIC=2003.245, Time=0.05 sec\n",
      " ARIMA(0,1,3)(1,0,0)[12]             : AIC=2010.371, Time=0.06 sec\n",
      " ARIMA(1,1,1)(1,0,0)[12]             : AIC=2003.421, Time=0.07 sec\n",
      " ARIMA(1,1,3)(1,0,0)[12]             : AIC=2004.343, Time=0.13 sec\n",
      "\n",
      "Best model:  ARIMA(0,1,2)(1,0,0)[12]          \n",
      "Total fit time: 2.292 seconds\n"
     ]
    }
   ],
   "source": [
    "arima_model_mensile_casual = pmd.auto_arima(train_mensile_casual[\"revenue\"], start_p=0, start_q=1, start_P=0, start_Q=1,max_p=4,max_q=4, max_P=4, max_Q=4, test=\"adf\", seasonal=True,m=12,trace=True)"
   ]
  },
  {
   "cell_type": "code",
   "execution_count": 80,
   "metadata": {},
   "outputs": [
    {
     "name": "stdout",
     "output_type": "stream",
     "text": [
      "Performing stepwise search to minimize aic\n",
      " ARIMA(0,1,1)(0,0,0)[0] intercept   : AIC=inf, Time=0.02 sec\n",
      " ARIMA(0,1,0)(0,0,0)[0] intercept   : AIC=189.210, Time=0.01 sec\n",
      " ARIMA(1,1,0)(0,0,0)[0] intercept   : AIC=191.858, Time=0.01 sec\n",
      " ARIMA(0,1,0)(0,0,0)[0]             : AIC=187.296, Time=0.00 sec\n",
      " ARIMA(1,1,1)(0,0,0)[0] intercept   : AIC=inf, Time=0.12 sec\n",
      "\n",
      "Best model:  ARIMA(0,1,0)(0,0,0)[0]          \n",
      "Total fit time: 0.166 seconds\n"
     ]
    },
    {
     "name": "stderr",
     "output_type": "stream",
     "text": [
      "c:\\Users\\Ruben\\AppData\\Local\\Programs\\Python\\Python310\\lib\\site-packages\\statsmodels\\regression\\linear_model.py:1673: RuntimeWarning: divide by zero encountered in double_scalars\n",
      "  return np.dot(wresid, wresid) / self.df_resid\n"
     ]
    }
   ],
   "source": [
    "arima_model_year_casual = pmd.auto_arima(train_year_casual[\"revenue\"], start_p=0, start_q=1, start_P=0, max_d=1, max_D=1, start_Q=1,max_p=4,max_q=4, max_P=4, max_Q=4, test=\"adf\", seasonal=True,m=1,trace=True)"
   ]
  },
  {
   "cell_type": "code",
   "execution_count": null,
   "metadata": {},
   "outputs": [
    {
     "data": {
      "text/html": [
       "<div>\n",
       "<style scoped>\n",
       "    .dataframe tbody tr th:only-of-type {\n",
       "        vertical-align: middle;\n",
       "    }\n",
       "\n",
       "    .dataframe tbody tr th {\n",
       "        vertical-align: top;\n",
       "    }\n",
       "\n",
       "    .dataframe thead th {\n",
       "        text-align: right;\n",
       "    }\n",
       "</style>\n",
       "<table border=\"1\" class=\"dataframe\">\n",
       "  <thead>\n",
       "    <tr style=\"text-align: right;\">\n",
       "      <th></th>\n",
       "      <th>Unnamed: 0</th>\n",
       "      <th>year</th>\n",
       "      <th>revenue</th>\n",
       "    </tr>\n",
       "  </thead>\n",
       "  <tbody>\n",
       "    <tr>\n",
       "      <th>7</th>\n",
       "      <td>7</td>\n",
       "      <td>2021</td>\n",
       "      <td>2902705.33</td>\n",
       "    </tr>\n",
       "    <tr>\n",
       "      <th>8</th>\n",
       "      <td>8</td>\n",
       "      <td>2022</td>\n",
       "      <td>570076.92</td>\n",
       "    </tr>\n",
       "  </tbody>\n",
       "</table>\n",
       "</div>"
      ],
      "text/plain": [
       "   Unnamed: 0  year     revenue\n",
       "7           7  2021  2902705.33\n",
       "8           8  2022   570076.92"
      ]
     },
     "execution_count": 79,
     "metadata": {},
     "output_type": "execute_result"
    }
   ],
   "source": [
    "test_year_casual"
   ]
  },
  {
   "cell_type": "code",
   "execution_count": 81,
   "metadata": {},
   "outputs": [
    {
     "name": "stdout",
     "output_type": "stream",
     "text": [
      "Performing stepwise search to minimize aic\n",
      " ARIMA(0,1,0)(0,0,0)[4] intercept   : AIC=687.386, Time=0.00 sec\n",
      " ARIMA(1,1,0)(1,0,0)[4] intercept   : AIC=676.496, Time=0.02 sec\n",
      " ARIMA(0,1,1)(0,0,1)[4] intercept   : AIC=681.793, Time=0.03 sec\n",
      " ARIMA(0,1,0)(0,0,0)[4]             : AIC=685.406, Time=0.00 sec\n",
      " ARIMA(1,1,0)(0,0,0)[4] intercept   : AIC=679.404, Time=0.01 sec\n",
      " ARIMA(1,1,0)(2,0,0)[4] intercept   : AIC=678.275, Time=0.04 sec\n",
      " ARIMA(1,1,0)(1,0,1)[4] intercept   : AIC=678.416, Time=0.04 sec\n",
      " ARIMA(1,1,0)(0,0,1)[4] intercept   : AIC=677.884, Time=0.02 sec\n",
      " ARIMA(1,1,0)(2,0,1)[4] intercept   : AIC=679.439, Time=0.09 sec\n",
      " ARIMA(0,1,0)(1,0,0)[4] intercept   : AIC=683.653, Time=0.02 sec\n",
      " ARIMA(2,1,0)(1,0,0)[4] intercept   : AIC=678.807, Time=0.04 sec\n",
      " ARIMA(1,1,1)(1,0,0)[4] intercept   : AIC=679.973, Time=0.04 sec\n",
      " ARIMA(0,1,1)(1,0,0)[4] intercept   : AIC=679.894, Time=0.02 sec\n",
      " ARIMA(2,1,1)(1,0,0)[4] intercept   : AIC=681.337, Time=0.06 sec\n",
      " ARIMA(1,1,0)(1,0,0)[4]             : AIC=674.380, Time=0.02 sec\n",
      " ARIMA(1,1,0)(0,0,0)[4]             : AIC=677.184, Time=0.01 sec\n",
      " ARIMA(1,1,0)(2,0,0)[4]             : AIC=676.190, Time=0.03 sec\n",
      " ARIMA(1,1,0)(1,0,1)[4]             : AIC=676.287, Time=0.03 sec\n",
      " ARIMA(1,1,0)(0,0,1)[4]             : AIC=675.772, Time=0.02 sec\n",
      " ARIMA(1,1,0)(2,0,1)[4]             : AIC=677.411, Time=0.08 sec\n",
      " ARIMA(0,1,0)(1,0,0)[4]             : AIC=680.398, Time=0.01 sec\n",
      " ARIMA(2,1,0)(1,0,0)[4]             : AIC=676.187, Time=0.03 sec\n",
      " ARIMA(1,1,1)(1,0,0)[4]             : AIC=677.002, Time=0.03 sec\n",
      " ARIMA(0,1,1)(1,0,0)[4]             : AIC=677.319, Time=0.02 sec\n",
      " ARIMA(2,1,1)(1,0,0)[4]             : AIC=677.259, Time=0.06 sec\n",
      "\n",
      "Best model:  ARIMA(1,1,0)(1,0,0)[4]          \n",
      "Total fit time: 0.785 seconds\n"
     ]
    }
   ],
   "source": [
    "arima_model_trim_casual = pmd.auto_arima(train_trim_casual[\"revenue\"], start_p=0, start_q=0, start_P=0, start_Q=0, test=\"adf\", seasonal=True,m=4,trace=True)"
   ]
  },
  {
   "cell_type": "code",
   "execution_count": 82,
   "metadata": {},
   "outputs": [
    {
     "name": "stdout",
     "output_type": "stream",
     "text": [
      "Performing stepwise search to minimize aic\n",
      " ARIMA(0,0,0)(0,0,0)[4] intercept   : AIC=8097.012, Time=0.01 sec\n",
      " ARIMA(1,0,0)(1,0,0)[4] intercept   : AIC=7955.878, Time=0.06 sec\n",
      " ARIMA(0,0,1)(0,0,1)[4] intercept   : AIC=7978.613, Time=0.04 sec\n",
      " ARIMA(0,0,0)(0,0,0)[4]             : AIC=8581.818, Time=0.01 sec\n",
      " ARIMA(1,0,0)(0,0,0)[4] intercept   : AIC=7953.942, Time=0.02 sec\n",
      " ARIMA(1,0,0)(0,0,1)[4] intercept   : AIC=7955.847, Time=0.04 sec\n",
      " ARIMA(1,0,0)(1,0,1)[4] intercept   : AIC=7957.844, Time=0.18 sec\n",
      " ARIMA(2,0,0)(0,0,0)[4] intercept   : AIC=7954.469, Time=0.03 sec\n",
      " ARIMA(1,0,1)(0,0,0)[4] intercept   : AIC=7954.175, Time=0.03 sec\n",
      " ARIMA(0,0,1)(0,0,0)[4] intercept   : AIC=7979.240, Time=0.02 sec\n",
      " ARIMA(2,0,1)(0,0,0)[4] intercept   : AIC=7956.952, Time=0.09 sec\n",
      " ARIMA(1,0,0)(0,0,0)[4]             : AIC=8011.114, Time=0.01 sec\n",
      "\n",
      "Best model:  ARIMA(1,0,0)(0,0,0)[4] intercept\n",
      "Total fit time: 0.565 seconds\n"
     ]
    }
   ],
   "source": [
    "arima_model_settimanale_casual = pmd.auto_arima(train_settimanale_casual[\"revenue\"], start_p=0, start_q=0, start_P=0, start_Q=0, test=\"adf\", seasonal=True,m=4,trace=True)"
   ]
  },
  {
   "cell_type": "markdown",
   "metadata": {},
   "source": [
    "Creazione modelli pesca"
   ]
  },
  {
   "cell_type": "code",
   "execution_count": 83,
   "metadata": {},
   "outputs": [
    {
     "name": "stdout",
     "output_type": "stream",
     "text": [
      "Performing stepwise search to minimize aic\n",
      " ARIMA(0,1,1)(0,0,1)[12] intercept   : AIC=1937.828, Time=0.03 sec\n",
      " ARIMA(0,1,0)(0,0,0)[12] intercept   : AIC=1951.266, Time=0.01 sec\n",
      " ARIMA(1,1,0)(1,0,0)[12] intercept   : AIC=1938.783, Time=0.04 sec\n",
      " ARIMA(0,1,0)(0,0,0)[12]             : AIC=1950.357, Time=0.00 sec\n",
      " ARIMA(0,1,1)(0,0,0)[12] intercept   : AIC=1942.251, Time=0.01 sec\n",
      " ARIMA(0,1,1)(1,0,1)[12] intercept   : AIC=1939.552, Time=0.08 sec\n",
      " ARIMA(0,1,1)(0,0,2)[12] intercept   : AIC=1939.808, Time=0.08 sec\n",
      " ARIMA(0,1,1)(1,0,0)[12] intercept   : AIC=1938.874, Time=0.04 sec\n",
      " ARIMA(0,1,1)(1,0,2)[12] intercept   : AIC=1940.946, Time=0.25 sec\n",
      " ARIMA(0,1,0)(0,0,1)[12] intercept   : AIC=1944.219, Time=0.02 sec\n",
      " ARIMA(1,1,1)(0,0,1)[12] intercept   : AIC=1939.736, Time=0.05 sec\n",
      " ARIMA(0,1,2)(0,0,1)[12] intercept   : AIC=1940.219, Time=0.04 sec\n",
      " ARIMA(1,1,0)(0,0,1)[12] intercept   : AIC=1939.509, Time=0.03 sec\n",
      " ARIMA(1,1,2)(0,0,1)[12] intercept   : AIC=1941.098, Time=0.10 sec\n",
      " ARIMA(0,1,1)(0,0,1)[12]             : AIC=1936.955, Time=0.02 sec\n",
      " ARIMA(0,1,1)(0,0,0)[12]             : AIC=1941.785, Time=0.01 sec\n",
      " ARIMA(0,1,1)(1,0,1)[12]             : AIC=1938.019, Time=0.06 sec\n",
      " ARIMA(0,1,1)(0,0,2)[12]             : AIC=1938.937, Time=0.06 sec\n",
      " ARIMA(0,1,1)(1,0,0)[12]             : AIC=1936.502, Time=0.03 sec\n",
      " ARIMA(0,1,1)(2,0,0)[12]             : AIC=1938.383, Time=0.06 sec\n",
      " ARIMA(0,1,1)(2,0,1)[12]             : AIC=1939.877, Time=0.13 sec\n",
      " ARIMA(0,1,0)(1,0,0)[12]             : AIC=1940.847, Time=0.02 sec\n",
      " ARIMA(1,1,1)(1,0,0)[12]             : AIC=1938.403, Time=0.06 sec\n",
      " ARIMA(0,1,2)(1,0,0)[12]             : AIC=1939.230, Time=0.05 sec\n",
      " ARIMA(1,1,0)(1,0,0)[12]             : AIC=1937.735, Time=0.03 sec\n",
      " ARIMA(1,1,2)(1,0,0)[12]             : AIC=1940.463, Time=0.07 sec\n",
      "\n",
      "Best model:  ARIMA(0,1,1)(1,0,0)[12]          \n",
      "Total fit time: 1.416 seconds\n"
     ]
    }
   ],
   "source": [
    "arima_model_mensile_pesca = pmd.auto_arima(train_mensile_pesca[\"totale\"], start_p=0, start_q=1, start_P=0, start_Q=1,max_p=4,max_q=4, max_P=4, max_Q=4, test=\"adf\", seasonal=True,m=12,trace=True)"
   ]
  },
  {
   "cell_type": "code",
   "execution_count": 100,
   "metadata": {},
   "outputs": [
    {
     "name": "stdout",
     "output_type": "stream",
     "text": [
      "Performing stepwise search to minimize aic\n",
      " ARIMA(0,1,1)(0,0,0)[0] intercept   : AIC=inf, Time=0.02 sec\n",
      " ARIMA(0,1,0)(0,0,0)[0] intercept   : AIC=189.210, Time=0.00 sec\n",
      " ARIMA(1,1,0)(0,0,0)[0] intercept   : AIC=191.858, Time=0.01 sec\n",
      " ARIMA(0,1,0)(0,0,0)[0]             : AIC=187.296, Time=0.01 sec\n",
      " ARIMA(1,1,1)(0,0,0)[0] intercept   : AIC=inf, Time=0.09 sec\n",
      "\n",
      "Best model:  ARIMA(0,1,0)(0,0,0)[0]          \n",
      "Total fit time: 0.142 seconds\n"
     ]
    },
    {
     "name": "stderr",
     "output_type": "stream",
     "text": [
      "c:\\Users\\Ruben\\AppData\\Local\\Programs\\Python\\Python310\\lib\\site-packages\\statsmodels\\regression\\linear_model.py:1673: RuntimeWarning: divide by zero encountered in double_scalars\n",
      "  return np.dot(wresid, wresid) / self.df_resid\n"
     ]
    }
   ],
   "source": [
    "arima_model_year = pmd.auto_arima(train_year_pesca[\"revenue\"],start_p=0, start_q=1, start_P=0, max_d=1, max_D=1, start_Q=1,max_p=4,max_q=4, max_P=4, max_Q=4, test=\"adf\", seasonal=True,m=1,trace=True)"
   ]
  },
  {
   "cell_type": "code",
   "execution_count": 101,
   "metadata": {},
   "outputs": [
    {
     "name": "stdout",
     "output_type": "stream",
     "text": [
      "Performing stepwise search to minimize aic\n",
      " ARIMA(0,2,0)(0,0,0)[4]             : AIC=632.782, Time=0.01 sec\n",
      " ARIMA(1,2,0)(1,0,0)[4]             : AIC=633.604, Time=0.02 sec\n",
      " ARIMA(0,2,1)(0,0,1)[4]             : AIC=628.803, Time=0.02 sec\n",
      " ARIMA(0,2,1)(0,0,0)[4]             : AIC=626.808, Time=0.01 sec\n",
      " ARIMA(0,2,1)(1,0,0)[4]             : AIC=628.805, Time=0.02 sec\n",
      " ARIMA(0,2,1)(1,0,1)[4]             : AIC=629.844, Time=0.03 sec\n",
      " ARIMA(1,2,1)(0,0,0)[4]             : AIC=628.737, Time=0.02 sec\n",
      " ARIMA(0,2,2)(0,0,0)[4]             : AIC=627.810, Time=0.02 sec\n",
      " ARIMA(1,2,0)(0,0,0)[4]             : AIC=632.137, Time=0.01 sec\n",
      " ARIMA(1,2,2)(0,0,0)[4]             : AIC=629.137, Time=0.02 sec\n",
      " ARIMA(0,2,1)(0,0,0)[4] intercept   : AIC=627.281, Time=0.02 sec\n",
      "\n",
      "Best model:  ARIMA(0,2,1)(0,0,0)[4]          \n",
      "Total fit time: 0.201 seconds\n"
     ]
    }
   ],
   "source": [
    "arima_model_trim_pesca = pmd.auto_arima(train_trim_pesca[\"revenue\"], start_p=0, start_q=0, start_P=0, start_Q=0, test=\"adf\", seasonal=True,m=4,trace=True)"
   ]
  },
  {
   "cell_type": "code",
   "execution_count": 102,
   "metadata": {},
   "outputs": [
    {
     "name": "stdout",
     "output_type": "stream",
     "text": [
      "Performing stepwise search to minimize aic\n",
      " ARIMA(0,1,0)(0,0,0)[4] intercept   : AIC=7860.942, Time=0.01 sec\n",
      " ARIMA(1,1,0)(1,0,0)[4] intercept   : AIC=7812.484, Time=0.04 sec\n",
      " ARIMA(0,1,1)(0,0,1)[4] intercept   : AIC=7766.211, Time=0.05 sec\n",
      " ARIMA(0,1,0)(0,0,0)[4]             : AIC=7859.056, Time=0.01 sec\n",
      " ARIMA(0,1,1)(0,0,0)[4] intercept   : AIC=7765.006, Time=0.02 sec\n",
      " ARIMA(0,1,1)(1,0,0)[4] intercept   : AIC=7766.407, Time=0.05 sec\n",
      " ARIMA(0,1,1)(1,0,1)[4] intercept   : AIC=7767.359, Time=0.13 sec\n",
      " ARIMA(1,1,1)(0,0,0)[4] intercept   : AIC=7764.597, Time=0.04 sec\n",
      " ARIMA(1,1,1)(1,0,0)[4] intercept   : AIC=7764.950, Time=0.07 sec\n",
      " ARIMA(1,1,1)(0,0,1)[4] intercept   : AIC=7763.864, Time=0.08 sec\n",
      " ARIMA(1,1,1)(1,0,1)[4] intercept   : AIC=7762.891, Time=0.13 sec\n",
      " ARIMA(1,1,1)(2,0,1)[4] intercept   : AIC=7761.076, Time=0.31 sec\n",
      " ARIMA(1,1,1)(2,0,0)[4] intercept   : AIC=7766.034, Time=0.09 sec\n",
      " ARIMA(1,1,1)(2,0,2)[4] intercept   : AIC=inf, Time=0.67 sec\n",
      " ARIMA(1,1,1)(1,0,2)[4] intercept   : AIC=7760.868, Time=0.33 sec\n",
      " ARIMA(1,1,1)(0,0,2)[4] intercept   : AIC=7764.357, Time=0.12 sec\n",
      " ARIMA(0,1,1)(1,0,2)[4] intercept   : AIC=7768.684, Time=0.17 sec\n",
      " ARIMA(1,1,0)(1,0,2)[4] intercept   : AIC=7814.921, Time=0.14 sec\n",
      " ARIMA(2,1,1)(1,0,2)[4] intercept   : AIC=7762.471, Time=0.43 sec\n",
      " ARIMA(1,1,2)(1,0,2)[4] intercept   : AIC=7763.135, Time=0.46 sec\n",
      " ARIMA(0,1,0)(1,0,2)[4] intercept   : AIC=7859.529, Time=0.20 sec\n",
      " ARIMA(0,1,2)(1,0,2)[4] intercept   : AIC=7761.480, Time=0.32 sec\n",
      " ARIMA(2,1,0)(1,0,2)[4] intercept   : AIC=7801.160, Time=0.18 sec\n",
      " ARIMA(2,1,2)(1,0,2)[4] intercept   : AIC=7763.146, Time=0.67 sec\n",
      " ARIMA(1,1,1)(1,0,2)[4]             : AIC=7759.503, Time=0.19 sec\n",
      " ARIMA(1,1,1)(0,0,2)[4]             : AIC=7758.807, Time=0.12 sec\n",
      " ARIMA(1,1,1)(0,0,1)[4]             : AIC=7757.718, Time=0.07 sec\n",
      " ARIMA(1,1,1)(0,0,0)[4]             : AIC=7759.352, Time=0.04 sec\n",
      " ARIMA(1,1,1)(1,0,1)[4]             : AIC=7757.678, Time=0.12 sec\n",
      " ARIMA(1,1,1)(1,0,0)[4]             : AIC=7757.202, Time=0.06 sec\n",
      " ARIMA(1,1,1)(2,0,0)[4]             : AIC=7758.106, Time=0.09 sec\n",
      " ARIMA(1,1,1)(2,0,1)[4]             : AIC=7759.561, Time=0.20 sec\n",
      " ARIMA(0,1,1)(1,0,0)[4]             : AIC=7764.685, Time=0.04 sec\n",
      " ARIMA(1,1,0)(1,0,0)[4]             : AIC=7810.732, Time=0.03 sec\n",
      " ARIMA(2,1,1)(1,0,0)[4]             : AIC=7758.838, Time=0.10 sec\n",
      " ARIMA(1,1,2)(1,0,0)[4]             : AIC=7759.031, Time=0.11 sec\n",
      " ARIMA(0,1,0)(1,0,0)[4]             : AIC=7853.922, Time=0.02 sec\n",
      " ARIMA(0,1,2)(1,0,0)[4]             : AIC=7758.034, Time=0.05 sec\n",
      " ARIMA(2,1,0)(1,0,0)[4]             : AIC=7797.918, Time=0.05 sec\n",
      " ARIMA(2,1,2)(1,0,0)[4]             : AIC=7760.162, Time=0.25 sec\n",
      "\n",
      "Best model:  ARIMA(1,1,1)(1,0,0)[4]          \n",
      "Total fit time: 6.283 seconds\n"
     ]
    }
   ],
   "source": [
    "arima_model_settimanale_pesca = pmd.auto_arima(train_settimanale_pesca[\"revenue\"], start_p=0, start_q=0, start_P=0, start_Q=0, test=\"adf\", seasonal=True,m=4,trace=True)"
   ]
  },
  {
   "cell_type": "markdown",
   "metadata": {},
   "source": [
    "allenamento modello calcio"
   ]
  },
  {
   "cell_type": "code",
   "execution_count": 103,
   "metadata": {},
   "outputs": [
    {
     "name": "stdout",
     "output_type": "stream",
     "text": [
      "Performing stepwise search to minimize aic\n",
      " ARIMA(0,0,1)(0,1,1)[12] intercept   : AIC=1748.692, Time=0.06 sec\n",
      " ARIMA(0,0,0)(0,1,0)[12] intercept   : AIC=1774.914, Time=0.01 sec\n",
      " ARIMA(1,0,0)(1,1,0)[12] intercept   : AIC=1755.666, Time=0.06 sec\n",
      " ARIMA(0,0,0)(0,1,0)[12]             : AIC=1778.968, Time=0.01 sec\n",
      " ARIMA(0,0,1)(0,1,0)[12] intercept   : AIC=1747.391, Time=0.02 sec\n",
      " ARIMA(0,0,1)(1,1,0)[12] intercept   : AIC=1748.457, Time=0.06 sec\n",
      " ARIMA(0,0,1)(1,1,1)[12] intercept   : AIC=1750.404, Time=0.13 sec\n",
      " ARIMA(1,0,1)(0,1,0)[12] intercept   : AIC=1749.298, Time=0.03 sec\n",
      " ARIMA(0,0,2)(0,1,0)[12] intercept   : AIC=1749.423, Time=0.03 sec\n",
      " ARIMA(1,0,0)(0,1,0)[12] intercept   : AIC=1754.868, Time=0.01 sec\n",
      " ARIMA(1,0,2)(0,1,0)[12] intercept   : AIC=1750.751, Time=0.05 sec\n",
      " ARIMA(0,0,1)(0,1,0)[12]             : AIC=1747.589, Time=0.02 sec\n",
      "\n",
      "Best model:  ARIMA(0,0,1)(0,1,0)[12] intercept\n",
      "Total fit time: 0.506 seconds\n"
     ]
    }
   ],
   "source": [
    "arima_model_mensile_calcio = pmd.auto_arima(train_mensile_calcio[\"totale\"], start_p=0, start_q=1, start_P=0, start_Q=1,max_p=4,max_q=4, max_P=4, max_Q=4, test=\"adf\", seasonal=True,m=12,trace=True)"
   ]
  },
  {
   "cell_type": "code",
   "execution_count": 104,
   "metadata": {},
   "outputs": [
    {
     "name": "stdout",
     "output_type": "stream",
     "text": [
      "Performing stepwise search to minimize aic\n",
      " ARIMA(0,1,1)(0,0,0)[0] intercept   : AIC=199.680, Time=0.01 sec\n",
      " ARIMA(0,1,0)(0,0,0)[0] intercept   : AIC=194.669, Time=0.00 sec\n",
      " ARIMA(1,1,0)(0,0,0)[0] intercept   : AIC=196.328, Time=0.01 sec\n",
      " ARIMA(0,1,0)(0,0,0)[0]             : AIC=192.832, Time=0.00 sec\n",
      " ARIMA(1,1,1)(0,0,0)[0] intercept   : AIC=1937089133.138, Time=0.09 sec\n",
      "\n",
      "Best model:  ARIMA(0,1,0)(0,0,0)[0]          \n",
      "Total fit time: 0.128 seconds\n"
     ]
    },
    {
     "name": "stderr",
     "output_type": "stream",
     "text": [
      "c:\\Users\\Ruben\\AppData\\Local\\Programs\\Python\\Python310\\lib\\site-packages\\statsmodels\\regression\\linear_model.py:1673: RuntimeWarning: divide by zero encountered in double_scalars\n",
      "  return np.dot(wresid, wresid) / self.df_resid\n"
     ]
    }
   ],
   "source": [
    "arima_model_year_calcio = pmd.auto_arima(train_year_calcio[\"revenue\"], start_p=0, start_q=1, start_P=0, max_d=1, max_D=1, start_Q=1,max_p=4,max_q=4, max_P=4, max_Q=4, test=\"adf\", seasonal=True,m=1,trace=True)"
   ]
  },
  {
   "cell_type": "code",
   "execution_count": 105,
   "metadata": {},
   "outputs": [
    {
     "name": "stdout",
     "output_type": "stream",
     "text": [
      "Performing stepwise search to minimize aic\n",
      " ARIMA(0,0,0)(0,1,0)[2] intercept   : AIC=719.879, Time=0.01 sec\n",
      " ARIMA(1,0,0)(1,1,0)[2] intercept   : AIC=inf, Time=0.05 sec\n",
      " ARIMA(0,0,1)(0,1,1)[2] intercept   : AIC=715.024, Time=0.02 sec\n",
      " ARIMA(0,0,0)(0,1,0)[2]             : AIC=717.992, Time=0.00 sec\n",
      " ARIMA(0,0,1)(0,1,0)[2] intercept   : AIC=718.175, Time=0.01 sec\n",
      " ARIMA(0,0,1)(1,1,1)[2] intercept   : AIC=711.811, Time=0.08 sec\n",
      " ARIMA(0,0,1)(1,1,0)[2] intercept   : AIC=709.828, Time=0.08 sec\n",
      " ARIMA(0,0,1)(2,1,0)[2] intercept   : AIC=711.797, Time=0.08 sec\n",
      " ARIMA(0,0,1)(2,1,1)[2] intercept   : AIC=713.121, Time=0.10 sec\n",
      " ARIMA(0,0,0)(1,1,0)[2] intercept   : AIC=inf, Time=0.03 sec\n",
      " ARIMA(1,0,1)(1,1,0)[2] intercept   : AIC=711.506, Time=0.06 sec\n",
      " ARIMA(0,0,1)(1,1,0)[2]             : AIC=707.905, Time=0.04 sec\n",
      " ARIMA(0,0,1)(0,1,0)[2]             : AIC=716.509, Time=0.01 sec\n",
      " ARIMA(0,0,1)(2,1,0)[2]             : AIC=709.866, Time=0.07 sec\n",
      " ARIMA(0,0,1)(1,1,1)[2]             : AIC=709.879, Time=0.07 sec\n",
      " ARIMA(0,0,1)(0,1,1)[2]             : AIC=713.199, Time=0.02 sec\n",
      " ARIMA(0,0,1)(2,1,1)[2]             : AIC=711.765, Time=0.10 sec\n",
      " ARIMA(0,0,0)(1,1,0)[2]             : AIC=inf, Time=0.02 sec\n",
      " ARIMA(1,0,1)(1,1,0)[2]             : AIC=709.383, Time=0.07 sec\n",
      " ARIMA(1,0,0)(1,1,0)[2]             : AIC=inf, Time=0.04 sec\n",
      "\n",
      "Best model:  ARIMA(0,0,1)(1,1,0)[2]          \n",
      "Total fit time: 0.977 seconds\n"
     ]
    }
   ],
   "source": [
    "arima_model_trim_calcio= pmd.auto_arima(train_trim_calcio[\"revenue\"], start_p=0, start_q=0, start_P=0, start_Q=0, test=\"adf\", seasonal=True,m=2,trace=True)"
   ]
  },
  {
   "cell_type": "code",
   "execution_count": 106,
   "metadata": {},
   "outputs": [
    {
     "name": "stdout",
     "output_type": "stream",
     "text": [
      "Performing stepwise search to minimize aic\n",
      " ARIMA(0,0,0)(0,0,0)[2] intercept   : AIC=8485.648, Time=0.01 sec\n",
      " ARIMA(1,0,0)(1,0,0)[2] intercept   : AIC=8132.330, Time=0.09 sec\n",
      " ARIMA(0,0,1)(0,0,1)[2] intercept   : AIC=8258.347, Time=0.05 sec\n",
      " ARIMA(0,0,0)(0,0,0)[2]             : AIC=8744.335, Time=0.00 sec\n",
      " ARIMA(1,0,0)(0,0,0)[2] intercept   : AIC=8140.252, Time=0.02 sec\n",
      " ARIMA(1,0,0)(2,0,0)[2] intercept   : AIC=8132.507, Time=0.12 sec\n",
      " ARIMA(1,0,0)(1,0,1)[2] intercept   : AIC=8134.287, Time=0.13 sec\n",
      " ARIMA(1,0,0)(0,0,1)[2] intercept   : AIC=8133.566, Time=0.04 sec\n",
      " ARIMA(1,0,0)(2,0,1)[2] intercept   : AIC=8133.821, Time=0.17 sec\n",
      " ARIMA(0,0,0)(1,0,0)[2] intercept   : AIC=8426.403, Time=0.03 sec\n",
      " ARIMA(1,0,1)(1,0,0)[2] intercept   : AIC=8134.554, Time=0.14 sec\n",
      " ARIMA(0,0,1)(1,0,0)[2] intercept   : AIC=8265.088, Time=0.06 sec\n",
      " ARIMA(1,0,0)(1,0,0)[2]             : AIC=8143.894, Time=0.05 sec\n",
      "\n",
      "Best model:  ARIMA(1,0,0)(1,0,0)[2] intercept\n",
      "Total fit time: 0.929 seconds\n"
     ]
    }
   ],
   "source": [
    "arima_model_settimanale_calcio= pmd.auto_arima(train_settimanale_calcio[\"revenue\"], start_p=0, start_q=0, start_P=0, start_Q=0, test=\"adf\", seasonal=True,m=2,trace=True)"
   ]
  },
  {
   "cell_type": "code",
   "execution_count": 107,
   "metadata": {},
   "outputs": [],
   "source": [
    "import pickle"
   ]
  },
  {
   "cell_type": "code",
   "execution_count": 108,
   "metadata": {},
   "outputs": [],
   "source": [
    "with open('./models/arima.pkl', 'wb') as pkl:\n",
    "    pickle.dump(arima_model_year, pkl)"
   ]
  },
  {
   "cell_type": "code",
   "execution_count": 109,
   "metadata": {},
   "outputs": [],
   "source": [
    "with open('./models/arima_trim_pesca.pkl', 'wb') as pkl:\n",
    "    pickle.dump(arima_model_trim_pesca, pkl)"
   ]
  },
  {
   "cell_type": "code",
   "execution_count": 110,
   "metadata": {},
   "outputs": [],
   "source": [
    "with open('./models/arima_trim_calcio.pkl', 'wb') as pkl:\n",
    "    pickle.dump(arima_model_trim_calcio, pkl)"
   ]
  },
  {
   "cell_type": "code",
   "execution_count": 111,
   "metadata": {},
   "outputs": [],
   "source": [
    "with open('./models/arima_year_calcio.pkl', 'wb') as pkl:\n",
    "    pickle.dump(arima_model_year_calcio, pkl)"
   ]
  },
  {
   "cell_type": "code",
   "execution_count": 112,
   "metadata": {},
   "outputs": [],
   "source": [
    "with open('./models/arima_model_mensile_calio.pkl', 'wb') as pkl:\n",
    "    pickle.dump(arima_model_mensile_calcio, pkl)"
   ]
  },
  {
   "cell_type": "code",
   "execution_count": 113,
   "metadata": {},
   "outputs": [],
   "source": [
    "with open('./models/arima_model_mensile_pesca.pkl', 'wb') as pkl:\n",
    "    pickle.dump(arima_model_mensile_pesca, pkl)"
   ]
  },
  {
   "cell_type": "markdown",
   "metadata": {},
   "source": [
    "Predict value casual"
   ]
  },
  {
   "cell_type": "code",
   "execution_count": 114,
   "metadata": {},
   "outputs": [],
   "source": [
    "test_trim_casual[\"SARIMA\"] = arima_model_trim_casual.predict(n_periods=len(test_trim_casual))\n"
   ]
  },
  {
   "cell_type": "code",
   "execution_count": 115,
   "metadata": {},
   "outputs": [],
   "source": [
    "test_year_casual[\"SARIMA\"] = arima_model_year_casual.predict(n_periods=len(test_year_casual))\n"
   ]
  },
  {
   "cell_type": "code",
   "execution_count": 116,
   "metadata": {},
   "outputs": [],
   "source": [
    "test_settimanale_casual[\"SARIMA\"] = arima_model_settimanale_casual.predict(n_periods=len(test_settimanale_casual))\n"
   ]
  },
  {
   "cell_type": "code",
   "execution_count": 117,
   "metadata": {},
   "outputs": [],
   "source": [
    "test_mensile_casual[\"SARIMA\"] = arima_model_mensile_pesca.predict(n_periods=len(test_mensile_casual))"
   ]
  },
  {
   "cell_type": "markdown",
   "metadata": {},
   "source": [
    "Predict value pesca"
   ]
  },
  {
   "cell_type": "code",
   "execution_count": 118,
   "metadata": {},
   "outputs": [],
   "source": [
    "test_trim_pesca[\"SARIMA\"] = arima_model_trim_pesca.predict(n_periods=len(test_trim_pesca))\n"
   ]
  },
  {
   "cell_type": "code",
   "execution_count": 119,
   "metadata": {},
   "outputs": [],
   "source": [
    "test_year_pesca[\"SARIMA\"] = arima_model_year.predict(n_periods=len(test_year_pesca))\n"
   ]
  },
  {
   "cell_type": "code",
   "execution_count": 120,
   "metadata": {},
   "outputs": [],
   "source": [
    "test_settimanale_pesca[\"SARIMA\"] = arima_model_settimanale_pesca.predict(n_periods=len(test_settimanale_pesca))\n"
   ]
  },
  {
   "cell_type": "code",
   "execution_count": 121,
   "metadata": {},
   "outputs": [],
   "source": [
    "test_mensile_pesca[\"SARIMA\"] = arima_model_mensile_pesca.predict(n_periods=len(test_mensile_pesca))"
   ]
  },
  {
   "cell_type": "markdown",
   "metadata": {},
   "source": [
    "Predict model calcio"
   ]
  },
  {
   "cell_type": "code",
   "execution_count": 122,
   "metadata": {},
   "outputs": [],
   "source": [
    "test_trim_calcio[\"SARIMA\"] = arima_model_trim_calcio.predict(n_periods=len(test_trim_calcio))\n"
   ]
  },
  {
   "cell_type": "code",
   "execution_count": 123,
   "metadata": {},
   "outputs": [],
   "source": [
    "test_year_calcio[\"SARIMA\"] = arima_model_year_calcio.predict(n_periods=len(test_year_calcio))\n"
   ]
  },
  {
   "cell_type": "code",
   "execution_count": 124,
   "metadata": {},
   "outputs": [],
   "source": [
    "test_mensile_calcio[\"SARIMA\"] = arima_model_mensile_calcio.predict(n_periods=len(test_mensile_calcio))"
   ]
  },
  {
   "cell_type": "code",
   "execution_count": 125,
   "metadata": {},
   "outputs": [],
   "source": [
    "test_settimanale_calcio[\"SARIMA\"] = arima_model_settimanale_calcio.predict(n_periods=len(test_settimanale_calcio))"
   ]
  },
  {
   "cell_type": "code",
   "execution_count": 126,
   "metadata": {},
   "outputs": [],
   "source": [
    "def mape(dataset): \n",
    "    print(dataset.shape[0])\n",
    "    sum = np.sum(np.divide(np.abs(dataset[\"revenue\"] - dataset[\"SARIMA\"]),dataset[\"revenue\"] ))\n",
    "    sum = sum * 100\n",
    "    return sum/dataset.shape[0]\n"
   ]
  },
  {
   "cell_type": "code",
   "execution_count": 127,
   "metadata": {},
   "outputs": [],
   "source": [
    "def mape_variant(dataset): \n",
    "    print(dataset.shape[0])\n",
    "    sum = np.sum(np.divide(np.abs(dataset[\"totale\"] - dataset[\"SARIMA\"]),dataset[\"totale\"] ))\n",
    "    sum = sum * 100\n",
    "    return sum/dataset.shape[0]"
   ]
  },
  {
   "cell_type": "code",
   "execution_count": 130,
   "metadata": {},
   "outputs": [
    {
     "data": {
      "text/html": [
       "<div>\n",
       "<style scoped>\n",
       "    .dataframe tbody tr th:only-of-type {\n",
       "        vertical-align: middle;\n",
       "    }\n",
       "\n",
       "    .dataframe tbody tr th {\n",
       "        vertical-align: top;\n",
       "    }\n",
       "\n",
       "    .dataframe thead th {\n",
       "        text-align: right;\n",
       "    }\n",
       "</style>\n",
       "<table border=\"1\" class=\"dataframe\">\n",
       "  <thead>\n",
       "    <tr style=\"text-align: right;\">\n",
       "      <th></th>\n",
       "      <th>Unnamed: 0</th>\n",
       "      <th>year</th>\n",
       "      <th>revenue</th>\n",
       "      <th>SARIMA</th>\n",
       "    </tr>\n",
       "  </thead>\n",
       "  <tbody>\n",
       "    <tr>\n",
       "      <th>7</th>\n",
       "      <td>7</td>\n",
       "      <td>2021</td>\n",
       "      <td>2902705.33</td>\n",
       "      <td>3824241.17</td>\n",
       "    </tr>\n",
       "    <tr>\n",
       "      <th>8</th>\n",
       "      <td>8</td>\n",
       "      <td>2022</td>\n",
       "      <td>570076.92</td>\n",
       "      <td>3824241.17</td>\n",
       "    </tr>\n",
       "  </tbody>\n",
       "</table>\n",
       "</div>"
      ],
      "text/plain": [
       "   Unnamed: 0  year     revenue      SARIMA\n",
       "7           7  2021  2902705.33  3824241.17\n",
       "8           8  2022   570076.92  3824241.17"
      ]
     },
     "execution_count": 130,
     "metadata": {},
     "output_type": "execute_result"
    }
   ],
   "source": [
    "test_year_casual"
   ]
  },
  {
   "cell_type": "markdown",
   "metadata": {},
   "source": [
    "Mape casual"
   ]
  },
  {
   "cell_type": "code",
   "execution_count": 131,
   "metadata": {},
   "outputs": [
    {
     "name": "stdout",
     "output_type": "stream",
     "text": [
      "7\n",
      "73.665779867638\n"
     ]
    }
   ],
   "source": [
    "print(mape(test_trim_casual))"
   ]
  },
  {
   "cell_type": "code",
   "execution_count": 132,
   "metadata": {},
   "outputs": [
    {
     "name": "stdout",
     "output_type": "stream",
     "text": [
      "1\n",
      "31.747481581259912\n"
     ]
    }
   ],
   "source": [
    "print(mape(test_year_casual.head(1)))"
   ]
  },
  {
   "cell_type": "code",
   "execution_count": 133,
   "metadata": {},
   "outputs": [
    {
     "name": "stdout",
     "output_type": "stream",
     "text": [
      "20\n",
      "234.70613603179498\n"
     ]
    }
   ],
   "source": [
    "print(mape(test_mensile_casual))"
   ]
  },
  {
   "cell_type": "code",
   "execution_count": 134,
   "metadata": {},
   "outputs": [
    {
     "name": "stdout",
     "output_type": "stream",
     "text": [
      "83\n",
      "118.32260141920503\n"
     ]
    }
   ],
   "source": [
    "print(mape(test_settimanale_casual))"
   ]
  },
  {
   "cell_type": "markdown",
   "metadata": {},
   "source": [
    "Mape pesca"
   ]
  },
  {
   "cell_type": "code",
   "execution_count": 135,
   "metadata": {},
   "outputs": [
    {
     "name": "stdout",
     "output_type": "stream",
     "text": [
      "7\n",
      "28.674756219574704\n"
     ]
    }
   ],
   "source": [
    "print(mape(test_trim_pesca))"
   ]
  },
  {
   "cell_type": "code",
   "execution_count": 136,
   "metadata": {},
   "outputs": [
    {
     "name": "stdout",
     "output_type": "stream",
     "text": [
      "1\n",
      "31.747481581259912\n"
     ]
    }
   ],
   "source": [
    "print(mape(test_year_pesca.head(1)))"
   ]
  },
  {
   "cell_type": "code",
   "execution_count": 137,
   "metadata": {},
   "outputs": [
    {
     "name": "stdout",
     "output_type": "stream",
     "text": [
      "20\n",
      "33.602608307490954\n"
     ]
    }
   ],
   "source": [
    "print(mape_variant(test_mensile_pesca))"
   ]
  },
  {
   "cell_type": "code",
   "execution_count": 138,
   "metadata": {},
   "outputs": [
    {
     "name": "stdout",
     "output_type": "stream",
     "text": [
      "83\n",
      "71.09060715319455\n"
     ]
    }
   ],
   "source": [
    "print(mape(test_settimanale_pesca))"
   ]
  },
  {
   "cell_type": "markdown",
   "metadata": {},
   "source": [
    "Mape calcio"
   ]
  },
  {
   "cell_type": "code",
   "execution_count": 139,
   "metadata": {},
   "outputs": [
    {
     "name": "stdout",
     "output_type": "stream",
     "text": [
      "1\n",
      "28.502982724638937\n"
     ]
    }
   ],
   "source": [
    "print(mape(test_year_calcio.head(1)))"
   ]
  },
  {
   "cell_type": "code",
   "execution_count": 140,
   "metadata": {},
   "outputs": [
    {
     "name": "stdout",
     "output_type": "stream",
     "text": [
      "7\n",
      "80.6770985561656\n"
     ]
    }
   ],
   "source": [
    "print(mape(test_trim_calcio))"
   ]
  },
  {
   "cell_type": "code",
   "execution_count": 141,
   "metadata": {},
   "outputs": [
    {
     "name": "stdout",
     "output_type": "stream",
     "text": [
      "20\n",
      "116.59328444578523\n"
     ]
    }
   ],
   "source": [
    "print(mape_variant(test_mensile_calcio))"
   ]
  },
  {
   "cell_type": "code",
   "execution_count": 142,
   "metadata": {},
   "outputs": [
    {
     "name": "stdout",
     "output_type": "stream",
     "text": [
      "83\n",
      "111.9873669713259\n"
     ]
    }
   ],
   "source": [
    "print(mape(test_settimanale_calcio))"
   ]
  }
 ],
 "metadata": {
  "interpreter": {
   "hash": "e850eec08e9669c52e782ee28b71a07544c9e38f5af88e96f29f06e82864309f"
  },
  "kernelspec": {
   "display_name": "Python 3.10.1 64-bit",
   "language": "python",
   "name": "python3"
  },
  "language_info": {
   "codemirror_mode": {
    "name": "ipython",
    "version": 3
   },
   "file_extension": ".py",
   "mimetype": "text/x-python",
   "name": "python",
   "nbconvert_exporter": "python",
   "pygments_lexer": "ipython3",
   "version": "3.10.1"
  },
  "orig_nbformat": 4
 },
 "nbformat": 4,
 "nbformat_minor": 2
}
