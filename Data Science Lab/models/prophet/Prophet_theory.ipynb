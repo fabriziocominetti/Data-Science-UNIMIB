Articoli di riferimento: https://www.kaggle.com/code/prashant111/tutorial-time-series-forecasting-with-prophet/notebook ; https://www.kaggle.com/code/robikscube/time-series-forecasting-with-prophet/notebook
#@title
pip install fbprophet
Looking in indexes: https://pypi.org/simple, https://us-python.pkg.dev/colab-wheels/public/simple/
Requirement already satisfied: fbprophet in /usr/local/lib/python3.7/dist-packages (0.7.1)
Requirement already satisfied: Cython>=0.22 in /usr/local/lib/python3.7/dist-packages (from fbprophet) (0.29.30)
Requirement already satisfied: cmdstanpy==0.9.5 in /usr/local/lib/python3.7/dist-packages (from fbprophet) (0.9.5)
Requirement already satisfied: pystan>=2.14 in /usr/local/lib/python3.7/dist-packages (from fbprophet) (2.19.1.1)
Requirement already satisfied: numpy>=1.15.4 in /usr/local/lib/python3.7/dist-packages (from fbprophet) (1.21.6)
Requirement already satisfied: pandas>=1.0.4 in /usr/local/lib/python3.7/dist-packages (from fbprophet) (1.3.5)
Requirement already satisfied: matplotlib>=2.0.0 in /usr/local/lib/python3.7/dist-packages (from fbprophet) (3.2.2)
Requirement already satisfied: LunarCalendar>=0.0.9 in /usr/local/lib/python3.7/dist-packages (from fbprophet) (0.0.9)
Requirement already satisfied: convertdate>=2.1.2 in /usr/local/lib/python3.7/dist-packages (from fbprophet) (2.4.0)
Requirement already satisfied: holidays>=0.10.2 in /usr/local/lib/python3.7/dist-packages (from fbprophet) (0.10.5.2)
Requirement already satisfied: setuptools-git>=1.2 in /usr/local/lib/python3.7/dist-packages (from fbprophet) (1.2)
Requirement already satisfied: python-dateutil>=2.8.0 in /usr/local/lib/python3.7/dist-packages (from fbprophet) (2.8.2)
Requirement already satisfied: tqdm>=4.36.1 in /usr/local/lib/python3.7/dist-packages (from fbprophet) (4.64.0)
Requirement already satisfied: pymeeus<=1,>=0.3.13 in /usr/local/lib/python3.7/dist-packages (from convertdate>=2.1.2->fbprophet) (0.5.11)
Requirement already satisfied: six in /usr/local/lib/python3.7/dist-packages (from holidays>=0.10.2->fbprophet) (1.15.0)
Requirement already satisfied: korean-lunar-calendar in /usr/local/lib/python3.7/dist-packages (from holidays>=0.10.2->fbprophet) (0.2.1)
Requirement already satisfied: hijri-converter in /usr/local/lib/python3.7/dist-packages (from holidays>=0.10.2->fbprophet) (2.2.3)
Requirement already satisfied: ephem>=3.7.5.3 in /usr/local/lib/python3.7/dist-packages (from LunarCalendar>=0.0.9->fbprophet) (4.1.3)
Requirement already satisfied: pytz in /usr/local/lib/python3.7/dist-packages (from LunarCalendar>=0.0.9->fbprophet) (2022.1)
Requirement already satisfied: pyparsing!=2.0.4,!=2.1.2,!=2.1.6,>=2.0.1 in /usr/local/lib/python3.7/dist-packages (from matplotlib>=2.0.0->fbprophet) (3.0.9)
Requirement already satisfied: cycler>=0.10 in /usr/local/lib/python3.7/dist-packages (from matplotlib>=2.0.0->fbprophet) (0.11.0)
Requirement already satisfied: kiwisolver>=1.0.1 in /usr/local/lib/python3.7/dist-packages (from matplotlib>=2.0.0->fbprophet) (1.4.2)
Requirement already satisfied: typing-extensions in /usr/local/lib/python3.7/dist-packages (from kiwisolver>=1.0.1->matplotlib>=2.0.0->fbprophet) (4.2.0)
Importa librerie
#@title
import pandas as pd
from fbprophet import Prophet
from fbprophet.plot import plot_plotly
import plotly.offline as py
from datetime import datetime
from sklearn.metrics import mean_squared_error, mean_absolute_error
py.init_notebook_mode()

import numpy as np
import pandas as pd
import matplotlib.pyplot as plt
import seaborn as sns
%matplotlib inline
plt.style.use('fivethirtyeight')
# Python
# df = pd.read_csv ('C:/Users/abete/OneDrive/Desktop/Università/Data science lab/Progetto-Data-Science-Lab\data/serie-storiche-ecommerce-pulito-no-buchi-temporali.csv', index_col = 'Unnamed: 0')
df = pd.read_csv ('/content/serie-storiche-ecommerce-pulito-no-buchi-temporali.csv', index_col = 'Unnamed: 0', parse_dates =['data'])
del[df['new_index']]
df.head()
data	totale	settore	Anno	Mese	Giorno	Mese (n°)
0	2014-01-01	0.0	Pesca	2014	Gennaio	1	1
1	2014-01-02	0.0	Pesca	2014	Gennaio	2	1
2	2014-01-03	0.0	Pesca	2014	Gennaio	3	1
3	2014-01-04	0.0	Pesca	2014	Gennaio	4	1
4	2014-01-05	0.0	Pesca	2014	Gennaio	5	1
Visualizziamo i dati
def create_features(df):
    """
    Creates time series features from datetime index.
    """
    df = df.copy()
    # df['date'] = df.index
    df['GiornoDellaSettimana'] = df['data'].dt.dayofweek
    df['Quarto'] = df['data'].dt.quarter      # dividi il mese in quarti
    df['SettimanaAnno'] = df['data'].dt.weekofyear
    
    X = df[['GiornoDellaSettimana','Quarto',
            'SettimanaAnno']]
    return X

X = create_features(df)

features_and_target = pd.concat([df, X], axis=1)
# See our features and target
features_and_target.head()
/usr/local/lib/python3.7/dist-packages/ipykernel_launcher.py:10: FutureWarning:

Series.dt.weekofyear and Series.dt.week have been deprecated.  Please use Series.dt.isocalendar().week instead.

data	totale	settore	Anno	Mese	Giorno	Mese (n°)	GiornoDellaSettimana	Quarto	SettimanaAnno
0	2014-01-01	0.0	Pesca	2014	Gennaio	1	1	2	1	1
1	2014-01-02	0.0	Pesca	2014	Gennaio	2	1	3	1	1
2	2014-01-03	0.0	Pesca	2014	Gennaio	3	1	4	1	1
3	2014-01-04	0.0	Pesca	2014	Gennaio	4	1	5	1	1
4	2014-01-05	0.0	Pesca	2014	Gennaio	5	1	6	1	1
color_pal = ["#F8766D", "#D39200", "#93AA00",
             "#00BA38", "#00C19F", "#00B9E3",
             "#619CFF", "#DB72FB"]
dt_pesca = features_and_target[features_and_target['settore'] == 'Pesca']
sns.pairplot(data = dt_pesca,
             hue='Giorno',
             x_vars=['Giorno', 'GiornoDellaSettimana',
                     'Anno', 'SettimanaAnno'],
             y_vars='totale',
             height=5,
             palette = 'hls',
             plot_kws={'alpha':0.75, 'linewidth':0.5}
            )
plt.suptitle("Totale vendite Pesca per Giorno, Giorno della settimana, Anno e Settimana dell'anno")
plt.show()

# Non sembra esserci stagionalità
# Tra i giorni della settimana si notano delle differenze nei picchi

# Grafico andamento generale vendite
dt_pesca_model = dt_pesca.rename(columns={'data':'ds', 'totale':'y'})[['ds', 'y']]
ax = dt_pesca_model.set_index('ds').plot(figsize=(15, 5))
ax.set_ylabel('Vendite (euro)')
ax.set_xlabel('Date')

plt.show()

Dividaimo in train e test set
# 80%......si potrebbero prendere tutti gli anni tranne l'ultimo
dt_pesca_train = dt_pesca_model.loc[:len(dt_pesca_model)*0.8].copy()
# 20%.....si potrebbe prendere l'ultimo anno (=dt_pesca_model.loc[dt_pesca_model.loc[-1]['ds']-365]:)
dt_pesca_test = dt_pesca_model.loc[len(dt_pesca_model)*0.8:].copy()
ds	y
0	2014-01-01	0.00
1	2014-01-02	0.00
2	2014-01-03	0.00
3	2014-01-04	0.00
4	2014-01-05	0.00
...	...	...
2420	2020-08-17	15839.39
2421	2020-08-18	6093.31
2422	2020-08-19	16384.64
2423	2020-08-20	16265.66
2424	2020-08-21	15397.02
2425 rows × 2 columns

Prevediamo le vendite
# Impostiamo il livello di confidenza al 95% (the Prophet default is 80%)
my_model = Prophet(interval_width=0.95)
# Fittimao il modello sul train set
my_model.fit(dt_pesca_train)
INFO:fbprophet:Disabling daily seasonality. Run prophet with daily_seasonality=True to override this.
<fbprophet.forecaster.Prophet at 0x7fa4013ad410>
# Prevediamo sul test set
forecasting_model =  my_model.predict(dt_pesca_test)
forecasting_model.head()
ds	trend	yhat_lower	yhat_upper	trend_lower	trend_upper	additive_terms	additive_terms_lower	additive_terms_upper	weekly	weekly_lower	weekly_upper	yearly	yearly_lower	yearly_upper	multiplicative_terms	multiplicative_terms_lower	multiplicative_terms_upper	yhat
0	2020-08-22	21757.257094	-3177.968306	34087.288767	21757.257094	21757.257094	-6273.894182	-6273.894182	-6273.894182	-4036.248064	-4036.248064	-4036.248064	-2237.646118	-2237.646118	-2237.646118	0.0	0.0	0.0	15483.362912
1	2020-08-23	21760.714926	-751.399246	36017.892603	21760.714926	21760.714926	-3683.018362	-3683.018362	-3683.018362	-1715.735201	-1715.735201	-1715.735201	-1967.283161	-1967.283161	-1967.283161	0.0	0.0	0.0	18077.696564
2	2020-08-24	21764.172758	6706.247643	42202.642946	21764.172758	21764.172758	2544.202109	2544.202109	2544.202109	4235.257811	4235.257811	4235.257811	-1691.055702	-1691.055702	-1691.055702	0.0	0.0	0.0	24308.374867
3	2020-08-25	21767.630589	6074.006617	41707.041699	21767.630589	21767.630589	1449.614205	1449.614205	1449.614205	2864.175688	2864.175688	2864.175688	-1414.561483	-1414.561483	-1414.561483	0.0	0.0	0.0	23217.244794
4	2020-08-26	21771.088421	2481.305509	40163.105357	21770.891145	21771.088421	140.345802	140.345802	140.345802	1283.703482	1283.703482	1283.703482	-1143.357680	-1143.357680	-1143.357680	0.0	0.0	0.0	21911.434223
# Grafichiamo la previsione
f, ax = plt.subplots(1)
f.set_figheight(5)
f.set_figwidth(15)
fig = my_model.plot(forecasting_model,
                 ax=ax)
plt.show()

# Componenti del modello (trend, weekly, yearly, daily)
my_model.plot_components(forecasting_model)


Per graficare il confronto tra previsione e dati reali si rimanda al seguente link: https://www.kaggle.com/code/robikscube/time-series-forecasting-with-prophet/notebook
Misure di errore: 1) RMSE = 117779808.78267385; 2) MAE = 8474.914608854662; 3) MAPE = inf
# RMSE: 117779808.78267385
mean_squared_error(y_true=dt_pesca_test['y'],
                   y_pred=forecasting_model['yhat'])

# MAE: 8474.914608854662
mean_absolute_error(y_true=dt_pesca_test['y'],
                   y_pred=forecasting_model['yhat'])

# MAPE:
def mean_absolute_percentage_error(y_true, y_pred): 
    """Calculates MAPE given y_true and y_pred"""
    y_true, y_pred = np.array(y_true), np.array(y_pred)
    return np.mean(np.abs((y_true - y_pred) / y_true)) * 100

mean_absolute_percentage_error(y_true=dt_pesca_test['y'],
                   y_pred=forecasting_model['yhat'])
/usr/local/lib/python3.7/dist-packages/ipykernel_launcher.py:13: RuntimeWarning:

divide by zero encountered in true_divide

inf
fig2 = my_model.plot_components(forecast)

Modifica dei paramente: aggiungi Change Point
from fbprophet.plot import add_changepoints_to_plot
fig = my_model.plot(forecast)
a = add_changepoints_to_plot(fig.gca(), my_model, forecast)

my_model.changepoints
97     2014-04-08
194    2014-07-14
291    2014-10-19
388    2015-01-24
485    2015-05-01
582    2015-08-06
678    2015-11-10
775    2016-02-15
872    2016-05-22
969    2016-08-27
1066   2016-12-02
1163   2017-03-09
1260   2017-06-14
1357   2017-09-19
1454   2017-12-25
1551   2018-04-01
1648   2018-07-07
1745   2018-10-12
1841   2019-01-16
1938   2019-04-23
2035   2019-07-29
2132   2019-11-03
2229   2020-02-08
2326   2020-05-15
2423   2020-08-20
Name: ds, dtype: datetime64[ns]
## Cambiamo i change points
pro_change= Prophet(changepoint_range=0.9)
forecast = pro_change.fit(dt).predict(future_dates)
fig= pro_change.plot(forecast);
a = add_changepoints_to_plot(fig.gca(), pro_change, forecast)
INFO:fbprophet:Disabling daily seasonality. Run prophet with daily_seasonality=True to override this.

Aggiustiamo i trend
pro_change= Prophet(n_changepoints=20, yearly_seasonality=True, changepoint_prior_scale=0.08)
forecast = pro_change.fit(dt).predict(future_dates)
fig= pro_change.plot(forecast);
a = add_changepoints_to_plot(fig.gca(), pro_change, forecast)
INFO:fbprophet:Disabling daily seasonality. Run prophet with daily_seasonality=True to override this.
