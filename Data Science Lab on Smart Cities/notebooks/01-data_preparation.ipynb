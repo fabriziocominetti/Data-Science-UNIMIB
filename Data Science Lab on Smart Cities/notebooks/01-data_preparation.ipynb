{
 "cells": [
  {
   "cell_type": "markdown",
   "metadata": {},
   "source": [
    "<center>\n",
    "<h2>Data Science Lab on Smart Cities</h2>\n",
    "<i>Mobility in Northern Sardinia</i>\n",
    "</center>"
   ]
  },
  {
   "cell_type": "code",
   "execution_count": 1,
   "metadata": {},
   "outputs": [],
   "source": [
    "# imports\n",
    "\n",
    "import numpy as np\n",
    "import pandas as pd\n",
    "import geopandas as gpd\n",
    "from matplotlib import pyplot as plt\n",
    "import os"
   ]
  },
  {
   "cell_type": "markdown",
   "metadata": {},
   "source": [
    "<center>\n",
    "<h4><b>Data Exploration & Data Pre-Processing</b></h4>\n",
    "</center>"
   ]
  },
  {
   "cell_type": "markdown",
   "metadata": {},
   "source": [
    "Provincia di Sassari\n",
    "\n",
    "- 92 Comuni\n",
    "- 474.142 Abitanti\n",
    "- 7.701,76 km²"
   ]
  },
  {
   "cell_type": "markdown",
   "metadata": {},
   "source": [
    "**Geo Limits**"
   ]
  },
  {
   "cell_type": "code",
   "execution_count": 2,
   "metadata": {},
   "outputs": [
    {
     "data": {
      "text/plain": [
       "['Com01012023', 'ProvCM01012023', 'Reg01012023', 'RipGeo01012023']"
      ]
     },
     "execution_count": 2,
     "metadata": {},
     "output_type": "execute_result"
    }
   ],
   "source": [
    "# explore ISTAT data\n",
    "os.listdir('../data/raw/Limiti01012023')"
   ]
  },
  {
   "cell_type": "markdown",
   "metadata": {},
   "source": [
    "<center><i>Provinces</center></i>"
   ]
  },
  {
   "cell_type": "code",
   "execution_count": 3,
   "metadata": {},
   "outputs": [],
   "source": [
    "# read the file\n",
    "provinces = gpd.read_file('../data/raw/Limiti01012023/ProvCM01012023/ProvCM01012023_WGS84.shp')"
   ]
  },
  {
   "cell_type": "code",
   "execution_count": 4,
   "metadata": {},
   "outputs": [
    {
     "data": {
      "text/plain": [
       "geopandas.geodataframe.GeoDataFrame"
      ]
     },
     "execution_count": 4,
     "metadata": {},
     "output_type": "execute_result"
    }
   ],
   "source": [
    "type(provinces)"
   ]
  },
  {
   "cell_type": "code",
   "execution_count": 5,
   "metadata": {},
   "outputs": [
    {
     "data": {
      "text/plain": [
       "Index(['COD_RIP', 'COD_REG', 'COD_PROV', 'COD_CM', 'COD_UTS', 'DEN_PROV',\n",
       "       'DEN_CM', 'DEN_UTS', 'SIGLA', 'TIPO_UTS', 'SHAPE_AREA', 'Shape_Ar_1',\n",
       "       'geometry'],\n",
       "      dtype='object')"
      ]
     },
     "execution_count": 5,
     "metadata": {},
     "output_type": "execute_result"
    }
   ],
   "source": [
    "provinces.columns"
   ]
  },
  {
   "cell_type": "code",
   "execution_count": 6,
   "metadata": {},
   "outputs": [
    {
     "name": "stdout",
     "output_type": "stream",
     "text": [
      "Invalid geometries: (4, 13)\n"
     ]
    }
   ],
   "source": [
    "invalid_geometries = provinces[~provinces.geometry.is_valid]\n",
    "print(\"Invalid geometries:\", invalid_geometries.shape)"
   ]
  },
  {
   "cell_type": "markdown",
   "metadata": {},
   "source": [
    "Codice Regione Sardegna | 20"
   ]
  },
  {
   "cell_type": "code",
   "execution_count": 7,
   "metadata": {},
   "outputs": [],
   "source": [
    "provinces_sardinia = provinces[provinces['COD_REG']==20]"
   ]
  },
  {
   "cell_type": "code",
   "execution_count": 8,
   "metadata": {},
   "outputs": [
    {
     "name": "stdout",
     "output_type": "stream",
     "text": [
      "(5, 13)\n",
      "\n",
      "     COD_RIP  COD_REG  COD_PROV  COD_CM  COD_UTS      DEN_PROV    DEN_CM  \\\n",
      "89         5       20        90       0       90       Sassari         -   \n",
      "90         5       20        91       0       91         Nuoro         -   \n",
      "91         5       20        92     292      292             -  Cagliari   \n",
      "94         5       20        95       0       95      Oristano         -   \n",
      "106        5       20       111       0      111  Sud Sardegna         -   \n",
      "\n",
      "          DEN_UTS SIGLA             TIPO_UTS    SHAPE_AREA    Shape_Ar_1  \\\n",
      "89        Sassari    SS            Provincia  7.691749e+09  7.691749e+09   \n",
      "90          Nuoro    NU            Provincia  5.637966e+09  5.637966e+09   \n",
      "91       Cagliari    CA  Citta metropolitana  1.248660e+09  1.248660e+09   \n",
      "94       Oristano    OR            Provincia  2.990405e+09  2.990405e+09   \n",
      "106  Sud Sardegna    SU            Provincia  6.530673e+09  6.530673e+09   \n",
      "\n",
      "                                              geometry  \n",
      "89   MULTIPOLYGON (((443843.913 4483390.792, 443817...  \n",
      "90   MULTIPOLYGON (((560005.003 4425246.249, 560012...  \n",
      "91   MULTIPOLYGON (((502067.461 4315091.145, 502029...  \n",
      "94   MULTIPOLYGON (((438077.219 4414949.330, 438083...  \n",
      "106  MULTIPOLYGON (((448823.400 4301758.251, 448845...  \n"
     ]
    }
   ],
   "source": [
    "print(provinces_sardinia.shape)\n",
    "print('')\n",
    "print(provinces_sardinia.head())"
   ]
  },
  {
   "cell_type": "code",
   "execution_count": 9,
   "metadata": {},
   "outputs": [
    {
     "data": {
      "text/plain": [
       "89     MultiPolygon\n",
       "90     MultiPolygon\n",
       "91     MultiPolygon\n",
       "94     MultiPolygon\n",
       "106    MultiPolygon\n",
       "dtype: object"
      ]
     },
     "execution_count": 9,
     "metadata": {},
     "output_type": "execute_result"
    }
   ],
   "source": [
    "provinces_sardinia.geom_type"
   ]
  },
  {
   "cell_type": "code",
   "execution_count": 10,
   "metadata": {},
   "outputs": [
    {
     "name": "stdout",
     "output_type": "stream",
     "text": [
      "Invalid geometries:      COD_RIP  COD_REG  COD_PROV  COD_CM  COD_UTS      DEN_PROV DEN_CM  \\\n",
      "89         5       20        90       0       90       Sassari      -   \n",
      "106        5       20       111       0      111  Sud Sardegna      -   \n",
      "\n",
      "          DEN_UTS SIGLA   TIPO_UTS    SHAPE_AREA    Shape_Ar_1  \\\n",
      "89        Sassari    SS  Provincia  7.691749e+09  7.691749e+09   \n",
      "106  Sud Sardegna    SU  Provincia  6.530673e+09  6.530673e+09   \n",
      "\n",
      "                                              geometry  \n",
      "89   MULTIPOLYGON (((443843.913 4483390.792, 443817...  \n",
      "106  MULTIPOLYGON (((448823.400 4301758.251, 448845...  \n"
     ]
    }
   ],
   "source": [
    "invalid_geometries = provinces_sardinia[~provinces_sardinia.geometry.is_valid]\n",
    "print(\"Invalid geometries:\", invalid_geometries)"
   ]
  },
  {
   "cell_type": "code",
   "execution_count": 11,
   "metadata": {},
   "outputs": [
    {
     "name": "stdout",
     "output_type": "stream",
     "text": [
      "89     POINT (493391.881 4514124.554)\n",
      "106    POINT (485226.888 4360300.460)\n",
      "Name: geometry, dtype: geometry\n"
     ]
    }
   ],
   "source": [
    "from shapely.geometry import Point\n",
    "\n",
    "invalid_critical_points = invalid_geometries.geometry.apply(lambda geom: geom.representative_point())\n",
    "print(invalid_critical_points)"
   ]
  },
  {
   "cell_type": "code",
   "execution_count": 12,
   "metadata": {},
   "outputs": [
    {
     "name": "stdout",
     "output_type": "stream",
     "text": [
      "True\n"
     ]
    }
   ],
   "source": [
    "# create a copy of the GeoDataFrame to work on\n",
    "valid_provinces_sardinia = provinces_sardinia.copy()\n",
    "\n",
    "# apply buffer(0) to fix invalid geometries\n",
    "valid_provinces_sardinia.geometry = valid_provinces_sardinia.geometry.apply(lambda geom: geom.buffer(0))\n",
    "\n",
    "# check if geometries are now valid\n",
    "print(valid_provinces_sardinia.geometry.is_valid.all())"
   ]
  },
  {
   "cell_type": "code",
   "execution_count": 13,
   "metadata": {},
   "outputs": [
    {
     "data": {
      "image/png": "[encoded data removed]",
      "text/plain": [
       "<Figure size 500x500 with 1 Axes>"
      ]
     },
     "metadata": {},
     "output_type": "display_data"
    }
   ],
   "source": [
    "valid_provinces_sardinia.plot(figsize=(5,5))\n",
    "plt.show()"
   ]
  },
  {
   "cell_type": "code",
   "execution_count": 14,
   "metadata": {},
   "outputs": [],
   "source": [
    "valid_provinces_sardinia.to_crs(epsg=4326).to_file('../data/processed/provinces_sardinia.geojson', driver='GeoJSON')"
   ]
  },
  {
   "cell_type": "markdown",
   "metadata": {},
   "source": [
    "We're only interested in the province of Sassari, that includes the two airports of Olbia and Alghero."
   ]
  },
  {
   "cell_type": "markdown",
   "metadata": {},
   "source": [
    "Codice Provincia Sassari | 20"
   ]
  },
  {
   "cell_type": "code",
   "execution_count": 15,
   "metadata": {},
   "outputs": [],
   "source": [
    "sassari = valid_provinces_sardinia[valid_provinces_sardinia['COD_PROV']==90]"
   ]
  },
  {
   "cell_type": "code",
   "execution_count": 16,
   "metadata": {},
   "outputs": [
    {
     "data": {
      "image/png": "[encoded data removed]",
      "text/plain": [
       "<Figure size 500x500 with 1 Axes>"
      ]
     },
     "metadata": {},
     "output_type": "display_data"
    }
   ],
   "source": [
    "sassari.plot(figsize=(5,5))\n",
    "plt.show()"
   ]
  },
  {
   "cell_type": "code",
   "execution_count": 17,
   "metadata": {},
   "outputs": [
    {
     "data": {
      "text/plain": [
       "89    True\n",
       "dtype: bool"
      ]
     },
     "execution_count": 17,
     "metadata": {},
     "output_type": "execute_result"
    }
   ],
   "source": [
    "sassari.is_valid"
   ]
  },
  {
   "cell_type": "markdown",
   "metadata": {},
   "source": [
    "<center><i>Municipalities</center></i>"
   ]
  },
  {
   "cell_type": "code",
   "execution_count": 18,
   "metadata": {},
   "outputs": [],
   "source": [
    "# read the file\n",
    "municipalities = gpd.read_file('../data/raw/Limiti01012023/Com01012023/Com01012023_WGS84.shp')"
   ]
  },
  {
   "cell_type": "code",
   "execution_count": 19,
   "metadata": {},
   "outputs": [
    {
     "data": {
      "text/plain": [
       "geopandas.geodataframe.GeoDataFrame"
      ]
     },
     "execution_count": 19,
     "metadata": {},
     "output_type": "execute_result"
    }
   ],
   "source": [
    "type(municipalities)"
   ]
  },
  {
   "cell_type": "code",
   "execution_count": 20,
   "metadata": {},
   "outputs": [
    {
     "data": {
      "text/plain": [
       "Index(['COD_RIP', 'COD_REG', 'COD_PROV', 'COD_CM', 'COD_UTS', 'PRO_COM',\n",
       "       'PRO_COM_T', 'COMUNE', 'COMUNE_A', 'CC_UTS', 'SHAPE_LENG', 'Shape_Le_1',\n",
       "       'geometry'],\n",
       "      dtype='object')"
      ]
     },
     "execution_count": 20,
     "metadata": {},
     "output_type": "execute_result"
    }
   ],
   "source": [
    "municipalities.columns"
   ]
  },
  {
   "cell_type": "code",
   "execution_count": 21,
   "metadata": {},
   "outputs": [],
   "source": [
    "municipalities_sardinia = municipalities[municipalities['COD_REG']==20]"
   ]
  },
  {
   "cell_type": "code",
   "execution_count": 22,
   "metadata": {},
   "outputs": [
    {
     "name": "stdout",
     "output_type": "stream",
     "text": [
      "(377, 13)\n",
      "\n",
      "      COD_RIP  COD_REG  COD_PROV  COD_CM  COD_UTS  PRO_COM PRO_COM_T  \\\n",
      "2127        5       20       111       0      111   111073    111073   \n",
      "2128        5       20       111       0      111   111013    111013   \n",
      "7119        5       20        91       0       91    91090    091090   \n",
      "7120        5       20        92     292      292    92108    092108   \n",
      "7121        5       20        90       0       90    90007    090007   \n",
      "\n",
      "           COMUNE COMUNE_A  CC_UTS    SHAPE_LENG    Shape_Le_1  \\\n",
      "2127      Segariu      NaN       0  21228.531162  21228.359875   \n",
      "2128  Decimoputzu      NaN       0  32688.280519  32688.015036   \n",
      "7119         Teti      NaN       0  36056.577630  36056.293848   \n",
      "7120        Elmas      NaN       0  19642.743080  19642.583252   \n",
      "7121       Banari      NaN       0  22713.497329  22713.321753   \n",
      "\n",
      "                                               geometry  \n",
      "2127  POLYGON ((498451.490 4383062.591, 498472.490 4...  \n",
      "2128  POLYGON ((490998.550 4356382.807, 491044.550 4...  \n",
      "7119  POLYGON ((507150.421 4444690.100, 507130.422 4...  \n",
      "7120  POLYGON ((503018.453 4348360.872, 503093.452 4...  \n",
      "7121  POLYGON ((472024.694 4494517.709, 472059.693 4...  \n"
     ]
    }
   ],
   "source": [
    "print(municipalities_sardinia.shape)\n",
    "print('')\n",
    "print(municipalities_sardinia.head())"
   ]
  },
  {
   "cell_type": "code",
   "execution_count": 23,
   "metadata": {},
   "outputs": [
    {
     "name": "stdout",
     "output_type": "stream",
     "text": [
      "Invalid geometries:       COD_RIP  COD_REG  COD_PROV  COD_CM  COD_UTS  PRO_COM PRO_COM_T  \\\n",
      "7160        5       20        90       0       90    90035    090035   \n",
      "7352        5       20       111       0      111   111008    111008   \n",
      "\n",
      "            COMUNE COMUNE_A  CC_UTS     SHAPE_LENG     Shape_Le_1  \\\n",
      "7160  La Maddalena      NaN       0  230058.643574  230476.324644   \n",
      "7352     Calasetta      NaN       0   40283.781180   40283.448451   \n",
      "\n",
      "                                               geometry  \n",
      "7160  MULTIPOLYGON (((535015.464 4568699.891, 535043...  \n",
      "7352  POLYGON ((444974.054 4320617.720, 444979.678 4...  \n"
     ]
    }
   ],
   "source": [
    "invalid_geometries_municipalities = municipalities_sardinia[~municipalities_sardinia.geometry.is_valid]\n",
    "print(\"Invalid geometries:\", invalid_geometries_municipalities)"
   ]
  },
  {
   "cell_type": "code",
   "execution_count": 24,
   "metadata": {},
   "outputs": [
    {
     "name": "stdout",
     "output_type": "stream",
     "text": [
      "True\n"
     ]
    }
   ],
   "source": [
    "# create a copy of the GeoDataFrame to work on\n",
    "valid_municipalities_sardinia = municipalities_sardinia.copy()\n",
    "\n",
    "# apply buffer(0) to fix invalid geometries\n",
    "valid_municipalities_sardinia.geometry = valid_municipalities_sardinia.geometry.apply(lambda geom: geom.buffer(0))\n",
    "\n",
    "# check if geometries are now valid\n",
    "print(valid_municipalities_sardinia.geometry.is_valid.all())"
   ]
  },
  {
   "cell_type": "code",
   "execution_count": 25,
   "metadata": {},
   "outputs": [
    {
     "data": {
      "text/plain": [
       "2127                  Segariu\n",
       "2128              Decimoputzu\n",
       "7119                     Teti\n",
       "7120                    Elmas\n",
       "7121                   Banari\n",
       "                ...          \n",
       "7867                  Santadi\n",
       "7868                   TorpÃ¨\n",
       "7869    Loiri Porto San Paolo\n",
       "7870                    Setzu\n",
       "7871                Esporlatu\n",
       "Name: COMUNE, Length: 377, dtype: object"
      ]
     },
     "execution_count": 25,
     "metadata": {},
     "output_type": "execute_result"
    }
   ],
   "source": [
    "valid_municipalities_sardinia.COMUNE"
   ]
  },
  {
   "cell_type": "code",
   "execution_count": 26,
   "metadata": {},
   "outputs": [
    {
     "data": {
      "text/plain": [
       "2127    Polygon\n",
       "2128    Polygon\n",
       "7119    Polygon\n",
       "7120    Polygon\n",
       "7121    Polygon\n",
       "         ...   \n",
       "7867    Polygon\n",
       "7868    Polygon\n",
       "7869    Polygon\n",
       "7870    Polygon\n",
       "7871    Polygon\n",
       "Length: 377, dtype: object"
      ]
     },
     "execution_count": 26,
     "metadata": {},
     "output_type": "execute_result"
    }
   ],
   "source": [
    "valid_municipalities_sardinia.geom_type"
   ]
  },
  {
   "cell_type": "code",
   "execution_count": 27,
   "metadata": {},
   "outputs": [
    {
     "data": {
      "image/png": "[encoded data removed]",
      "text/plain": [
       "<Figure size 500x500 with 1 Axes>"
      ]
     },
     "metadata": {},
     "output_type": "display_data"
    }
   ],
   "source": [
    "valid_municipalities_sardinia.plot(figsize=(5,5))\n",
    "plt.show()"
   ]
  },
  {
   "cell_type": "code",
   "execution_count": 28,
   "metadata": {},
   "outputs": [],
   "source": [
    "municipalities_sassari = valid_municipalities_sardinia[valid_municipalities_sardinia['COD_PROV']==90]"
   ]
  },
  {
   "cell_type": "code",
   "execution_count": 29,
   "metadata": {},
   "outputs": [
    {
     "name": "stdout",
     "output_type": "stream",
     "text": [
      "Invalid geometries: Empty GeoDataFrame\n",
      "Columns: [COD_RIP, COD_REG, COD_PROV, COD_CM, COD_UTS, PRO_COM, PRO_COM_T, COMUNE, COMUNE_A, CC_UTS, SHAPE_LENG, Shape_Le_1, geometry]\n",
      "Index: []\n"
     ]
    }
   ],
   "source": [
    "invalid_geometries_municipalities_sassari = municipalities_sassari[~municipalities_sassari.geometry.is_valid]\n",
    "print(\"Invalid geometries:\", invalid_geometries_municipalities_sassari)"
   ]
  },
  {
   "cell_type": "code",
   "execution_count": 35,
   "metadata": {},
   "outputs": [
    {
     "data": {
      "image/png": "[encoded data removed]",
      "text/plain": [
       "<Figure size 500x500 with 1 Axes>"
      ]
     },
     "metadata": {},
     "output_type": "display_data"
    }
   ],
   "source": [
    "municipalities_sassari.plot(figsize=(5,5))\n",
    "plt.show()"
   ]
  },
  {
   "cell_type": "code",
   "execution_count": 31,
   "metadata": {},
   "outputs": [],
   "source": [
    "list_municipalities_sassari = municipalities_sassari.COMUNE.tolist()"
   ]
  },
  {
   "cell_type": "code",
   "execution_count": 32,
   "metadata": {},
   "outputs": [],
   "source": [
    "municipalities_sassari.to_crs(epsg=4326).to_file('../data/processed/municipalities_sassari.geojson', driver='GeoJSON')"
   ]
  },
  {
   "cell_type": "markdown",
   "metadata": {},
   "source": [
    "---"
   ]
  },
  {
   "cell_type": "markdown",
   "metadata": {},
   "source": [
    "**Arrival and Departure Bulletin for Airports and Ports in Sardinia**"
   ]
  },
  {
   "cell_type": "code",
   "execution_count": 33,
   "metadata": {},
   "outputs": [
    {
     "name": "stdout",
     "output_type": "stream",
     "text": [
      "(12147, 7)\n",
      "\n",
      "Index(['Data', 'Porto/Aeroporto', 'Nome', 'Arrivi di Linea',\n",
      "       'Arrivi non di Linea', 'Partenze di Linea', 'Partenze non di Linea'],\n",
      "      dtype='object')\n"
     ]
    }
   ],
   "source": [
    "# explore arrivals and departures data\n",
    "arrivals_departures_sardinia = pd.read_csv('../data/raw/bollettino_arrivi_partenze.csv', sep=';')\n",
    "\n",
    "print(arrivals_departures_sardinia.shape)\n",
    "print('')\n",
    "print(arrivals_departures_sardinia.columns)"
   ]
  },
  {
   "cell_type": "markdown",
   "metadata": {},
   "source": [
    "Il file contiene il dato giornaliero sugli arrivi e le partenze dai porti e dagli aeroporti della Sardegna. La fonte del dato è il sistema PMIS del Comando Generale delle Capitanerie di Porto per i dati relativi ai porti e le società di gestione aeroportuale per quelli relativi agli aeroporti.\n",
    "\n",
    "- *Data*: la data in formato aaaa-mm-gg\n",
    "- *Porto/Aeroporto*: indica se la riga si riferisce ad un porto o ad un aeroporto\n",
    "- *Nome*: il nome del porto o dell'aeroporto\n",
    "- *Arrivi*: numero di passeggeri arrivati\n",
    "- *Partenze*: numero di passeggeri partiti\n",
    "- *Totale*: la somma degli arrivi e delle partenze."
   ]
  },
  {
   "cell_type": "code",
   "execution_count": 34,
   "metadata": {},
   "outputs": [
    {
     "data": {
      "text/html": [
       "<div>\n",
       "<style scoped>\n",
       "    .dataframe tbody tr th:only-of-type {\n",
       "        vertical-align: middle;\n",
       "    }\n",
       "\n",
       "    .dataframe tbody tr th {\n",
       "        vertical-align: top;\n",
       "    }\n",
       "\n",
       "    .dataframe thead th {\n",
       "        text-align: right;\n",
       "    }\n",
       "</style>\n",
       "<table border=\"1\" class=\"dataframe\">\n",
       "  <thead>\n",
       "    <tr style=\"text-align: right;\">\n",
       "      <th></th>\n",
       "      <th>Data</th>\n",
       "      <th>Porto/Aeroporto</th>\n",
       "      <th>Nome</th>\n",
       "      <th>Arrivi di Linea</th>\n",
       "      <th>Arrivi non di Linea</th>\n",
       "      <th>Partenze di Linea</th>\n",
       "      <th>Partenze non di Linea</th>\n",
       "    </tr>\n",
       "  </thead>\n",
       "  <tbody>\n",
       "    <tr>\n",
       "      <th>0</th>\n",
       "      <td>2023/08/28</td>\n",
       "      <td>Porto</td>\n",
       "      <td>Olbia</td>\n",
       "      <td>0.0</td>\n",
       "      <td>13388.0</td>\n",
       "      <td>0.0</td>\n",
       "      <td>23239.0</td>\n",
       "    </tr>\n",
       "    <tr>\n",
       "      <th>1</th>\n",
       "      <td>2023/08/28</td>\n",
       "      <td>Porto</td>\n",
       "      <td>Cagliari</td>\n",
       "      <td>0.0</td>\n",
       "      <td>2.0</td>\n",
       "      <td>0.0</td>\n",
       "      <td>2221.0</td>\n",
       "    </tr>\n",
       "    <tr>\n",
       "      <th>2</th>\n",
       "      <td>2023/08/28</td>\n",
       "      <td>Aeroporto</td>\n",
       "      <td>Cagliari</td>\n",
       "      <td>7433.0</td>\n",
       "      <td>150.0</td>\n",
       "      <td>9280.0</td>\n",
       "      <td>8.0</td>\n",
       "    </tr>\n",
       "    <tr>\n",
       "      <th>3</th>\n",
       "      <td>2023/08/27</td>\n",
       "      <td>Porto</td>\n",
       "      <td>Porto Torres</td>\n",
       "      <td>0.0</td>\n",
       "      <td>3211.0</td>\n",
       "      <td>0.0</td>\n",
       "      <td>7464.0</td>\n",
       "    </tr>\n",
       "    <tr>\n",
       "      <th>4</th>\n",
       "      <td>2023/08/27</td>\n",
       "      <td>Porto</td>\n",
       "      <td>Olbia</td>\n",
       "      <td>0.0</td>\n",
       "      <td>10623.0</td>\n",
       "      <td>0.0</td>\n",
       "      <td>20170.0</td>\n",
       "    </tr>\n",
       "  </tbody>\n",
       "</table>\n",
       "</div>"
      ],
      "text/plain": [
       "         Data Porto/Aeroporto          Nome  Arrivi di Linea  \\\n",
       "0  2023/08/28           Porto         Olbia              0.0   \n",
       "1  2023/08/28           Porto      Cagliari              0.0   \n",
       "2  2023/08/28       Aeroporto      Cagliari           7433.0   \n",
       "3  2023/08/27           Porto  Porto Torres              0.0   \n",
       "4  2023/08/27           Porto         Olbia              0.0   \n",
       "\n",
       "   Arrivi non di Linea  Partenze di Linea  Partenze non di Linea  \n",
       "0              13388.0                0.0                23239.0  \n",
       "1                  2.0                0.0                 2221.0  \n",
       "2                150.0             9280.0                    8.0  \n",
       "3               3211.0                0.0                 7464.0  \n",
       "4              10623.0                0.0                20170.0  "
      ]
     },
     "execution_count": 34,
     "metadata": {},
     "output_type": "execute_result"
    }
   ],
   "source": [
    "arrivals_departures_sardinia.head()"
   ]
  },
  {
   "cell_type": "code",
   "execution_count": 35,
   "metadata": {},
   "outputs": [
    {
     "data": {
      "text/html": [
       "<div>\n",
       "<style scoped>\n",
       "    .dataframe tbody tr th:only-of-type {\n",
       "        vertical-align: middle;\n",
       "    }\n",
       "\n",
       "    .dataframe tbody tr th {\n",
       "        vertical-align: top;\n",
       "    }\n",
       "\n",
       "    .dataframe thead th {\n",
       "        text-align: right;\n",
       "    }\n",
       "</style>\n",
       "<table border=\"1\" class=\"dataframe\">\n",
       "  <thead>\n",
       "    <tr style=\"text-align: right;\">\n",
       "      <th></th>\n",
       "      <th>Data</th>\n",
       "      <th>Porto/Aeroporto</th>\n",
       "      <th>Nome</th>\n",
       "      <th>Arrivi di Linea</th>\n",
       "      <th>Arrivi non di Linea</th>\n",
       "      <th>Partenze di Linea</th>\n",
       "      <th>Partenze non di Linea</th>\n",
       "    </tr>\n",
       "  </thead>\n",
       "  <tbody>\n",
       "    <tr>\n",
       "      <th>12146</th>\n",
       "      <td>NaN</td>\n",
       "      <td>NaN</td>\n",
       "      <td>NaN</td>\n",
       "      <td>NaN</td>\n",
       "      <td>NaN</td>\n",
       "      <td>NaN</td>\n",
       "      <td>NaN</td>\n",
       "    </tr>\n",
       "  </tbody>\n",
       "</table>\n",
       "</div>"
      ],
      "text/plain": [
       "      Data Porto/Aeroporto Nome  Arrivi di Linea  Arrivi non di Linea  \\\n",
       "12146  NaN             NaN  NaN              NaN                  NaN   \n",
       "\n",
       "       Partenze di Linea  Partenze non di Linea  \n",
       "12146                NaN                    NaN  "
      ]
     },
     "execution_count": 35,
     "metadata": {},
     "output_type": "execute_result"
    }
   ],
   "source": [
    "# check for NaN\n",
    "arrivals_departures_sardinia[arrivals_departures_sardinia.isna().any(axis=1)]"
   ]
  },
  {
   "cell_type": "code",
   "execution_count": 36,
   "metadata": {},
   "outputs": [],
   "source": [
    "# remove NaN\n",
    "arrivals_departures_sardinia = arrivals_departures_sardinia.dropna()"
   ]
  },
  {
   "cell_type": "code",
   "execution_count": 37,
   "metadata": {},
   "outputs": [
    {
     "data": {
      "text/plain": [
       "Data                      object\n",
       "Porto/Aeroporto           object\n",
       "Nome                      object\n",
       "Arrivi di Linea          float64\n",
       "Arrivi non di Linea      float64\n",
       "Partenze di Linea        float64\n",
       "Partenze non di Linea    float64\n",
       "dtype: object"
      ]
     },
     "execution_count": 37,
     "metadata": {},
     "output_type": "execute_result"
    }
   ],
   "source": [
    "arrivals_departures_sardinia.dtypes"
   ]
  },
  {
   "cell_type": "code",
   "execution_count": 38,
   "metadata": {},
   "outputs": [],
   "source": [
    "arrivals_departures_sardinia['Data'] = pd.to_datetime(arrivals_departures_sardinia['Data'], format='%Y/%m/%d')"
   ]
  },
  {
   "cell_type": "code",
   "execution_count": 39,
   "metadata": {},
   "outputs": [],
   "source": [
    "# include only Olbia and Alghero's airports and ports\n",
    "values_to_select = ['Olbia', 'Alghero']\n",
    "arrivals_departures_sardinia = arrivals_departures_sardinia[arrivals_departures_sardinia['Nome'].isin(values_to_select)]"
   ]
  },
  {
   "cell_type": "code",
   "execution_count": 40,
   "metadata": {},
   "outputs": [
    {
     "data": {
      "text/html": [
       "<div>\n",
       "<style scoped>\n",
       "    .dataframe tbody tr th:only-of-type {\n",
       "        vertical-align: middle;\n",
       "    }\n",
       "\n",
       "    .dataframe tbody tr th {\n",
       "        vertical-align: top;\n",
       "    }\n",
       "\n",
       "    .dataframe thead th {\n",
       "        text-align: right;\n",
       "    }\n",
       "</style>\n",
       "<table border=\"1\" class=\"dataframe\">\n",
       "  <thead>\n",
       "    <tr style=\"text-align: right;\">\n",
       "      <th></th>\n",
       "      <th>Data</th>\n",
       "      <th>Porto/Aeroporto</th>\n",
       "      <th>Nome</th>\n",
       "      <th>Arrivi di Linea</th>\n",
       "      <th>Arrivi non di Linea</th>\n",
       "      <th>Partenze di Linea</th>\n",
       "      <th>Partenze non di Linea</th>\n",
       "    </tr>\n",
       "  </thead>\n",
       "  <tbody>\n",
       "    <tr>\n",
       "      <th>0</th>\n",
       "      <td>2023-08-28</td>\n",
       "      <td>Porto</td>\n",
       "      <td>Olbia</td>\n",
       "      <td>0.0</td>\n",
       "      <td>13388.0</td>\n",
       "      <td>0.0</td>\n",
       "      <td>23239.0</td>\n",
       "    </tr>\n",
       "    <tr>\n",
       "      <th>4</th>\n",
       "      <td>2023-08-27</td>\n",
       "      <td>Porto</td>\n",
       "      <td>Olbia</td>\n",
       "      <td>0.0</td>\n",
       "      <td>10623.0</td>\n",
       "      <td>0.0</td>\n",
       "      <td>20170.0</td>\n",
       "    </tr>\n",
       "    <tr>\n",
       "      <th>8</th>\n",
       "      <td>2023-08-27</td>\n",
       "      <td>Aeroporto</td>\n",
       "      <td>Olbia</td>\n",
       "      <td>9610.0</td>\n",
       "      <td>939.0</td>\n",
       "      <td>12841.0</td>\n",
       "      <td>1019.0</td>\n",
       "    </tr>\n",
       "    <tr>\n",
       "      <th>10</th>\n",
       "      <td>2023-08-27</td>\n",
       "      <td>Aeroporto</td>\n",
       "      <td>Alghero</td>\n",
       "      <td>2449.0</td>\n",
       "      <td>215.0</td>\n",
       "      <td>3433.0</td>\n",
       "      <td>203.0</td>\n",
       "    </tr>\n",
       "    <tr>\n",
       "      <th>12</th>\n",
       "      <td>2023-08-26</td>\n",
       "      <td>Porto</td>\n",
       "      <td>Olbia</td>\n",
       "      <td>0.0</td>\n",
       "      <td>12510.0</td>\n",
       "      <td>0.0</td>\n",
       "      <td>20887.0</td>\n",
       "    </tr>\n",
       "    <tr>\n",
       "      <th>...</th>\n",
       "      <td>...</td>\n",
       "      <td>...</td>\n",
       "      <td>...</td>\n",
       "      <td>...</td>\n",
       "      <td>...</td>\n",
       "      <td>...</td>\n",
       "      <td>...</td>\n",
       "    </tr>\n",
       "    <tr>\n",
       "      <th>12137</th>\n",
       "      <td>2019-01-02</td>\n",
       "      <td>Aeroporto</td>\n",
       "      <td>Olbia</td>\n",
       "      <td>1159.0</td>\n",
       "      <td>0.0</td>\n",
       "      <td>1509.0</td>\n",
       "      <td>0.0</td>\n",
       "    </tr>\n",
       "    <tr>\n",
       "      <th>12139</th>\n",
       "      <td>2019-01-02</td>\n",
       "      <td>Aeroporto</td>\n",
       "      <td>Alghero</td>\n",
       "      <td>1216.0</td>\n",
       "      <td>176.0</td>\n",
       "      <td>1379.0</td>\n",
       "      <td>17.0</td>\n",
       "    </tr>\n",
       "    <tr>\n",
       "      <th>12141</th>\n",
       "      <td>2019-01-01</td>\n",
       "      <td>Porto</td>\n",
       "      <td>Olbia</td>\n",
       "      <td>160.0</td>\n",
       "      <td>0.0</td>\n",
       "      <td>2120.0</td>\n",
       "      <td>0.0</td>\n",
       "    </tr>\n",
       "    <tr>\n",
       "      <th>12143</th>\n",
       "      <td>2019-01-01</td>\n",
       "      <td>Aeroporto</td>\n",
       "      <td>Olbia</td>\n",
       "      <td>800.0</td>\n",
       "      <td>0.0</td>\n",
       "      <td>1126.0</td>\n",
       "      <td>0.0</td>\n",
       "    </tr>\n",
       "    <tr>\n",
       "      <th>12145</th>\n",
       "      <td>2019-01-01</td>\n",
       "      <td>Aeroporto</td>\n",
       "      <td>Alghero</td>\n",
       "      <td>562.0</td>\n",
       "      <td>0.0</td>\n",
       "      <td>757.0</td>\n",
       "      <td>0.0</td>\n",
       "    </tr>\n",
       "  </tbody>\n",
       "</table>\n",
       "<p>4887 rows × 7 columns</p>\n",
       "</div>"
      ],
      "text/plain": [
       "            Data Porto/Aeroporto     Nome  Arrivi di Linea  \\\n",
       "0     2023-08-28           Porto    Olbia              0.0   \n",
       "4     2023-08-27           Porto    Olbia              0.0   \n",
       "8     2023-08-27       Aeroporto    Olbia           9610.0   \n",
       "10    2023-08-27       Aeroporto  Alghero           2449.0   \n",
       "12    2023-08-26           Porto    Olbia              0.0   \n",
       "...          ...             ...      ...              ...   \n",
       "12137 2019-01-02       Aeroporto    Olbia           1159.0   \n",
       "12139 2019-01-02       Aeroporto  Alghero           1216.0   \n",
       "12141 2019-01-01           Porto    Olbia            160.0   \n",
       "12143 2019-01-01       Aeroporto    Olbia            800.0   \n",
       "12145 2019-01-01       Aeroporto  Alghero            562.0   \n",
       "\n",
       "       Arrivi non di Linea  Partenze di Linea  Partenze non di Linea  \n",
       "0                  13388.0                0.0                23239.0  \n",
       "4                  10623.0                0.0                20170.0  \n",
       "8                    939.0            12841.0                 1019.0  \n",
       "10                   215.0             3433.0                  203.0  \n",
       "12                 12510.0                0.0                20887.0  \n",
       "...                    ...                ...                    ...  \n",
       "12137                  0.0             1509.0                    0.0  \n",
       "12139                176.0             1379.0                   17.0  \n",
       "12141                  0.0             2120.0                    0.0  \n",
       "12143                  0.0             1126.0                    0.0  \n",
       "12145                  0.0              757.0                    0.0  \n",
       "\n",
       "[4887 rows x 7 columns]"
      ]
     },
     "execution_count": 40,
     "metadata": {},
     "output_type": "execute_result"
    }
   ],
   "source": [
    "arrivals_departures_sardinia"
   ]
  },
  {
   "cell_type": "code",
   "execution_count": 41,
   "metadata": {},
   "outputs": [],
   "source": [
    "# save to csv\n",
    "arrivals_departures_sardinia.to_csv('../data/processed/arrivals_departures_sardinia.csv', index = False)"
   ]
  },
  {
   "cell_type": "code",
   "execution_count": 42,
   "metadata": {},
   "outputs": [
    {
     "name": "stdout",
     "output_type": "stream",
     "text": [
      "(3195, 7)\n"
     ]
    }
   ],
   "source": [
    "ad_airports = arrivals_departures_sardinia[arrivals_departures_sardinia['Porto/Aeroporto'] == 'Aeroporto']\n",
    "print(ad_airports.shape)\n",
    "# save to csv\n",
    "ad_airports.to_csv('../data/processed/ad_airports.csv', index = False)"
   ]
  },
  {
   "cell_type": "code",
   "execution_count": 43,
   "metadata": {},
   "outputs": [
    {
     "name": "stdout",
     "output_type": "stream",
     "text": [
      "(1692, 7)\n"
     ]
    }
   ],
   "source": [
    "ad_ports = arrivals_departures_sardinia[arrivals_departures_sardinia['Porto/Aeroporto'] == 'Porto']\n",
    "print(ad_ports.shape)\n",
    "# save to csv\n",
    "ad_ports.to_csv('../data/processed/ad_ports.csv', index = False)"
   ]
  },
  {
   "cell_type": "markdown",
   "metadata": {},
   "source": [
    "---"
   ]
  },
  {
   "cell_type": "markdown",
   "metadata": {},
   "source": [
    "**Passenger flows at Sardinia's airports**"
   ]
  },
  {
   "cell_type": "code",
   "execution_count": 44,
   "metadata": {},
   "outputs": [
    {
     "name": "stdout",
     "output_type": "stream",
     "text": [
      "(1704, 6)\n",
      "\n",
      "Index(['Aeroporto', 'Anno', 'Periodo', 'Zona', 'Pass_Arrivo', 'Pass_Partenza'], dtype='object')\n"
     ]
    }
   ],
   "source": [
    "# explore passenger flow data\n",
    "passenger_flows_airports_sardinia = pd.read_csv('../data/raw/flussi_passeggeri_aeroporti_sardegna.csv')\n",
    "\n",
    "print(passenger_flows_airports_sardinia.shape)\n",
    "print('')\n",
    "print(passenger_flows_airports_sardinia.columns)"
   ]
  },
  {
   "cell_type": "markdown",
   "metadata": {},
   "source": [
    "Il dataset è ottenuto dall’elaborazione dei giornali di scalo trasmessi alla Regione Sardegna dalle società di\n",
    "gestione degli aeroporti di Alghero, Cagliari ed Olbia.\n",
    "\n",
    "Il dataset contiene il numero di passeggeri in arrivo ed in partenza dagli aeroporti della Sardegna aggregati\n",
    "per aeroporto sardo di origine/destinazione, “zona” geografica di appartenenza dell’aeroporto di\n",
    "arrivo/partenza e per “periodo” di attività.\n",
    "\n",
    "Una “zona” è, nel caso di traffico nazionale, l’unione di più regioni italiane; nel caso invece di traffico\n",
    "internazionale è l’unione di più stati esteri come rappresentati nella tabella “zone”.\n",
    "\n",
    "Nel caso in cui nel campo “zona” appaia la stringa indicante la somma di più zone (ad esempio “03 + 04”) il\n",
    "valore dei campi passeggeri in arrivo ed in partenza è da considerarsi come la somma dei passeggeri\n",
    "originati o destinati alle due zone indicate. Tale assunto è necessario per restituire il dato anche nel caso in\n",
    "cui in una zona operi un unico vettore con un unico collegamento.\n",
    "\n",
    "Nel caso in cui tale assunzione non sia comunque efficace per tutelare la riservatezza commerciale del\n",
    "vettore il dato numerico non verrà pubblicato ma verrà sostituito da un asterisco “*”.\n",
    "\n",
    "Le statistiche riguardano solo i passeggeri trasportati da voli di linea e charter; non vengono presi in\n",
    "considerazione altri tipi di traffico come, ad esempio, postali, aerotaxi, aviazione generale."
   ]
  },
  {
   "cell_type": "markdown",
   "metadata": {},
   "source": [
    "I periodi sono così suddivisi:\n",
    "\n",
    "| Nome | Dal           | Al                |\n",
    "|------|---------------|-------------------|\n",
    "| W1   | Inizio ora solare<br>(ultima domenica di Ottobre) | 31 Dicembre    |\n",
    "| W2   | 1 Gennaio     | Fine ora solare<br>(sabato prima dell’ultima domenica di Marzo) |\n",
    "| S1   | Inizio ora legale<br>(ultima domenica di Marzo)   | 31 Maggio      |\n",
    "| S2   | 1 Giugno      | 30 Giugno         |\n",
    "| S3   | 1 Luglio      | 31 Luglio         |\n",
    "| S4   | 1 Agosto      | 31 Agosto         |\n",
    "| S5   | 1 Settembre   | Fine ora legale<br>(sabato prima dell’ultima domenica di Ottobre) |"
   ]
  },
  {
   "cell_type": "markdown",
   "metadata": {},
   "source": [
    "**Passeggeri**\n",
    "\n",
    "| Campo         | Formato   | Significato                                     |\n",
    "|---------------|-----------|-------------------------------------------------|\n",
    "| Aeroporto     | Stringa   | L’aeroporto di riferimento                      |\n",
    "| Anno          | Stringa   | L’anno di riferimento                          |\n",
    "| Periodo       | Stringa   | (-> periodo)                                    |\n",
    "| ID_zona       | Numerico  | (-> zone)                                       |\n",
    "| Pass_arrivo   | Numerico  | Il totale passeggeri in arrivo                 |\n",
    "| Pass_partenza | Numerico  | Il totale passeggeri in partenza               |\n",
    "\n",
    "**Zone**\n",
    "\n",
    "| Campo    | Formato   | Significato                            |\n",
    "|----------|-----------|----------------------------------------|\n",
    "| Paese    | Stringa   | Nome del paese                         |\n",
    "| Regione  | Stringa   | Nome della regione                     |\n",
    "| ISO2     | Stringa   | Codice ISO biletterale del paese       |\n",
    "| ID_zona  | Numerico  | Identificativo zona                    |"
   ]
  },
  {
   "cell_type": "code",
   "execution_count": 45,
   "metadata": {},
   "outputs": [
    {
     "data": {
      "text/html": [
       "<div>\n",
       "<style scoped>\n",
       "    .dataframe tbody tr th:only-of-type {\n",
       "        vertical-align: middle;\n",
       "    }\n",
       "\n",
       "    .dataframe tbody tr th {\n",
       "        vertical-align: top;\n",
       "    }\n",
       "\n",
       "    .dataframe thead th {\n",
       "        text-align: right;\n",
       "    }\n",
       "</style>\n",
       "<table border=\"1\" class=\"dataframe\">\n",
       "  <thead>\n",
       "    <tr style=\"text-align: right;\">\n",
       "      <th></th>\n",
       "      <th>Aeroporto</th>\n",
       "      <th>Anno</th>\n",
       "      <th>Periodo</th>\n",
       "      <th>Zona</th>\n",
       "      <th>Pass_Arrivo</th>\n",
       "      <th>Pass_Partenza</th>\n",
       "    </tr>\n",
       "  </thead>\n",
       "  <tbody>\n",
       "    <tr>\n",
       "      <th>0</th>\n",
       "      <td>Alghero</td>\n",
       "      <td>2023</td>\n",
       "      <td>S1</td>\n",
       "      <td>02</td>\n",
       "      <td>54822</td>\n",
       "      <td>51636</td>\n",
       "    </tr>\n",
       "    <tr>\n",
       "      <th>1</th>\n",
       "      <td>Alghero</td>\n",
       "      <td>2023</td>\n",
       "      <td>S1</td>\n",
       "      <td>13 + 14</td>\n",
       "      <td>15010</td>\n",
       "      <td>13877</td>\n",
       "    </tr>\n",
       "    <tr>\n",
       "      <th>2</th>\n",
       "      <td>Alghero</td>\n",
       "      <td>2023</td>\n",
       "      <td>S1</td>\n",
       "      <td>03 + 04</td>\n",
       "      <td>44246</td>\n",
       "      <td>43130</td>\n",
       "    </tr>\n",
       "    <tr>\n",
       "      <th>3</th>\n",
       "      <td>Alghero</td>\n",
       "      <td>2023</td>\n",
       "      <td>S1</td>\n",
       "      <td>12</td>\n",
       "      <td>11455</td>\n",
       "      <td>9874</td>\n",
       "    </tr>\n",
       "    <tr>\n",
       "      <th>4</th>\n",
       "      <td>Alghero</td>\n",
       "      <td>2023</td>\n",
       "      <td>S1</td>\n",
       "      <td>11</td>\n",
       "      <td>7994</td>\n",
       "      <td>7596</td>\n",
       "    </tr>\n",
       "  </tbody>\n",
       "</table>\n",
       "</div>"
      ],
      "text/plain": [
       "  Aeroporto  Anno Periodo     Zona  Pass_Arrivo  Pass_Partenza\n",
       "0   Alghero  2023      S1       02        54822          51636\n",
       "1   Alghero  2023      S1  13 + 14        15010          13877\n",
       "2   Alghero  2023      S1  03 + 04        44246          43130\n",
       "3   Alghero  2023      S1       12        11455           9874\n",
       "4   Alghero  2023      S1       11         7994           7596"
      ]
     },
     "execution_count": 45,
     "metadata": {},
     "output_type": "execute_result"
    }
   ],
   "source": [
    "passenger_flows_airports_sardinia.head()"
   ]
  },
  {
   "cell_type": "code",
   "execution_count": 46,
   "metadata": {},
   "outputs": [
    {
     "data": {
      "text/html": [
       "<div>\n",
       "<style scoped>\n",
       "    .dataframe tbody tr th:only-of-type {\n",
       "        vertical-align: middle;\n",
       "    }\n",
       "\n",
       "    .dataframe tbody tr th {\n",
       "        vertical-align: top;\n",
       "    }\n",
       "\n",
       "    .dataframe thead th {\n",
       "        text-align: right;\n",
       "    }\n",
       "</style>\n",
       "<table border=\"1\" class=\"dataframe\">\n",
       "  <thead>\n",
       "    <tr style=\"text-align: right;\">\n",
       "      <th></th>\n",
       "      <th>Aeroporto</th>\n",
       "      <th>Anno</th>\n",
       "      <th>Periodo</th>\n",
       "      <th>Zona</th>\n",
       "      <th>Pass_Arrivo</th>\n",
       "      <th>Pass_Partenza</th>\n",
       "    </tr>\n",
       "  </thead>\n",
       "  <tbody>\n",
       "  </tbody>\n",
       "</table>\n",
       "</div>"
      ],
      "text/plain": [
       "Empty DataFrame\n",
       "Columns: [Aeroporto, Anno, Periodo, Zona, Pass_Arrivo, Pass_Partenza]\n",
       "Index: []"
      ]
     },
     "execution_count": 46,
     "metadata": {},
     "output_type": "execute_result"
    }
   ],
   "source": [
    "# check for NaN\n",
    "passenger_flows_airports_sardinia[passenger_flows_airports_sardinia.isna().any(axis=1)]"
   ]
  },
  {
   "cell_type": "code",
   "execution_count": 47,
   "metadata": {},
   "outputs": [
    {
     "data": {
      "text/plain": [
       "Aeroporto        object\n",
       "Anno              int64\n",
       "Periodo          object\n",
       "Zona             object\n",
       "Pass_Arrivo       int64\n",
       "Pass_Partenza     int64\n",
       "dtype: object"
      ]
     },
     "execution_count": 47,
     "metadata": {},
     "output_type": "execute_result"
    }
   ],
   "source": [
    "passenger_flows_airports_sardinia.dtypes"
   ]
  },
  {
   "cell_type": "code",
   "execution_count": 48,
   "metadata": {},
   "outputs": [],
   "source": [
    "# include only Olbia and Alghero's airports\n",
    "values_to_select = ['Olbia', 'Alghero']\n",
    "passenger_flows_airports_sardinia = passenger_flows_airports_sardinia[passenger_flows_airports_sardinia['Aeroporto'].isin(values_to_select)]"
   ]
  },
  {
   "cell_type": "code",
   "execution_count": 49,
   "metadata": {},
   "outputs": [],
   "source": [
    "# save to csv\n",
    "passenger_flows_airports_sardinia.to_csv('../data/processed/passenger_flows_airports_sardinia.csv', index = False)"
   ]
  },
  {
   "cell_type": "markdown",
   "metadata": {},
   "source": [
    "**Origin and Destination Zones of Passengers**"
   ]
  },
  {
   "cell_type": "code",
   "execution_count": 50,
   "metadata": {},
   "outputs": [
    {
     "name": "stdout",
     "output_type": "stream",
     "text": [
      "(37, 4)\n",
      "\n",
      "Index(['Paese', 'ISO2', 'regione', 'ID_zona'], dtype='object')\n"
     ]
    }
   ],
   "source": [
    "# explore passenger zones data\n",
    "passengers_zones = pd.read_csv('../data/raw/zone_provenienza_destinazione_passeggeri.csv')\n",
    "\n",
    "print(passengers_zones.shape)\n",
    "print('')\n",
    "print(passengers_zones.columns)"
   ]
  },
  {
   "cell_type": "code",
   "execution_count": 51,
   "metadata": {},
   "outputs": [
    {
     "data": {
      "text/html": [
       "<div>\n",
       "<style scoped>\n",
       "    .dataframe tbody tr th:only-of-type {\n",
       "        vertical-align: middle;\n",
       "    }\n",
       "\n",
       "    .dataframe tbody tr th {\n",
       "        vertical-align: top;\n",
       "    }\n",
       "\n",
       "    .dataframe thead th {\n",
       "        text-align: right;\n",
       "    }\n",
       "</style>\n",
       "<table border=\"1\" class=\"dataframe\">\n",
       "  <thead>\n",
       "    <tr style=\"text-align: right;\">\n",
       "      <th></th>\n",
       "      <th>Paese</th>\n",
       "      <th>ISO2</th>\n",
       "      <th>regione</th>\n",
       "      <th>ID_zona</th>\n",
       "    </tr>\n",
       "  </thead>\n",
       "  <tbody>\n",
       "    <tr>\n",
       "      <th>0</th>\n",
       "      <td>Italia</td>\n",
       "      <td>IT</td>\n",
       "      <td>Sardegna</td>\n",
       "      <td>1</td>\n",
       "    </tr>\n",
       "    <tr>\n",
       "      <th>1</th>\n",
       "      <td>Italia</td>\n",
       "      <td>IT</td>\n",
       "      <td>Friuli-Venezia Giulia</td>\n",
       "      <td>2</td>\n",
       "    </tr>\n",
       "    <tr>\n",
       "      <th>2</th>\n",
       "      <td>Italia</td>\n",
       "      <td>IT</td>\n",
       "      <td>Liguria</td>\n",
       "      <td>2</td>\n",
       "    </tr>\n",
       "    <tr>\n",
       "      <th>3</th>\n",
       "      <td>Italia</td>\n",
       "      <td>IT</td>\n",
       "      <td>Lombardia</td>\n",
       "      <td>2</td>\n",
       "    </tr>\n",
       "    <tr>\n",
       "      <th>4</th>\n",
       "      <td>Italia</td>\n",
       "      <td>IT</td>\n",
       "      <td>Piemonte</td>\n",
       "      <td>2</td>\n",
       "    </tr>\n",
       "  </tbody>\n",
       "</table>\n",
       "</div>"
      ],
      "text/plain": [
       "    Paese ISO2                regione  ID_zona\n",
       "0  Italia   IT               Sardegna        1\n",
       "1  Italia   IT  Friuli-Venezia Giulia        2\n",
       "2  Italia   IT                Liguria        2\n",
       "3  Italia   IT              Lombardia        2\n",
       "4  Italia   IT               Piemonte        2"
      ]
     },
     "execution_count": 51,
     "metadata": {},
     "output_type": "execute_result"
    }
   ],
   "source": [
    "passengers_zones.head()"
   ]
  },
  {
   "cell_type": "code",
   "execution_count": 52,
   "metadata": {},
   "outputs": [
    {
     "data": {
      "text/html": [
       "<div>\n",
       "<style scoped>\n",
       "    .dataframe tbody tr th:only-of-type {\n",
       "        vertical-align: middle;\n",
       "    }\n",
       "\n",
       "    .dataframe tbody tr th {\n",
       "        vertical-align: top;\n",
       "    }\n",
       "\n",
       "    .dataframe thead th {\n",
       "        text-align: right;\n",
       "    }\n",
       "</style>\n",
       "<table border=\"1\" class=\"dataframe\">\n",
       "  <thead>\n",
       "    <tr style=\"text-align: right;\">\n",
       "      <th></th>\n",
       "      <th>Paese</th>\n",
       "      <th>ISO2</th>\n",
       "      <th>regione</th>\n",
       "      <th>ID_zona</th>\n",
       "    </tr>\n",
       "  </thead>\n",
       "  <tbody>\n",
       "  </tbody>\n",
       "</table>\n",
       "</div>"
      ],
      "text/plain": [
       "Empty DataFrame\n",
       "Columns: [Paese, ISO2, regione, ID_zona]\n",
       "Index: []"
      ]
     },
     "execution_count": 52,
     "metadata": {},
     "output_type": "execute_result"
    }
   ],
   "source": [
    "# check for NaN\n",
    "passengers_zones[passengers_zones.isna().any(axis=1)]"
   ]
  },
  {
   "cell_type": "code",
   "execution_count": 53,
   "metadata": {},
   "outputs": [
    {
     "data": {
      "text/plain": [
       "Paese      object\n",
       "ISO2       object\n",
       "regione    object\n",
       "ID_zona     int64\n",
       "dtype: object"
      ]
     },
     "execution_count": 53,
     "metadata": {},
     "output_type": "execute_result"
    }
   ],
   "source": [
    "passengers_zones.dtypes"
   ]
  },
  {
   "cell_type": "code",
   "execution_count": 54,
   "metadata": {},
   "outputs": [],
   "source": [
    "# save to csv\n",
    "passengers_zones.to_csv('../data/processed/passengers_zones.csv', index = False)"
   ]
  },
  {
   "cell_type": "markdown",
   "metadata": {},
   "source": [
    "---"
   ]
  },
  {
   "cell_type": "markdown",
   "metadata": {},
   "source": [
    "**Public Transports Sardinia**"
   ]
  },
  {
   "cell_type": "code",
   "execution_count": 55,
   "metadata": {},
   "outputs": [
    {
     "name": "stdout",
     "output_type": "stream",
     "text": [
      "(7498, 9)\n",
      "\n",
      "Index(['stop_id', 'stop_code', 'stop_name', 'stop_desc', 'stop_lat',\n",
      "       'stop_lon', 'stop_comune', 'wheelchair_boarding', 'stop_type'],\n",
      "      dtype='object')\n"
     ]
    }
   ],
   "source": [
    "# explore public transports data\n",
    "stops_sardinia = pd.read_csv('../data/raw/fermate_sardegna.csv', sep = ';')\n",
    "\n",
    "print(stops_sardinia.shape)\n",
    "print('')\n",
    "print(stops_sardinia.columns)"
   ]
  },
  {
   "cell_type": "code",
   "execution_count": 56,
   "metadata": {},
   "outputs": [
    {
     "data": {
      "text/html": [
       "<div>\n",
       "<style scoped>\n",
       "    .dataframe tbody tr th:only-of-type {\n",
       "        vertical-align: middle;\n",
       "    }\n",
       "\n",
       "    .dataframe tbody tr th {\n",
       "        vertical-align: top;\n",
       "    }\n",
       "\n",
       "    .dataframe thead th {\n",
       "        text-align: right;\n",
       "    }\n",
       "</style>\n",
       "<table border=\"1\" class=\"dataframe\">\n",
       "  <thead>\n",
       "    <tr style=\"text-align: right;\">\n",
       "      <th></th>\n",
       "      <th>stop_id</th>\n",
       "      <th>stop_code</th>\n",
       "      <th>stop_name</th>\n",
       "      <th>stop_desc</th>\n",
       "      <th>stop_lat</th>\n",
       "      <th>stop_lon</th>\n",
       "      <th>stop_comune</th>\n",
       "      <th>wheelchair_boarding</th>\n",
       "      <th>stop_type</th>\n",
       "    </tr>\n",
       "  </thead>\n",
       "  <tbody>\n",
       "    <tr>\n",
       "      <th>0</th>\n",
       "      <td>IM0099</td>\n",
       "      <td>0099</td>\n",
       "      <td>Fermata di Is Mirrionis (Ospedale)</td>\n",
       "      <td>NaN</td>\n",
       "      <td>39.236159</td>\n",
       "      <td>9.107707</td>\n",
       "      <td>CAGLIARI</td>\n",
       "      <td>0.0</td>\n",
       "      <td>Fermata Autobus</td>\n",
       "    </tr>\n",
       "    <tr>\n",
       "      <th>1</th>\n",
       "      <td>ATPSS_455</td>\n",
       "      <td>455</td>\n",
       "      <td>Fermata di Via De Cupis 32</td>\n",
       "      <td>NaN</td>\n",
       "      <td>40.761698</td>\n",
       "      <td>8.500294</td>\n",
       "      <td>SASSARI</td>\n",
       "      <td>NaN</td>\n",
       "      <td>Fermata Autobus</td>\n",
       "    </tr>\n",
       "    <tr>\n",
       "      <th>2</th>\n",
       "      <td>B_4777</td>\n",
       "      <td>4777</td>\n",
       "      <td>Fermata di VIA SARTIGLIA ANG GR.CONTADINI</td>\n",
       "      <td>NaN</td>\n",
       "      <td>39.890200</td>\n",
       "      <td>8.602400</td>\n",
       "      <td>ORISTANO</td>\n",
       "      <td>NaN</td>\n",
       "      <td>Fermata Autobus</td>\n",
       "    </tr>\n",
       "    <tr>\n",
       "      <th>3</th>\n",
       "      <td>ASPO1051</td>\n",
       "      <td>ASPO1051</td>\n",
       "      <td>Fermata di 1051 - Colcò agraria</td>\n",
       "      <td>NaN</td>\n",
       "      <td>40.905960</td>\n",
       "      <td>9.501480</td>\n",
       "      <td>OLBIA</td>\n",
       "      <td>NaN</td>\n",
       "      <td>Fermata Autobus</td>\n",
       "    </tr>\n",
       "    <tr>\n",
       "      <th>4</th>\n",
       "      <td>B_1514</td>\n",
       "      <td>1514</td>\n",
       "      <td>Fermata di SS 126 SA STROVINA</td>\n",
       "      <td>NaN</td>\n",
       "      <td>39.509172</td>\n",
       "      <td>8.555325</td>\n",
       "      <td>ARBUS</td>\n",
       "      <td>NaN</td>\n",
       "      <td>Fermata Autobus</td>\n",
       "    </tr>\n",
       "  </tbody>\n",
       "</table>\n",
       "</div>"
      ],
      "text/plain": [
       "     stop_id stop_code                                  stop_name stop_desc  \\\n",
       "0     IM0099      0099         Fermata di Is Mirrionis (Ospedale)       NaN   \n",
       "1  ATPSS_455       455                 Fermata di Via De Cupis 32       NaN   \n",
       "2     B_4777      4777  Fermata di VIA SARTIGLIA ANG GR.CONTADINI       NaN   \n",
       "3   ASPO1051  ASPO1051            Fermata di 1051 - Colcò agraria       NaN   \n",
       "4     B_1514      1514              Fermata di SS 126 SA STROVINA       NaN   \n",
       "\n",
       "    stop_lat  stop_lon stop_comune  wheelchair_boarding        stop_type  \n",
       "0  39.236159  9.107707    CAGLIARI                  0.0  Fermata Autobus  \n",
       "1  40.761698  8.500294     SASSARI                  NaN  Fermata Autobus  \n",
       "2  39.890200  8.602400    ORISTANO                  NaN  Fermata Autobus  \n",
       "3  40.905960  9.501480       OLBIA                  NaN  Fermata Autobus  \n",
       "4  39.509172  8.555325       ARBUS                  NaN  Fermata Autobus  "
      ]
     },
     "execution_count": 56,
     "metadata": {},
     "output_type": "execute_result"
    }
   ],
   "source": [
    "stops_sardinia.head()"
   ]
  },
  {
   "cell_type": "markdown",
   "metadata": {},
   "source": [
    "Remove wheelchair_boarding, stop_code, and stop_desc because of lack of information."
   ]
  },
  {
   "cell_type": "code",
   "execution_count": 57,
   "metadata": {},
   "outputs": [],
   "source": [
    "stops_sardinia = stops_sardinia[['stop_id', 'stop_name', 'stop_lat',\n",
    "       'stop_lon', 'stop_comune', 'stop_type']]"
   ]
  },
  {
   "cell_type": "code",
   "execution_count": 58,
   "metadata": {},
   "outputs": [
    {
     "data": {
      "text/html": [
       "<div>\n",
       "<style scoped>\n",
       "    .dataframe tbody tr th:only-of-type {\n",
       "        vertical-align: middle;\n",
       "    }\n",
       "\n",
       "    .dataframe tbody tr th {\n",
       "        vertical-align: top;\n",
       "    }\n",
       "\n",
       "    .dataframe thead th {\n",
       "        text-align: right;\n",
       "    }\n",
       "</style>\n",
       "<table border=\"1\" class=\"dataframe\">\n",
       "  <thead>\n",
       "    <tr style=\"text-align: right;\">\n",
       "      <th></th>\n",
       "      <th>stop_id</th>\n",
       "      <th>stop_name</th>\n",
       "      <th>stop_lat</th>\n",
       "      <th>stop_lon</th>\n",
       "      <th>stop_comune</th>\n",
       "      <th>stop_type</th>\n",
       "    </tr>\n",
       "  </thead>\n",
       "  <tbody>\n",
       "  </tbody>\n",
       "</table>\n",
       "</div>"
      ],
      "text/plain": [
       "Empty DataFrame\n",
       "Columns: [stop_id, stop_name, stop_lat, stop_lon, stop_comune, stop_type]\n",
       "Index: []"
      ]
     },
     "execution_count": 58,
     "metadata": {},
     "output_type": "execute_result"
    }
   ],
   "source": [
    "# check for NaN\n",
    "stops_sardinia[stops_sardinia.isna().any(axis=1)]"
   ]
  },
  {
   "cell_type": "code",
   "execution_count": 59,
   "metadata": {},
   "outputs": [
    {
     "data": {
      "text/plain": [
       "stop_id         object\n",
       "stop_name       object\n",
       "stop_lat       float64\n",
       "stop_lon       float64\n",
       "stop_comune     object\n",
       "stop_type       object\n",
       "dtype: object"
      ]
     },
     "execution_count": 59,
     "metadata": {},
     "output_type": "execute_result"
    }
   ],
   "source": [
    "stops_sardinia.dtypes"
   ]
  },
  {
   "cell_type": "code",
   "execution_count": 60,
   "metadata": {},
   "outputs": [
    {
     "data": {
      "text/plain": [
       "['Banari',\n",
       " 'Burgos',\n",
       " 'Padria',\n",
       " 'Monteleone Rocca Doria',\n",
       " 'Cossoine',\n",
       " 'Santa Maria Coghinas',\n",
       " 'Laerru',\n",
       " 'Ozieri',\n",
       " 'La Maddalena',\n",
       " 'Bulzi',\n",
       " 'Alghero',\n",
       " 'Telti',\n",
       " 'Golfo Aranci',\n",
       " \"Sant'Antonio di Gallura\",\n",
       " 'Nulvi',\n",
       " 'Uri',\n",
       " 'Benetutti',\n",
       " 'Budoni',\n",
       " 'Bultei',\n",
       " 'Villanova Monteleone',\n",
       " 'Pozzomaggiore',\n",
       " 'Sassari',\n",
       " 'Tergu',\n",
       " 'Olbia',\n",
       " 'Stintino',\n",
       " 'Florinas',\n",
       " 'Badesi',\n",
       " 'Semestene',\n",
       " 'Palau',\n",
       " 'Muros',\n",
       " 'Valledoria',\n",
       " 'Tempio Pausania',\n",
       " 'Aglientu',\n",
       " 'Tula',\n",
       " 'Borutta',\n",
       " 'Santa Teresa Gallura',\n",
       " 'Sedini',\n",
       " 'Giave',\n",
       " 'Ardara',\n",
       " 'Martis',\n",
       " 'Osilo',\n",
       " 'Viddalba',\n",
       " 'Monti',\n",
       " 'Torralba',\n",
       " 'Erula',\n",
       " 'Thiesi',\n",
       " 'Mores',\n",
       " 'Bessude',\n",
       " 'Berchidda',\n",
       " 'Chiaramonti',\n",
       " 'Sorso',\n",
       " 'Ittiri',\n",
       " 'Cheremule',\n",
       " 'Usini',\n",
       " 'Putifigari',\n",
       " 'Arzachena',\n",
       " 'San Teodoro',\n",
       " 'Ossi',\n",
       " 'Calangianus',\n",
       " 'Nughedu San NicolÃ²',\n",
       " 'AlÃ\\xa0 dei Sardi',\n",
       " 'Aggius',\n",
       " 'Bortigiadas',\n",
       " 'Nule',\n",
       " 'Codrongianos',\n",
       " 'Porto Torres',\n",
       " 'Tissi',\n",
       " 'Olmedo',\n",
       " 'Bonorva',\n",
       " 'Padru',\n",
       " 'Bono',\n",
       " 'Anela',\n",
       " 'Oschiri',\n",
       " 'Luogosanto',\n",
       " 'Pattada',\n",
       " 'Bonnanaro',\n",
       " 'Luras',\n",
       " 'Cargeghe',\n",
       " 'Sennori',\n",
       " 'Ploaghe',\n",
       " 'Romana',\n",
       " 'Castelsardo',\n",
       " 'Bottidda',\n",
       " 'Ittireddu',\n",
       " \"TrinitÃ\\xa0 d'Agultu e Vignola\",\n",
       " 'BuddusÃ²',\n",
       " 'Illorai',\n",
       " 'Perfugas',\n",
       " 'Mara',\n",
       " 'Siligo',\n",
       " 'Loiri Porto San Paolo',\n",
       " 'Esporlatu']"
      ]
     },
     "execution_count": 60,
     "metadata": {},
     "output_type": "execute_result"
    }
   ],
   "source": [
    "list_municipalities_sassari"
   ]
  },
  {
   "cell_type": "code",
   "execution_count": 61,
   "metadata": {},
   "outputs": [],
   "source": [
    "uppercase_list_municipalities_sassari = [item.upper() for item in list_municipalities_sassari]"
   ]
  },
  {
   "cell_type": "code",
   "execution_count": 62,
   "metadata": {},
   "outputs": [],
   "source": [
    "# select only stops in Sassari\n",
    "stops_sassari = stops_sardinia[stops_sardinia['stop_comune'].isin(uppercase_list_municipalities_sassari)]"
   ]
  },
  {
   "cell_type": "code",
   "execution_count": 63,
   "metadata": {},
   "outputs": [],
   "source": [
    "# save to csv\n",
    "stops_sassari.to_csv('../data/processed/stops_sassari.csv', index = False)"
   ]
  },
  {
   "cell_type": "markdown",
   "metadata": {},
   "source": [
    "---"
   ]
  },
  {
   "cell_type": "markdown",
   "metadata": {},
   "source": [
    "**Resident population in Sardinia**"
   ]
  },
  {
   "cell_type": "code",
   "execution_count": 64,
   "metadata": {},
   "outputs": [
    {
     "name": "stdout",
     "output_type": "stream",
     "text": [
      "(92, 2)\n",
      "\n",
      "Index(['Comune', 'Popolazione'], dtype='object')\n"
     ]
    }
   ],
   "source": [
    "# explore population data\n",
    "population_sassari = pd.read_csv('../data/raw/popolazione_residente_sassari-2023.csv', sep=';')\n",
    "\n",
    "print(population_sassari.shape)\n",
    "print('')\n",
    "print(population_sassari.columns)"
   ]
  },
  {
   "cell_type": "code",
   "execution_count": 65,
   "metadata": {},
   "outputs": [
    {
     "data": {
      "text/html": [
       "<div>\n",
       "<style scoped>\n",
       "    .dataframe tbody tr th:only-of-type {\n",
       "        vertical-align: middle;\n",
       "    }\n",
       "\n",
       "    .dataframe tbody tr th {\n",
       "        vertical-align: top;\n",
       "    }\n",
       "\n",
       "    .dataframe thead th {\n",
       "        text-align: right;\n",
       "    }\n",
       "</style>\n",
       "<table border=\"1\" class=\"dataframe\">\n",
       "  <thead>\n",
       "    <tr style=\"text-align: right;\">\n",
       "      <th></th>\n",
       "      <th>Comune</th>\n",
       "      <th>Popolazione</th>\n",
       "    </tr>\n",
       "  </thead>\n",
       "  <tbody>\n",
       "    <tr>\n",
       "      <th>0</th>\n",
       "      <td>Aggius</td>\n",
       "      <td>1403</td>\n",
       "    </tr>\n",
       "    <tr>\n",
       "      <th>1</th>\n",
       "      <td>Aglientu</td>\n",
       "      <td>1169</td>\n",
       "    </tr>\n",
       "    <tr>\n",
       "      <th>2</th>\n",
       "      <td>Alà dei Sardi</td>\n",
       "      <td>1760</td>\n",
       "    </tr>\n",
       "    <tr>\n",
       "      <th>3</th>\n",
       "      <td>Alghero</td>\n",
       "      <td>42380</td>\n",
       "    </tr>\n",
       "    <tr>\n",
       "      <th>4</th>\n",
       "      <td>Anela</td>\n",
       "      <td>567</td>\n",
       "    </tr>\n",
       "  </tbody>\n",
       "</table>\n",
       "</div>"
      ],
      "text/plain": [
       "          Comune  Popolazione\n",
       "0         Aggius         1403\n",
       "1       Aglientu         1169\n",
       "2  Alà dei Sardi         1760\n",
       "3        Alghero        42380\n",
       "4          Anela          567"
      ]
     },
     "execution_count": 65,
     "metadata": {},
     "output_type": "execute_result"
    }
   ],
   "source": [
    "population_sassari.head()"
   ]
  },
  {
   "cell_type": "code",
   "execution_count": 66,
   "metadata": {},
   "outputs": [
    {
     "data": {
      "text/html": [
       "<div>\n",
       "<style scoped>\n",
       "    .dataframe tbody tr th:only-of-type {\n",
       "        vertical-align: middle;\n",
       "    }\n",
       "\n",
       "    .dataframe tbody tr th {\n",
       "        vertical-align: top;\n",
       "    }\n",
       "\n",
       "    .dataframe thead th {\n",
       "        text-align: right;\n",
       "    }\n",
       "</style>\n",
       "<table border=\"1\" class=\"dataframe\">\n",
       "  <thead>\n",
       "    <tr style=\"text-align: right;\">\n",
       "      <th></th>\n",
       "      <th>Comune</th>\n",
       "      <th>Popolazione</th>\n",
       "    </tr>\n",
       "  </thead>\n",
       "  <tbody>\n",
       "  </tbody>\n",
       "</table>\n",
       "</div>"
      ],
      "text/plain": [
       "Empty DataFrame\n",
       "Columns: [Comune, Popolazione]\n",
       "Index: []"
      ]
     },
     "execution_count": 66,
     "metadata": {},
     "output_type": "execute_result"
    }
   ],
   "source": [
    "# check for NaN\n",
    "population_sassari[population_sassari.isna().any(axis=1)]"
   ]
  },
  {
   "cell_type": "code",
   "execution_count": 67,
   "metadata": {},
   "outputs": [
    {
     "data": {
      "text/plain": [
       "Comune         object\n",
       "Popolazione     int64\n",
       "dtype: object"
      ]
     },
     "execution_count": 67,
     "metadata": {},
     "output_type": "execute_result"
    }
   ],
   "source": [
    "population_sassari.dtypes"
   ]
  },
  {
   "cell_type": "code",
   "execution_count": 68,
   "metadata": {},
   "outputs": [],
   "source": [
    "# save to csv\n",
    "population_sassari.to_csv('../data/processed/population_sassari.csv', index = False)"
   ]
  },
  {
   "cell_type": "markdown",
   "metadata": {},
   "source": [
    "---"
   ]
  },
  {
   "cell_type": "markdown",
   "metadata": {},
   "source": [
    "**Tourism in Sardinia**"
   ]
  },
  {
   "cell_type": "code",
   "execution_count": 69,
   "metadata": {},
   "outputs": [
    {
     "name": "stdout",
     "output_type": "stream",
     "text": [
      "(75448, 8)\n",
      "\n",
      "Index(['anno', 'provincia', 'comune', 'mese', 'macro_tipologia', 'provenienza',\n",
      "       'arrivi', 'presenze'],\n",
      "      dtype='object')\n"
     ]
    }
   ],
   "source": [
    "# explore movements by municipality data\n",
    "movements_2022 = pd.read_csv('../data/raw/turismo/csv_opendata_comuni_mesi_tipologie_2022.csv')\n",
    "\n",
    "print(movements_2022.shape)\n",
    "print('')\n",
    "print(movements_2022.columns)"
   ]
  },
  {
   "cell_type": "markdown",
   "metadata": {},
   "source": [
    "Nel dettaglio, vengono pubblicati i dati mensili su arrivi e presenze dell'anno 2022, suddivisi per macro-tipologia e mercato di riferimento, con disaggregazione comunale."
   ]
  },
  {
   "cell_type": "code",
   "execution_count": 70,
   "metadata": {},
   "outputs": [
    {
     "data": {
      "text/html": [
       "<div>\n",
       "<style scoped>\n",
       "    .dataframe tbody tr th:only-of-type {\n",
       "        vertical-align: middle;\n",
       "    }\n",
       "\n",
       "    .dataframe tbody tr th {\n",
       "        vertical-align: top;\n",
       "    }\n",
       "\n",
       "    .dataframe thead th {\n",
       "        text-align: right;\n",
       "    }\n",
       "</style>\n",
       "<table border=\"1\" class=\"dataframe\">\n",
       "  <thead>\n",
       "    <tr style=\"text-align: right;\">\n",
       "      <th></th>\n",
       "      <th>anno</th>\n",
       "      <th>provincia</th>\n",
       "      <th>comune</th>\n",
       "      <th>mese</th>\n",
       "      <th>macro_tipologia</th>\n",
       "      <th>provenienza</th>\n",
       "      <th>arrivi</th>\n",
       "      <th>presenze</th>\n",
       "    </tr>\n",
       "  </thead>\n",
       "  <tbody>\n",
       "    <tr>\n",
       "      <th>0</th>\n",
       "      <td>2022</td>\n",
       "      <td>Città metropolitana Cagliari</td>\n",
       "      <td>ASSEMINI</td>\n",
       "      <td>1</td>\n",
       "      <td>Non disponibile</td>\n",
       "      <td>Francia</td>\n",
       "      <td>2.0</td>\n",
       "      <td>14</td>\n",
       "    </tr>\n",
       "    <tr>\n",
       "      <th>1</th>\n",
       "      <td>2022</td>\n",
       "      <td>Città metropolitana Cagliari</td>\n",
       "      <td>ASSEMINI</td>\n",
       "      <td>1</td>\n",
       "      <td>Non disponibile</td>\n",
       "      <td>Paesi Bassi</td>\n",
       "      <td>9.0</td>\n",
       "      <td>109</td>\n",
       "    </tr>\n",
       "    <tr>\n",
       "      <th>2</th>\n",
       "      <td>2022</td>\n",
       "      <td>Città metropolitana Cagliari</td>\n",
       "      <td>ASSEMINI</td>\n",
       "      <td>1</td>\n",
       "      <td>Non disponibile</td>\n",
       "      <td>Germania</td>\n",
       "      <td>4.0</td>\n",
       "      <td>25</td>\n",
       "    </tr>\n",
       "    <tr>\n",
       "      <th>3</th>\n",
       "      <td>2022</td>\n",
       "      <td>Città metropolitana Cagliari</td>\n",
       "      <td>ASSEMINI</td>\n",
       "      <td>1</td>\n",
       "      <td>Non disponibile</td>\n",
       "      <td>Regno Unito</td>\n",
       "      <td>NaN</td>\n",
       "      <td>13</td>\n",
       "    </tr>\n",
       "    <tr>\n",
       "      <th>4</th>\n",
       "      <td>2022</td>\n",
       "      <td>Città metropolitana Cagliari</td>\n",
       "      <td>ASSEMINI</td>\n",
       "      <td>1</td>\n",
       "      <td>Non disponibile</td>\n",
       "      <td>Spagna</td>\n",
       "      <td>1.0</td>\n",
       "      <td>1</td>\n",
       "    </tr>\n",
       "  </tbody>\n",
       "</table>\n",
       "</div>"
      ],
      "text/plain": [
       "   anno                     provincia    comune mese  macro_tipologia  \\\n",
       "0  2022  Città metropolitana Cagliari  ASSEMINI    1  Non disponibile   \n",
       "1  2022  Città metropolitana Cagliari  ASSEMINI    1  Non disponibile   \n",
       "2  2022  Città metropolitana Cagliari  ASSEMINI    1  Non disponibile   \n",
       "3  2022  Città metropolitana Cagliari  ASSEMINI    1  Non disponibile   \n",
       "4  2022  Città metropolitana Cagliari  ASSEMINI    1  Non disponibile   \n",
       "\n",
       "   provenienza  arrivi  presenze  \n",
       "0      Francia     2.0        14  \n",
       "1  Paesi Bassi     9.0       109  \n",
       "2     Germania     4.0        25  \n",
       "3  Regno Unito     NaN        13  \n",
       "4       Spagna     1.0         1  "
      ]
     },
     "execution_count": 70,
     "metadata": {},
     "output_type": "execute_result"
    }
   ],
   "source": [
    "movements_2022.head()"
   ]
  },
  {
   "cell_type": "code",
   "execution_count": 71,
   "metadata": {},
   "outputs": [
    {
     "data": {
      "text/html": [
       "<div>\n",
       "<style scoped>\n",
       "    .dataframe tbody tr th:only-of-type {\n",
       "        vertical-align: middle;\n",
       "    }\n",
       "\n",
       "    .dataframe tbody tr th {\n",
       "        vertical-align: top;\n",
       "    }\n",
       "\n",
       "    .dataframe thead th {\n",
       "        text-align: right;\n",
       "    }\n",
       "</style>\n",
       "<table border=\"1\" class=\"dataframe\">\n",
       "  <thead>\n",
       "    <tr style=\"text-align: right;\">\n",
       "      <th></th>\n",
       "      <th>anno</th>\n",
       "      <th>provincia</th>\n",
       "      <th>comune</th>\n",
       "      <th>mese</th>\n",
       "      <th>macro_tipologia</th>\n",
       "      <th>provenienza</th>\n",
       "      <th>arrivi</th>\n",
       "      <th>presenze</th>\n",
       "    </tr>\n",
       "  </thead>\n",
       "  <tbody>\n",
       "    <tr>\n",
       "      <th>3</th>\n",
       "      <td>2022</td>\n",
       "      <td>Città metropolitana Cagliari</td>\n",
       "      <td>ASSEMINI</td>\n",
       "      <td>1</td>\n",
       "      <td>Non disponibile</td>\n",
       "      <td>Regno Unito</td>\n",
       "      <td>NaN</td>\n",
       "      <td>13</td>\n",
       "    </tr>\n",
       "    <tr>\n",
       "      <th>94</th>\n",
       "      <td>2022</td>\n",
       "      <td>Città metropolitana Cagliari</td>\n",
       "      <td>ASSEMINI</td>\n",
       "      <td>11</td>\n",
       "      <td>Non disponibile</td>\n",
       "      <td>Basilicata</td>\n",
       "      <td>NaN</td>\n",
       "      <td>25</td>\n",
       "    </tr>\n",
       "    <tr>\n",
       "      <th>100</th>\n",
       "      <td>2022</td>\n",
       "      <td>Città metropolitana Cagliari</td>\n",
       "      <td>ASSEMINI</td>\n",
       "      <td>12</td>\n",
       "      <td>Non disponibile</td>\n",
       "      <td>Francia</td>\n",
       "      <td>NaN</td>\n",
       "      <td>1</td>\n",
       "    </tr>\n",
       "    <tr>\n",
       "      <th>110</th>\n",
       "      <td>2022</td>\n",
       "      <td>Città metropolitana Cagliari</td>\n",
       "      <td>ASSEMINI</td>\n",
       "      <td>12</td>\n",
       "      <td>Non disponibile</td>\n",
       "      <td>Slovacchia</td>\n",
       "      <td>NaN</td>\n",
       "      <td>1</td>\n",
       "    </tr>\n",
       "    <tr>\n",
       "      <th>114</th>\n",
       "      <td>2022</td>\n",
       "      <td>Città metropolitana Cagliari</td>\n",
       "      <td>ASSEMINI</td>\n",
       "      <td>12</td>\n",
       "      <td>Non disponibile</td>\n",
       "      <td>Slovenia</td>\n",
       "      <td>NaN</td>\n",
       "      <td>4</td>\n",
       "    </tr>\n",
       "    <tr>\n",
       "      <th>...</th>\n",
       "      <td>...</td>\n",
       "      <td>...</td>\n",
       "      <td>...</td>\n",
       "      <td>...</td>\n",
       "      <td>...</td>\n",
       "      <td>...</td>\n",
       "      <td>...</td>\n",
       "      <td>...</td>\n",
       "    </tr>\n",
       "    <tr>\n",
       "      <th>75344</th>\n",
       "      <td>2022</td>\n",
       "      <td>Provincia di Sassari</td>\n",
       "      <td>VILLANOVA MONTELEONE</td>\n",
       "      <td>6</td>\n",
       "      <td>Non disponibile</td>\n",
       "      <td>Paesi Bassi</td>\n",
       "      <td>NaN</td>\n",
       "      <td>30</td>\n",
       "    </tr>\n",
       "    <tr>\n",
       "      <th>75380</th>\n",
       "      <td>2022</td>\n",
       "      <td>Provincia di Sassari</td>\n",
       "      <td>VILLANOVA MONTELEONE</td>\n",
       "      <td>8</td>\n",
       "      <td>Extra-Alberghiero - Complementari</td>\n",
       "      <td>Regno Unito</td>\n",
       "      <td>NaN</td>\n",
       "      <td>50</td>\n",
       "    </tr>\n",
       "    <tr>\n",
       "      <th>75445</th>\n",
       "      <td>2022</td>\n",
       "      <td>NaN</td>\n",
       "      <td>Non disponibile</td>\n",
       "      <td>Non disponibile</td>\n",
       "      <td>Non disponibile</td>\n",
       "      <td>Spagna</td>\n",
       "      <td>1.0</td>\n",
       "      <td>6</td>\n",
       "    </tr>\n",
       "    <tr>\n",
       "      <th>75446</th>\n",
       "      <td>2022</td>\n",
       "      <td>NaN</td>\n",
       "      <td>Non disponibile</td>\n",
       "      <td>Non disponibile</td>\n",
       "      <td>Non disponibile</td>\n",
       "      <td>Lombardia</td>\n",
       "      <td>1.0</td>\n",
       "      <td>7</td>\n",
       "    </tr>\n",
       "    <tr>\n",
       "      <th>75447</th>\n",
       "      <td>2022</td>\n",
       "      <td>NaN</td>\n",
       "      <td>Non disponibile</td>\n",
       "      <td>Non disponibile</td>\n",
       "      <td>Non disponibile</td>\n",
       "      <td>Sardegna</td>\n",
       "      <td>2.0</td>\n",
       "      <td>4</td>\n",
       "    </tr>\n",
       "  </tbody>\n",
       "</table>\n",
       "<p>1965 rows × 8 columns</p>\n",
       "</div>"
      ],
      "text/plain": [
       "       anno                     provincia                comune  \\\n",
       "3      2022  Città metropolitana Cagliari              ASSEMINI   \n",
       "94     2022  Città metropolitana Cagliari              ASSEMINI   \n",
       "100    2022  Città metropolitana Cagliari              ASSEMINI   \n",
       "110    2022  Città metropolitana Cagliari              ASSEMINI   \n",
       "114    2022  Città metropolitana Cagliari              ASSEMINI   \n",
       "...     ...                           ...                   ...   \n",
       "75344  2022          Provincia di Sassari  VILLANOVA MONTELEONE   \n",
       "75380  2022          Provincia di Sassari  VILLANOVA MONTELEONE   \n",
       "75445  2022                           NaN       Non disponibile   \n",
       "75446  2022                           NaN       Non disponibile   \n",
       "75447  2022                           NaN       Non disponibile   \n",
       "\n",
       "                  mese                    macro_tipologia  provenienza  \\\n",
       "3                    1                    Non disponibile  Regno Unito   \n",
       "94                  11                    Non disponibile   Basilicata   \n",
       "100                 12                    Non disponibile      Francia   \n",
       "110                 12                    Non disponibile   Slovacchia   \n",
       "114                 12                    Non disponibile     Slovenia   \n",
       "...                ...                                ...          ...   \n",
       "75344                6                    Non disponibile  Paesi Bassi   \n",
       "75380                8  Extra-Alberghiero - Complementari  Regno Unito   \n",
       "75445  Non disponibile                    Non disponibile       Spagna   \n",
       "75446  Non disponibile                    Non disponibile    Lombardia   \n",
       "75447  Non disponibile                    Non disponibile     Sardegna   \n",
       "\n",
       "       arrivi  presenze  \n",
       "3         NaN        13  \n",
       "94        NaN        25  \n",
       "100       NaN         1  \n",
       "110       NaN         1  \n",
       "114       NaN         4  \n",
       "...       ...       ...  \n",
       "75344     NaN        30  \n",
       "75380     NaN        50  \n",
       "75445     1.0         6  \n",
       "75446     1.0         7  \n",
       "75447     2.0         4  \n",
       "\n",
       "[1965 rows x 8 columns]"
      ]
     },
     "execution_count": 71,
     "metadata": {},
     "output_type": "execute_result"
    }
   ],
   "source": [
    "# check for NaN\n",
    "movements_2022[movements_2022.isna().any(axis=1)]"
   ]
  },
  {
   "cell_type": "code",
   "execution_count": 72,
   "metadata": {},
   "outputs": [
    {
     "data": {
      "text/plain": [
       "anno                 int64\n",
       "provincia           object\n",
       "comune              object\n",
       "mese                object\n",
       "macro_tipologia     object\n",
       "provenienza         object\n",
       "arrivi             float64\n",
       "presenze             int64\n",
       "dtype: object"
      ]
     },
     "execution_count": 72,
     "metadata": {},
     "output_type": "execute_result"
    }
   ],
   "source": [
    "movements_2022.dtypes"
   ]
  },
  {
   "cell_type": "code",
   "execution_count": 73,
   "metadata": {},
   "outputs": [],
   "source": [
    "# include only 'Provincia di Sassari'\n",
    "values_to_select = ['Provincia di Sassari']\n",
    "movements_2022 = movements_2022[movements_2022['provincia'].isin(values_to_select)]"
   ]
  },
  {
   "cell_type": "code",
   "execution_count": 74,
   "metadata": {},
   "outputs": [
    {
     "data": {
      "text/html": [
       "<div>\n",
       "<style scoped>\n",
       "    .dataframe tbody tr th:only-of-type {\n",
       "        vertical-align: middle;\n",
       "    }\n",
       "\n",
       "    .dataframe tbody tr th {\n",
       "        vertical-align: top;\n",
       "    }\n",
       "\n",
       "    .dataframe thead th {\n",
       "        text-align: right;\n",
       "    }\n",
       "</style>\n",
       "<table border=\"1\" class=\"dataframe\">\n",
       "  <thead>\n",
       "    <tr style=\"text-align: right;\">\n",
       "      <th></th>\n",
       "      <th>anno</th>\n",
       "      <th>provincia</th>\n",
       "      <th>comune</th>\n",
       "      <th>mese</th>\n",
       "      <th>macro_tipologia</th>\n",
       "      <th>provenienza</th>\n",
       "      <th>arrivi</th>\n",
       "      <th>presenze</th>\n",
       "    </tr>\n",
       "  </thead>\n",
       "  <tbody>\n",
       "    <tr>\n",
       "      <th>50750</th>\n",
       "      <td>2022</td>\n",
       "      <td>Provincia di Sassari</td>\n",
       "      <td>AGGIUS</td>\n",
       "      <td>7</td>\n",
       "      <td>Non disponibile</td>\n",
       "      <td>Francia</td>\n",
       "      <td>23.0</td>\n",
       "      <td>35</td>\n",
       "    </tr>\n",
       "    <tr>\n",
       "      <th>50751</th>\n",
       "      <td>2022</td>\n",
       "      <td>Provincia di Sassari</td>\n",
       "      <td>AGGIUS</td>\n",
       "      <td>7</td>\n",
       "      <td>Non disponibile</td>\n",
       "      <td>Paesi Bassi</td>\n",
       "      <td>2.0</td>\n",
       "      <td>4</td>\n",
       "    </tr>\n",
       "    <tr>\n",
       "      <th>50752</th>\n",
       "      <td>2022</td>\n",
       "      <td>Provincia di Sassari</td>\n",
       "      <td>AGGIUS</td>\n",
       "      <td>7</td>\n",
       "      <td>Non disponibile</td>\n",
       "      <td>Germania</td>\n",
       "      <td>12.0</td>\n",
       "      <td>20</td>\n",
       "    </tr>\n",
       "    <tr>\n",
       "      <th>50753</th>\n",
       "      <td>2022</td>\n",
       "      <td>Provincia di Sassari</td>\n",
       "      <td>AGGIUS</td>\n",
       "      <td>7</td>\n",
       "      <td>Non disponibile</td>\n",
       "      <td>Regno Unito</td>\n",
       "      <td>6.0</td>\n",
       "      <td>30</td>\n",
       "    </tr>\n",
       "    <tr>\n",
       "      <th>50754</th>\n",
       "      <td>2022</td>\n",
       "      <td>Provincia di Sassari</td>\n",
       "      <td>AGGIUS</td>\n",
       "      <td>7</td>\n",
       "      <td>Non disponibile</td>\n",
       "      <td>Danimarca</td>\n",
       "      <td>2.0</td>\n",
       "      <td>2</td>\n",
       "    </tr>\n",
       "    <tr>\n",
       "      <th>...</th>\n",
       "      <td>...</td>\n",
       "      <td>...</td>\n",
       "      <td>...</td>\n",
       "      <td>...</td>\n",
       "      <td>...</td>\n",
       "      <td>...</td>\n",
       "      <td>...</td>\n",
       "      <td>...</td>\n",
       "    </tr>\n",
       "    <tr>\n",
       "      <th>75440</th>\n",
       "      <td>2022</td>\n",
       "      <td>Provincia di Sassari</td>\n",
       "      <td>VILLANOVA MONTELEONE</td>\n",
       "      <td>Non disponibile</td>\n",
       "      <td>Non disponibile</td>\n",
       "      <td>Regno Unito</td>\n",
       "      <td>2.0</td>\n",
       "      <td>8</td>\n",
       "    </tr>\n",
       "    <tr>\n",
       "      <th>75441</th>\n",
       "      <td>2022</td>\n",
       "      <td>Provincia di Sassari</td>\n",
       "      <td>VILLANOVA MONTELEONE</td>\n",
       "      <td>Non disponibile</td>\n",
       "      <td>Non disponibile</td>\n",
       "      <td>Svizzera (incluso Liechtenstein)</td>\n",
       "      <td>3.0</td>\n",
       "      <td>13</td>\n",
       "    </tr>\n",
       "    <tr>\n",
       "      <th>75442</th>\n",
       "      <td>2022</td>\n",
       "      <td>Provincia di Sassari</td>\n",
       "      <td>VILLANOVA MONTELEONE</td>\n",
       "      <td>Non disponibile</td>\n",
       "      <td>Non disponibile</td>\n",
       "      <td>Emilia Romagna</td>\n",
       "      <td>3.0</td>\n",
       "      <td>5</td>\n",
       "    </tr>\n",
       "    <tr>\n",
       "      <th>75443</th>\n",
       "      <td>2022</td>\n",
       "      <td>Provincia di Sassari</td>\n",
       "      <td>VILLANOVA MONTELEONE</td>\n",
       "      <td>Non disponibile</td>\n",
       "      <td>Non disponibile</td>\n",
       "      <td>Campania</td>\n",
       "      <td>5.0</td>\n",
       "      <td>130</td>\n",
       "    </tr>\n",
       "    <tr>\n",
       "      <th>75444</th>\n",
       "      <td>2022</td>\n",
       "      <td>Provincia di Sassari</td>\n",
       "      <td>VILLANOVA MONTELEONE</td>\n",
       "      <td>Non disponibile</td>\n",
       "      <td>Non disponibile</td>\n",
       "      <td>Sardegna</td>\n",
       "      <td>8.0</td>\n",
       "      <td>13</td>\n",
       "    </tr>\n",
       "  </tbody>\n",
       "</table>\n",
       "<p>24695 rows × 8 columns</p>\n",
       "</div>"
      ],
      "text/plain": [
       "       anno             provincia                comune             mese  \\\n",
       "50750  2022  Provincia di Sassari                AGGIUS                7   \n",
       "50751  2022  Provincia di Sassari                AGGIUS                7   \n",
       "50752  2022  Provincia di Sassari                AGGIUS                7   \n",
       "50753  2022  Provincia di Sassari                AGGIUS                7   \n",
       "50754  2022  Provincia di Sassari                AGGIUS                7   \n",
       "...     ...                   ...                   ...              ...   \n",
       "75440  2022  Provincia di Sassari  VILLANOVA MONTELEONE  Non disponibile   \n",
       "75441  2022  Provincia di Sassari  VILLANOVA MONTELEONE  Non disponibile   \n",
       "75442  2022  Provincia di Sassari  VILLANOVA MONTELEONE  Non disponibile   \n",
       "75443  2022  Provincia di Sassari  VILLANOVA MONTELEONE  Non disponibile   \n",
       "75444  2022  Provincia di Sassari  VILLANOVA MONTELEONE  Non disponibile   \n",
       "\n",
       "       macro_tipologia                       provenienza  arrivi  presenze  \n",
       "50750  Non disponibile                           Francia    23.0        35  \n",
       "50751  Non disponibile                       Paesi Bassi     2.0         4  \n",
       "50752  Non disponibile                          Germania    12.0        20  \n",
       "50753  Non disponibile                       Regno Unito     6.0        30  \n",
       "50754  Non disponibile                         Danimarca     2.0         2  \n",
       "...                ...                               ...     ...       ...  \n",
       "75440  Non disponibile                       Regno Unito     2.0         8  \n",
       "75441  Non disponibile  Svizzera (incluso Liechtenstein)     3.0        13  \n",
       "75442  Non disponibile                    Emilia Romagna     3.0         5  \n",
       "75443  Non disponibile                          Campania     5.0       130  \n",
       "75444  Non disponibile                          Sardegna     8.0        13  \n",
       "\n",
       "[24695 rows x 8 columns]"
      ]
     },
     "execution_count": 74,
     "metadata": {},
     "output_type": "execute_result"
    }
   ],
   "source": [
    "movements_2022"
   ]
  },
  {
   "cell_type": "markdown",
   "metadata": {},
   "source": [
    "Merge all data from 2022 to 2018"
   ]
  },
  {
   "cell_type": "code",
   "execution_count": 75,
   "metadata": {},
   "outputs": [
    {
     "data": {
      "text/plain": [
       "'\\n# create an empty list to hold DataFrames for each year\\ndata_frames = []\\n\\n# loop through the years from 2022 to 2019 (reversed order)\\nfor year in range(2022, 2018, -1):\\n    # construct the filename for the current year\\n    filename = f\"../data/raw/turismo/csv_opendata_comuni_mesi_tipologie_{year}.csv\"\\n    \\n    # read the dataset for the current year\\n    current_data_movements = pd.read_csv(filename)\\n    \\n    # append the current year\\'s data DataFrame to the list\\n    data_frames.append(current_data_movements)\\n\\n# concatenate all DataFrames in the list into a single DataFrame\\nconcatenated_data_movements = pd.concat(data_frames, ignore_index=True)\\n\\n# print the first few rows of the concatenated data\\nprint(concatenated_data_movements.head())\\n'"
      ]
     },
     "execution_count": 75,
     "metadata": {},
     "output_type": "execute_result"
    }
   ],
   "source": [
    "'''\n",
    "# create an empty list to hold DataFrames for each year\n",
    "data_frames = []\n",
    "\n",
    "# loop through the years from 2022 to 2019 (reversed order)\n",
    "for year in range(2022, 2018, -1):\n",
    "    # construct the filename for the current year\n",
    "    filename = f\"../data/raw/turismo/csv_opendata_comuni_mesi_tipologie_{year}.csv\"\n",
    "    \n",
    "    # read the dataset for the current year\n",
    "    current_data_movements = pd.read_csv(filename)\n",
    "    \n",
    "    # append the current year's data DataFrame to the list\n",
    "    data_frames.append(current_data_movements)\n",
    "\n",
    "# concatenate all DataFrames in the list into a single DataFrame\n",
    "concatenated_data_movements = pd.concat(data_frames, ignore_index=True)\n",
    "\n",
    "# print the first few rows of the concatenated data\n",
    "print(concatenated_data_movements.head())\n",
    "'''"
   ]
  },
  {
   "cell_type": "code",
   "execution_count": 76,
   "metadata": {},
   "outputs": [],
   "source": [
    "# save to csv\n",
    "# concatenated_data_movements.to_csv('../data/processed/concatenated_data_movements.csv', index = False)"
   ]
  },
  {
   "cell_type": "code",
   "execution_count": 77,
   "metadata": {},
   "outputs": [
    {
     "name": "stdout",
     "output_type": "stream",
     "text": [
      "(16947, 9)\n",
      "\n",
      "Index(['anno', 'Provincia', 'comune', 'mese', 'descrizione', 'Stelle',\n",
      "       'numero strutture', 'letti', 'camere'],\n",
      "      dtype='object')\n"
     ]
    }
   ],
   "source": [
    "# explore structures data\n",
    "structures_2022 = pd.read_csv('../data/raw/turismo/capacita_strutture_ricettive_mensile_2022.csv')\n",
    "\n",
    "print(structures_2022.shape)\n",
    "print('')\n",
    "print(structures_2022.columns)"
   ]
  },
  {
   "cell_type": "markdown",
   "metadata": {},
   "source": [
    "Questo dataset contiene la capacità delle strutture ricettive riferita all'anno 2022.\n",
    "\n",
    "La capacità ricettiva misura la consistenza in termini di numero delle strutture ricettive e relativi posti letto e camere.\n",
    "\n",
    "I dati sono suddivisi per comune, mese e tipologia e categoria di struttura.\n",
    "\n",
    "La fonte del dato è l'anagrafica del SIRED, il sistema informativo di raccolta ed elaborazione dati fornito dalla Regione Sardegna. Il SIRED contiene i periodi di apertura delle strutture ricettive così come da queste comunicati. Sono comprese nel conteggio tutte le strutture (e relativi posti letto e camere) che risultano aperte in un dato mese e le strutture che, pur avendo comunicato di essere chiuse in quel mese, hanno comunque comunicato attraverso il SIRED la presenza di almeno un ospite."
   ]
  },
  {
   "cell_type": "code",
   "execution_count": 78,
   "metadata": {},
   "outputs": [
    {
     "data": {
      "text/html": [
       "<div>\n",
       "<style scoped>\n",
       "    .dataframe tbody tr th:only-of-type {\n",
       "        vertical-align: middle;\n",
       "    }\n",
       "\n",
       "    .dataframe tbody tr th {\n",
       "        vertical-align: top;\n",
       "    }\n",
       "\n",
       "    .dataframe thead th {\n",
       "        text-align: right;\n",
       "    }\n",
       "</style>\n",
       "<table border=\"1\" class=\"dataframe\">\n",
       "  <thead>\n",
       "    <tr style=\"text-align: right;\">\n",
       "      <th></th>\n",
       "      <th>anno</th>\n",
       "      <th>Provincia</th>\n",
       "      <th>comune</th>\n",
       "      <th>mese</th>\n",
       "      <th>descrizione</th>\n",
       "      <th>Stelle</th>\n",
       "      <th>numero strutture</th>\n",
       "      <th>letti</th>\n",
       "      <th>camere</th>\n",
       "    </tr>\n",
       "  </thead>\n",
       "  <tbody>\n",
       "    <tr>\n",
       "      <th>0</th>\n",
       "      <td>2022</td>\n",
       "      <td>Provincia di Oristano</td>\n",
       "      <td>ABBASANTA</td>\n",
       "      <td>1</td>\n",
       "      <td>Agriturismo</td>\n",
       "      <td>NaN</td>\n",
       "      <td>1</td>\n",
       "      <td>10</td>\n",
       "      <td>6</td>\n",
       "    </tr>\n",
       "    <tr>\n",
       "      <th>1</th>\n",
       "      <td>2022</td>\n",
       "      <td>Provincia di Oristano</td>\n",
       "      <td>ABBASANTA</td>\n",
       "      <td>1</td>\n",
       "      <td>Albergo</td>\n",
       "      <td>4 Stelle</td>\n",
       "      <td>1</td>\n",
       "      <td>25</td>\n",
       "      <td>10</td>\n",
       "    </tr>\n",
       "    <tr>\n",
       "      <th>2</th>\n",
       "      <td>2022</td>\n",
       "      <td>Provincia di Oristano</td>\n",
       "      <td>ABBASANTA</td>\n",
       "      <td>1</td>\n",
       "      <td>Bed and breakfast</td>\n",
       "      <td>2 Stelle</td>\n",
       "      <td>1</td>\n",
       "      <td>4</td>\n",
       "      <td>2</td>\n",
       "    </tr>\n",
       "    <tr>\n",
       "      <th>3</th>\n",
       "      <td>2022</td>\n",
       "      <td>Provincia di Oristano</td>\n",
       "      <td>ABBASANTA</td>\n",
       "      <td>2</td>\n",
       "      <td>Agriturismo</td>\n",
       "      <td>NaN</td>\n",
       "      <td>1</td>\n",
       "      <td>10</td>\n",
       "      <td>6</td>\n",
       "    </tr>\n",
       "    <tr>\n",
       "      <th>4</th>\n",
       "      <td>2022</td>\n",
       "      <td>Provincia di Oristano</td>\n",
       "      <td>ABBASANTA</td>\n",
       "      <td>2</td>\n",
       "      <td>Albergo</td>\n",
       "      <td>3 Stelle</td>\n",
       "      <td>1</td>\n",
       "      <td>91</td>\n",
       "      <td>31</td>\n",
       "    </tr>\n",
       "  </tbody>\n",
       "</table>\n",
       "</div>"
      ],
      "text/plain": [
       "   anno              Provincia     comune  mese        descrizione    Stelle  \\\n",
       "0  2022  Provincia di Oristano  ABBASANTA     1        Agriturismo       NaN   \n",
       "1  2022  Provincia di Oristano  ABBASANTA     1            Albergo  4 Stelle   \n",
       "2  2022  Provincia di Oristano  ABBASANTA     1  Bed and breakfast  2 Stelle   \n",
       "3  2022  Provincia di Oristano  ABBASANTA     2        Agriturismo       NaN   \n",
       "4  2022  Provincia di Oristano  ABBASANTA     2            Albergo  3 Stelle   \n",
       "\n",
       "   numero strutture  letti  camere  \n",
       "0                 1     10       6  \n",
       "1                 1     25      10  \n",
       "2                 1      4       2  \n",
       "3                 1     10       6  \n",
       "4                 1     91      31  "
      ]
     },
     "execution_count": 78,
     "metadata": {},
     "output_type": "execute_result"
    }
   ],
   "source": [
    "structures_2022.head()"
   ]
  },
  {
   "cell_type": "code",
   "execution_count": 79,
   "metadata": {},
   "outputs": [
    {
     "data": {
      "text/html": [
       "<div>\n",
       "<style scoped>\n",
       "    .dataframe tbody tr th:only-of-type {\n",
       "        vertical-align: middle;\n",
       "    }\n",
       "\n",
       "    .dataframe tbody tr th {\n",
       "        vertical-align: top;\n",
       "    }\n",
       "\n",
       "    .dataframe thead th {\n",
       "        text-align: right;\n",
       "    }\n",
       "</style>\n",
       "<table border=\"1\" class=\"dataframe\">\n",
       "  <thead>\n",
       "    <tr style=\"text-align: right;\">\n",
       "      <th></th>\n",
       "      <th>anno</th>\n",
       "      <th>Provincia</th>\n",
       "      <th>comune</th>\n",
       "      <th>mese</th>\n",
       "      <th>descrizione</th>\n",
       "      <th>Stelle</th>\n",
       "      <th>numero strutture</th>\n",
       "      <th>letti</th>\n",
       "      <th>camere</th>\n",
       "    </tr>\n",
       "  </thead>\n",
       "  <tbody>\n",
       "    <tr>\n",
       "      <th>0</th>\n",
       "      <td>2022</td>\n",
       "      <td>Provincia di Oristano</td>\n",
       "      <td>ABBASANTA</td>\n",
       "      <td>1</td>\n",
       "      <td>Agriturismo</td>\n",
       "      <td>NaN</td>\n",
       "      <td>1</td>\n",
       "      <td>10</td>\n",
       "      <td>6</td>\n",
       "    </tr>\n",
       "    <tr>\n",
       "      <th>3</th>\n",
       "      <td>2022</td>\n",
       "      <td>Provincia di Oristano</td>\n",
       "      <td>ABBASANTA</td>\n",
       "      <td>2</td>\n",
       "      <td>Agriturismo</td>\n",
       "      <td>NaN</td>\n",
       "      <td>1</td>\n",
       "      <td>10</td>\n",
       "      <td>6</td>\n",
       "    </tr>\n",
       "    <tr>\n",
       "      <th>7</th>\n",
       "      <td>2022</td>\n",
       "      <td>Provincia di Oristano</td>\n",
       "      <td>ABBASANTA</td>\n",
       "      <td>3</td>\n",
       "      <td>Agriturismo</td>\n",
       "      <td>NaN</td>\n",
       "      <td>1</td>\n",
       "      <td>10</td>\n",
       "      <td>6</td>\n",
       "    </tr>\n",
       "    <tr>\n",
       "      <th>11</th>\n",
       "      <td>2022</td>\n",
       "      <td>Provincia di Oristano</td>\n",
       "      <td>ABBASANTA</td>\n",
       "      <td>4</td>\n",
       "      <td>Agriturismo</td>\n",
       "      <td>NaN</td>\n",
       "      <td>1</td>\n",
       "      <td>10</td>\n",
       "      <td>6</td>\n",
       "    </tr>\n",
       "    <tr>\n",
       "      <th>15</th>\n",
       "      <td>2022</td>\n",
       "      <td>Provincia di Oristano</td>\n",
       "      <td>ABBASANTA</td>\n",
       "      <td>5</td>\n",
       "      <td>Agriturismo</td>\n",
       "      <td>NaN</td>\n",
       "      <td>1</td>\n",
       "      <td>10</td>\n",
       "      <td>6</td>\n",
       "    </tr>\n",
       "    <tr>\n",
       "      <th>...</th>\n",
       "      <td>...</td>\n",
       "      <td>...</td>\n",
       "      <td>...</td>\n",
       "      <td>...</td>\n",
       "      <td>...</td>\n",
       "      <td>...</td>\n",
       "      <td>...</td>\n",
       "      <td>...</td>\n",
       "      <td>...</td>\n",
       "    </tr>\n",
       "    <tr>\n",
       "      <th>16942</th>\n",
       "      <td>2022</td>\n",
       "      <td>Provincia di Oristano</td>\n",
       "      <td>ZERFALIU</td>\n",
       "      <td>10</td>\n",
       "      <td>Alloggi privati</td>\n",
       "      <td>NaN</td>\n",
       "      <td>1</td>\n",
       "      <td>7</td>\n",
       "      <td>3</td>\n",
       "    </tr>\n",
       "    <tr>\n",
       "      <th>16943</th>\n",
       "      <td>2022</td>\n",
       "      <td>Provincia di Oristano</td>\n",
       "      <td>ZERFALIU</td>\n",
       "      <td>11</td>\n",
       "      <td>Agriturismo</td>\n",
       "      <td>NaN</td>\n",
       "      <td>1</td>\n",
       "      <td>16</td>\n",
       "      <td>6</td>\n",
       "    </tr>\n",
       "    <tr>\n",
       "      <th>16944</th>\n",
       "      <td>2022</td>\n",
       "      <td>Provincia di Oristano</td>\n",
       "      <td>ZERFALIU</td>\n",
       "      <td>11</td>\n",
       "      <td>Alloggi privati</td>\n",
       "      <td>NaN</td>\n",
       "      <td>1</td>\n",
       "      <td>7</td>\n",
       "      <td>3</td>\n",
       "    </tr>\n",
       "    <tr>\n",
       "      <th>16945</th>\n",
       "      <td>2022</td>\n",
       "      <td>Provincia di Oristano</td>\n",
       "      <td>ZERFALIU</td>\n",
       "      <td>12</td>\n",
       "      <td>Agriturismo</td>\n",
       "      <td>NaN</td>\n",
       "      <td>1</td>\n",
       "      <td>16</td>\n",
       "      <td>6</td>\n",
       "    </tr>\n",
       "    <tr>\n",
       "      <th>16946</th>\n",
       "      <td>2022</td>\n",
       "      <td>Provincia di Oristano</td>\n",
       "      <td>ZERFALIU</td>\n",
       "      <td>12</td>\n",
       "      <td>Alloggi privati</td>\n",
       "      <td>NaN</td>\n",
       "      <td>1</td>\n",
       "      <td>7</td>\n",
       "      <td>3</td>\n",
       "    </tr>\n",
       "  </tbody>\n",
       "</table>\n",
       "<p>5100 rows × 9 columns</p>\n",
       "</div>"
      ],
      "text/plain": [
       "       anno              Provincia     comune  mese      descrizione Stelle  \\\n",
       "0      2022  Provincia di Oristano  ABBASANTA     1      Agriturismo    NaN   \n",
       "3      2022  Provincia di Oristano  ABBASANTA     2      Agriturismo    NaN   \n",
       "7      2022  Provincia di Oristano  ABBASANTA     3      Agriturismo    NaN   \n",
       "11     2022  Provincia di Oristano  ABBASANTA     4      Agriturismo    NaN   \n",
       "15     2022  Provincia di Oristano  ABBASANTA     5      Agriturismo    NaN   \n",
       "...     ...                    ...        ...   ...              ...    ...   \n",
       "16942  2022  Provincia di Oristano   ZERFALIU    10  Alloggi privati    NaN   \n",
       "16943  2022  Provincia di Oristano   ZERFALIU    11      Agriturismo    NaN   \n",
       "16944  2022  Provincia di Oristano   ZERFALIU    11  Alloggi privati    NaN   \n",
       "16945  2022  Provincia di Oristano   ZERFALIU    12      Agriturismo    NaN   \n",
       "16946  2022  Provincia di Oristano   ZERFALIU    12  Alloggi privati    NaN   \n",
       "\n",
       "       numero strutture  letti  camere  \n",
       "0                     1     10       6  \n",
       "3                     1     10       6  \n",
       "7                     1     10       6  \n",
       "11                    1     10       6  \n",
       "15                    1     10       6  \n",
       "...                 ...    ...     ...  \n",
       "16942                 1      7       3  \n",
       "16943                 1     16       6  \n",
       "16944                 1      7       3  \n",
       "16945                 1     16       6  \n",
       "16946                 1      7       3  \n",
       "\n",
       "[5100 rows x 9 columns]"
      ]
     },
     "execution_count": 79,
     "metadata": {},
     "output_type": "execute_result"
    }
   ],
   "source": [
    "# check for NaN\n",
    "structures_2022[structures_2022.isna().any(axis=1)]"
   ]
  },
  {
   "cell_type": "code",
   "execution_count": 80,
   "metadata": {},
   "outputs": [],
   "source": [
    "# remove NaN\n",
    "# structures_2022 = structures_2022.dropna()"
   ]
  },
  {
   "cell_type": "code",
   "execution_count": 81,
   "metadata": {},
   "outputs": [
    {
     "data": {
      "text/plain": [
       "anno                 int64\n",
       "Provincia           object\n",
       "comune              object\n",
       "mese                 int64\n",
       "descrizione         object\n",
       "Stelle              object\n",
       "numero strutture     int64\n",
       "letti                int64\n",
       "camere               int64\n",
       "dtype: object"
      ]
     },
     "execution_count": 81,
     "metadata": {},
     "output_type": "execute_result"
    }
   ],
   "source": [
    "structures_2022.dtypes"
   ]
  },
  {
   "cell_type": "code",
   "execution_count": 82,
   "metadata": {},
   "outputs": [],
   "source": [
    "# include only 'Provincia di Sassari'\n",
    "values_to_select = ['Provincia di Sassari']\n",
    "structures_2022 = structures_2022[structures_2022['Provincia'].isin(values_to_select)]"
   ]
  },
  {
   "cell_type": "code",
   "execution_count": 83,
   "metadata": {},
   "outputs": [
    {
     "data": {
      "text/html": [
       "<div>\n",
       "<style scoped>\n",
       "    .dataframe tbody tr th:only-of-type {\n",
       "        vertical-align: middle;\n",
       "    }\n",
       "\n",
       "    .dataframe tbody tr th {\n",
       "        vertical-align: top;\n",
       "    }\n",
       "\n",
       "    .dataframe thead th {\n",
       "        text-align: right;\n",
       "    }\n",
       "</style>\n",
       "<table border=\"1\" class=\"dataframe\">\n",
       "  <thead>\n",
       "    <tr style=\"text-align: right;\">\n",
       "      <th></th>\n",
       "      <th>anno</th>\n",
       "      <th>Provincia</th>\n",
       "      <th>comune</th>\n",
       "      <th>mese</th>\n",
       "      <th>descrizione</th>\n",
       "      <th>Stelle</th>\n",
       "      <th>numero strutture</th>\n",
       "      <th>letti</th>\n",
       "      <th>camere</th>\n",
       "    </tr>\n",
       "  </thead>\n",
       "  <tbody>\n",
       "    <tr>\n",
       "      <th>47</th>\n",
       "      <td>2022</td>\n",
       "      <td>Provincia di Sassari</td>\n",
       "      <td>AGGIUS</td>\n",
       "      <td>1</td>\n",
       "      <td>Alloggi privati</td>\n",
       "      <td>NaN</td>\n",
       "      <td>2</td>\n",
       "      <td>10</td>\n",
       "      <td>6</td>\n",
       "    </tr>\n",
       "    <tr>\n",
       "      <th>48</th>\n",
       "      <td>2022</td>\n",
       "      <td>Provincia di Sassari</td>\n",
       "      <td>AGGIUS</td>\n",
       "      <td>2</td>\n",
       "      <td>Agriturismo</td>\n",
       "      <td>NaN</td>\n",
       "      <td>1</td>\n",
       "      <td>20</td>\n",
       "      <td>13</td>\n",
       "    </tr>\n",
       "    <tr>\n",
       "      <th>49</th>\n",
       "      <td>2022</td>\n",
       "      <td>Provincia di Sassari</td>\n",
       "      <td>AGGIUS</td>\n",
       "      <td>2</td>\n",
       "      <td>Alloggi privati</td>\n",
       "      <td>NaN</td>\n",
       "      <td>2</td>\n",
       "      <td>10</td>\n",
       "      <td>6</td>\n",
       "    </tr>\n",
       "    <tr>\n",
       "      <th>50</th>\n",
       "      <td>2022</td>\n",
       "      <td>Provincia di Sassari</td>\n",
       "      <td>AGGIUS</td>\n",
       "      <td>3</td>\n",
       "      <td>Agriturismo</td>\n",
       "      <td>NaN</td>\n",
       "      <td>1</td>\n",
       "      <td>20</td>\n",
       "      <td>13</td>\n",
       "    </tr>\n",
       "    <tr>\n",
       "      <th>51</th>\n",
       "      <td>2022</td>\n",
       "      <td>Provincia di Sassari</td>\n",
       "      <td>AGGIUS</td>\n",
       "      <td>3</td>\n",
       "      <td>Alloggi privati</td>\n",
       "      <td>NaN</td>\n",
       "      <td>2</td>\n",
       "      <td>10</td>\n",
       "      <td>6</td>\n",
       "    </tr>\n",
       "    <tr>\n",
       "      <th>...</th>\n",
       "      <td>...</td>\n",
       "      <td>...</td>\n",
       "      <td>...</td>\n",
       "      <td>...</td>\n",
       "      <td>...</td>\n",
       "      <td>...</td>\n",
       "      <td>...</td>\n",
       "      <td>...</td>\n",
       "      <td>...</td>\n",
       "    </tr>\n",
       "    <tr>\n",
       "      <th>16486</th>\n",
       "      <td>2022</td>\n",
       "      <td>Provincia di Sassari</td>\n",
       "      <td>VILLANOVA MONTELEONE</td>\n",
       "      <td>12</td>\n",
       "      <td>Affittacamere</td>\n",
       "      <td>NaN</td>\n",
       "      <td>1</td>\n",
       "      <td>0</td>\n",
       "      <td>0</td>\n",
       "    </tr>\n",
       "    <tr>\n",
       "      <th>16487</th>\n",
       "      <td>2022</td>\n",
       "      <td>Provincia di Sassari</td>\n",
       "      <td>VILLANOVA MONTELEONE</td>\n",
       "      <td>12</td>\n",
       "      <td>Affittacamere</td>\n",
       "      <td>II Categoria</td>\n",
       "      <td>1</td>\n",
       "      <td>7</td>\n",
       "      <td>4</td>\n",
       "    </tr>\n",
       "    <tr>\n",
       "      <th>16488</th>\n",
       "      <td>2022</td>\n",
       "      <td>Provincia di Sassari</td>\n",
       "      <td>VILLANOVA MONTELEONE</td>\n",
       "      <td>12</td>\n",
       "      <td>Agriturismo</td>\n",
       "      <td>NaN</td>\n",
       "      <td>1</td>\n",
       "      <td>6</td>\n",
       "      <td>3</td>\n",
       "    </tr>\n",
       "    <tr>\n",
       "      <th>16489</th>\n",
       "      <td>2022</td>\n",
       "      <td>Provincia di Sassari</td>\n",
       "      <td>VILLANOVA MONTELEONE</td>\n",
       "      <td>12</td>\n",
       "      <td>Alloggi privati</td>\n",
       "      <td>NaN</td>\n",
       "      <td>2</td>\n",
       "      <td>8</td>\n",
       "      <td>3</td>\n",
       "    </tr>\n",
       "    <tr>\n",
       "      <th>16490</th>\n",
       "      <td>2022</td>\n",
       "      <td>Provincia di Sassari</td>\n",
       "      <td>VILLANOVA MONTELEONE</td>\n",
       "      <td>12</td>\n",
       "      <td>Bed and breakfast</td>\n",
       "      <td>1 Stella</td>\n",
       "      <td>1</td>\n",
       "      <td>6</td>\n",
       "      <td>3</td>\n",
       "    </tr>\n",
       "  </tbody>\n",
       "</table>\n",
       "<p>5084 rows × 9 columns</p>\n",
       "</div>"
      ],
      "text/plain": [
       "       anno             Provincia                comune  mese  \\\n",
       "47     2022  Provincia di Sassari                AGGIUS     1   \n",
       "48     2022  Provincia di Sassari                AGGIUS     2   \n",
       "49     2022  Provincia di Sassari                AGGIUS     2   \n",
       "50     2022  Provincia di Sassari                AGGIUS     3   \n",
       "51     2022  Provincia di Sassari                AGGIUS     3   \n",
       "...     ...                   ...                   ...   ...   \n",
       "16486  2022  Provincia di Sassari  VILLANOVA MONTELEONE    12   \n",
       "16487  2022  Provincia di Sassari  VILLANOVA MONTELEONE    12   \n",
       "16488  2022  Provincia di Sassari  VILLANOVA MONTELEONE    12   \n",
       "16489  2022  Provincia di Sassari  VILLANOVA MONTELEONE    12   \n",
       "16490  2022  Provincia di Sassari  VILLANOVA MONTELEONE    12   \n",
       "\n",
       "             descrizione        Stelle  numero strutture  letti  camere  \n",
       "47       Alloggi privati           NaN                 2     10       6  \n",
       "48           Agriturismo           NaN                 1     20      13  \n",
       "49       Alloggi privati           NaN                 2     10       6  \n",
       "50           Agriturismo           NaN                 1     20      13  \n",
       "51       Alloggi privati           NaN                 2     10       6  \n",
       "...                  ...           ...               ...    ...     ...  \n",
       "16486      Affittacamere           NaN                 1      0       0  \n",
       "16487      Affittacamere  II Categoria                 1      7       4  \n",
       "16488        Agriturismo           NaN                 1      6       3  \n",
       "16489    Alloggi privati           NaN                 2      8       3  \n",
       "16490  Bed and breakfast      1 Stella                 1      6       3  \n",
       "\n",
       "[5084 rows x 9 columns]"
      ]
     },
     "execution_count": 83,
     "metadata": {},
     "output_type": "execute_result"
    }
   ],
   "source": [
    "structures_2022"
   ]
  },
  {
   "cell_type": "markdown",
   "metadata": {},
   "source": [
    "Merge all data from 2022 to 2018"
   ]
  },
  {
   "cell_type": "code",
   "execution_count": 84,
   "metadata": {},
   "outputs": [
    {
     "data": {
      "text/plain": [
       "'\\n# create an empty list to hold DataFrames for each year\\ndata_frames = []\\n\\n# loop through the years from 2022 to 2019 (reversed order)\\nfor year in range(2022, 2018, -1):\\n    # construct the filename for the current year\\n    filename = f\"../data/raw/turismo/capacita_strutture_ricettive_mensile_{year}.csv\"\\n    \\n    # read the dataset for the current year\\n    current_data_structures = pd.read_csv(filename)\\n    \\n    # append the current year\\'s data DataFrame to the list\\n    data_frames.append(current_data_structures)\\n\\n# concatenate all DataFrames in the list into a single DataFrame\\nconcatenated_data_structures = pd.concat(data_frames, ignore_index=True)\\n\\n# print the first few rows of the concatenated data\\nprint(concatenated_data_structures.head())\\n'"
      ]
     },
     "execution_count": 84,
     "metadata": {},
     "output_type": "execute_result"
    }
   ],
   "source": [
    "'''\n",
    "# create an empty list to hold DataFrames for each year\n",
    "data_frames = []\n",
    "\n",
    "# loop through the years from 2022 to 2019 (reversed order)\n",
    "for year in range(2022, 2018, -1):\n",
    "    # construct the filename for the current year\n",
    "    filename = f\"../data/raw/turismo/capacita_strutture_ricettive_mensile_{year}.csv\"\n",
    "    \n",
    "    # read the dataset for the current year\n",
    "    current_data_structures = pd.read_csv(filename)\n",
    "    \n",
    "    # append the current year's data DataFrame to the list\n",
    "    data_frames.append(current_data_structures)\n",
    "\n",
    "# concatenate all DataFrames in the list into a single DataFrame\n",
    "concatenated_data_structures = pd.concat(data_frames, ignore_index=True)\n",
    "\n",
    "# print the first few rows of the concatenated data\n",
    "print(concatenated_data_structures.head())\n",
    "'''"
   ]
  },
  {
   "cell_type": "code",
   "execution_count": 85,
   "metadata": {},
   "outputs": [],
   "source": [
    "# save to csv\n",
    "# concatenated_data_structures.to_csv('../data/processed/concatenated_data_structures.csv', index = False)"
   ]
  },
  {
   "cell_type": "markdown",
   "metadata": {},
   "source": [
    "---"
   ]
  },
  {
   "cell_type": "markdown",
   "metadata": {},
   "source": [
    "**Beach Systems of Sardinia**"
   ]
  },
  {
   "cell_type": "code",
   "execution_count": 86,
   "metadata": {},
   "outputs": [
    {
     "name": "stdout",
     "output_type": "stream",
     "text": [
      "(330, 4)\n",
      "\n",
      "Index(['idFeature', 'tipoElCod', 'tipoElDesc', 'geometry'], dtype='object')\n"
     ]
    }
   ],
   "source": [
    "# explore beach_systems data\n",
    "beach_systems = gpd.read_file('../data/raw/sistemi_spiaggia/CAMPI_DUNARI_SIST_SPIAGGIA.shp')\n",
    "\n",
    "print(beach_systems.shape)\n",
    "print('')\n",
    "print(beach_systems.columns)"
   ]
  },
  {
   "cell_type": "markdown",
   "metadata": {},
   "source": [
    "PPR Assetto Ambientale - Beni paesaggistici ex art. 143 D.Lgs 42/04 e succ. mod.\n",
    "Elementi poligonali rappresentanti aree caratterizzate da morfologie costiere. Questi elementi appartengono a quelle tipologie naturali di paesaggio individuate nella fascia costiera e nella zona di transizione tipizzate e sottoposte a tutela dal Piano Paesaggistico (Art. 17 comma 3 lettere b e c delle N.T.A. PPR).\n",
    "Comprendono:\n",
    "- CAMPI DUNARI\n",
    "- SISTEMI DI SPIAGGIA."
   ]
  },
  {
   "cell_type": "code",
   "execution_count": 87,
   "metadata": {},
   "outputs": [
    {
     "data": {
      "text/html": [
       "<div>\n",
       "<style scoped>\n",
       "    .dataframe tbody tr th:only-of-type {\n",
       "        vertical-align: middle;\n",
       "    }\n",
       "\n",
       "    .dataframe tbody tr th {\n",
       "        vertical-align: top;\n",
       "    }\n",
       "\n",
       "    .dataframe thead th {\n",
       "        text-align: right;\n",
       "    }\n",
       "</style>\n",
       "<table border=\"1\" class=\"dataframe\">\n",
       "  <thead>\n",
       "    <tr style=\"text-align: right;\">\n",
       "      <th></th>\n",
       "      <th>idFeature</th>\n",
       "      <th>tipoElCod</th>\n",
       "      <th>tipoElDesc</th>\n",
       "      <th>geometry</th>\n",
       "    </tr>\n",
       "  </thead>\n",
       "  <tbody>\n",
       "    <tr>\n",
       "      <th>0</th>\n",
       "      <td>11</td>\n",
       "      <td>1</td>\n",
       "      <td>Campi dunari</td>\n",
       "      <td>POLYGON ((1568989.664 4487711.000, 1568997.500...</td>\n",
       "    </tr>\n",
       "    <tr>\n",
       "      <th>1</th>\n",
       "      <td>13</td>\n",
       "      <td>6</td>\n",
       "      <td>Sistemi di spiaggia</td>\n",
       "      <td>POLYGON ((1536633.808 4553944.595, 1536617.981...</td>\n",
       "    </tr>\n",
       "    <tr>\n",
       "      <th>2</th>\n",
       "      <td>15</td>\n",
       "      <td>6</td>\n",
       "      <td>Sistemi di spiaggia</td>\n",
       "      <td>POLYGON ((1524692.652 4340574.869, 1524744.634...</td>\n",
       "    </tr>\n",
       "    <tr>\n",
       "      <th>3</th>\n",
       "      <td>16</td>\n",
       "      <td>6</td>\n",
       "      <td>Sistemi di spiaggia</td>\n",
       "      <td>POLYGON ((1525876.907 4340330.435, 1525875.125...</td>\n",
       "    </tr>\n",
       "    <tr>\n",
       "      <th>4</th>\n",
       "      <td>17</td>\n",
       "      <td>6</td>\n",
       "      <td>Sistemi di spiaggia</td>\n",
       "      <td>POLYGON ((1528396.819 4559857.345, 1528395.943...</td>\n",
       "    </tr>\n",
       "  </tbody>\n",
       "</table>\n",
       "</div>"
      ],
      "text/plain": [
       "   idFeature  tipoElCod           tipoElDesc  \\\n",
       "0         11          1         Campi dunari   \n",
       "1         13          6  Sistemi di spiaggia   \n",
       "2         15          6  Sistemi di spiaggia   \n",
       "3         16          6  Sistemi di spiaggia   \n",
       "4         17          6  Sistemi di spiaggia   \n",
       "\n",
       "                                            geometry  \n",
       "0  POLYGON ((1568989.664 4487711.000, 1568997.500...  \n",
       "1  POLYGON ((1536633.808 4553944.595, 1536617.981...  \n",
       "2  POLYGON ((1524692.652 4340574.869, 1524744.634...  \n",
       "3  POLYGON ((1525876.907 4340330.435, 1525875.125...  \n",
       "4  POLYGON ((1528396.819 4559857.345, 1528395.943...  "
      ]
     },
     "execution_count": 87,
     "metadata": {},
     "output_type": "execute_result"
    }
   ],
   "source": [
    "beach_systems.head()"
   ]
  },
  {
   "cell_type": "code",
   "execution_count": 88,
   "metadata": {},
   "outputs": [
    {
     "data": {
      "text/html": [
       "<div>\n",
       "<style scoped>\n",
       "    .dataframe tbody tr th:only-of-type {\n",
       "        vertical-align: middle;\n",
       "    }\n",
       "\n",
       "    .dataframe tbody tr th {\n",
       "        vertical-align: top;\n",
       "    }\n",
       "\n",
       "    .dataframe thead th {\n",
       "        text-align: right;\n",
       "    }\n",
       "</style>\n",
       "<table border=\"1\" class=\"dataframe\">\n",
       "  <thead>\n",
       "    <tr style=\"text-align: right;\">\n",
       "      <th></th>\n",
       "      <th>idFeature</th>\n",
       "      <th>tipoElCod</th>\n",
       "      <th>tipoElDesc</th>\n",
       "      <th>geometry</th>\n",
       "    </tr>\n",
       "  </thead>\n",
       "  <tbody>\n",
       "  </tbody>\n",
       "</table>\n",
       "</div>"
      ],
      "text/plain": [
       "Empty GeoDataFrame\n",
       "Columns: [idFeature, tipoElCod, tipoElDesc, geometry]\n",
       "Index: []"
      ]
     },
     "execution_count": 88,
     "metadata": {},
     "output_type": "execute_result"
    }
   ],
   "source": [
    "# check for NaN\n",
    "beach_systems[beach_systems.isna().any(axis=1)]"
   ]
  },
  {
   "cell_type": "code",
   "execution_count": 89,
   "metadata": {},
   "outputs": [
    {
     "data": {
      "text/plain": [
       "idFeature        int64\n",
       "tipoElCod        int64\n",
       "tipoElDesc      object\n",
       "geometry      geometry\n",
       "dtype: object"
      ]
     },
     "execution_count": 89,
     "metadata": {},
     "output_type": "execute_result"
    }
   ],
   "source": [
    "beach_systems.dtypes"
   ]
  },
  {
   "cell_type": "code",
   "execution_count": 90,
   "metadata": {},
   "outputs": [
    {
     "data": {
      "text/plain": [
       "array([1, 6], dtype=int64)"
      ]
     },
     "execution_count": 90,
     "metadata": {},
     "output_type": "execute_result"
    }
   ],
   "source": [
    "beach_systems['tipoElCod'].unique()"
   ]
  },
  {
   "cell_type": "code",
   "execution_count": 91,
   "metadata": {},
   "outputs": [
    {
     "data": {
      "text/plain": [
       "array(['Campi dunari', 'Sistemi di spiaggia'], dtype=object)"
      ]
     },
     "execution_count": 91,
     "metadata": {},
     "output_type": "execute_result"
    }
   ],
   "source": [
    "beach_systems['tipoElDesc'].unique()"
   ]
  },
  {
   "cell_type": "code",
   "execution_count": 92,
   "metadata": {},
   "outputs": [],
   "source": [
    "# include only 'Sistemi di spiaggia'\n",
    "values_to_select = ['Sistemi di spiaggia']\n",
    "beach_systems = beach_systems[beach_systems['tipoElDesc'].isin(values_to_select)]"
   ]
  },
  {
   "cell_type": "code",
   "execution_count": 93,
   "metadata": {},
   "outputs": [
    {
     "data": {
      "text/html": [
       "<div>\n",
       "<style scoped>\n",
       "    .dataframe tbody tr th:only-of-type {\n",
       "        vertical-align: middle;\n",
       "    }\n",
       "\n",
       "    .dataframe tbody tr th {\n",
       "        vertical-align: top;\n",
       "    }\n",
       "\n",
       "    .dataframe thead th {\n",
       "        text-align: right;\n",
       "    }\n",
       "</style>\n",
       "<table border=\"1\" class=\"dataframe\">\n",
       "  <thead>\n",
       "    <tr style=\"text-align: right;\">\n",
       "      <th></th>\n",
       "      <th>idFeature</th>\n",
       "      <th>tipoElCod</th>\n",
       "      <th>tipoElDesc</th>\n",
       "      <th>geometry</th>\n",
       "    </tr>\n",
       "  </thead>\n",
       "  <tbody>\n",
       "    <tr>\n",
       "      <th>1</th>\n",
       "      <td>13</td>\n",
       "      <td>6</td>\n",
       "      <td>Sistemi di spiaggia</td>\n",
       "      <td>POLYGON ((1536633.808 4553944.595, 1536617.981...</td>\n",
       "    </tr>\n",
       "    <tr>\n",
       "      <th>2</th>\n",
       "      <td>15</td>\n",
       "      <td>6</td>\n",
       "      <td>Sistemi di spiaggia</td>\n",
       "      <td>POLYGON ((1524692.652 4340574.869, 1524744.634...</td>\n",
       "    </tr>\n",
       "    <tr>\n",
       "      <th>3</th>\n",
       "      <td>16</td>\n",
       "      <td>6</td>\n",
       "      <td>Sistemi di spiaggia</td>\n",
       "      <td>POLYGON ((1525876.907 4340330.435, 1525875.125...</td>\n",
       "    </tr>\n",
       "    <tr>\n",
       "      <th>4</th>\n",
       "      <td>17</td>\n",
       "      <td>6</td>\n",
       "      <td>Sistemi di spiaggia</td>\n",
       "      <td>POLYGON ((1528396.819 4559857.345, 1528395.943...</td>\n",
       "    </tr>\n",
       "    <tr>\n",
       "      <th>5</th>\n",
       "      <td>18</td>\n",
       "      <td>6</td>\n",
       "      <td>Sistemi di spiaggia</td>\n",
       "      <td>POLYGON ((1531579.585 4336474.797, 1531584.768...</td>\n",
       "    </tr>\n",
       "    <tr>\n",
       "      <th>...</th>\n",
       "      <td>...</td>\n",
       "      <td>...</td>\n",
       "      <td>...</td>\n",
       "      <td>...</td>\n",
       "    </tr>\n",
       "    <tr>\n",
       "      <th>324</th>\n",
       "      <td>3348</td>\n",
       "      <td>6</td>\n",
       "      <td>Sistemi di spiaggia</td>\n",
       "      <td>POLYGON ((1551603.693 4354632.788, 1551689.359...</td>\n",
       "    </tr>\n",
       "    <tr>\n",
       "      <th>325</th>\n",
       "      <td>3432</td>\n",
       "      <td>6</td>\n",
       "      <td>Sistemi di spiaggia</td>\n",
       "      <td>POLYGON ((1514397.769 4558427.081, 1514391.198...</td>\n",
       "    </tr>\n",
       "    <tr>\n",
       "      <th>326</th>\n",
       "      <td>3434</td>\n",
       "      <td>6</td>\n",
       "      <td>Sistemi di spiaggia</td>\n",
       "      <td>POLYGON ((1533342.886 4565649.959, 1533351.250...</td>\n",
       "    </tr>\n",
       "    <tr>\n",
       "      <th>327</th>\n",
       "      <td>2732</td>\n",
       "      <td>6</td>\n",
       "      <td>Sistemi di spiaggia</td>\n",
       "      <td>POLYGON ((1471128.024 4307202.065, 1471129.245...</td>\n",
       "    </tr>\n",
       "    <tr>\n",
       "      <th>329</th>\n",
       "      <td>2911</td>\n",
       "      <td>6</td>\n",
       "      <td>Sistemi di spiaggia</td>\n",
       "      <td>POLYGON ((1538528.750 4563613.000, 1538533.272...</td>\n",
       "    </tr>\n",
       "  </tbody>\n",
       "</table>\n",
       "<p>303 rows × 4 columns</p>\n",
       "</div>"
      ],
      "text/plain": [
       "     idFeature  tipoElCod           tipoElDesc  \\\n",
       "1           13          6  Sistemi di spiaggia   \n",
       "2           15          6  Sistemi di spiaggia   \n",
       "3           16          6  Sistemi di spiaggia   \n",
       "4           17          6  Sistemi di spiaggia   \n",
       "5           18          6  Sistemi di spiaggia   \n",
       "..         ...        ...                  ...   \n",
       "324       3348          6  Sistemi di spiaggia   \n",
       "325       3432          6  Sistemi di spiaggia   \n",
       "326       3434          6  Sistemi di spiaggia   \n",
       "327       2732          6  Sistemi di spiaggia   \n",
       "329       2911          6  Sistemi di spiaggia   \n",
       "\n",
       "                                              geometry  \n",
       "1    POLYGON ((1536633.808 4553944.595, 1536617.981...  \n",
       "2    POLYGON ((1524692.652 4340574.869, 1524744.634...  \n",
       "3    POLYGON ((1525876.907 4340330.435, 1525875.125...  \n",
       "4    POLYGON ((1528396.819 4559857.345, 1528395.943...  \n",
       "5    POLYGON ((1531579.585 4336474.797, 1531584.768...  \n",
       "..                                                 ...  \n",
       "324  POLYGON ((1551603.693 4354632.788, 1551689.359...  \n",
       "325  POLYGON ((1514397.769 4558427.081, 1514391.198...  \n",
       "326  POLYGON ((1533342.886 4565649.959, 1533351.250...  \n",
       "327  POLYGON ((1471128.024 4307202.065, 1471129.245...  \n",
       "329  POLYGON ((1538528.750 4563613.000, 1538533.272...  \n",
       "\n",
       "[303 rows x 4 columns]"
      ]
     },
     "execution_count": 93,
     "metadata": {},
     "output_type": "execute_result"
    }
   ],
   "source": [
    "beach_systems"
   ]
  },
  {
   "cell_type": "code",
   "execution_count": 94,
   "metadata": {},
   "outputs": [],
   "source": [
    "# set the proper coordinate reference system (CRS) for visualization (EPSG:4326)\n",
    "beach_systems = beach_systems.to_crs(epsg=4326)"
   ]
  },
  {
   "cell_type": "code",
   "execution_count": 95,
   "metadata": {},
   "outputs": [],
   "source": [
    "# save to csv\n",
    "beach_systems.to_csv('../data/processed/beach_systems.csv', index = False)"
   ]
  }
 ],
 "metadata": {
  "kernelspec": {
   "display_name": "smartcity",
   "language": "python",
   "name": "python3"
  },
  "language_info": {
   "codemirror_mode": {
    "name": "ipython",
    "version": 3
   },
   "file_extension": ".py",
   "mimetype": "text/x-python",
   "name": "python",
   "nbconvert_exporter": "python",
   "pygments_lexer": "ipython3",
   "version": "3.11.4"
  },
  "orig_nbformat": 4
 },
 "nbformat": 4,
 "nbformat_minor": 2
}
