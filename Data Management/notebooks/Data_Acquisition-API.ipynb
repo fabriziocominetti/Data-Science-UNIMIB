{
 "cells": [
  {
   "cell_type": "code",
   "execution_count": 2,
   "metadata": {},
   "outputs": [],
   "source": [
    "import requests\n",
    "import time\n",
    "import hashlib\n",
    "from neo4j import GraphDatabase\n",
    "import json\n",
    "import re\n",
    "from tqdm import tqdm\n",
    "import pandas as pd\n"
   ]
  },
  {
   "cell_type": "code",
   "execution_count": 3,
   "metadata": {},
   "outputs": [],
   "source": [
    "API_PUBLIC_KEY = \"929b4b43b3ab59b27417573fcd5868b9\"\n",
    "API_PRIVATE_KEY = \"27bc1b826da0c2def3525f69a2668e7834744938\"\n",
    "API_LIMIT = 100\n",
    "API_OFFSET = 0"
   ]
  },
  {
   "cell_type": "code",
   "execution_count": 4,
   "metadata": {},
   "outputs": [],
   "source": [
    "current_timestamp = time.time()\n",
    "hash = hashlib.md5((str(current_timestamp)+API_PRIVATE_KEY+API_PUBLIC_KEY).encode())"
   ]
  },
  {
   "cell_type": "markdown",
   "metadata": {},
   "source": [
    "# Ottenimento dati\n",
    "Ottenimento di tutti i dati relativi ai personaggi presenti sulla web api marvel, vengono richiesti i personaggi a gruppi di 100"
   ]
  },
  {
   "cell_type": "code",
   "execution_count": null,
   "metadata": {},
   "outputs": [],
   "source": [
    "import pandas as pd\n",
    "results_ended = False\n",
    "iteration_number = 0\n",
    "\n",
    "API_OFFSET = 0\n",
    "character_list=[]\n",
    "while not results_ended:\n",
    "    print(\"********Starting iteration n. %s \\n\" % (str(iteration_number)))\n",
    "    response_API = requests.get('https://gateway.marvel.com:443/v1/public/characters?limit=%s&offset=%s&apikey=929b4b43b3ab59b27417573fcd5868b9&hash=%s&ts=%s' %\n",
    "                                (API_LIMIT, API_OFFSET, hash.hexdigest(), str(current_timestamp)))\n",
    "    response_JSON = json.loads(response_API.text)\n",
    "    try:\n",
    "        if len(response_JSON['data']['results']) != 0:\n",
    "            for character in response_JSON['data']['results']:\n",
    "                character_list.append(character)\n",
    "            API_OFFSET += API_LIMIT\n",
    "            print(\"********Ending iteration n. %s \\n\" %\n",
    "                  (str(iteration_number)))\n",
    "            iteration_number += 1\n",
    "        else:\n",
    "            results_ended = True\n",
    "    except Exception:\n",
    "        print(Exception)\n",
    "\n",
    "lista_personaggi = pd.DataFrame(character_list, columns=[\n",
    "                                \"id\", \"name\", \"description\", \"modified\", \"thumbnail\", \"resourceURI\", \"comics\", \"series\", \"stories\", \"events\", \"urls\"])\n",
    "\n",
    "lista_personaggi.to_csv(\"./api_character_list.csv\", index=False)"
   ]
  },
  {
   "cell_type": "markdown",
   "metadata": {},
   "source": [
    "# Ottenimento di tutti i fumetti\n",
    "Ottenimento di tutti i fumetti presenti sulla web api marvel, i fumetti sono ottenuti a gruppi di 100"
   ]
  },
  {
   "cell_type": "code",
   "execution_count": 11,
   "metadata": {},
   "outputs": [
    {
     "name": "stdout",
     "output_type": "stream",
     "text": [
      "******** Iteration number 507 **********\n"
     ]
    }
   ],
   "source": [
    "from IPython.display import clear_output\n",
    "results_ended = False\n",
    "iteration_number = 401\n",
    "API_OFFSET = 100 * iteration_number\n",
    "API_LIMIT = 100\n",
    "response_JSON = None\n",
    "comic_list = []\n",
    "while not results_ended and iteration_number <= 600:\n",
    "# for i in tqdm(range(100)):\n",
    "  clear_output(wait=False)\n",
    "  print(\"******** Iteration number %s **********\"%(iteration_number))\n",
    "  try:\n",
    "    response_API = requests.get('https://gateway.marvel.com:443/v1/public/comics?limit=%s&offset=%s&apikey=929b4b43b3ab59b27417573fcd5868b9&hash=%s&ts=%s' %\n",
    "                               (API_LIMIT, API_OFFSET, hash.hexdigest(), str(current_timestamp)))\n",
    "    response_JSON = json.loads(response_API.text)\n",
    "    if response_JSON['data']['results']:\n",
    "        for comic in response_JSON['data']['results']:\n",
    "          temp_comic = comic\n",
    "          temp_comic[\"series\"] = json.dumps(temp_comic[\"series\"])\n",
    "          temp_comic[\"urls\"] = json.dumps(temp_comic[\"urls\"])\n",
    "          temp_comic[\"variants\"] = json.dumps(temp_comic[\"variants\"])\n",
    "          temp_comic[\"collections\"] = json.dumps(temp_comic[\"collections\"])\n",
    "          temp_comic[\"collectedIssues\"] = json.dumps(temp_comic[\"collectedIssues\"])\n",
    "          temp_comic[\"dates\"] = json.dumps(temp_comic[\"dates\"])\n",
    "          temp_comic[\"prices\"] = json.dumps(temp_comic[\"prices\"])\n",
    "          temp_comic[\"images\"] = json.dumps(temp_comic[\"images\"])\n",
    "          temp_comic[\"creators\"] = json.dumps(temp_comic[\"creators\"])\n",
    "          temp_comic[\"characters\"] = json.dumps(temp_comic[\"characters\"])\n",
    "          temp_comic[\"stories\"] = json.dumps(temp_comic[\"stories\"])\n",
    "          temp_comic[\"events\"] = json.dumps(temp_comic[\"events\"])\n",
    "          comic_list.append(temp_comic)\n",
    "# \"characters\", \"stories\", \"events\"])\n",
    "        #print(\"********Ending iteration n. %s ***************\\n\" %(str(iteration_number)))\n",
    "        \n",
    "        iteration_number +=1\n",
    "\n",
    "        API_OFFSET = 100 * iteration_number\n",
    "    else:\n",
    "      results_ended = True\n",
    "  except Exception as e:\n",
    "          print(response_JSON)\n",
    "\n",
    "lista_personaggi = pd.DataFrame(comic_list, columns=[\n",
    "                                \"id\", \"digitalId\", \"title\", \"issueNumber\", \"variantDescription\", \"description\", \"modified\", \"isbn\", \"upc\", \"diamondCode\", \"ean\", \"issn\", \"format\", \"pageCount\", \"textObjects\", \"resourceURI\", \"urls\", \"series\", \"variants\", \"collections\", \"collectedIssues\", \"dates\", \"prices\", \"thumbnail\", \"images\", \"creators\", \"characters\", \"stories\", \"events\"])\n",
    "\n",
    "lista_personaggi.to_csv(\"./api_comic_list4.csv\", index=False)\n",
    "\n",
    "  "
   ]
  }
 ],
 "metadata": {
  "interpreter": {
   "hash": "63fd5069d213b44bf678585dea6b12cceca9941eaf7f819626cde1f2670de90d"
  },
  "kernelspec": {
   "display_name": "Python 3.9.1 64-bit",
   "language": "python",
   "name": "python3"
  },
  "language_info": {
   "codemirror_mode": {
    "name": "ipython",
    "version": 3
   },
   "file_extension": ".py",
   "mimetype": "text/x-python",
   "name": "python",
   "nbconvert_exporter": "python",
   "pygments_lexer": "ipython3",
   "version": "3.9.1"
  },
  "orig_nbformat": 4
 },
 "nbformat": 4,
 "nbformat_minor": 2
}
