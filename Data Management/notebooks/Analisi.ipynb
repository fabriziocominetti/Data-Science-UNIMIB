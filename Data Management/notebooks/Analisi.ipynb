{
 "cells": [
  {
   "cell_type": "markdown",
   "metadata": {},
   "source": [
    "# Analisi dati"
   ]
  },
  {
   "cell_type": "markdown",
   "metadata": {},
   "source": [
    "### Analisi dei personaggi\n",
    "\n",
    "Confronto fra i personaggi della web api e dello scraping, confrontare il nome in modo da porter collegare i dati dei personaggi ottenuti dallo scriping ai dati della web api\n"
   ]
  },
  {
   "cell_type": "code",
   "execution_count": 13,
   "metadata": {},
   "outputs": [],
   "source": [
    "import pandas as pd\n",
    "import re\n",
    "from tqdm import tqdm\n",
    "import json\n",
    "import plotly.express as px\n",
    "import numpy as np\n"
   ]
  },
  {
   "cell_type": "code",
   "execution_count": 14,
   "metadata": {},
   "outputs": [
    {
     "data": {
      "text/html": [
       "<div>\n",
       "<style scoped>\n",
       "    .dataframe tbody tr th:only-of-type {\n",
       "        vertical-align: middle;\n",
       "    }\n",
       "\n",
       "    .dataframe tbody tr th {\n",
       "        vertical-align: top;\n",
       "    }\n",
       "\n",
       "    .dataframe thead th {\n",
       "        text-align: right;\n",
       "    }\n",
       "</style>\n",
       "<table border=\"1\" class=\"dataframe\">\n",
       "  <thead>\n",
       "    <tr style=\"text-align: right;\">\n",
       "      <th></th>\n",
       "      <th>Unnamed: 0</th>\n",
       "      <th>Unnamed: 0.1</th>\n",
       "      <th>Unnamed: 0.1.1</th>\n",
       "      <th>Nome</th>\n",
       "      <th>Link</th>\n",
       "      <th>Biografia</th>\n",
       "      <th>Relazioni</th>\n",
       "      <th>Processed_Name</th>\n",
       "      <th>Film</th>\n",
       "      <th>Serie</th>\n",
       "      <th>Processed_Biography</th>\n",
       "      <th>Filtered_relazioni</th>\n",
       "    </tr>\n",
       "  </thead>\n",
       "  <tbody>\n",
       "    <tr>\n",
       "      <th>0</th>\n",
       "      <td>0</td>\n",
       "      <td>0</td>\n",
       "      <td>0</td>\n",
       "      <td>A'Lars</td>\n",
       "      <td>https://marvelcinematicuniverse.fandom.com/wik...</td>\n",
       "      <td>[\"Biography\", \"Life on Titan\", \"A'Lars fathere...</td>\n",
       "      <td>NaN</td>\n",
       "      <td>a lars</td>\n",
       "      <td>[[\"Avengers: Infinity War\", \"/wiki/Avengers:_I...</td>\n",
       "      <td>NaN</td>\n",
       "      <td>Life on Titan\\nA\\'Lars fathered a son named Th...</td>\n",
       "      <td>NaN</td>\n",
       "    </tr>\n",
       "    <tr>\n",
       "      <th>1</th>\n",
       "      <td>1</td>\n",
       "      <td>1</td>\n",
       "      <td>1</td>\n",
       "      <td>A. Kennedy</td>\n",
       "      <td>https://marvelcinematicuniverse.fandom.com/wik...</td>\n",
       "      <td>[\"Biography\", \"First Encounter With S.H.I.E.L....</td>\n",
       "      <td>NaN</td>\n",
       "      <td>a. kennedy</td>\n",
       "      <td>NaN</td>\n",
       "      <td>[[\"Agents of S.H.I.E.L.D.\", \"/wiki/Agents_of_S...</td>\n",
       "      <td>First Encounter With S.H.I.E.L.D.\\nWhile drivi...</td>\n",
       "      <td>NaN</td>\n",
       "    </tr>\n",
       "    <tr>\n",
       "      <th>2</th>\n",
       "      <td>2</td>\n",
       "      <td>2</td>\n",
       "      <td>2</td>\n",
       "      <td>A.I.M. President</td>\n",
       "      <td>https://marvelcinematicuniverse.fandom.com/wik...</td>\n",
       "      <td>[\"Biography\", \"Obadiah Stane contacted the A.I...</td>\n",
       "      <td>NaN</td>\n",
       "      <td>a.i.m. president</td>\n",
       "      <td>NaN</td>\n",
       "      <td>NaN</td>\n",
       "      <td>Obadiah Stane contacted the A.I.M. President t...</td>\n",
       "      <td>NaN</td>\n",
       "    </tr>\n",
       "    <tr>\n",
       "      <th>3</th>\n",
       "      <td>3</td>\n",
       "      <td>3</td>\n",
       "      <td>3</td>\n",
       "      <td>Aaron (Apple Inc.)</td>\n",
       "      <td>https://marvelcinematicuniverse.fandom.com/wik...</td>\n",
       "      <td>[\"Biography\", \"Apple Inc.\", \"Assisting Custome...</td>\n",
       "      <td>NaN</td>\n",
       "      <td>aaron</td>\n",
       "      <td>[[\"Captain America: The Winter Soldier\", \"/wik...</td>\n",
       "      <td>NaN</td>\n",
       "      <td>Apple Inc.\\nAssisting Customers\\n\\\"I have the ...</td>\n",
       "      <td>NaN</td>\n",
       "    </tr>\n",
       "    <tr>\n",
       "      <th>4</th>\n",
       "      <td>4</td>\n",
       "      <td>4</td>\n",
       "      <td>4</td>\n",
       "      <td>Aaron (Baby)</td>\n",
       "      <td>https://marvelcinematicuniverse.fandom.com/wik...</td>\n",
       "      <td>[\"Biography\", \"Sophie walked with her son crad...</td>\n",
       "      <td>NaN</td>\n",
       "      <td>aaron</td>\n",
       "      <td>NaN</td>\n",
       "      <td>[[\"Jessica Jones\", \"/wiki/Jessica_Jones_(TV_se...</td>\n",
       "      <td>Sophie walked with her son cradled in an attem...</td>\n",
       "      <td>NaN</td>\n",
       "    </tr>\n",
       "    <tr>\n",
       "      <th>...</th>\n",
       "      <td>...</td>\n",
       "      <td>...</td>\n",
       "      <td>...</td>\n",
       "      <td>...</td>\n",
       "      <td>...</td>\n",
       "      <td>...</td>\n",
       "      <td>...</td>\n",
       "      <td>...</td>\n",
       "      <td>...</td>\n",
       "      <td>...</td>\n",
       "      <td>...</td>\n",
       "      <td>...</td>\n",
       "    </tr>\n",
       "    <tr>\n",
       "      <th>3741</th>\n",
       "      <td>3741</td>\n",
       "      <td>3741</td>\n",
       "      <td>3741</td>\n",
       "      <td>Zorianna Kit</td>\n",
       "      <td>https://marvelcinematicuniverse.fandom.com/wik...</td>\n",
       "      <td>[\"Biography\", \"Zorianna Kit reported on Tony S...</td>\n",
       "      <td>NaN</td>\n",
       "      <td>zorianna kit</td>\n",
       "      <td>[[\"Iron Man\", \"/wiki/Iron_Man_(film)\"]]</td>\n",
       "      <td>NaN</td>\n",
       "      <td>Zorianna Kit reported on Tony Stark\\'s expecte...</td>\n",
       "      <td>NaN</td>\n",
       "    </tr>\n",
       "    <tr>\n",
       "      <th>3742</th>\n",
       "      <td>3742</td>\n",
       "      <td>3742</td>\n",
       "      <td>3742</td>\n",
       "      <td>Zrinka</td>\n",
       "      <td>https://marvelcinematicuniverse.fandom.com/wik...</td>\n",
       "      <td>[\"Biography\", \"Zrinka and her brother, Costel,...</td>\n",
       "      <td>[[\"Costel\", \"Brother\"], [\"Steve Rogers/Captain...</td>\n",
       "      <td>zrinka</td>\n",
       "      <td>[[\"Avengers: Age of Ultron\", \"/wiki/Avengers:_...</td>\n",
       "      <td>NaN</td>\n",
       "      <td>Zrinka and her brother, Costel, were in the ma...</td>\n",
       "      <td>[[\"Costel\", \"Brother\"]]</td>\n",
       "    </tr>\n",
       "    <tr>\n",
       "      <th>3743</th>\n",
       "      <td>3743</td>\n",
       "      <td>3743</td>\n",
       "      <td>3743</td>\n",
       "      <td>Zuly Almeida</td>\n",
       "      <td>https://marvelcinematicuniverse.fandom.com/wik...</td>\n",
       "      <td>[\"Biography\", \"Zuly Almeida visited Nelson and...</td>\n",
       "      <td>NaN</td>\n",
       "      <td>zuly almeida</td>\n",
       "      <td>NaN</td>\n",
       "      <td>[[\"Daredevil\", \"/wiki/Daredevil_(TV_series)\"],...</td>\n",
       "      <td>Zuly Almeida visited Nelson and Murdock where ...</td>\n",
       "      <td>NaN</td>\n",
       "    </tr>\n",
       "    <tr>\n",
       "      <th>3744</th>\n",
       "      <td>3744</td>\n",
       "      <td>3744</td>\n",
       "      <td>3744</td>\n",
       "      <td>Zuri</td>\n",
       "      <td>https://marvelcinematicuniverse.fandom.com/wik...</td>\n",
       "      <td>[\"Biography\", \"Early Life\", \"Working with N'Jo...</td>\n",
       "      <td>[[\"Badu \\u2020\", \"Father\"], [\"T'Chaka \\u2020\",...</td>\n",
       "      <td>zuri</td>\n",
       "      <td>[[\"Black Panther\", \"/wiki/Black_Panther_(film)\"]]</td>\n",
       "      <td>NaN</td>\n",
       "      <td>Early Life\\nWorking with N\\'Jobu\\n\\\"Your uncle...</td>\n",
       "      <td>NaN</td>\n",
       "    </tr>\n",
       "    <tr>\n",
       "      <th>3745</th>\n",
       "      <td>3745</td>\n",
       "      <td>3745</td>\n",
       "      <td>3745</td>\n",
       "      <td>Zylak</td>\n",
       "      <td>https://marvelcinematicuniverse.fandom.com/wik...</td>\n",
       "      <td>[\"Biography\", \"Escape from the Sovereign Fleet...</td>\n",
       "      <td>[[\"Ayesha\", \"Superior\"], [\"Sovereign Admiral\"]...</td>\n",
       "      <td>zylak</td>\n",
       "      <td>[[\"Guardians of the Galaxy Vol. 2\", \"/wiki/Gua...</td>\n",
       "      <td>NaN</td>\n",
       "      <td>Escape from the Sovereign Fleet\\nWhen Rocket R...</td>\n",
       "      <td>NaN</td>\n",
       "    </tr>\n",
       "  </tbody>\n",
       "</table>\n",
       "<p>3746 rows × 12 columns</p>\n",
       "</div>"
      ],
      "text/plain": [
       "      Unnamed: 0  Unnamed: 0.1  Unnamed: 0.1.1                Nome  \\\n",
       "0              0             0               0              A'Lars   \n",
       "1              1             1               1          A. Kennedy   \n",
       "2              2             2               2    A.I.M. President   \n",
       "3              3             3               3  Aaron (Apple Inc.)   \n",
       "4              4             4               4        Aaron (Baby)   \n",
       "...          ...           ...             ...                 ...   \n",
       "3741        3741          3741            3741        Zorianna Kit   \n",
       "3742        3742          3742            3742              Zrinka   \n",
       "3743        3743          3743            3743        Zuly Almeida   \n",
       "3744        3744          3744            3744                Zuri   \n",
       "3745        3745          3745            3745               Zylak   \n",
       "\n",
       "                                                   Link  \\\n",
       "0     https://marvelcinematicuniverse.fandom.com/wik...   \n",
       "1     https://marvelcinematicuniverse.fandom.com/wik...   \n",
       "2     https://marvelcinematicuniverse.fandom.com/wik...   \n",
       "3     https://marvelcinematicuniverse.fandom.com/wik...   \n",
       "4     https://marvelcinematicuniverse.fandom.com/wik...   \n",
       "...                                                 ...   \n",
       "3741  https://marvelcinematicuniverse.fandom.com/wik...   \n",
       "3742  https://marvelcinematicuniverse.fandom.com/wik...   \n",
       "3743  https://marvelcinematicuniverse.fandom.com/wik...   \n",
       "3744  https://marvelcinematicuniverse.fandom.com/wik...   \n",
       "3745  https://marvelcinematicuniverse.fandom.com/wik...   \n",
       "\n",
       "                                              Biografia  \\\n",
       "0     [\"Biography\", \"Life on Titan\", \"A'Lars fathere...   \n",
       "1     [\"Biography\", \"First Encounter With S.H.I.E.L....   \n",
       "2     [\"Biography\", \"Obadiah Stane contacted the A.I...   \n",
       "3     [\"Biography\", \"Apple Inc.\", \"Assisting Custome...   \n",
       "4     [\"Biography\", \"Sophie walked with her son crad...   \n",
       "...                                                 ...   \n",
       "3741  [\"Biography\", \"Zorianna Kit reported on Tony S...   \n",
       "3742  [\"Biography\", \"Zrinka and her brother, Costel,...   \n",
       "3743  [\"Biography\", \"Zuly Almeida visited Nelson and...   \n",
       "3744  [\"Biography\", \"Early Life\", \"Working with N'Jo...   \n",
       "3745  [\"Biography\", \"Escape from the Sovereign Fleet...   \n",
       "\n",
       "                                              Relazioni    Processed_Name  \\\n",
       "0                                                   NaN            a lars   \n",
       "1                                                   NaN        a. kennedy   \n",
       "2                                                   NaN  a.i.m. president   \n",
       "3                                                   NaN             aaron   \n",
       "4                                                   NaN             aaron   \n",
       "...                                                 ...               ...   \n",
       "3741                                                NaN      zorianna kit   \n",
       "3742  [[\"Costel\", \"Brother\"], [\"Steve Rogers/Captain...            zrinka   \n",
       "3743                                                NaN      zuly almeida   \n",
       "3744  [[\"Badu \\u2020\", \"Father\"], [\"T'Chaka \\u2020\",...              zuri   \n",
       "3745  [[\"Ayesha\", \"Superior\"], [\"Sovereign Admiral\"]...             zylak   \n",
       "\n",
       "                                                   Film  \\\n",
       "0     [[\"Avengers: Infinity War\", \"/wiki/Avengers:_I...   \n",
       "1                                                   NaN   \n",
       "2                                                   NaN   \n",
       "3     [[\"Captain America: The Winter Soldier\", \"/wik...   \n",
       "4                                                   NaN   \n",
       "...                                                 ...   \n",
       "3741            [[\"Iron Man\", \"/wiki/Iron_Man_(film)\"]]   \n",
       "3742  [[\"Avengers: Age of Ultron\", \"/wiki/Avengers:_...   \n",
       "3743                                                NaN   \n",
       "3744  [[\"Black Panther\", \"/wiki/Black_Panther_(film)\"]]   \n",
       "3745  [[\"Guardians of the Galaxy Vol. 2\", \"/wiki/Gua...   \n",
       "\n",
       "                                                  Serie  \\\n",
       "0                                                   NaN   \n",
       "1     [[\"Agents of S.H.I.E.L.D.\", \"/wiki/Agents_of_S...   \n",
       "2                                                   NaN   \n",
       "3                                                   NaN   \n",
       "4     [[\"Jessica Jones\", \"/wiki/Jessica_Jones_(TV_se...   \n",
       "...                                                 ...   \n",
       "3741                                                NaN   \n",
       "3742                                                NaN   \n",
       "3743  [[\"Daredevil\", \"/wiki/Daredevil_(TV_series)\"],...   \n",
       "3744                                                NaN   \n",
       "3745                                                NaN   \n",
       "\n",
       "                                    Processed_Biography  \\\n",
       "0     Life on Titan\\nA\\'Lars fathered a son named Th...   \n",
       "1     First Encounter With S.H.I.E.L.D.\\nWhile drivi...   \n",
       "2     Obadiah Stane contacted the A.I.M. President t...   \n",
       "3     Apple Inc.\\nAssisting Customers\\n\\\"I have the ...   \n",
       "4     Sophie walked with her son cradled in an attem...   \n",
       "...                                                 ...   \n",
       "3741  Zorianna Kit reported on Tony Stark\\'s expecte...   \n",
       "3742  Zrinka and her brother, Costel, were in the ma...   \n",
       "3743  Zuly Almeida visited Nelson and Murdock where ...   \n",
       "3744  Early Life\\nWorking with N\\'Jobu\\n\\\"Your uncle...   \n",
       "3745  Escape from the Sovereign Fleet\\nWhen Rocket R...   \n",
       "\n",
       "           Filtered_relazioni  \n",
       "0                         NaN  \n",
       "1                         NaN  \n",
       "2                         NaN  \n",
       "3                         NaN  \n",
       "4                         NaN  \n",
       "...                       ...  \n",
       "3741                      NaN  \n",
       "3742  [[\"Costel\", \"Brother\"]]  \n",
       "3743                      NaN  \n",
       "3744                      NaN  \n",
       "3745                      NaN  \n",
       "\n",
       "[3746 rows x 12 columns]"
      ]
     },
     "execution_count": 14,
     "metadata": {},
     "output_type": "execute_result"
    }
   ],
   "source": [
    "api_characters_dataset = pd.read_csv(\"./Datasets/api_character_list.csv\")\n",
    "scraping_characters_dataset = pd.read_csv(\"./Datasets/scraping_personaggi_completo_filtered_relations.csv\")\n",
    "film_dataset = pd.read_csv(\"./Datasets/film_data_scraping.csv\")\n",
    "tv_series_dataset = pd.read_csv(\"./Datasets/tv_series.csv\")\n",
    "comics = pd.read_csv(\"./Datasets/merged.csv\")\n",
    "tv_series_dataset.replace(\"[]\", np.NaN)\n",
    "film_dataset.replace(\"[]\", np.NaN)\n",
    "scraping_characters_dataset.replace(\"[]\", np.NaN)"
   ]
  },
  {
   "cell_type": "code",
   "execution_count": 3,
   "metadata": {},
   "outputs": [],
   "source": [
    "def matching_characters(first_name, second_name):\n",
    "  first_name_without_paranthesys = re.sub(\"[\\(\\[].*?[\\)\\]]\", \"\", first_name.strip()).strip()\n",
    "  first_name_without_paranthesys = first_name_without_paranthesys.replace(\"'\", \" \").replace('\"', \" \").replace(\"-\",\" \").strip()\n",
    "  second_name_without_paranthesys = re.sub(\n",
    "      \"[\\(\\[].*?[\\)\\]]\", \"\", second_name.strip()).strip()\n",
    "  secondt_name_without_paranthesys = second_name_without_paranthesys.replace(\n",
    "      \"'\", \" \").replace('\"', \" \").replace(\"-\", \" \").strip()\n",
    "  return first_name_without_paranthesys.lower() == second_name_without_paranthesys.lower()\n"
   ]
  },
  {
   "cell_type": "code",
   "execution_count": 4,
   "metadata": {},
   "outputs": [
    {
     "name": "stderr",
     "output_type": "stream",
     "text": [
      "100%|██████████| 3746/3746 [00:00<00:00, 23854.54it/s]\n"
     ]
    }
   ],
   "source": [
    "for idx, row in tqdm(scraping_characters_dataset.iterrows(), total=scraping_characters_dataset.shape[0]):\n",
    "  proc_name = re.sub(\n",
    "      \"[\\(\\[].*?[\\)\\]]\", \"\", row[\"Processed_Name\"].strip()).strip()\n",
    "  scraping_characters_dataset.at[idx, \"Processed_Name\"] = proc_name.lower()\n",
    "scraping_characters_dataset.head(10)\n",
    "scraping_characters_dataset.to_csv(\n",
    "    \"./Datasets/scraping_personaggi_completo_filtered_relations.csv\")\n"
   ]
  },
  {
   "cell_type": "code",
   "execution_count": 5,
   "metadata": {},
   "outputs": [
    {
     "name": "stderr",
     "output_type": "stream",
     "text": [
      "100%|██████████| 1559/1559 [00:01<00:00, 1187.09it/s]\n"
     ]
    },
    {
     "name": "stdout",
     "output_type": "stream",
     "text": [
      "Numero di corrispondenze: 325\n"
     ]
    },
    {
     "data": {
      "application/vnd.plotly.v1+json": {
       "config": {
        "plotlyServerURL": "https://plot.ly"
       },
       "data": [
        {
         "alignmentgroup": "True",
         "hovertemplate": "type=%{x}<br>count=%{y}<extra></extra>",
         "legendgroup": "",
         "marker": {
          "color": "#636efa",
          "pattern": {
           "shape": ""
          }
         },
         "name": "",
         "offsetgroup": "",
         "orientation": "v",
         "showlegend": false,
         "textposition": "auto",
         "type": "bar",
         "width": 0.25,
         "x": [
          "Personaggi collegati",
          "Personaggi non collegate"
         ],
         "xaxis": "x",
         "y": [
          325,
          1234
         ],
         "yaxis": "y"
        }
       ],
       "layout": {
        "barmode": "relative",
        "legend": {
         "tracegroupgap": 0
        },
        "margin": {
         "t": 60
        },
        "template": {
         "data": {
          "bar": [
           {
            "error_x": {
             "color": "#2a3f5f"
            },
            "error_y": {
             "color": "#2a3f5f"
            },
            "marker": {
             "line": {
              "color": "#E5ECF6",
              "width": 0.5
             },
             "pattern": {
              "fillmode": "overlay",
              "size": 10,
              "solidity": 0.2
             }
            },
            "type": "bar"
           }
          ],
          "barpolar": [
           {
            "marker": {
             "line": {
              "color": "#E5ECF6",
              "width": 0.5
             },
             "pattern": {
              "fillmode": "overlay",
              "size": 10,
              "solidity": 0.2
             }
            },
            "type": "barpolar"
           }
          ],
          "carpet": [
           {
            "aaxis": {
             "endlinecolor": "#2a3f5f",
             "gridcolor": "white",
             "linecolor": "white",
             "minorgridcolor": "white",
             "startlinecolor": "#2a3f5f"
            },
            "baxis": {
             "endlinecolor": "#2a3f5f",
             "gridcolor": "white",
             "linecolor": "white",
             "minorgridcolor": "white",
             "startlinecolor": "#2a3f5f"
            },
            "type": "carpet"
           }
          ],
          "choropleth": [
           {
            "colorbar": {
             "outlinewidth": 0,
             "ticks": ""
            },
            "type": "choropleth"
           }
          ],
          "contour": [
           {
            "colorbar": {
             "outlinewidth": 0,
             "ticks": ""
            },
            "colorscale": [
             [
              0,
              "#0d0887"
             ],
             [
              0.1111111111111111,
              "#46039f"
             ],
             [
              0.2222222222222222,
              "#7201a8"
             ],
             [
              0.3333333333333333,
              "#9c179e"
             ],
             [
              0.4444444444444444,
              "#bd3786"
             ],
             [
              0.5555555555555556,
              "#d8576b"
             ],
             [
              0.6666666666666666,
              "#ed7953"
             ],
             [
              0.7777777777777778,
              "#fb9f3a"
             ],
             [
              0.8888888888888888,
              "#fdca26"
             ],
             [
              1,
              "#f0f921"
             ]
            ],
            "type": "contour"
           }
          ],
          "contourcarpet": [
           {
            "colorbar": {
             "outlinewidth": 0,
             "ticks": ""
            },
            "type": "contourcarpet"
           }
          ],
          "heatmap": [
           {
            "colorbar": {
             "outlinewidth": 0,
             "ticks": ""
            },
            "colorscale": [
             [
              0,
              "#0d0887"
             ],
             [
              0.1111111111111111,
              "#46039f"
             ],
             [
              0.2222222222222222,
              "#7201a8"
             ],
             [
              0.3333333333333333,
              "#9c179e"
             ],
             [
              0.4444444444444444,
              "#bd3786"
             ],
             [
              0.5555555555555556,
              "#d8576b"
             ],
             [
              0.6666666666666666,
              "#ed7953"
             ],
             [
              0.7777777777777778,
              "#fb9f3a"
             ],
             [
              0.8888888888888888,
              "#fdca26"
             ],
             [
              1,
              "#f0f921"
             ]
            ],
            "type": "heatmap"
           }
          ],
          "heatmapgl": [
           {
            "colorbar": {
             "outlinewidth": 0,
             "ticks": ""
            },
            "colorscale": [
             [
              0,
              "#0d0887"
             ],
             [
              0.1111111111111111,
              "#46039f"
             ],
             [
              0.2222222222222222,
              "#7201a8"
             ],
             [
              0.3333333333333333,
              "#9c179e"
             ],
             [
              0.4444444444444444,
              "#bd3786"
             ],
             [
              0.5555555555555556,
              "#d8576b"
             ],
             [
              0.6666666666666666,
              "#ed7953"
             ],
             [
              0.7777777777777778,
              "#fb9f3a"
             ],
             [
              0.8888888888888888,
              "#fdca26"
             ],
             [
              1,
              "#f0f921"
             ]
            ],
            "type": "heatmapgl"
           }
          ],
          "histogram": [
           {
            "marker": {
             "pattern": {
              "fillmode": "overlay",
              "size": 10,
              "solidity": 0.2
             }
            },
            "type": "histogram"
           }
          ],
          "histogram2d": [
           {
            "colorbar": {
             "outlinewidth": 0,
             "ticks": ""
            },
            "colorscale": [
             [
              0,
              "#0d0887"
             ],
             [
              0.1111111111111111,
              "#46039f"
             ],
             [
              0.2222222222222222,
              "#7201a8"
             ],
             [
              0.3333333333333333,
              "#9c179e"
             ],
             [
              0.4444444444444444,
              "#bd3786"
             ],
             [
              0.5555555555555556,
              "#d8576b"
             ],
             [
              0.6666666666666666,
              "#ed7953"
             ],
             [
              0.7777777777777778,
              "#fb9f3a"
             ],
             [
              0.8888888888888888,
              "#fdca26"
             ],
             [
              1,
              "#f0f921"
             ]
            ],
            "type": "histogram2d"
           }
          ],
          "histogram2dcontour": [
           {
            "colorbar": {
             "outlinewidth": 0,
             "ticks": ""
            },
            "colorscale": [
             [
              0,
              "#0d0887"
             ],
             [
              0.1111111111111111,
              "#46039f"
             ],
             [
              0.2222222222222222,
              "#7201a8"
             ],
             [
              0.3333333333333333,
              "#9c179e"
             ],
             [
              0.4444444444444444,
              "#bd3786"
             ],
             [
              0.5555555555555556,
              "#d8576b"
             ],
             [
              0.6666666666666666,
              "#ed7953"
             ],
             [
              0.7777777777777778,
              "#fb9f3a"
             ],
             [
              0.8888888888888888,
              "#fdca26"
             ],
             [
              1,
              "#f0f921"
             ]
            ],
            "type": "histogram2dcontour"
           }
          ],
          "mesh3d": [
           {
            "colorbar": {
             "outlinewidth": 0,
             "ticks": ""
            },
            "type": "mesh3d"
           }
          ],
          "parcoords": [
           {
            "line": {
             "colorbar": {
              "outlinewidth": 0,
              "ticks": ""
             }
            },
            "type": "parcoords"
           }
          ],
          "pie": [
           {
            "automargin": true,
            "type": "pie"
           }
          ],
          "scatter": [
           {
            "marker": {
             "colorbar": {
              "outlinewidth": 0,
              "ticks": ""
             }
            },
            "type": "scatter"
           }
          ],
          "scatter3d": [
           {
            "line": {
             "colorbar": {
              "outlinewidth": 0,
              "ticks": ""
             }
            },
            "marker": {
             "colorbar": {
              "outlinewidth": 0,
              "ticks": ""
             }
            },
            "type": "scatter3d"
           }
          ],
          "scattercarpet": [
           {
            "marker": {
             "colorbar": {
              "outlinewidth": 0,
              "ticks": ""
             }
            },
            "type": "scattercarpet"
           }
          ],
          "scattergeo": [
           {
            "marker": {
             "colorbar": {
              "outlinewidth": 0,
              "ticks": ""
             }
            },
            "type": "scattergeo"
           }
          ],
          "scattergl": [
           {
            "marker": {
             "colorbar": {
              "outlinewidth": 0,
              "ticks": ""
             }
            },
            "type": "scattergl"
           }
          ],
          "scattermapbox": [
           {
            "marker": {
             "colorbar": {
              "outlinewidth": 0,
              "ticks": ""
             }
            },
            "type": "scattermapbox"
           }
          ],
          "scatterpolar": [
           {
            "marker": {
             "colorbar": {
              "outlinewidth": 0,
              "ticks": ""
             }
            },
            "type": "scatterpolar"
           }
          ],
          "scatterpolargl": [
           {
            "marker": {
             "colorbar": {
              "outlinewidth": 0,
              "ticks": ""
             }
            },
            "type": "scatterpolargl"
           }
          ],
          "scatterternary": [
           {
            "marker": {
             "colorbar": {
              "outlinewidth": 0,
              "ticks": ""
             }
            },
            "type": "scatterternary"
           }
          ],
          "surface": [
           {
            "colorbar": {
             "outlinewidth": 0,
             "ticks": ""
            },
            "colorscale": [
             [
              0,
              "#0d0887"
             ],
             [
              0.1111111111111111,
              "#46039f"
             ],
             [
              0.2222222222222222,
              "#7201a8"
             ],
             [
              0.3333333333333333,
              "#9c179e"
             ],
             [
              0.4444444444444444,
              "#bd3786"
             ],
             [
              0.5555555555555556,
              "#d8576b"
             ],
             [
              0.6666666666666666,
              "#ed7953"
             ],
             [
              0.7777777777777778,
              "#fb9f3a"
             ],
             [
              0.8888888888888888,
              "#fdca26"
             ],
             [
              1,
              "#f0f921"
             ]
            ],
            "type": "surface"
           }
          ],
          "table": [
           {
            "cells": {
             "fill": {
              "color": "#EBF0F8"
             },
             "line": {
              "color": "white"
             }
            },
            "header": {
             "fill": {
              "color": "#C8D4E3"
             },
             "line": {
              "color": "white"
             }
            },
            "type": "table"
           }
          ]
         },
         "layout": {
          "annotationdefaults": {
           "arrowcolor": "#2a3f5f",
           "arrowhead": 0,
           "arrowwidth": 1
          },
          "autotypenumbers": "strict",
          "coloraxis": {
           "colorbar": {
            "outlinewidth": 0,
            "ticks": ""
           }
          },
          "colorscale": {
           "diverging": [
            [
             0,
             "#8e0152"
            ],
            [
             0.1,
             "#c51b7d"
            ],
            [
             0.2,
             "#de77ae"
            ],
            [
             0.3,
             "#f1b6da"
            ],
            [
             0.4,
             "#fde0ef"
            ],
            [
             0.5,
             "#f7f7f7"
            ],
            [
             0.6,
             "#e6f5d0"
            ],
            [
             0.7,
             "#b8e186"
            ],
            [
             0.8,
             "#7fbc41"
            ],
            [
             0.9,
             "#4d9221"
            ],
            [
             1,
             "#276419"
            ]
           ],
           "sequential": [
            [
             0,
             "#0d0887"
            ],
            [
             0.1111111111111111,
             "#46039f"
            ],
            [
             0.2222222222222222,
             "#7201a8"
            ],
            [
             0.3333333333333333,
             "#9c179e"
            ],
            [
             0.4444444444444444,
             "#bd3786"
            ],
            [
             0.5555555555555556,
             "#d8576b"
            ],
            [
             0.6666666666666666,
             "#ed7953"
            ],
            [
             0.7777777777777778,
             "#fb9f3a"
            ],
            [
             0.8888888888888888,
             "#fdca26"
            ],
            [
             1,
             "#f0f921"
            ]
           ],
           "sequentialminus": [
            [
             0,
             "#0d0887"
            ],
            [
             0.1111111111111111,
             "#46039f"
            ],
            [
             0.2222222222222222,
             "#7201a8"
            ],
            [
             0.3333333333333333,
             "#9c179e"
            ],
            [
             0.4444444444444444,
             "#bd3786"
            ],
            [
             0.5555555555555556,
             "#d8576b"
            ],
            [
             0.6666666666666666,
             "#ed7953"
            ],
            [
             0.7777777777777778,
             "#fb9f3a"
            ],
            [
             0.8888888888888888,
             "#fdca26"
            ],
            [
             1,
             "#f0f921"
            ]
           ]
          },
          "colorway": [
           "#636efa",
           "#EF553B",
           "#00cc96",
           "#ab63fa",
           "#FFA15A",
           "#19d3f3",
           "#FF6692",
           "#B6E880",
           "#FF97FF",
           "#FECB52"
          ],
          "font": {
           "color": "#2a3f5f"
          },
          "geo": {
           "bgcolor": "white",
           "lakecolor": "white",
           "landcolor": "#E5ECF6",
           "showlakes": true,
           "showland": true,
           "subunitcolor": "white"
          },
          "hoverlabel": {
           "align": "left"
          },
          "hovermode": "closest",
          "mapbox": {
           "style": "light"
          },
          "paper_bgcolor": "white",
          "plot_bgcolor": "#E5ECF6",
          "polar": {
           "angularaxis": {
            "gridcolor": "white",
            "linecolor": "white",
            "ticks": ""
           },
           "bgcolor": "#E5ECF6",
           "radialaxis": {
            "gridcolor": "white",
            "linecolor": "white",
            "ticks": ""
           }
          },
          "scene": {
           "xaxis": {
            "backgroundcolor": "#E5ECF6",
            "gridcolor": "white",
            "gridwidth": 2,
            "linecolor": "white",
            "showbackground": true,
            "ticks": "",
            "zerolinecolor": "white"
           },
           "yaxis": {
            "backgroundcolor": "#E5ECF6",
            "gridcolor": "white",
            "gridwidth": 2,
            "linecolor": "white",
            "showbackground": true,
            "ticks": "",
            "zerolinecolor": "white"
           },
           "zaxis": {
            "backgroundcolor": "#E5ECF6",
            "gridcolor": "white",
            "gridwidth": 2,
            "linecolor": "white",
            "showbackground": true,
            "ticks": "",
            "zerolinecolor": "white"
           }
          },
          "shapedefaults": {
           "line": {
            "color": "#2a3f5f"
           }
          },
          "ternary": {
           "aaxis": {
            "gridcolor": "white",
            "linecolor": "white",
            "ticks": ""
           },
           "baxis": {
            "gridcolor": "white",
            "linecolor": "white",
            "ticks": ""
           },
           "bgcolor": "#E5ECF6",
           "caxis": {
            "gridcolor": "white",
            "linecolor": "white",
            "ticks": ""
           }
          },
          "title": {
           "x": 0.05
          },
          "xaxis": {
           "automargin": true,
           "gridcolor": "white",
           "linecolor": "white",
           "ticks": "",
           "title": {
            "standoff": 15
           },
           "zerolinecolor": "white",
           "zerolinewidth": 2
          },
          "yaxis": {
           "automargin": true,
           "gridcolor": "white",
           "linecolor": "white",
           "ticks": "",
           "title": {
            "standoff": 15
           },
           "zerolinecolor": "white",
           "zerolinewidth": 2
          }
         }
        },
        "width": 700,
        "xaxis": {
         "anchor": "y",
         "domain": [
          0,
          1
         ],
         "title": {
          "text": "type"
         }
        },
        "yaxis": {
         "anchor": "x",
         "domain": [
          0,
          1
         ],
         "title": {
          "text": "count"
         }
        }
       }
      }
     },
     "metadata": {},
     "output_type": "display_data"
    }
   ],
   "source": [
    "num_link = 0\n",
    "for idx, row in tqdm(api_characters_dataset.iterrows(), total=api_characters_dataset.shape[0]):\n",
    "  formatted_name = re.sub(\n",
    "      \"[\\(\\[].*?[\\)\\]]\", \"\", row[\"name\"].strip()).strip()\n",
    "  querystring = \"Processed_Name == '%s'\" % (\n",
    "      formatted_name.replace(\"'\", \" \").replace('\"', \" \").replace(\" \\u2020\", \"\").lower())\n",
    "  if len(scraping_characters_dataset.query(querystring)) != 0:\n",
    "    num_link += 1\n",
    "print(\"Numero di corrispondenze: %s\"%(num_link))\n",
    "dataframe = pd.DataFrame([[\"Personaggi collegati\", num_link], [\n",
    "                         \"Personaggi non collegate\", api_characters_dataset.shape[0] - num_link]], columns=[\"type\", \"count\"])\n",
    "fig = px.bar(dataframe, x='type', y='count', width=700)\n",
    "fig.update_traces(width=0.25)\n",
    "fig.show()\n"
   ]
  },
  {
   "cell_type": "markdown",
   "metadata": {},
   "source": [
    "323 personaggi ottenuti dalla web api sono collegabili con i personaggi ottenuti tramite scraping"
   ]
  },
  {
   "cell_type": "markdown",
   "metadata": {},
   "source": [
    "# Filtering relazioni"
   ]
  },
  {
   "cell_type": "markdown",
   "metadata": {},
   "source": [
    "Identificazione preliminare delle relazioni che non trovano corrispondenza nella lista di personaggi"
   ]
  },
  {
   "cell_type": "code",
   "execution_count": 6,
   "metadata": {},
   "outputs": [
    {
     "name": "stderr",
     "output_type": "stream",
     "text": [
      "100%|██████████| 3746/3746 [00:41<00:00, 90.27it/s] "
     ]
    },
    {
     "name": "stdout",
     "output_type": "stream",
     "text": [
      "Tenute 45309 relazioni su 61114\n"
     ]
    },
    {
     "name": "stderr",
     "output_type": "stream",
     "text": [
      "\n"
     ]
    },
    {
     "data": {
      "application/vnd.plotly.v1+json": {
       "config": {
        "plotlyServerURL": "https://plot.ly"
       },
       "data": [
        {
         "alignmentgroup": "True",
         "hovertemplate": "type=%{x}<br>count=%{y}<extra></extra>",
         "legendgroup": "",
         "marker": {
          "color": "#636efa",
          "pattern": {
           "shape": ""
          }
         },
         "name": "",
         "offsetgroup": "",
         "orientation": "v",
         "showlegend": false,
         "textposition": "auto",
         "type": "bar",
         "width": 0.25,
         "x": [
          "Relazioni tenute",
          "Relazioni scartate"
         ],
         "xaxis": "x",
         "y": [
          45309,
          15805
         ],
         "yaxis": "y"
        }
       ],
       "layout": {
        "barmode": "relative",
        "legend": {
         "tracegroupgap": 0
        },
        "margin": {
         "t": 60
        },
        "template": {
         "data": {
          "bar": [
           {
            "error_x": {
             "color": "#2a3f5f"
            },
            "error_y": {
             "color": "#2a3f5f"
            },
            "marker": {
             "line": {
              "color": "#E5ECF6",
              "width": 0.5
             },
             "pattern": {
              "fillmode": "overlay",
              "size": 10,
              "solidity": 0.2
             }
            },
            "type": "bar"
           }
          ],
          "barpolar": [
           {
            "marker": {
             "line": {
              "color": "#E5ECF6",
              "width": 0.5
             },
             "pattern": {
              "fillmode": "overlay",
              "size": 10,
              "solidity": 0.2
             }
            },
            "type": "barpolar"
           }
          ],
          "carpet": [
           {
            "aaxis": {
             "endlinecolor": "#2a3f5f",
             "gridcolor": "white",
             "linecolor": "white",
             "minorgridcolor": "white",
             "startlinecolor": "#2a3f5f"
            },
            "baxis": {
             "endlinecolor": "#2a3f5f",
             "gridcolor": "white",
             "linecolor": "white",
             "minorgridcolor": "white",
             "startlinecolor": "#2a3f5f"
            },
            "type": "carpet"
           }
          ],
          "choropleth": [
           {
            "colorbar": {
             "outlinewidth": 0,
             "ticks": ""
            },
            "type": "choropleth"
           }
          ],
          "contour": [
           {
            "colorbar": {
             "outlinewidth": 0,
             "ticks": ""
            },
            "colorscale": [
             [
              0,
              "#0d0887"
             ],
             [
              0.1111111111111111,
              "#46039f"
             ],
             [
              0.2222222222222222,
              "#7201a8"
             ],
             [
              0.3333333333333333,
              "#9c179e"
             ],
             [
              0.4444444444444444,
              "#bd3786"
             ],
             [
              0.5555555555555556,
              "#d8576b"
             ],
             [
              0.6666666666666666,
              "#ed7953"
             ],
             [
              0.7777777777777778,
              "#fb9f3a"
             ],
             [
              0.8888888888888888,
              "#fdca26"
             ],
             [
              1,
              "#f0f921"
             ]
            ],
            "type": "contour"
           }
          ],
          "contourcarpet": [
           {
            "colorbar": {
             "outlinewidth": 0,
             "ticks": ""
            },
            "type": "contourcarpet"
           }
          ],
          "heatmap": [
           {
            "colorbar": {
             "outlinewidth": 0,
             "ticks": ""
            },
            "colorscale": [
             [
              0,
              "#0d0887"
             ],
             [
              0.1111111111111111,
              "#46039f"
             ],
             [
              0.2222222222222222,
              "#7201a8"
             ],
             [
              0.3333333333333333,
              "#9c179e"
             ],
             [
              0.4444444444444444,
              "#bd3786"
             ],
             [
              0.5555555555555556,
              "#d8576b"
             ],
             [
              0.6666666666666666,
              "#ed7953"
             ],
             [
              0.7777777777777778,
              "#fb9f3a"
             ],
             [
              0.8888888888888888,
              "#fdca26"
             ],
             [
              1,
              "#f0f921"
             ]
            ],
            "type": "heatmap"
           }
          ],
          "heatmapgl": [
           {
            "colorbar": {
             "outlinewidth": 0,
             "ticks": ""
            },
            "colorscale": [
             [
              0,
              "#0d0887"
             ],
             [
              0.1111111111111111,
              "#46039f"
             ],
             [
              0.2222222222222222,
              "#7201a8"
             ],
             [
              0.3333333333333333,
              "#9c179e"
             ],
             [
              0.4444444444444444,
              "#bd3786"
             ],
             [
              0.5555555555555556,
              "#d8576b"
             ],
             [
              0.6666666666666666,
              "#ed7953"
             ],
             [
              0.7777777777777778,
              "#fb9f3a"
             ],
             [
              0.8888888888888888,
              "#fdca26"
             ],
             [
              1,
              "#f0f921"
             ]
            ],
            "type": "heatmapgl"
           }
          ],
          "histogram": [
           {
            "marker": {
             "pattern": {
              "fillmode": "overlay",
              "size": 10,
              "solidity": 0.2
             }
            },
            "type": "histogram"
           }
          ],
          "histogram2d": [
           {
            "colorbar": {
             "outlinewidth": 0,
             "ticks": ""
            },
            "colorscale": [
             [
              0,
              "#0d0887"
             ],
             [
              0.1111111111111111,
              "#46039f"
             ],
             [
              0.2222222222222222,
              "#7201a8"
             ],
             [
              0.3333333333333333,
              "#9c179e"
             ],
             [
              0.4444444444444444,
              "#bd3786"
             ],
             [
              0.5555555555555556,
              "#d8576b"
             ],
             [
              0.6666666666666666,
              "#ed7953"
             ],
             [
              0.7777777777777778,
              "#fb9f3a"
             ],
             [
              0.8888888888888888,
              "#fdca26"
             ],
             [
              1,
              "#f0f921"
             ]
            ],
            "type": "histogram2d"
           }
          ],
          "histogram2dcontour": [
           {
            "colorbar": {
             "outlinewidth": 0,
             "ticks": ""
            },
            "colorscale": [
             [
              0,
              "#0d0887"
             ],
             [
              0.1111111111111111,
              "#46039f"
             ],
             [
              0.2222222222222222,
              "#7201a8"
             ],
             [
              0.3333333333333333,
              "#9c179e"
             ],
             [
              0.4444444444444444,
              "#bd3786"
             ],
             [
              0.5555555555555556,
              "#d8576b"
             ],
             [
              0.6666666666666666,
              "#ed7953"
             ],
             [
              0.7777777777777778,
              "#fb9f3a"
             ],
             [
              0.8888888888888888,
              "#fdca26"
             ],
             [
              1,
              "#f0f921"
             ]
            ],
            "type": "histogram2dcontour"
           }
          ],
          "mesh3d": [
           {
            "colorbar": {
             "outlinewidth": 0,
             "ticks": ""
            },
            "type": "mesh3d"
           }
          ],
          "parcoords": [
           {
            "line": {
             "colorbar": {
              "outlinewidth": 0,
              "ticks": ""
             }
            },
            "type": "parcoords"
           }
          ],
          "pie": [
           {
            "automargin": true,
            "type": "pie"
           }
          ],
          "scatter": [
           {
            "marker": {
             "colorbar": {
              "outlinewidth": 0,
              "ticks": ""
             }
            },
            "type": "scatter"
           }
          ],
          "scatter3d": [
           {
            "line": {
             "colorbar": {
              "outlinewidth": 0,
              "ticks": ""
             }
            },
            "marker": {
             "colorbar": {
              "outlinewidth": 0,
              "ticks": ""
             }
            },
            "type": "scatter3d"
           }
          ],
          "scattercarpet": [
           {
            "marker": {
             "colorbar": {
              "outlinewidth": 0,
              "ticks": ""
             }
            },
            "type": "scattercarpet"
           }
          ],
          "scattergeo": [
           {
            "marker": {
             "colorbar": {
              "outlinewidth": 0,
              "ticks": ""
             }
            },
            "type": "scattergeo"
           }
          ],
          "scattergl": [
           {
            "marker": {
             "colorbar": {
              "outlinewidth": 0,
              "ticks": ""
             }
            },
            "type": "scattergl"
           }
          ],
          "scattermapbox": [
           {
            "marker": {
             "colorbar": {
              "outlinewidth": 0,
              "ticks": ""
             }
            },
            "type": "scattermapbox"
           }
          ],
          "scatterpolar": [
           {
            "marker": {
             "colorbar": {
              "outlinewidth": 0,
              "ticks": ""
             }
            },
            "type": "scatterpolar"
           }
          ],
          "scatterpolargl": [
           {
            "marker": {
             "colorbar": {
              "outlinewidth": 0,
              "ticks": ""
             }
            },
            "type": "scatterpolargl"
           }
          ],
          "scatterternary": [
           {
            "marker": {
             "colorbar": {
              "outlinewidth": 0,
              "ticks": ""
             }
            },
            "type": "scatterternary"
           }
          ],
          "surface": [
           {
            "colorbar": {
             "outlinewidth": 0,
             "ticks": ""
            },
            "colorscale": [
             [
              0,
              "#0d0887"
             ],
             [
              0.1111111111111111,
              "#46039f"
             ],
             [
              0.2222222222222222,
              "#7201a8"
             ],
             [
              0.3333333333333333,
              "#9c179e"
             ],
             [
              0.4444444444444444,
              "#bd3786"
             ],
             [
              0.5555555555555556,
              "#d8576b"
             ],
             [
              0.6666666666666666,
              "#ed7953"
             ],
             [
              0.7777777777777778,
              "#fb9f3a"
             ],
             [
              0.8888888888888888,
              "#fdca26"
             ],
             [
              1,
              "#f0f921"
             ]
            ],
            "type": "surface"
           }
          ],
          "table": [
           {
            "cells": {
             "fill": {
              "color": "#EBF0F8"
             },
             "line": {
              "color": "white"
             }
            },
            "header": {
             "fill": {
              "color": "#C8D4E3"
             },
             "line": {
              "color": "white"
             }
            },
            "type": "table"
           }
          ]
         },
         "layout": {
          "annotationdefaults": {
           "arrowcolor": "#2a3f5f",
           "arrowhead": 0,
           "arrowwidth": 1
          },
          "autotypenumbers": "strict",
          "coloraxis": {
           "colorbar": {
            "outlinewidth": 0,
            "ticks": ""
           }
          },
          "colorscale": {
           "diverging": [
            [
             0,
             "#8e0152"
            ],
            [
             0.1,
             "#c51b7d"
            ],
            [
             0.2,
             "#de77ae"
            ],
            [
             0.3,
             "#f1b6da"
            ],
            [
             0.4,
             "#fde0ef"
            ],
            [
             0.5,
             "#f7f7f7"
            ],
            [
             0.6,
             "#e6f5d0"
            ],
            [
             0.7,
             "#b8e186"
            ],
            [
             0.8,
             "#7fbc41"
            ],
            [
             0.9,
             "#4d9221"
            ],
            [
             1,
             "#276419"
            ]
           ],
           "sequential": [
            [
             0,
             "#0d0887"
            ],
            [
             0.1111111111111111,
             "#46039f"
            ],
            [
             0.2222222222222222,
             "#7201a8"
            ],
            [
             0.3333333333333333,
             "#9c179e"
            ],
            [
             0.4444444444444444,
             "#bd3786"
            ],
            [
             0.5555555555555556,
             "#d8576b"
            ],
            [
             0.6666666666666666,
             "#ed7953"
            ],
            [
             0.7777777777777778,
             "#fb9f3a"
            ],
            [
             0.8888888888888888,
             "#fdca26"
            ],
            [
             1,
             "#f0f921"
            ]
           ],
           "sequentialminus": [
            [
             0,
             "#0d0887"
            ],
            [
             0.1111111111111111,
             "#46039f"
            ],
            [
             0.2222222222222222,
             "#7201a8"
            ],
            [
             0.3333333333333333,
             "#9c179e"
            ],
            [
             0.4444444444444444,
             "#bd3786"
            ],
            [
             0.5555555555555556,
             "#d8576b"
            ],
            [
             0.6666666666666666,
             "#ed7953"
            ],
            [
             0.7777777777777778,
             "#fb9f3a"
            ],
            [
             0.8888888888888888,
             "#fdca26"
            ],
            [
             1,
             "#f0f921"
            ]
           ]
          },
          "colorway": [
           "#636efa",
           "#EF553B",
           "#00cc96",
           "#ab63fa",
           "#FFA15A",
           "#19d3f3",
           "#FF6692",
           "#B6E880",
           "#FF97FF",
           "#FECB52"
          ],
          "font": {
           "color": "#2a3f5f"
          },
          "geo": {
           "bgcolor": "white",
           "lakecolor": "white",
           "landcolor": "#E5ECF6",
           "showlakes": true,
           "showland": true,
           "subunitcolor": "white"
          },
          "hoverlabel": {
           "align": "left"
          },
          "hovermode": "closest",
          "mapbox": {
           "style": "light"
          },
          "paper_bgcolor": "white",
          "plot_bgcolor": "#E5ECF6",
          "polar": {
           "angularaxis": {
            "gridcolor": "white",
            "linecolor": "white",
            "ticks": ""
           },
           "bgcolor": "#E5ECF6",
           "radialaxis": {
            "gridcolor": "white",
            "linecolor": "white",
            "ticks": ""
           }
          },
          "scene": {
           "xaxis": {
            "backgroundcolor": "#E5ECF6",
            "gridcolor": "white",
            "gridwidth": 2,
            "linecolor": "white",
            "showbackground": true,
            "ticks": "",
            "zerolinecolor": "white"
           },
           "yaxis": {
            "backgroundcolor": "#E5ECF6",
            "gridcolor": "white",
            "gridwidth": 2,
            "linecolor": "white",
            "showbackground": true,
            "ticks": "",
            "zerolinecolor": "white"
           },
           "zaxis": {
            "backgroundcolor": "#E5ECF6",
            "gridcolor": "white",
            "gridwidth": 2,
            "linecolor": "white",
            "showbackground": true,
            "ticks": "",
            "zerolinecolor": "white"
           }
          },
          "shapedefaults": {
           "line": {
            "color": "#2a3f5f"
           }
          },
          "ternary": {
           "aaxis": {
            "gridcolor": "white",
            "linecolor": "white",
            "ticks": ""
           },
           "baxis": {
            "gridcolor": "white",
            "linecolor": "white",
            "ticks": ""
           },
           "bgcolor": "#E5ECF6",
           "caxis": {
            "gridcolor": "white",
            "linecolor": "white",
            "ticks": ""
           }
          },
          "title": {
           "x": 0.05
          },
          "xaxis": {
           "automargin": true,
           "gridcolor": "white",
           "linecolor": "white",
           "ticks": "",
           "title": {
            "standoff": 15
           },
           "zerolinecolor": "white",
           "zerolinewidth": 2
          },
          "yaxis": {
           "automargin": true,
           "gridcolor": "white",
           "linecolor": "white",
           "ticks": "",
           "title": {
            "standoff": 15
           },
           "zerolinecolor": "white",
           "zerolinewidth": 2
          }
         }
        },
        "width": 700,
        "xaxis": {
         "anchor": "y",
         "domain": [
          0,
          1
         ],
         "title": {
          "text": "type"
         }
        },
        "yaxis": {
         "anchor": "x",
         "domain": [
          0,
          1
         ],
         "title": {
          "text": "count"
         }
        }
       }
      }
     },
     "metadata": {},
     "output_type": "display_data"
    }
   ],
   "source": [
    "character_dataset_scraping = pd.read_csv(\"./Datasets/scraping_personaggi_completo_filtered_name.csv\")\n",
    "linked = 0\n",
    "totale = 0\n",
    "for idx, row in tqdm(character_dataset_scraping.iterrows(), total=character_dataset_scraping.shape[0]):\n",
    "  try:\n",
    "    relations = json.loads(row[\"Relazioni\"])\n",
    "    filtered_relations = []\n",
    "    for relation in relations:\n",
    "        totale += 1\n",
    "        querystring = \"Processed_Name == '%s'\" % (\n",
    "            relation[0].replace(\"'\", \" \").replace('\"', \" \").replace(\" \\u2020\", \"\"))\n",
    "        if len(character_dataset_scraping.query(querystring)) != 0:\n",
    "          linked +=1 \n",
    "  except Exception as e:\n",
    "   None\n",
    "print(\"Tenute %s relazioni su %s\"%(linked, totale))\n",
    "dataframe = pd.DataFrame([[\"Relazioni tenute\", linked],[\"Relazioni scartate\", totale - linked]], columns=[\"type\", \"count\"])\n",
    "fig = px.bar(dataframe, x='type', y='count', width=700)\n",
    "fig.update_traces(width=0.25)\n",
    "fig.show()\n"
   ]
  },
  {
   "cell_type": "markdown",
   "metadata": {},
   "source": [
    "Analisi dati biografie"
   ]
  },
  {
   "cell_type": "code",
   "execution_count": 7,
   "metadata": {},
   "outputs": [
    {
     "name": "stderr",
     "output_type": "stream",
     "text": [
      "100%|██████████| 3746/3746 [00:00<00:00, 27539.74it/s]"
     ]
    },
    {
     "name": "stdout",
     "output_type": "stream",
     "text": [
      "Tenute 0 relazioni su 0\n"
     ]
    },
    {
     "name": "stderr",
     "output_type": "stream",
     "text": [
      "\n"
     ]
    }
   ],
   "source": [
    "character_dataset_scraping = pd.read_csv(\n",
    "    \"./Datasets/scraping_personaggi_completo_filtered_name.csv\")\n",
    "linked = 0\n",
    "totale = 0\n",
    "for idx, row in tqdm(character_dataset_scraping.iterrows(), total=character_dataset_scraping.shape[0]):\n",
    "  try:\n",
    "    if len(row[\"Processed_Biography\"]) < 10:\n",
    "      print(row[\"Processed_Biography\"])\n",
    "    if row[\"Processed_Biography\"].isdigit():\n",
    "      print(row[\"Processed_Biography\"])\n",
    "  except Exception as e:\n",
    "   None\n",
    "print(\"Tenute %s relazioni su %s\" % (linked, totale))\n"
   ]
  },
  {
   "cell_type": "markdown",
   "metadata": {},
   "source": [
    "# Analisi fumetti\n",
    "\n",
    "Analisi descrizioni fumetti\n"
   ]
  },
  {
   "cell_type": "code",
   "execution_count": 8,
   "metadata": {},
   "outputs": [
    {
     "ename": "ModuleNotFoundError",
     "evalue": "No module named 'neo4j'",
     "output_type": "error",
     "traceback": [
      "\u001b[1;31m---------------------------------------------------------------------------\u001b[0m",
      "\u001b[1;31mModuleNotFoundError\u001b[0m                       Traceback (most recent call last)",
      "\u001b[1;32m~\\AppData\\Local\\Temp/ipykernel_13080/2624820955.py\u001b[0m in \u001b[0;36m<module>\u001b[1;34m\u001b[0m\n\u001b[1;32m----> 1\u001b[1;33m \u001b[1;32mfrom\u001b[0m \u001b[0mneo4j\u001b[0m \u001b[1;32mimport\u001b[0m \u001b[0mGraphDatabase\u001b[0m\u001b[1;33m\u001b[0m\u001b[1;33m\u001b[0m\u001b[0m\n\u001b[0m\u001b[0;32m      2\u001b[0m \u001b[0mdb_host\u001b[0m \u001b[1;33m=\u001b[0m \u001b[1;34m\"bolt://localhost:7687\"\u001b[0m\u001b[1;33m\u001b[0m\u001b[1;33m\u001b[0m\u001b[0m\n\u001b[0;32m      3\u001b[0m \u001b[0mpassword\u001b[0m \u001b[1;33m=\u001b[0m \u001b[1;34m\"1234qwer\"\u001b[0m\u001b[1;33m\u001b[0m\u001b[1;33m\u001b[0m\u001b[0m\n\u001b[0;32m      4\u001b[0m \u001b[0mdriver\u001b[0m \u001b[1;33m=\u001b[0m \u001b[0mGraphDatabase\u001b[0m\u001b[1;33m.\u001b[0m\u001b[0mdriver\u001b[0m\u001b[1;33m(\u001b[0m\u001b[0mdb_host\u001b[0m\u001b[1;33m,\u001b[0m \u001b[0mauth\u001b[0m\u001b[1;33m=\u001b[0m\u001b[1;33m(\u001b[0m\u001b[1;34m\"neo4j\"\u001b[0m\u001b[1;33m,\u001b[0m \u001b[0mpassword\u001b[0m\u001b[1;33m)\u001b[0m\u001b[1;33m)\u001b[0m\u001b[1;33m\u001b[0m\u001b[1;33m\u001b[0m\u001b[0m\n\u001b[0;32m      5\u001b[0m \u001b[1;32mwith\u001b[0m \u001b[0mdriver\u001b[0m\u001b[1;33m.\u001b[0m\u001b[0msession\u001b[0m\u001b[1;33m(\u001b[0m\u001b[1;33m)\u001b[0m \u001b[1;32mas\u001b[0m \u001b[0msession\u001b[0m\u001b[1;33m:\u001b[0m\u001b[1;33m\u001b[0m\u001b[1;33m\u001b[0m\u001b[0m\n",
      "\u001b[1;31mModuleNotFoundError\u001b[0m: No module named 'neo4j'"
     ]
    }
   ],
   "source": [
    "from neo4j import GraphDatabase\n",
    "db_host = \"bolt://localhost:7687\"\n",
    "password = \"1234qwer\"\n",
    "driver = GraphDatabase.driver(db_host, auth=(\"neo4j\", password))\n",
    "with driver.session() as session:\n",
    "  try:\n",
    "    comics = session.run(\"MATCH (n:comic) WHERE n.comic_description = 'nan' WITH count(n) AS numero return numero\").single()[0]\n",
    "    \n",
    "    total = session.run(\"MATCH (n:comic) WITH count(n) as totale RETURN totale\").single()[0]\n",
    "    # print(\"Ci sono %s fumetti senza descrizione su %s fumetti\" % (comics, total))\n",
    "    import plotly.express as px\n",
    "    import pandas as pd\n",
    "    dataframe = pd.DataFrame([[\"Fumetti senza descrizione\", comics], [\n",
    "                             \"Fumetti con descrizione\", total - comics]], columns=[\"type\", \"count\"])\n",
    "    dataframe.head()\n",
    "    fig = px.bar(dataframe, x='type', y='count', width=700)\n",
    "    fig.update_traces(width = 0.25)\n",
    "    fig.show()\n",
    "  except Exception as e:\n",
    "    print(e)"
   ]
  },
  {
   "cell_type": "markdown",
   "metadata": {},
   "source": [
    "# Redundancy"
   ]
  },
  {
   "cell_type": "markdown",
   "metadata": {},
   "source": [
    "Personaggi API\n"
   ]
  },
  {
   "cell_type": "code",
   "execution_count": 15,
   "metadata": {},
   "outputs": [
    {
     "name": "stdout",
     "output_type": "stream",
     "text": [
      "1\n"
     ]
    }
   ],
   "source": [
    "tot = api_characters_dataset.shape[0]\n",
    "dups_color = api_characters_dataset.pivot_table(columns=['name'], aggfunc='size')\n",
    "dups_color.shape\n",
    "print(tot - dups_color.shape[0] )"
   ]
  },
  {
   "cell_type": "markdown",
   "metadata": {},
   "source": [
    "Personaggi Scraping"
   ]
  },
  {
   "cell_type": "code",
   "execution_count": 16,
   "metadata": {},
   "outputs": [
    {
     "name": "stdout",
     "output_type": "stream",
     "text": [
      "0\n"
     ]
    }
   ],
   "source": [
    "tot = scraping_characters_dataset.shape[0]\n",
    "dups_color = scraping_characters_dataset.pivot_table(columns=['Nome'], aggfunc='size')\n",
    "dups_color.shape\n",
    "print(tot - dups_color.shape[0] )"
   ]
  },
  {
   "cell_type": "markdown",
   "metadata": {},
   "source": [
    "Comics"
   ]
  },
  {
   "cell_type": "code",
   "execution_count": 17,
   "metadata": {},
   "outputs": [
    {
     "name": "stdout",
     "output_type": "stream",
     "text": [
      "2216\n"
     ]
    }
   ],
   "source": [
    "tot = comics.shape[0]\n",
    "dups_color = comics.pivot_table(columns=['title'], aggfunc='size')\n",
    "dups_color.shape\n",
    "print(tot - dups_color.shape[0] )"
   ]
  },
  {
   "cell_type": "markdown",
   "metadata": {},
   "source": [
    "Film"
   ]
  },
  {
   "cell_type": "code",
   "execution_count": 18,
   "metadata": {},
   "outputs": [
    {
     "name": "stdout",
     "output_type": "stream",
     "text": [
      "0\n"
     ]
    }
   ],
   "source": [
    "tot = film_dataset.shape[0]\n",
    "dups_color = film_dataset.pivot_table(columns=['Title'], aggfunc='size')\n",
    "dups_color.shape\n",
    "print(tot - dups_color.shape[0] )"
   ]
  },
  {
   "cell_type": "markdown",
   "metadata": {},
   "source": [
    "Serie Tv\n"
   ]
  },
  {
   "cell_type": "code",
   "execution_count": 19,
   "metadata": {},
   "outputs": [
    {
     "name": "stdout",
     "output_type": "stream",
     "text": [
      "0\n"
     ]
    }
   ],
   "source": [
    "tot = tv_series_dataset.shape[0]\n",
    "dups_color = tv_series_dataset.pivot_table(columns=['Title'], aggfunc='size')\n",
    "dups_color.shape\n",
    "print(tot - dups_color.shape[0] )"
   ]
  },
  {
   "cell_type": "markdown",
   "metadata": {},
   "source": [
    "# Completezza"
   ]
  },
  {
   "cell_type": "markdown",
   "metadata": {},
   "source": [
    "personaggi api"
   ]
  },
  {
   "cell_type": "code",
   "execution_count": 20,
   "metadata": {},
   "outputs": [
    {
     "name": "stdout",
     "output_type": "stream",
     "text": [
      "0.9269928275701207\n"
     ]
    }
   ],
   "source": [
    "tot = 0\n",
    "for item in api_characters_dataset.isna().sum():\n",
    "  tot += item\n",
    "completezza_tab =1 -(tot /(api_characters_dataset.shape[0]*api_characters_dataset.shape[1])) \n",
    "print(completezza_tab)"
   ]
  },
  {
   "cell_type": "markdown",
   "metadata": {},
   "source": [
    "personaggi Scraping"
   ]
  },
  {
   "cell_type": "code",
   "execution_count": 21,
   "metadata": {},
   "outputs": [
    {
     "name": "stdout",
     "output_type": "stream",
     "text": [
      "0.956976330307884\n"
     ]
    }
   ],
   "source": [
    "tot = 0\n",
    "for item in scraping_characters_dataset.isna().sum():\n",
    "  tot += item\n",
    "completezza_tab =1 -(tot /(scraping_characters_dataset.shape[0]*scraping_characters_dataset.shape[1])) \n",
    "print(completezza_tab)"
   ]
  },
  {
   "cell_type": "markdown",
   "metadata": {},
   "source": [
    "Comics"
   ]
  },
  {
   "cell_type": "code",
   "execution_count": 22,
   "metadata": {},
   "outputs": [
    {
     "name": "stdout",
     "output_type": "stream",
     "text": [
      "0.8396189159838089\n"
     ]
    }
   ],
   "source": [
    "tot = 0\n",
    "for item in comics.isna().sum():\n",
    "  tot += item\n",
    "completezza_tab =1-(tot /(comics.shape[0]*comics.shape[1])) \n",
    "print(completezza_tab)"
   ]
  },
  {
   "cell_type": "markdown",
   "metadata": {},
   "source": [
    "Film"
   ]
  },
  {
   "cell_type": "code",
   "execution_count": 23,
   "metadata": {},
   "outputs": [
    {
     "name": "stdout",
     "output_type": "stream",
     "text": [
      "0.8915343915343915\n"
     ]
    }
   ],
   "source": [
    "tot = 0\n",
    "for item in film_dataset.isna().sum():\n",
    "  tot += item\n",
    "completezza_tab = 1 - (tot /(film_dataset.shape[0]*film_dataset.shape[1]))\n",
    "print(completezza_tab)"
   ]
  },
  {
   "cell_type": "markdown",
   "metadata": {},
   "source": [
    "Serie TV"
   ]
  },
  {
   "cell_type": "code",
   "execution_count": 24,
   "metadata": {},
   "outputs": [
    {
     "name": "stdout",
     "output_type": "stream",
     "text": [
      "0.9671052631578947\n"
     ]
    }
   ],
   "source": [
    "tot = 0\n",
    "for item in tv_series_dataset.isna().sum():\n",
    "  tot += item\n",
    "completezza_tab = 1 -(tot /(tv_series_dataset.shape[0]*tv_series_dataset.shape[1]))\n",
    "print(completezza_tab)"
   ]
  }
 ],
 "metadata": {
  "interpreter": {
   "hash": "63fd5069d213b44bf678585dea6b12cceca9941eaf7f819626cde1f2670de90d"
  },
  "kernelspec": {
   "display_name": "Python 3.9.1 64-bit",
   "language": "python",
   "name": "python3"
  },
  "language_info": {
   "codemirror_mode": {
    "name": "ipython",
    "version": 3
   },
   "file_extension": ".py",
   "mimetype": "text/x-python",
   "name": "python",
   "nbconvert_exporter": "python",
   "pygments_lexer": "ipython3",
   "version": "3.10.1"
  },
  "orig_nbformat": 4
 },
 "nbformat": 4,
 "nbformat_minor": 2
}
