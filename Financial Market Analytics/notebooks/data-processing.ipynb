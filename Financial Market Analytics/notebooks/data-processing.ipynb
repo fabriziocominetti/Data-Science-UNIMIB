{
 "cells": [
  {
   "cell_type": "markdown",
   "metadata": {},
   "source": [
    "### Data Processing"
   ]
  },
  {
   "cell_type": "markdown",
   "metadata": {},
   "source": [
    "5. You must build tilted portfolios based on the $R^2 , \\sigma^{2}_{i} , \\beta^{2}_{i} \\sigma^{2}_{M} , \\sigma^{2}_{ei} , \\alpha_i , r_i$\n",
    "\n",
    "\n",
    "6. To get a tilted portfolio you should sort all the stocks in ascending or descending order depending on the feature or combination/ration of them.\n",
    "\n",
    "7. If you have 100 stocks, when sorted you must select the upper and lower\n",
    "quantile, for example 10% or 20%."
   ]
  },
  {
   "cell_type": "markdown",
   "metadata": {},
   "source": [
    "8. To build a portfolio with the selected stocks you can simply set an equally weighted portfolio. For example, in case of 10 stocks, 10% is invested in each asset.\n",
    "\n",
    "9. To get the returns of the portfolio, simply calculate the weighted average of\n",
    "stock returns involved.\n",
    "\n",
    "10. The portfolios must be rebalanced weekly until the end of the sample."
   ]
  },
  {
   "cell_type": "markdown",
   "metadata": {},
   "source": [
    "Imports"
   ]
  },
  {
   "cell_type": "code",
   "execution_count": 1,
   "metadata": {},
   "outputs": [],
   "source": [
    "import numpy as np\n",
    "import pandas as pd\n",
    "\n",
    "import time\n",
    "import datetime as dt # for defining dates\n",
    "\n",
    "import matplotlib.pyplot as plt # plotting\n",
    "import matplotlib.dates as mdates # styling dates\n",
    "%matplotlib inline\n",
    "\n",
    "from functions import *"
   ]
  },
  {
   "cell_type": "code",
   "execution_count": 2,
   "metadata": {},
   "outputs": [],
   "source": [
    "import os\n",
    "import math\n",
    "import statistics as st"
   ]
  },
  {
   "cell_type": "markdown",
   "metadata": {},
   "source": [
    "Costants"
   ]
  },
  {
   "cell_type": "code",
   "execution_count": 3,
   "metadata": {},
   "outputs": [],
   "source": [
    "# folder used to store stock data\n",
    "folder = \"../data/\"\n",
    "\n",
    "# size of the window used for rolling regression\n",
    "sample_size = 180"
   ]
  },
  {
   "cell_type": "markdown",
   "metadata": {},
   "source": [
    "Read Data"
   ]
  },
  {
   "cell_type": "code",
   "execution_count": 4,
   "metadata": {},
   "outputs": [
    {
     "data": {
      "text/html": [
       "<div>\n",
       "<style scoped>\n",
       "    .dataframe tbody tr th:only-of-type {\n",
       "        vertical-align: middle;\n",
       "    }\n",
       "\n",
       "    .dataframe tbody tr th {\n",
       "        vertical-align: top;\n",
       "    }\n",
       "\n",
       "    .dataframe thead th {\n",
       "        text-align: right;\n",
       "    }\n",
       "</style>\n",
       "<table border=\"1\" class=\"dataframe\">\n",
       "  <thead>\n",
       "    <tr style=\"text-align: right;\">\n",
       "      <th></th>\n",
       "      <th>Date</th>\n",
       "      <th>EuroStoxx50</th>\n",
       "      <th>ADS.DE</th>\n",
       "      <th>ADYEN.AS</th>\n",
       "      <th>AD.AS</th>\n",
       "      <th>AI.PA</th>\n",
       "      <th>AIR.PA</th>\n",
       "      <th>ALV.DE</th>\n",
       "      <th>ABI.BR</th>\n",
       "      <th>ASML.AS</th>\n",
       "      <th>...</th>\n",
       "      <th>SAF.PA</th>\n",
       "      <th>SAN.PA</th>\n",
       "      <th>SAP.DE</th>\n",
       "      <th>SU.PA</th>\n",
       "      <th>SIE.DE</th>\n",
       "      <th>STLA.MI</th>\n",
       "      <th>TTE.PA</th>\n",
       "      <th>DG.PA</th>\n",
       "      <th>VOW.DE</th>\n",
       "      <th>VNA.DE</th>\n",
       "    </tr>\n",
       "  </thead>\n",
       "  <tbody>\n",
       "    <tr>\n",
       "      <th>1</th>\n",
       "      <td>2016-01-04</td>\n",
       "      <td>3164.760010</td>\n",
       "      <td>78.004707</td>\n",
       "      <td>NaN</td>\n",
       "      <td>15.247333</td>\n",
       "      <td>63.063118</td>\n",
       "      <td>53.968327</td>\n",
       "      <td>111.405846</td>\n",
       "      <td>90.266624</td>\n",
       "      <td>74.629242</td>\n",
       "      <td>...</td>\n",
       "      <td>57.882877</td>\n",
       "      <td>59.244190</td>\n",
       "      <td>63.260578</td>\n",
       "      <td>41.909256</td>\n",
       "      <td>68.110123</td>\n",
       "      <td>4.946972</td>\n",
       "      <td>27.490080</td>\n",
       "      <td>47.195293</td>\n",
       "      <td>117.650673</td>\n",
       "      <td>22.053017</td>\n",
       "    </tr>\n",
       "    <tr>\n",
       "      <th>2</th>\n",
       "      <td>2016-01-05</td>\n",
       "      <td>3178.010010</td>\n",
       "      <td>77.737396</td>\n",
       "      <td>NaN</td>\n",
       "      <td>15.321729</td>\n",
       "      <td>62.687923</td>\n",
       "      <td>55.059048</td>\n",
       "      <td>111.762909</td>\n",
       "      <td>91.510849</td>\n",
       "      <td>75.216354</td>\n",
       "      <td>...</td>\n",
       "      <td>57.576126</td>\n",
       "      <td>59.946838</td>\n",
       "      <td>64.022430</td>\n",
       "      <td>42.097519</td>\n",
       "      <td>68.540154</td>\n",
       "      <td>5.077475</td>\n",
       "      <td>27.239086</td>\n",
       "      <td>47.456890</td>\n",
       "      <td>111.036285</td>\n",
       "      <td>22.200811</td>\n",
       "    </tr>\n",
       "    <tr>\n",
       "      <th>3</th>\n",
       "      <td>2016-01-06</td>\n",
       "      <td>3139.320068</td>\n",
       "      <td>76.837410</td>\n",
       "      <td>NaN</td>\n",
       "      <td>15.223837</td>\n",
       "      <td>61.812473</td>\n",
       "      <td>54.331902</td>\n",
       "      <td>112.119972</td>\n",
       "      <td>90.306778</td>\n",
       "      <td>73.464317</td>\n",
       "      <td>...</td>\n",
       "      <td>57.167126</td>\n",
       "      <td>59.137260</td>\n",
       "      <td>64.578133</td>\n",
       "      <td>41.352646</td>\n",
       "      <td>68.269386</td>\n",
       "      <td>4.813435</td>\n",
       "      <td>26.977922</td>\n",
       "      <td>47.178940</td>\n",
       "      <td>110.737564</td>\n",
       "      <td>21.741453</td>\n",
       "    </tr>\n",
       "    <tr>\n",
       "      <th>4</th>\n",
       "      <td>2016-01-07</td>\n",
       "      <td>3084.679932</td>\n",
       "      <td>75.643364</td>\n",
       "      <td>NaN</td>\n",
       "      <td>15.145526</td>\n",
       "      <td>60.386761</td>\n",
       "      <td>53.241184</td>\n",
       "      <td>109.799019</td>\n",
       "      <td>88.781578</td>\n",
       "      <td>71.749557</td>\n",
       "      <td>...</td>\n",
       "      <td>56.051670</td>\n",
       "      <td>58.495708</td>\n",
       "      <td>63.941761</td>\n",
       "      <td>40.501366</td>\n",
       "      <td>66.963402</td>\n",
       "      <td>4.655616</td>\n",
       "      <td>26.323318</td>\n",
       "      <td>46.639381</td>\n",
       "      <td>105.446068</td>\n",
       "      <td>21.334026</td>\n",
       "    </tr>\n",
       "    <tr>\n",
       "      <th>5</th>\n",
       "      <td>2016-01-08</td>\n",
       "      <td>3033.469971</td>\n",
       "      <td>74.360207</td>\n",
       "      <td>NaN</td>\n",
       "      <td>15.176851</td>\n",
       "      <td>59.467541</td>\n",
       "      <td>52.106125</td>\n",
       "      <td>108.406448</td>\n",
       "      <td>86.333267</td>\n",
       "      <td>68.720772</td>\n",
       "      <td>...</td>\n",
       "      <td>55.410286</td>\n",
       "      <td>57.029305</td>\n",
       "      <td>63.681831</td>\n",
       "      <td>40.644611</td>\n",
       "      <td>66.501534</td>\n",
       "      <td>4.464415</td>\n",
       "      <td>25.336323</td>\n",
       "      <td>46.484043</td>\n",
       "      <td>106.726273</td>\n",
       "      <td>20.994507</td>\n",
       "    </tr>\n",
       "  </tbody>\n",
       "</table>\n",
       "<p>5 rows × 52 columns</p>\n",
       "</div>"
      ],
      "text/plain": [
       "        Date  EuroStoxx50     ADS.DE  ADYEN.AS      AD.AS      AI.PA  \\\n",
       "1 2016-01-04  3164.760010  78.004707       NaN  15.247333  63.063118   \n",
       "2 2016-01-05  3178.010010  77.737396       NaN  15.321729  62.687923   \n",
       "3 2016-01-06  3139.320068  76.837410       NaN  15.223837  61.812473   \n",
       "4 2016-01-07  3084.679932  75.643364       NaN  15.145526  60.386761   \n",
       "5 2016-01-08  3033.469971  74.360207       NaN  15.176851  59.467541   \n",
       "\n",
       "      AIR.PA      ALV.DE     ABI.BR    ASML.AS  ...     SAF.PA     SAN.PA  \\\n",
       "1  53.968327  111.405846  90.266624  74.629242  ...  57.882877  59.244190   \n",
       "2  55.059048  111.762909  91.510849  75.216354  ...  57.576126  59.946838   \n",
       "3  54.331902  112.119972  90.306778  73.464317  ...  57.167126  59.137260   \n",
       "4  53.241184  109.799019  88.781578  71.749557  ...  56.051670  58.495708   \n",
       "5  52.106125  108.406448  86.333267  68.720772  ...  55.410286  57.029305   \n",
       "\n",
       "      SAP.DE      SU.PA     SIE.DE   STLA.MI     TTE.PA      DG.PA  \\\n",
       "1  63.260578  41.909256  68.110123  4.946972  27.490080  47.195293   \n",
       "2  64.022430  42.097519  68.540154  5.077475  27.239086  47.456890   \n",
       "3  64.578133  41.352646  68.269386  4.813435  26.977922  47.178940   \n",
       "4  63.941761  40.501366  66.963402  4.655616  26.323318  46.639381   \n",
       "5  63.681831  40.644611  66.501534  4.464415  25.336323  46.484043   \n",
       "\n",
       "       VOW.DE     VNA.DE  \n",
       "1  117.650673  22.053017  \n",
       "2  111.036285  22.200811  \n",
       "3  110.737564  21.741453  \n",
       "4  105.446068  21.334026  \n",
       "5  106.726273  20.994507  \n",
       "\n",
       "[5 rows x 52 columns]"
      ]
     },
     "execution_count": 4,
     "metadata": {},
     "output_type": "execute_result"
    }
   ],
   "source": [
    "df_ES50 = pd.read_csv('../data/raw/ES50.csv', header=1)\n",
    "df_ES50 = df_ES50.iloc[:, : 52]\n",
    "df_ES50 = df_ES50.drop([0])\n",
    "df_ES50 = df_ES50.rename(columns={\"Symbols\": \"Date\", \"^STOXX50E\": \"EuroStoxx50\"})\n",
    "df_ES50['Date'] = pd.to_datetime(df_ES50['Date'])\n",
    "df_ES50.head()"
   ]
  },
  {
   "cell_type": "code",
   "execution_count": 5,
   "metadata": {},
   "outputs": [
    {
     "data": {
      "text/html": [
       "<div>\n",
       "<style scoped>\n",
       "    .dataframe tbody tr th:only-of-type {\n",
       "        vertical-align: middle;\n",
       "    }\n",
       "\n",
       "    .dataframe tbody tr th {\n",
       "        vertical-align: top;\n",
       "    }\n",
       "\n",
       "    .dataframe thead th {\n",
       "        text-align: right;\n",
       "    }\n",
       "</style>\n",
       "<table border=\"1\" class=\"dataframe\">\n",
       "  <thead>\n",
       "    <tr style=\"text-align: right;\">\n",
       "      <th></th>\n",
       "      <th>Date</th>\n",
       "      <th>EuroStoxx50</th>\n",
       "      <th>ADS.DE</th>\n",
       "      <th>ADYEN.AS</th>\n",
       "      <th>AD.AS</th>\n",
       "      <th>AI.PA</th>\n",
       "      <th>AIR.PA</th>\n",
       "      <th>ALV.DE</th>\n",
       "      <th>ABI.BR</th>\n",
       "      <th>ASML.AS</th>\n",
       "      <th>...</th>\n",
       "      <th>SAF.PA</th>\n",
       "      <th>SAN.PA</th>\n",
       "      <th>SAP.DE</th>\n",
       "      <th>SU.PA</th>\n",
       "      <th>SIE.DE</th>\n",
       "      <th>STLA.MI</th>\n",
       "      <th>TTE.PA</th>\n",
       "      <th>DG.PA</th>\n",
       "      <th>VOW.DE</th>\n",
       "      <th>VNA.DE</th>\n",
       "    </tr>\n",
       "  </thead>\n",
       "  <tbody>\n",
       "    <tr>\n",
       "      <th>0</th>\n",
       "      <td>2016-01-05</td>\n",
       "      <td>0.004178</td>\n",
       "      <td>-0.003433</td>\n",
       "      <td>NaN</td>\n",
       "      <td>0.004867</td>\n",
       "      <td>-0.005967</td>\n",
       "      <td>0.020009</td>\n",
       "      <td>0.003200</td>\n",
       "      <td>0.013690</td>\n",
       "      <td>0.007836</td>\n",
       "      <td>...</td>\n",
       "      <td>-0.005314</td>\n",
       "      <td>0.011790</td>\n",
       "      <td>0.011971</td>\n",
       "      <td>0.004482</td>\n",
       "      <td>0.006294</td>\n",
       "      <td>0.026038</td>\n",
       "      <td>-0.009172</td>\n",
       "      <td>0.005528</td>\n",
       "      <td>-0.057863</td>\n",
       "      <td>0.006679</td>\n",
       "    </tr>\n",
       "    <tr>\n",
       "      <th>1</th>\n",
       "      <td>2016-01-06</td>\n",
       "      <td>-0.012249</td>\n",
       "      <td>-0.011645</td>\n",
       "      <td>NaN</td>\n",
       "      <td>-0.006410</td>\n",
       "      <td>-0.014064</td>\n",
       "      <td>-0.013295</td>\n",
       "      <td>0.003190</td>\n",
       "      <td>-0.013245</td>\n",
       "      <td>-0.023569</td>\n",
       "      <td>...</td>\n",
       "      <td>-0.007129</td>\n",
       "      <td>-0.013597</td>\n",
       "      <td>0.008642</td>\n",
       "      <td>-0.017852</td>\n",
       "      <td>-0.003958</td>\n",
       "      <td>-0.053403</td>\n",
       "      <td>-0.009634</td>\n",
       "      <td>-0.005874</td>\n",
       "      <td>-0.002694</td>\n",
       "      <td>-0.020908</td>\n",
       "    </tr>\n",
       "    <tr>\n",
       "      <th>2</th>\n",
       "      <td>2016-01-07</td>\n",
       "      <td>-0.017558</td>\n",
       "      <td>-0.015662</td>\n",
       "      <td>NaN</td>\n",
       "      <td>-0.005157</td>\n",
       "      <td>-0.023335</td>\n",
       "      <td>-0.020279</td>\n",
       "      <td>-0.020918</td>\n",
       "      <td>-0.017033</td>\n",
       "      <td>-0.023618</td>\n",
       "      <td>...</td>\n",
       "      <td>-0.019705</td>\n",
       "      <td>-0.010908</td>\n",
       "      <td>-0.009903</td>\n",
       "      <td>-0.020801</td>\n",
       "      <td>-0.019315</td>\n",
       "      <td>-0.033337</td>\n",
       "      <td>-0.024564</td>\n",
       "      <td>-0.011502</td>\n",
       "      <td>-0.048963</td>\n",
       "      <td>-0.018917</td>\n",
       "    </tr>\n",
       "    <tr>\n",
       "      <th>3</th>\n",
       "      <td>2016-01-08</td>\n",
       "      <td>-0.016741</td>\n",
       "      <td>-0.017109</td>\n",
       "      <td>NaN</td>\n",
       "      <td>0.002066</td>\n",
       "      <td>-0.015339</td>\n",
       "      <td>-0.021550</td>\n",
       "      <td>-0.012764</td>\n",
       "      <td>-0.027964</td>\n",
       "      <td>-0.043130</td>\n",
       "      <td>...</td>\n",
       "      <td>-0.011509</td>\n",
       "      <td>-0.025388</td>\n",
       "      <td>-0.004073</td>\n",
       "      <td>0.003531</td>\n",
       "      <td>-0.006921</td>\n",
       "      <td>-0.041936</td>\n",
       "      <td>-0.038216</td>\n",
       "      <td>-0.003336</td>\n",
       "      <td>0.012068</td>\n",
       "      <td>-0.016042</td>\n",
       "    </tr>\n",
       "    <tr>\n",
       "      <th>4</th>\n",
       "      <td>2016-01-11</td>\n",
       "      <td>-0.001973</td>\n",
       "      <td>0.021458</td>\n",
       "      <td>NaN</td>\n",
       "      <td>0.008222</td>\n",
       "      <td>-0.012060</td>\n",
       "      <td>-0.011123</td>\n",
       "      <td>0.003945</td>\n",
       "      <td>0.019794</td>\n",
       "      <td>0.026101</td>\n",
       "      <td>...</td>\n",
       "      <td>-0.016918</td>\n",
       "      <td>-0.013754</td>\n",
       "      <td>0.007711</td>\n",
       "      <td>-0.019317</td>\n",
       "      <td>-0.006487</td>\n",
       "      <td>-0.004087</td>\n",
       "      <td>0.000000</td>\n",
       "      <td>0.021402</td>\n",
       "      <td>0.013503</td>\n",
       "      <td>0.003987</td>\n",
       "    </tr>\n",
       "    <tr>\n",
       "      <th>5</th>\n",
       "      <td>2016-01-12</td>\n",
       "      <td>0.012203</td>\n",
       "      <td>0.012008</td>\n",
       "      <td>NaN</td>\n",
       "      <td>0.001534</td>\n",
       "      <td>0.027813</td>\n",
       "      <td>0.015200</td>\n",
       "      <td>0.012390</td>\n",
       "      <td>-0.007319</td>\n",
       "      <td>0.003956</td>\n",
       "      <td>...</td>\n",
       "      <td>0.012210</td>\n",
       "      <td>0.009459</td>\n",
       "      <td>0.036343</td>\n",
       "      <td>0.006243</td>\n",
       "      <td>0.005768</td>\n",
       "      <td>0.027602</td>\n",
       "      <td>-0.002681</td>\n",
       "      <td>0.016222</td>\n",
       "      <td>0.020305</td>\n",
       "      <td>0.012429</td>\n",
       "    </tr>\n",
       "    <tr>\n",
       "      <th>6</th>\n",
       "      <td>2016-01-13</td>\n",
       "      <td>0.002724</td>\n",
       "      <td>-0.006394</td>\n",
       "      <td>NaN</td>\n",
       "      <td>0.009409</td>\n",
       "      <td>0.004750</td>\n",
       "      <td>0.008271</td>\n",
       "      <td>0.001619</td>\n",
       "      <td>0.004124</td>\n",
       "      <td>-0.008458</td>\n",
       "      <td>...</td>\n",
       "      <td>0.004876</td>\n",
       "      <td>0.004429</td>\n",
       "      <td>-0.007028</td>\n",
       "      <td>0.001529</td>\n",
       "      <td>-0.003842</td>\n",
       "      <td>-0.013369</td>\n",
       "      <td>0.015979</td>\n",
       "      <td>0.007425</td>\n",
       "      <td>0.004628</td>\n",
       "      <td>-0.004126</td>\n",
       "    </tr>\n",
       "  </tbody>\n",
       "</table>\n",
       "<p>7 rows × 52 columns</p>\n",
       "</div>"
      ],
      "text/plain": [
       "         Date  EuroStoxx50    ADS.DE  ADYEN.AS     AD.AS     AI.PA    AIR.PA  \\\n",
       "0  2016-01-05     0.004178 -0.003433       NaN  0.004867 -0.005967  0.020009   \n",
       "1  2016-01-06    -0.012249 -0.011645       NaN -0.006410 -0.014064 -0.013295   \n",
       "2  2016-01-07    -0.017558 -0.015662       NaN -0.005157 -0.023335 -0.020279   \n",
       "3  2016-01-08    -0.016741 -0.017109       NaN  0.002066 -0.015339 -0.021550   \n",
       "4  2016-01-11    -0.001973  0.021458       NaN  0.008222 -0.012060 -0.011123   \n",
       "5  2016-01-12     0.012203  0.012008       NaN  0.001534  0.027813  0.015200   \n",
       "6  2016-01-13     0.002724 -0.006394       NaN  0.009409  0.004750  0.008271   \n",
       "\n",
       "     ALV.DE    ABI.BR   ASML.AS  ...    SAF.PA    SAN.PA    SAP.DE     SU.PA  \\\n",
       "0  0.003200  0.013690  0.007836  ... -0.005314  0.011790  0.011971  0.004482   \n",
       "1  0.003190 -0.013245 -0.023569  ... -0.007129 -0.013597  0.008642 -0.017852   \n",
       "2 -0.020918 -0.017033 -0.023618  ... -0.019705 -0.010908 -0.009903 -0.020801   \n",
       "3 -0.012764 -0.027964 -0.043130  ... -0.011509 -0.025388 -0.004073  0.003531   \n",
       "4  0.003945  0.019794  0.026101  ... -0.016918 -0.013754  0.007711 -0.019317   \n",
       "5  0.012390 -0.007319  0.003956  ...  0.012210  0.009459  0.036343  0.006243   \n",
       "6  0.001619  0.004124 -0.008458  ...  0.004876  0.004429 -0.007028  0.001529   \n",
       "\n",
       "     SIE.DE   STLA.MI    TTE.PA     DG.PA    VOW.DE    VNA.DE  \n",
       "0  0.006294  0.026038 -0.009172  0.005528 -0.057863  0.006679  \n",
       "1 -0.003958 -0.053403 -0.009634 -0.005874 -0.002694 -0.020908  \n",
       "2 -0.019315 -0.033337 -0.024564 -0.011502 -0.048963 -0.018917  \n",
       "3 -0.006921 -0.041936 -0.038216 -0.003336  0.012068 -0.016042  \n",
       "4 -0.006487 -0.004087  0.000000  0.021402  0.013503  0.003987  \n",
       "5  0.005768  0.027602 -0.002681  0.016222  0.020305  0.012429  \n",
       "6 -0.003842 -0.013369  0.015979  0.007425  0.004628 -0.004126  \n",
       "\n",
       "[7 rows x 52 columns]"
      ]
     },
     "execution_count": 5,
     "metadata": {},
     "output_type": "execute_result"
    }
   ],
   "source": [
    "ES50_log_returns = pd.read_csv('../data/ES50_log-ret.csv')\n",
    "ES50_log_returns = ES50_log_returns.drop(['Unnamed: 0'], axis=1)\n",
    "ES50_log_returns.head(7)"
   ]
  },
  {
   "cell_type": "code",
   "execution_count": 6,
   "metadata": {},
   "outputs": [
    {
     "data": {
      "text/html": [
       "<div>\n",
       "<style scoped>\n",
       "    .dataframe tbody tr th:only-of-type {\n",
       "        vertical-align: middle;\n",
       "    }\n",
       "\n",
       "    .dataframe tbody tr th {\n",
       "        vertical-align: top;\n",
       "    }\n",
       "\n",
       "    .dataframe thead th {\n",
       "        text-align: right;\n",
       "    }\n",
       "</style>\n",
       "<table border=\"1\" class=\"dataframe\">\n",
       "  <thead>\n",
       "    <tr style=\"text-align: right;\">\n",
       "      <th></th>\n",
       "      <th>tickers</th>\n",
       "      <th>r2</th>\n",
       "      <th>beta</th>\n",
       "      <th>alpha</th>\n",
       "      <th>alpha_significance</th>\n",
       "      <th>absolute_returns</th>\n",
       "      <th>specific_risk</th>\n",
       "      <th>systematic_risk</th>\n",
       "      <th>total_risk</th>\n",
       "    </tr>\n",
       "  </thead>\n",
       "  <tbody>\n",
       "    <tr>\n",
       "      <th>0</th>\n",
       "      <td>ADS.DE</td>\n",
       "      <td>0.177656</td>\n",
       "      <td>0.412880</td>\n",
       "      <td>0.003112</td>\n",
       "      <td>0.002831</td>\n",
       "      <td>0.559717</td>\n",
       "      <td>0.013751</td>\n",
       "      <td>0.042638</td>\n",
       "      <td>0.056389</td>\n",
       "    </tr>\n",
       "    <tr>\n",
       "      <th>1</th>\n",
       "      <td>AD.AS</td>\n",
       "      <td>0.319903</td>\n",
       "      <td>0.473584</td>\n",
       "      <td>0.000715</td>\n",
       "      <td>0.371868</td>\n",
       "      <td>0.128262</td>\n",
       "      <td>0.010689</td>\n",
       "      <td>0.056098</td>\n",
       "      <td>0.066787</td>\n",
       "    </tr>\n",
       "    <tr>\n",
       "      <th>2</th>\n",
       "      <td>AI.PA</td>\n",
       "      <td>0.536992</td>\n",
       "      <td>0.719739</td>\n",
       "      <td>0.000329</td>\n",
       "      <td>0.671121</td>\n",
       "      <td>0.058461</td>\n",
       "      <td>0.010346</td>\n",
       "      <td>0.129569</td>\n",
       "      <td>0.139915</td>\n",
       "    </tr>\n",
       "    <tr>\n",
       "      <th>3</th>\n",
       "      <td>AIR.PA</td>\n",
       "      <td>0.587508</td>\n",
       "      <td>0.947977</td>\n",
       "      <td>-0.000391</td>\n",
       "      <td>0.671284</td>\n",
       "      <td>-0.071300</td>\n",
       "      <td>0.012296</td>\n",
       "      <td>0.224775</td>\n",
       "      <td>0.237071</td>\n",
       "    </tr>\n",
       "    <tr>\n",
       "      <th>4</th>\n",
       "      <td>ALV.DE</td>\n",
       "      <td>0.813180</td>\n",
       "      <td>1.058462</td>\n",
       "      <td>-0.000226</td>\n",
       "      <td>0.700797</td>\n",
       "      <td>-0.041755</td>\n",
       "      <td>0.007854</td>\n",
       "      <td>0.280222</td>\n",
       "      <td>0.288076</td>\n",
       "    </tr>\n",
       "  </tbody>\n",
       "</table>\n",
       "</div>"
      ],
      "text/plain": [
       "  tickers        r2      beta     alpha  alpha_significance  absolute_returns  \\\n",
       "0  ADS.DE  0.177656  0.412880  0.003112            0.002831          0.559717   \n",
       "1   AD.AS  0.319903  0.473584  0.000715            0.371868          0.128262   \n",
       "2   AI.PA  0.536992  0.719739  0.000329            0.671121          0.058461   \n",
       "3  AIR.PA  0.587508  0.947977 -0.000391            0.671284         -0.071300   \n",
       "4  ALV.DE  0.813180  1.058462 -0.000226            0.700797         -0.041755   \n",
       "\n",
       "   specific_risk  systematic_risk  total_risk  \n",
       "0       0.013751         0.042638    0.056389  \n",
       "1       0.010689         0.056098    0.066787  \n",
       "2       0.010346         0.129569    0.139915  \n",
       "3       0.012296         0.224775    0.237071  \n",
       "4       0.007854         0.280222    0.288076  "
      ]
     },
     "execution_count": 6,
     "metadata": {},
     "output_type": "execute_result"
    }
   ],
   "source": [
    "rank_df = pd.read_csv('../data/ES50_parameters.csv')\n",
    "rank_df = rank_df.drop(['Unnamed: 0'], axis=1)\n",
    "rank_df.head()"
   ]
  },
  {
   "cell_type": "markdown",
   "metadata": {},
   "source": [
    "Ranking"
   ]
  },
  {
   "cell_type": "markdown",
   "metadata": {},
   "source": [
    "- Max $R^2$\n",
    "- Max _Absolute Returns_\n",
    "- Min _Total Risk_\n",
    "- Min _Systematic Risk_\n",
    "- Max or Min _Specific Risk_\n",
    "- Max and Significant $\\alpha$"
   ]
  },
  {
   "cell_type": "markdown",
   "metadata": {},
   "source": [
    "Max $R^2$"
   ]
  },
  {
   "cell_type": "code",
   "execution_count": 7,
   "metadata": {},
   "outputs": [
    {
     "name": "stdout",
     "output_type": "stream",
     "text": [
      "['ALV.DE', 'CS.PA', 'BNP.PA', 'INGA.AS', 'SAN.MC', 'BAS.DE', 'BBVA.MC', 'BMW.DE', 'SIE.DE', 'MUV2.DE']\n"
     ]
    },
    {
     "data": {
      "text/html": [
       "<div>\n",
       "<style scoped>\n",
       "    .dataframe tbody tr th:only-of-type {\n",
       "        vertical-align: middle;\n",
       "    }\n",
       "\n",
       "    .dataframe tbody tr th {\n",
       "        vertical-align: top;\n",
       "    }\n",
       "\n",
       "    .dataframe thead th {\n",
       "        text-align: right;\n",
       "    }\n",
       "</style>\n",
       "<table border=\"1\" class=\"dataframe\">\n",
       "  <thead>\n",
       "    <tr style=\"text-align: right;\">\n",
       "      <th></th>\n",
       "      <th>tickers</th>\n",
       "      <th>r2</th>\n",
       "      <th>beta</th>\n",
       "      <th>alpha</th>\n",
       "      <th>alpha_significance</th>\n",
       "      <th>absolute_returns</th>\n",
       "      <th>specific_risk</th>\n",
       "      <th>systematic_risk</th>\n",
       "      <th>total_risk</th>\n",
       "    </tr>\n",
       "  </thead>\n",
       "  <tbody>\n",
       "    <tr>\n",
       "      <th>4</th>\n",
       "      <td>ALV.DE</td>\n",
       "      <td>0.813180</td>\n",
       "      <td>1.058462</td>\n",
       "      <td>-0.000226</td>\n",
       "      <td>0.700797</td>\n",
       "      <td>-0.041755</td>\n",
       "      <td>0.007854</td>\n",
       "      <td>0.280222</td>\n",
       "      <td>0.288076</td>\n",
       "    </tr>\n",
       "    <tr>\n",
       "      <th>7</th>\n",
       "      <td>CS.PA</td>\n",
       "      <td>0.788997</td>\n",
       "      <td>1.495205</td>\n",
       "      <td>-0.000472</td>\n",
       "      <td>0.598192</td>\n",
       "      <td>-0.086560</td>\n",
       "      <td>0.011970</td>\n",
       "      <td>0.559182</td>\n",
       "      <td>0.571152</td>\n",
       "    </tr>\n",
       "    <tr>\n",
       "      <th>13</th>\n",
       "      <td>BNP.PA</td>\n",
       "      <td>0.782196</td>\n",
       "      <td>1.523465</td>\n",
       "      <td>0.000256</td>\n",
       "      <td>0.783756</td>\n",
       "      <td>0.044451</td>\n",
       "      <td>0.012445</td>\n",
       "      <td>0.580520</td>\n",
       "      <td>0.592965</td>\n",
       "    </tr>\n",
       "    <tr>\n",
       "      <th>23</th>\n",
       "      <td>INGA.AS</td>\n",
       "      <td>0.764207</td>\n",
       "      <td>1.501316</td>\n",
       "      <td>0.000353</td>\n",
       "      <td>0.714772</td>\n",
       "      <td>0.062031</td>\n",
       "      <td>0.012910</td>\n",
       "      <td>0.563762</td>\n",
       "      <td>0.576672</td>\n",
       "    </tr>\n",
       "    <tr>\n",
       "      <th>11</th>\n",
       "      <td>SAN.MC</td>\n",
       "      <td>0.755679</td>\n",
       "      <td>1.786274</td>\n",
       "      <td>0.000213</td>\n",
       "      <td>0.856557</td>\n",
       "      <td>0.036456</td>\n",
       "      <td>0.015723</td>\n",
       "      <td>0.798083</td>\n",
       "      <td>0.813806</td>\n",
       "    </tr>\n",
       "    <tr>\n",
       "      <th>8</th>\n",
       "      <td>BAS.DE</td>\n",
       "      <td>0.736871</td>\n",
       "      <td>0.870956</td>\n",
       "      <td>0.000719</td>\n",
       "      <td>0.234398</td>\n",
       "      <td>0.128438</td>\n",
       "      <td>0.008057</td>\n",
       "      <td>0.189734</td>\n",
       "      <td>0.197791</td>\n",
       "    </tr>\n",
       "    <tr>\n",
       "      <th>10</th>\n",
       "      <td>BBVA.MC</td>\n",
       "      <td>0.735194</td>\n",
       "      <td>1.559311</td>\n",
       "      <td>-0.000344</td>\n",
       "      <td>0.750962</td>\n",
       "      <td>-0.063557</td>\n",
       "      <td>0.014487</td>\n",
       "      <td>0.608159</td>\n",
       "      <td>0.622646</td>\n",
       "    </tr>\n",
       "    <tr>\n",
       "      <th>12</th>\n",
       "      <td>BMW.DE</td>\n",
       "      <td>0.717737</td>\n",
       "      <td>1.143192</td>\n",
       "      <td>-0.000466</td>\n",
       "      <td>0.575273</td>\n",
       "      <td>-0.084990</td>\n",
       "      <td>0.011098</td>\n",
       "      <td>0.326881</td>\n",
       "      <td>0.337979</td>\n",
       "    </tr>\n",
       "    <tr>\n",
       "      <th>36</th>\n",
       "      <td>SIE.DE</td>\n",
       "      <td>0.713783</td>\n",
       "      <td>0.919542</td>\n",
       "      <td>0.001441</td>\n",
       "      <td>0.033833</td>\n",
       "      <td>0.258409</td>\n",
       "      <td>0.009014</td>\n",
       "      <td>0.211493</td>\n",
       "      <td>0.220507</td>\n",
       "    </tr>\n",
       "    <tr>\n",
       "      <th>29</th>\n",
       "      <td>MUV2.DE</td>\n",
       "      <td>0.698328</td>\n",
       "      <td>0.849834</td>\n",
       "      <td>0.000036</td>\n",
       "      <td>0.955419</td>\n",
       "      <td>0.005638</td>\n",
       "      <td>0.008647</td>\n",
       "      <td>0.180642</td>\n",
       "      <td>0.189289</td>\n",
       "    </tr>\n",
       "  </tbody>\n",
       "</table>\n",
       "</div>"
      ],
      "text/plain": [
       "    tickers        r2      beta     alpha  alpha_significance  \\\n",
       "4    ALV.DE  0.813180  1.058462 -0.000226            0.700797   \n",
       "7     CS.PA  0.788997  1.495205 -0.000472            0.598192   \n",
       "13   BNP.PA  0.782196  1.523465  0.000256            0.783756   \n",
       "23  INGA.AS  0.764207  1.501316  0.000353            0.714772   \n",
       "11   SAN.MC  0.755679  1.786274  0.000213            0.856557   \n",
       "8    BAS.DE  0.736871  0.870956  0.000719            0.234398   \n",
       "10  BBVA.MC  0.735194  1.559311 -0.000344            0.750962   \n",
       "12   BMW.DE  0.717737  1.143192 -0.000466            0.575273   \n",
       "36   SIE.DE  0.713783  0.919542  0.001441            0.033833   \n",
       "29  MUV2.DE  0.698328  0.849834  0.000036            0.955419   \n",
       "\n",
       "    absolute_returns  specific_risk  systematic_risk  total_risk  \n",
       "4          -0.041755       0.007854         0.280222    0.288076  \n",
       "7          -0.086560       0.011970         0.559182    0.571152  \n",
       "13          0.044451       0.012445         0.580520    0.592965  \n",
       "23          0.062031       0.012910         0.563762    0.576672  \n",
       "11          0.036456       0.015723         0.798083    0.813806  \n",
       "8           0.128438       0.008057         0.189734    0.197791  \n",
       "10         -0.063557       0.014487         0.608159    0.622646  \n",
       "12         -0.084990       0.011098         0.326881    0.337979  \n",
       "36          0.258409       0.009014         0.211493    0.220507  \n",
       "29          0.005638       0.008647         0.180642    0.189289  "
      ]
     },
     "execution_count": 7,
     "metadata": {},
     "output_type": "execute_result"
    }
   ],
   "source": [
    "max_r2 = rank_df.sort_values(by='r2', ascending=False).head(10)\n",
    "max_r2_selected = max_r2['tickers'].tolist()\n",
    "\n",
    "print(max_r2_selected)\n",
    "max_r2"
   ]
  },
  {
   "cell_type": "markdown",
   "metadata": {},
   "source": [
    "Max _Absolute Returns_"
   ]
  },
  {
   "cell_type": "code",
   "execution_count": 8,
   "metadata": {},
   "outputs": [],
   "source": [
    "max_absolute_returns = rank_df.sort_values(by='absolute_returns', ascending=False).head(10)\n",
    "max_absolute_returns_selected = max_absolute_returns['tickers'].tolist()"
   ]
  },
  {
   "cell_type": "markdown",
   "metadata": {},
   "source": [
    "Min _Total Risk_"
   ]
  },
  {
   "cell_type": "code",
   "execution_count": 9,
   "metadata": {},
   "outputs": [],
   "source": [
    "min_total_risk = rank_df.sort_values(by='total_risk').head(10)\n",
    "min_total_risk_selected = min_total_risk['tickers'].tolist()"
   ]
  },
  {
   "cell_type": "markdown",
   "metadata": {},
   "source": [
    "Min _Systematic Risk_"
   ]
  },
  {
   "cell_type": "code",
   "execution_count": 10,
   "metadata": {},
   "outputs": [],
   "source": [
    "min_systematic_risk = rank_df.sort_values(by='systematic_risk').head(10)\n",
    "min_systematic_risk_selected = min_systematic_risk['tickers'].tolist()"
   ]
  },
  {
   "cell_type": "markdown",
   "metadata": {},
   "source": [
    "Max _Specific Risk_"
   ]
  },
  {
   "cell_type": "code",
   "execution_count": 11,
   "metadata": {},
   "outputs": [],
   "source": [
    "max_specific_risk = rank_df.sort_values(by='specific_risk', ascending=False).head(10)\n",
    "max_specific_risk_selected = max_specific_risk['tickers'].tolist()"
   ]
  },
  {
   "cell_type": "markdown",
   "metadata": {},
   "source": [
    "Max $\\beta$"
   ]
  },
  {
   "cell_type": "code",
   "execution_count": 12,
   "metadata": {},
   "outputs": [],
   "source": [
    "max_beta = rank_df.sort_values(by='beta', ascending=False).head(10)\n",
    "max_beta_selected = max_beta['tickers'].tolist()"
   ]
  },
  {
   "cell_type": "markdown",
   "metadata": {},
   "source": [
    "Min $\\beta$"
   ]
  },
  {
   "cell_type": "code",
   "execution_count": 13,
   "metadata": {},
   "outputs": [],
   "source": [
    "min_beta = rank_df.sort_values(by='beta').head(10)\n",
    "min_beta_selected = min_beta['tickers'].tolist()"
   ]
  },
  {
   "cell_type": "markdown",
   "metadata": {},
   "source": [
    "Max and Significant $\\alpha$"
   ]
  },
  {
   "cell_type": "code",
   "execution_count": 14,
   "metadata": {},
   "outputs": [],
   "source": [
    "max_significant_alpha = rank_df[rank_df['alpha_significance'] < 0.05]\n",
    "max_significant_alpha.sort_values(by='alpha', ascending=False).head(10)\n",
    "max_significant_alpha_selected = max_significant_alpha['tickers'].tolist()"
   ]
  },
  {
   "cell_type": "code",
   "execution_count": 15,
   "metadata": {},
   "outputs": [
    {
     "data": {
      "text/html": [
       "<div>\n",
       "<style scoped>\n",
       "    .dataframe tbody tr th:only-of-type {\n",
       "        vertical-align: middle;\n",
       "    }\n",
       "\n",
       "    .dataframe tbody tr th {\n",
       "        vertical-align: top;\n",
       "    }\n",
       "\n",
       "    .dataframe thead th {\n",
       "        text-align: right;\n",
       "    }\n",
       "</style>\n",
       "<table border=\"1\" class=\"dataframe\">\n",
       "  <thead>\n",
       "    <tr style=\"text-align: right;\">\n",
       "      <th></th>\n",
       "      <th>tickers</th>\n",
       "      <th>r2</th>\n",
       "      <th>beta</th>\n",
       "      <th>alpha</th>\n",
       "      <th>alpha_significance</th>\n",
       "      <th>absolute_returns</th>\n",
       "      <th>specific_risk</th>\n",
       "      <th>systematic_risk</th>\n",
       "      <th>total_risk</th>\n",
       "    </tr>\n",
       "  </thead>\n",
       "  <tbody>\n",
       "    <tr>\n",
       "      <th>0</th>\n",
       "      <td>ADS.DE</td>\n",
       "      <td>0.177656</td>\n",
       "      <td>0.412880</td>\n",
       "      <td>0.003112</td>\n",
       "      <td>0.002831</td>\n",
       "      <td>0.559717</td>\n",
       "      <td>0.013751</td>\n",
       "      <td>0.042638</td>\n",
       "      <td>0.056389</td>\n",
       "    </tr>\n",
       "    <tr>\n",
       "      <th>36</th>\n",
       "      <td>SIE.DE</td>\n",
       "      <td>0.713783</td>\n",
       "      <td>0.919542</td>\n",
       "      <td>0.001441</td>\n",
       "      <td>0.033833</td>\n",
       "      <td>0.258409</td>\n",
       "      <td>0.009014</td>\n",
       "      <td>0.211493</td>\n",
       "      <td>0.220507</td>\n",
       "    </tr>\n",
       "  </tbody>\n",
       "</table>\n",
       "</div>"
      ],
      "text/plain": [
       "   tickers        r2      beta     alpha  alpha_significance  \\\n",
       "0   ADS.DE  0.177656  0.412880  0.003112            0.002831   \n",
       "36  SIE.DE  0.713783  0.919542  0.001441            0.033833   \n",
       "\n",
       "    absolute_returns  specific_risk  systematic_risk  total_risk  \n",
       "0           0.559717       0.013751         0.042638    0.056389  \n",
       "36          0.258409       0.009014         0.211493    0.220507  "
      ]
     },
     "execution_count": 15,
     "metadata": {},
     "output_type": "execute_result"
    }
   ],
   "source": [
    "max_significant_alpha\n",
    "\n",
    "# only 2 titles, not enough"
   ]
  },
  {
   "cell_type": "markdown",
   "metadata": {},
   "source": [
    "Selected Stocks"
   ]
  },
  {
   "cell_type": "code",
   "execution_count": 16,
   "metadata": {},
   "outputs": [
    {
     "name": "stdout",
     "output_type": "stream",
     "text": [
      "['ALV.DE', 'CS.PA', 'BNP.PA', 'INGA.AS', 'SAN.MC', 'BAS.DE', 'BBVA.MC', 'BMW.DE', 'SIE.DE', 'MUV2.DE']\n",
      "['ADS.DE', 'SIE.DE', 'IFX.DE', 'VNA.DE', 'KER.PA', 'SU.PA', 'DG.PA', 'ASML.AS', 'RMS.PA', 'SAP.DE']\n",
      "['LIN.DE', 'ADS.DE', 'AD.AS', 'VNA.DE', 'BN.PA', 'RI.PA', 'RMS.PA', 'OR.PA', 'IBE.MC', 'ABI.BR']\n",
      "['LIN.DE', 'ADS.DE', 'AD.AS', 'VNA.DE', 'BN.PA', 'RI.PA', 'RMS.PA', 'OR.PA', 'IBE.MC', 'ABI.BR']\n",
      "['VOW.DE', 'SAN.MC', 'BBVA.MC', 'IFX.DE', 'ADS.DE', 'SAF.PA', 'VNA.DE', 'INGA.AS', 'ASML.AS', 'DB1.DE']\n",
      "['SAN.MC', 'BBVA.MC', 'BNP.PA', 'INGA.AS', 'CS.PA', 'VOW.DE', 'BMW.DE', 'SU.PA', 'ALV.DE', 'MBG.DE']\n"
     ]
    }
   ],
   "source": [
    "print(max_r2_selected)\n",
    "print(max_absolute_returns_selected)\n",
    "print(min_total_risk_selected)\n",
    "print(min_systematic_risk_selected)\n",
    "print(max_specific_risk_selected)\n",
    "print(max_beta_selected)"
   ]
  },
  {
   "cell_type": "markdown",
   "metadata": {},
   "source": [
    "Weekly Log Returns"
   ]
  },
  {
   "cell_type": "code",
   "execution_count": 17,
   "metadata": {},
   "outputs": [
    {
     "name": "stdout",
     "output_type": "stream",
     "text": [
      "(1712, 52)\n",
      "Index(['Date', 'EuroStoxx50', 'ADS.DE', 'ADYEN.AS', 'AD.AS', 'AI.PA', 'AIR.PA',\n",
      "       'ALV.DE', 'ABI.BR', 'ASML.AS', 'CS.PA', 'BAS.DE', 'BAYN.DE', 'BBVA.MC',\n",
      "       'SAN.MC', 'BMW.DE', 'BNP.PA', 'CRG.IR', 'BN.PA', 'DB1.DE', 'DPW.DE',\n",
      "       'DTE.DE', 'ENEL.MI', 'ENI.MI', 'EL.PA', 'FLTR.IR', 'RMS.PA', 'IBE.MC',\n",
      "       'ITX.MC', 'IFX.DE', 'INGA.AS', 'ISP.MI', 'KER.PA', 'KNEBV.HE', 'OR.PA',\n",
      "       'LIN.DE', 'MC.PA', 'MBG.DE', 'MUV2.DE', 'RI.PA', 'PHIA.AS', 'PRX.AS',\n",
      "       'SAF.PA', 'SAN.PA', 'SAP.DE', 'SU.PA', 'SIE.DE', 'STLA.MI', 'TTE.PA',\n",
      "       'DG.PA', 'VOW.DE', 'VNA.DE'],\n",
      "      dtype='object')\n"
     ]
    }
   ],
   "source": [
    "print(df_ES50.shape)\n",
    "print(df_ES50.columns)"
   ]
  },
  {
   "cell_type": "code",
   "execution_count": 18,
   "metadata": {},
   "outputs": [],
   "source": [
    "df_weekly_log_returns = pd.DataFrame()\n",
    "\n",
    "j = 0\n",
    "for col in df_ES50.columns[1:53]:\n",
    "  new_row = []\n",
    "  date_row = []\n",
    "  for i in range(sample_size + 1, len(df_ES50) - 7, 7):\n",
    "    date_row.append(df_ES50['Date'][i])\n",
    "    new_row.append(np.log(df_ES50[col][i+7]) - np.log(df_ES50[col][i]))\n",
    "\n",
    "  df_weekly_log_returns['Date'] = date_row\n",
    "  df_weekly_log_returns[col] = new_row"
   ]
  },
  {
   "cell_type": "code",
   "execution_count": 19,
   "metadata": {},
   "outputs": [
    {
     "name": "stdout",
     "output_type": "stream",
     "text": [
      "(218, 52)\n"
     ]
    },
    {
     "data": {
      "text/html": [
       "<div>\n",
       "<style scoped>\n",
       "    .dataframe tbody tr th:only-of-type {\n",
       "        vertical-align: middle;\n",
       "    }\n",
       "\n",
       "    .dataframe tbody tr th {\n",
       "        vertical-align: top;\n",
       "    }\n",
       "\n",
       "    .dataframe thead th {\n",
       "        text-align: right;\n",
       "    }\n",
       "</style>\n",
       "<table border=\"1\" class=\"dataframe\">\n",
       "  <thead>\n",
       "    <tr style=\"text-align: right;\">\n",
       "      <th></th>\n",
       "      <th>Date</th>\n",
       "      <th>EuroStoxx50</th>\n",
       "      <th>ADS.DE</th>\n",
       "      <th>ADYEN.AS</th>\n",
       "      <th>AD.AS</th>\n",
       "      <th>AI.PA</th>\n",
       "      <th>AIR.PA</th>\n",
       "      <th>ALV.DE</th>\n",
       "      <th>ABI.BR</th>\n",
       "      <th>ASML.AS</th>\n",
       "      <th>...</th>\n",
       "      <th>SAF.PA</th>\n",
       "      <th>SAN.PA</th>\n",
       "      <th>SAP.DE</th>\n",
       "      <th>SU.PA</th>\n",
       "      <th>SIE.DE</th>\n",
       "      <th>STLA.MI</th>\n",
       "      <th>TTE.PA</th>\n",
       "      <th>DG.PA</th>\n",
       "      <th>VOW.DE</th>\n",
       "      <th>VNA.DE</th>\n",
       "    </tr>\n",
       "  </thead>\n",
       "  <tbody>\n",
       "    <tr>\n",
       "      <th>0</th>\n",
       "      <td>2016-09-14</td>\n",
       "      <td>0.022481</td>\n",
       "      <td>0.044159</td>\n",
       "      <td>NaN</td>\n",
       "      <td>0.004545</td>\n",
       "      <td>-0.015440</td>\n",
       "      <td>0.014036</td>\n",
       "      <td>0.039953</td>\n",
       "      <td>0.064424</td>\n",
       "      <td>0.075588</td>\n",
       "      <td>...</td>\n",
       "      <td>0.019563</td>\n",
       "      <td>-0.019817</td>\n",
       "      <td>0.038589</td>\n",
       "      <td>0.063099</td>\n",
       "      <td>0.035949</td>\n",
       "      <td>0.008719</td>\n",
       "      <td>0.024875</td>\n",
       "      <td>0.034660</td>\n",
       "      <td>-0.005795</td>\n",
       "      <td>0.024016</td>\n",
       "    </tr>\n",
       "    <tr>\n",
       "      <th>1</th>\n",
       "      <td>2016-09-23</td>\n",
       "      <td>-0.000927</td>\n",
       "      <td>0.014720</td>\n",
       "      <td>NaN</td>\n",
       "      <td>0.004525</td>\n",
       "      <td>0.007132</td>\n",
       "      <td>0.019143</td>\n",
       "      <td>-0.027084</td>\n",
       "      <td>-0.000861</td>\n",
       "      <td>0.006968</td>\n",
       "      <td>...</td>\n",
       "      <td>0.021899</td>\n",
       "      <td>0.007858</td>\n",
       "      <td>-0.001962</td>\n",
       "      <td>-0.014076</td>\n",
       "      <td>-0.007087</td>\n",
       "      <td>-0.000869</td>\n",
       "      <td>0.028154</td>\n",
       "      <td>-0.003792</td>\n",
       "      <td>0.011939</td>\n",
       "      <td>-0.030749</td>\n",
       "    </tr>\n",
       "    <tr>\n",
       "      <th>2</th>\n",
       "      <td>2016-10-04</td>\n",
       "      <td>-0.018140</td>\n",
       "      <td>-0.027046</td>\n",
       "      <td>NaN</td>\n",
       "      <td>-0.048434</td>\n",
       "      <td>-0.050053</td>\n",
       "      <td>-0.045314</td>\n",
       "      <td>0.019367</td>\n",
       "      <td>-0.014751</td>\n",
       "      <td>-0.077358</td>\n",
       "      <td>...</td>\n",
       "      <td>-0.067350</td>\n",
       "      <td>-0.012104</td>\n",
       "      <td>-0.035863</td>\n",
       "      <td>-0.020670</td>\n",
       "      <td>-0.019632</td>\n",
       "      <td>-0.026410</td>\n",
       "      <td>0.006704</td>\n",
       "      <td>-0.042236</td>\n",
       "      <td>-0.000383</td>\n",
       "      <td>-0.052550</td>\n",
       "    </tr>\n",
       "    <tr>\n",
       "      <th>3</th>\n",
       "      <td>2016-10-13</td>\n",
       "      <td>0.039162</td>\n",
       "      <td>0.012970</td>\n",
       "      <td>NaN</td>\n",
       "      <td>0.038645</td>\n",
       "      <td>0.005184</td>\n",
       "      <td>0.044949</td>\n",
       "      <td>0.046839</td>\n",
       "      <td>0.003055</td>\n",
       "      <td>0.061922</td>\n",
       "      <td>...</td>\n",
       "      <td>0.030425</td>\n",
       "      <td>0.015143</td>\n",
       "      <td>0.035372</td>\n",
       "      <td>0.037442</td>\n",
       "      <td>0.034224</td>\n",
       "      <td>0.050445</td>\n",
       "      <td>0.021653</td>\n",
       "      <td>0.031954</td>\n",
       "      <td>0.034629</td>\n",
       "      <td>0.036051</td>\n",
       "    </tr>\n",
       "    <tr>\n",
       "      <th>4</th>\n",
       "      <td>2016-10-24</td>\n",
       "      <td>-0.037439</td>\n",
       "      <td>-0.057348</td>\n",
       "      <td>NaN</td>\n",
       "      <td>-0.026993</td>\n",
       "      <td>-0.014431</td>\n",
       "      <td>-0.041712</td>\n",
       "      <td>-0.032555</td>\n",
       "      <td>-0.105603</td>\n",
       "      <td>-0.028079</td>\n",
       "      <td>...</td>\n",
       "      <td>-0.049430</td>\n",
       "      <td>0.037580</td>\n",
       "      <td>-0.049466</td>\n",
       "      <td>-0.049020</td>\n",
       "      <td>-0.055236</td>\n",
       "      <td>0.048831</td>\n",
       "      <td>-0.044964</td>\n",
       "      <td>-0.043915</td>\n",
       "      <td>-0.045024</td>\n",
       "      <td>-0.038745</td>\n",
       "    </tr>\n",
       "  </tbody>\n",
       "</table>\n",
       "<p>5 rows × 52 columns</p>\n",
       "</div>"
      ],
      "text/plain": [
       "        Date  EuroStoxx50    ADS.DE  ADYEN.AS     AD.AS     AI.PA    AIR.PA  \\\n",
       "0 2016-09-14     0.022481  0.044159       NaN  0.004545 -0.015440  0.014036   \n",
       "1 2016-09-23    -0.000927  0.014720       NaN  0.004525  0.007132  0.019143   \n",
       "2 2016-10-04    -0.018140 -0.027046       NaN -0.048434 -0.050053 -0.045314   \n",
       "3 2016-10-13     0.039162  0.012970       NaN  0.038645  0.005184  0.044949   \n",
       "4 2016-10-24    -0.037439 -0.057348       NaN -0.026993 -0.014431 -0.041712   \n",
       "\n",
       "     ALV.DE    ABI.BR   ASML.AS  ...    SAF.PA    SAN.PA    SAP.DE     SU.PA  \\\n",
       "0  0.039953  0.064424  0.075588  ...  0.019563 -0.019817  0.038589  0.063099   \n",
       "1 -0.027084 -0.000861  0.006968  ...  0.021899  0.007858 -0.001962 -0.014076   \n",
       "2  0.019367 -0.014751 -0.077358  ... -0.067350 -0.012104 -0.035863 -0.020670   \n",
       "3  0.046839  0.003055  0.061922  ...  0.030425  0.015143  0.035372  0.037442   \n",
       "4 -0.032555 -0.105603 -0.028079  ... -0.049430  0.037580 -0.049466 -0.049020   \n",
       "\n",
       "     SIE.DE   STLA.MI    TTE.PA     DG.PA    VOW.DE    VNA.DE  \n",
       "0  0.035949  0.008719  0.024875  0.034660 -0.005795  0.024016  \n",
       "1 -0.007087 -0.000869  0.028154 -0.003792  0.011939 -0.030749  \n",
       "2 -0.019632 -0.026410  0.006704 -0.042236 -0.000383 -0.052550  \n",
       "3  0.034224  0.050445  0.021653  0.031954  0.034629  0.036051  \n",
       "4 -0.055236  0.048831 -0.044964 -0.043915 -0.045024 -0.038745  \n",
       "\n",
       "[5 rows x 52 columns]"
      ]
     },
     "execution_count": 19,
     "metadata": {},
     "output_type": "execute_result"
    }
   ],
   "source": [
    "print(df_weekly_log_returns.shape)\n",
    "df_weekly_log_returns.head(5)"
   ]
  },
  {
   "cell_type": "code",
   "execution_count": 20,
   "metadata": {},
   "outputs": [],
   "source": [
    "df_weekly_log_returns.to_csv('../data/ES50_weekly_log-ret.csv')"
   ]
  },
  {
   "cell_type": "markdown",
   "metadata": {},
   "source": [
    "Portfolio Building"
   ]
  },
  {
   "cell_type": "code",
   "execution_count": 21,
   "metadata": {},
   "outputs": [],
   "source": [
    "# index\n",
    "ndx_pfl = df_weekly_log_returns[['EuroStoxx50']]"
   ]
  },
  {
   "cell_type": "code",
   "execution_count": 22,
   "metadata": {},
   "outputs": [],
   "source": [
    "# portfolio building\n",
    "max_r2_pfl = df_weekly_log_returns[max_r2_selected]\n",
    "max_absolute_returns_pfl = df_weekly_log_returns[max_absolute_returns_selected]\n",
    "min_total_risk_pfl = df_weekly_log_returns[min_total_risk_selected]\n",
    "min_systematic_risk_pfl = df_weekly_log_returns[min_systematic_risk_selected]\n",
    "max_specific_risk_pfl = df_weekly_log_returns[max_specific_risk_selected]\n",
    "max_beta_pfl = df_weekly_log_returns[max_beta_selected]"
   ]
  },
  {
   "cell_type": "markdown",
   "metadata": {},
   "source": [
    "Annual Returns and Volatility"
   ]
  },
  {
   "cell_type": "code",
   "execution_count": 23,
   "metadata": {},
   "outputs": [
    {
     "name": "stdout",
     "output_type": "stream",
     "text": [
      "Annualized Returns: 0.04695922502961186\n",
      "Annualized Volatility: 0.24431768573753215\n"
     ]
    }
   ],
   "source": [
    "# index annual return\n",
    "ndx_pfl_mean = ndx_pfl.mean()\n",
    "ndx_pfl_mean = ndx_pfl_mean.to_list()\n",
    "\n",
    "ndx_pfl_annual_return = sum(ndx_pfl_mean) / ndx_pfl.shape[1] * 52\n",
    "print(\"Annualized Returns: \" + str(ndx_pfl_annual_return))\n",
    "\n",
    "# index annual standard deviation\n",
    "ndx_pfl_std = ndx_pfl.std()\n",
    "ndx_pfl_std = ndx_pfl_std.to_list()\n",
    "\n",
    "ndx_pfl_annual_volatility = sum(ndx_pfl_std) / ndx_pfl.shape[1] * math.sqrt(52)\n",
    "print(\"Annualized Volatility: \" + str(ndx_pfl_annual_volatility))"
   ]
  },
  {
   "cell_type": "markdown",
   "metadata": {},
   "source": [
    "Max $R^2$"
   ]
  },
  {
   "cell_type": "code",
   "execution_count": 24,
   "metadata": {},
   "outputs": [
    {
     "name": "stdout",
     "output_type": "stream",
     "text": [
      "Annualized Returns: 0.06885104575327805\n",
      "Annualized Volatility: 0.36625113738072\n"
     ]
    }
   ],
   "source": [
    "# portfolio annual return\n",
    "max_r2_pfl_mean = max_r2_pfl.mean()\n",
    "max_r2_pfl_mean = max_r2_pfl_mean.to_list()\n",
    "\n",
    "max_r2_pfl_annual_return = sum(max_r2_pfl_mean) / max_r2_pfl.shape[1] * 52\n",
    "print(\"Annualized Returns: \" + str(max_r2_pfl_annual_return))\n",
    "\n",
    "# portfolio annual standard deviation\n",
    "max_r2_pfl_std = max_r2_pfl.std()\n",
    "max_r2_pfl_std = max_r2_pfl_std.to_list()\n",
    "\n",
    "max_r2_pfl_annual_volatility = sum(max_r2_pfl_std) / max_r2_pfl.shape[1] * math.sqrt(52)\n",
    "print(\"Annualized Volatility: \" + str(max_r2_pfl_annual_volatility))"
   ]
  },
  {
   "cell_type": "markdown",
   "metadata": {},
   "source": [
    "Max _Absolute Returns_"
   ]
  },
  {
   "cell_type": "code",
   "execution_count": 25,
   "metadata": {},
   "outputs": [
    {
     "name": "stdout",
     "output_type": "stream",
     "text": [
      "Annualized Returns: 0.17438184140185328\n",
      "Annualized Volatility: 0.33956447496425135\n"
     ]
    }
   ],
   "source": [
    "# portfolio annual return\n",
    "max_absolute_returns_pfl_mean = max_absolute_returns_pfl.mean()\n",
    "max_absolute_returns_pfl_mean = max_absolute_returns_pfl_mean.to_list()\n",
    "\n",
    "max_absolute_returns_pfl_annual_return = sum(max_absolute_returns_pfl_mean) / max_absolute_returns_pfl.shape[1] * 52\n",
    "print(\"Annualized Returns: \" + str(max_absolute_returns_pfl_annual_return))\n",
    "\n",
    "# portfolio annual standard deviation\n",
    "max_absolute_returns_pfl_std = max_absolute_returns_pfl.std()\n",
    "max_absolute_returns_pfl_std = max_absolute_returns_pfl_std.to_list()\n",
    "\n",
    "max_absolute_returns_pfl_annual_volatility = sum(max_absolute_returns_pfl_std) / max_absolute_returns_pfl.shape[1] * math.sqrt(52)\n",
    "print(\"Annualized Volatility: \" + str(max_absolute_returns_pfl_annual_volatility))"
   ]
  },
  {
   "cell_type": "markdown",
   "metadata": {},
   "source": [
    "Min _Total Risk_"
   ]
  },
  {
   "cell_type": "code",
   "execution_count": 26,
   "metadata": {},
   "outputs": [
    {
     "name": "stdout",
     "output_type": "stream",
     "text": [
      "Annualized Returns: 0.13246648816836157\n",
      "Annualized Volatility: 0.29231395306451263\n"
     ]
    }
   ],
   "source": [
    "# portfolio annual return\n",
    "min_total_risk_pfl_mean = min_total_risk_pfl.mean()\n",
    "min_total_risk_pfl_mean = min_total_risk_pfl_mean.to_list()\n",
    "\n",
    "min_total_risk_pfl_annual_return = sum(min_total_risk_pfl_mean) / min_total_risk_pfl.shape[1] * 52\n",
    "print(\"Annualized Returns: \" + str(min_total_risk_pfl_annual_return))\n",
    "\n",
    "# portfolio annual standard deviation\n",
    "min_total_risk_pfl_std = min_total_risk_pfl.std()\n",
    "min_total_risk_pfl_std = min_total_risk_pfl_std.to_list()\n",
    "\n",
    "min_total_risk_pfl_annual_volatility = sum(min_total_risk_pfl_std) / min_total_risk_pfl.shape[1] * math.sqrt(52)\n",
    "print(\"Annualized Volatility: \" + str(min_total_risk_pfl_annual_volatility))"
   ]
  },
  {
   "cell_type": "markdown",
   "metadata": {},
   "source": [
    "Min _Systematic Risk_"
   ]
  },
  {
   "cell_type": "code",
   "execution_count": 27,
   "metadata": {},
   "outputs": [
    {
     "name": "stdout",
     "output_type": "stream",
     "text": [
      "Annualized Returns: 0.13246648816836157\n",
      "Annualized Volatility: 0.29231395306451263\n"
     ]
    }
   ],
   "source": [
    "# portfolio annual return\n",
    "min_systematic_risk_pfl_mean = min_systematic_risk_pfl.mean()\n",
    "min_systematic_risk_pfl_mean = min_systematic_risk_pfl_mean.to_list()\n",
    "\n",
    "min_systematic_risk_pfl_annual_return = sum(min_systematic_risk_pfl_mean) / min_systematic_risk_pfl.shape[1] * 52\n",
    "print(\"Annualized Returns: \" + str(min_systematic_risk_pfl_annual_return))\n",
    "\n",
    "# portfolio annual standard deviation\n",
    "min_systematic_risk_pfl_std = min_systematic_risk_pfl.std()\n",
    "min_systematic_risk_pfl_std = min_systematic_risk_pfl_std.to_list()\n",
    "\n",
    "min_systematic_risk_pfl_annual_volatility = sum(min_systematic_risk_pfl_std) / min_systematic_risk_pfl.shape[1] * math.sqrt(52)\n",
    "print(\"Annualized Volatility: \" + str(min_systematic_risk_pfl_annual_volatility))"
   ]
  },
  {
   "cell_type": "markdown",
   "metadata": {},
   "source": [
    "Max _Specific Risk_"
   ]
  },
  {
   "cell_type": "code",
   "execution_count": 28,
   "metadata": {},
   "outputs": [
    {
     "name": "stdout",
     "output_type": "stream",
     "text": [
      "Annualized Returns: 0.11691006800503526\n",
      "Annualized Volatility: 0.3868485676940349\n"
     ]
    }
   ],
   "source": [
    "# portfolio annual return\n",
    "max_specific_risk_pfl_mean = max_specific_risk_pfl.mean()\n",
    "max_specific_risk_pfl_mean = max_specific_risk_pfl_mean.to_list()\n",
    "\n",
    "max_specific_risk_pfl_annual_return = sum(max_specific_risk_pfl_mean) / max_specific_risk_pfl.shape[1] * 52\n",
    "print(\"Annualized Returns: \" + str(max_specific_risk_pfl_annual_return))\n",
    "\n",
    "# portfolio annual standard deviation\n",
    "max_specific_risk_pfl_std = max_specific_risk_pfl.std()\n",
    "max_specific_risk_pfl_std = max_specific_risk_pfl_std.to_list()\n",
    "\n",
    "max_specific_risk_pfl_annual_volatility = sum(max_specific_risk_pfl_std) / max_specific_risk_pfl.shape[1] * math.sqrt(52)\n",
    "print(\"Annualized Volatility: \" + str(max_specific_risk_pfl_annual_volatility))"
   ]
  },
  {
   "cell_type": "markdown",
   "metadata": {},
   "source": [
    "Max $\\beta$"
   ]
  },
  {
   "cell_type": "code",
   "execution_count": 29,
   "metadata": {},
   "outputs": [
    {
     "name": "stdout",
     "output_type": "stream",
     "text": [
      "Annualized Returns: 0.09248991288342147\n",
      "Annualized Volatility: 0.3840030134800512\n"
     ]
    }
   ],
   "source": [
    "# portfolio annual return\n",
    "max_beta_pfl_mean = max_beta_pfl.mean()\n",
    "max_beta_pfl_mean = max_beta_pfl_mean.to_list()\n",
    "\n",
    "max_beta_pfl_annual_return = sum(max_beta_pfl_mean) / max_beta_pfl.shape[1] * 52\n",
    "print(\"Annualized Returns: \" + str(max_beta_pfl_annual_return))\n",
    "\n",
    "# portfolio annual standard deviation\n",
    "max_beta_pfl_std = max_beta_pfl.std()\n",
    "max_beta_pfl_std = max_beta_pfl_std.to_list()\n",
    "\n",
    "max_beta_pfl_annual_volatility = sum(max_beta_pfl_std) / max_beta_pfl.shape[1] * math.sqrt(52)\n",
    "print(\"Annualized Volatility: \" + str(max_beta_pfl_annual_volatility))"
   ]
  },
  {
   "cell_type": "markdown",
   "metadata": {},
   "source": [
    "Final Statistics - Table"
   ]
  },
  {
   "cell_type": "code",
   "execution_count": 30,
   "metadata": {},
   "outputs": [],
   "source": [
    "final_stats = pd.DataFrame(columns=['Portfolio', 'Annualized Returns', 'Annualized Volatility'])"
   ]
  },
  {
   "cell_type": "code",
   "execution_count": 31,
   "metadata": {},
   "outputs": [],
   "source": [
    "pfl_list = ['NDX ES50', 'Max R2', 'Max Absolute Returns', 'Min Total Risk', 'Min Systematic Risk', 'Max Specific Risk', 'Max Beta']"
   ]
  },
  {
   "cell_type": "code",
   "execution_count": 32,
   "metadata": {},
   "outputs": [],
   "source": [
    "final_stats.loc[len(final_stats)] = [pfl_list[0], ndx_pfl_annual_return, ndx_pfl_annual_volatility]\n",
    "final_stats.loc[len(final_stats)] = [pfl_list[1], max_r2_pfl_annual_return, max_r2_pfl_annual_volatility]\n",
    "final_stats.loc[len(final_stats)] = [pfl_list[2], max_absolute_returns_pfl_annual_return, max_absolute_returns_pfl_annual_volatility]\n",
    "final_stats.loc[len(final_stats)] = [pfl_list[3], min_total_risk_pfl_annual_return, min_total_risk_pfl_annual_volatility]\n",
    "final_stats.loc[len(final_stats)] = [pfl_list[4], min_systematic_risk_pfl_annual_return, min_systematic_risk_pfl_annual_volatility]\n",
    "final_stats.loc[len(final_stats)] = [pfl_list[5], max_specific_risk_pfl_annual_return, max_specific_risk_pfl_annual_volatility]\n",
    "final_stats.loc[len(final_stats)] = [pfl_list[6], max_beta_pfl_annual_return, max_beta_pfl_annual_volatility]"
   ]
  },
  {
   "cell_type": "code",
   "execution_count": 33,
   "metadata": {},
   "outputs": [
    {
     "data": {
      "text/html": [
       "<div>\n",
       "<style scoped>\n",
       "    .dataframe tbody tr th:only-of-type {\n",
       "        vertical-align: middle;\n",
       "    }\n",
       "\n",
       "    .dataframe tbody tr th {\n",
       "        vertical-align: top;\n",
       "    }\n",
       "\n",
       "    .dataframe thead th {\n",
       "        text-align: right;\n",
       "    }\n",
       "</style>\n",
       "<table border=\"1\" class=\"dataframe\">\n",
       "  <thead>\n",
       "    <tr style=\"text-align: right;\">\n",
       "      <th></th>\n",
       "      <th>Portfolio</th>\n",
       "      <th>Annualized Returns</th>\n",
       "      <th>Annualized Volatility</th>\n",
       "    </tr>\n",
       "  </thead>\n",
       "  <tbody>\n",
       "    <tr>\n",
       "      <th>0</th>\n",
       "      <td>NDX ES50</td>\n",
       "      <td>0.046959</td>\n",
       "      <td>0.244318</td>\n",
       "    </tr>\n",
       "    <tr>\n",
       "      <th>1</th>\n",
       "      <td>Max R2</td>\n",
       "      <td>0.068851</td>\n",
       "      <td>0.366251</td>\n",
       "    </tr>\n",
       "    <tr>\n",
       "      <th>2</th>\n",
       "      <td>Max Absolute Returns</td>\n",
       "      <td>0.174382</td>\n",
       "      <td>0.339564</td>\n",
       "    </tr>\n",
       "    <tr>\n",
       "      <th>3</th>\n",
       "      <td>Min Total Risk</td>\n",
       "      <td>0.132466</td>\n",
       "      <td>0.292314</td>\n",
       "    </tr>\n",
       "    <tr>\n",
       "      <th>4</th>\n",
       "      <td>Min Systematic Risk</td>\n",
       "      <td>0.132466</td>\n",
       "      <td>0.292314</td>\n",
       "    </tr>\n",
       "    <tr>\n",
       "      <th>5</th>\n",
       "      <td>Max Specific Risk</td>\n",
       "      <td>0.116910</td>\n",
       "      <td>0.386849</td>\n",
       "    </tr>\n",
       "    <tr>\n",
       "      <th>6</th>\n",
       "      <td>Max Beta</td>\n",
       "      <td>0.092490</td>\n",
       "      <td>0.384003</td>\n",
       "    </tr>\n",
       "  </tbody>\n",
       "</table>\n",
       "</div>"
      ],
      "text/plain": [
       "              Portfolio  Annualized Returns  Annualized Volatility\n",
       "0              NDX ES50            0.046959               0.244318\n",
       "1                Max R2            0.068851               0.366251\n",
       "2  Max Absolute Returns            0.174382               0.339564\n",
       "3        Min Total Risk            0.132466               0.292314\n",
       "4   Min Systematic Risk            0.132466               0.292314\n",
       "5     Max Specific Risk            0.116910               0.386849\n",
       "6              Max Beta            0.092490               0.384003"
      ]
     },
     "execution_count": 33,
     "metadata": {},
     "output_type": "execute_result"
    }
   ],
   "source": [
    "final_stats"
   ]
  },
  {
   "cell_type": "code",
   "execution_count": 34,
   "metadata": {},
   "outputs": [],
   "source": [
    "final_stats.to_csv('../data/ES50_final_stats.csv')"
   ]
  }
 ],
 "metadata": {
  "kernelspec": {
   "display_name": "Python 3.9.7 ('finance')",
   "language": "python",
   "name": "python3"
  },
  "language_info": {
   "codemirror_mode": {
    "name": "ipython",
    "version": 3
   },
   "file_extension": ".py",
   "mimetype": "text/x-python",
   "name": "python",
   "nbconvert_exporter": "python",
   "pygments_lexer": "ipython3",
   "version": "3.9.7"
  },
  "orig_nbformat": 4,
  "vscode": {
   "interpreter": {
    "hash": "feac5ee11db6385b4c12b0947c117f22892e921fb5655ece65f725e09c2e67f4"
   }
  }
 },
 "nbformat": 4,
 "nbformat_minor": 2
}
