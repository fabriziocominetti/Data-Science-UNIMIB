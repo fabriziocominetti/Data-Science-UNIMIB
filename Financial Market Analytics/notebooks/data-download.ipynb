{
 "cells": [
  {
   "cell_type": "markdown",
   "metadata": {},
   "source": [
    "### Download Data"
   ]
  },
  {
   "cell_type": "markdown",
   "metadata": {},
   "source": [
    "1. You must download the daily time series of prices of a set of stocks. Expected timespan must be at least 5 years. You also need the related market index.\n",
    "\n",
    "2. The reference market, could be a specific country (ex. Italy) or a subpart of it (ex. FTSE MIB, only Italian Big stocks)"
   ]
  },
  {
   "cell_type": "markdown",
   "metadata": {},
   "source": [
    "Imports"
   ]
  },
  {
   "cell_type": "code",
   "execution_count": 1,
   "metadata": {},
   "outputs": [],
   "source": [
    "import numpy as np\n",
    "import pandas as pd\n",
    "\n",
    "import time\n",
    "\n",
    "import matplotlib.pyplot as plt # plotting\n",
    "import matplotlib.dates as mdates # styling dates\n",
    "%matplotlib inline\n",
    "\n",
    "import datetime as dt # for defining dates\n",
    "import mplfinance as mpf # matplotlib finance\n",
    "\n",
    "from functions import *"
   ]
  },
  {
   "cell_type": "markdown",
   "metadata": {},
   "source": [
    "Web Scraping Tickers list from Wikipedia"
   ]
  },
  {
   "cell_type": "code",
   "execution_count": 2,
   "metadata": {},
   "outputs": [],
   "source": [
    "# ticker list from Wikipedia\n",
    "ES50_url = 'https://en.wikipedia.org/wiki/EURO_STOXX_50'\n",
    "\n",
    "# read in the url and scrape ticker data\n",
    "data_table = pd.read_html(ES50_url)\n",
    "\n",
    "tickers_ES50 = data_table[3]['Ticker'].tolist()"
   ]
  },
  {
   "cell_type": "markdown",
   "metadata": {},
   "source": [
    "Tickers"
   ]
  },
  {
   "cell_type": "code",
   "execution_count": 3,
   "metadata": {},
   "outputs": [
    {
     "data": {
      "text/plain": [
       "['^STOXX50E',\n",
       " 'ADS.DE',\n",
       " 'ADYEN.AS',\n",
       " 'AD.AS',\n",
       " 'AI.PA',\n",
       " 'AIR.PA',\n",
       " 'ALV.DE',\n",
       " 'ABI.BR',\n",
       " 'ASML.AS',\n",
       " 'CS.PA',\n",
       " 'BAS.DE',\n",
       " 'BAYN.DE',\n",
       " 'BBVA.MC',\n",
       " 'SAN.MC',\n",
       " 'BMW.DE',\n",
       " 'BNP.PA',\n",
       " 'CRG.IR',\n",
       " 'BN.PA',\n",
       " 'DB1.DE',\n",
       " 'DPW.DE',\n",
       " 'DTE.DE',\n",
       " 'ENEL.MI',\n",
       " 'ENI.MI',\n",
       " 'EL.PA',\n",
       " 'FLTR.IR',\n",
       " 'RMS.PA',\n",
       " 'IBE.MC',\n",
       " 'ITX.MC',\n",
       " 'IFX.DE',\n",
       " 'INGA.AS',\n",
       " 'ISP.MI',\n",
       " 'KER.PA',\n",
       " 'KNEBV.HE',\n",
       " 'OR.PA',\n",
       " 'LIN.DE',\n",
       " 'MC.PA',\n",
       " 'MBG.DE',\n",
       " 'MUV2.DE',\n",
       " 'RI.PA',\n",
       " 'PHIA.AS',\n",
       " 'PRX.AS',\n",
       " 'SAF.PA',\n",
       " 'SAN.PA',\n",
       " 'SAP.DE',\n",
       " 'SU.PA',\n",
       " 'SIE.DE',\n",
       " 'STLA.MI',\n",
       " 'TTE.PA',\n",
       " 'DG.PA',\n",
       " 'VOW.DE',\n",
       " 'VNA.DE']"
      ]
     },
     "execution_count": 3,
     "metadata": {},
     "output_type": "execute_result"
    }
   ],
   "source": [
    "tickers_ES50 = ['^STOXX50E'] + tickers_ES50\n",
    "tickers_ES50"
   ]
  },
  {
   "cell_type": "code",
   "execution_count": 4,
   "metadata": {},
   "outputs": [
    {
     "data": {
      "text/plain": [
       "['^STOXX50E']"
      ]
     },
     "execution_count": 4,
     "metadata": {},
     "output_type": "execute_result"
    }
   ],
   "source": [
    "ticker_ndx = ['^STOXX50E']\n",
    "ticker_ndx"
   ]
  },
  {
   "cell_type": "code",
   "execution_count": null,
   "metadata": {},
   "outputs": [],
   "source": [
    "# save to .txt file\n",
    "with open(\"../data/tickers_ES50.txt\", \"w\") as output:\n",
    "    output.write(str(tickers_ES50))"
   ]
  },
  {
   "cell_type": "markdown",
   "metadata": {},
   "source": [
    "Download stock data and save to CSV"
   ]
  },
  {
   "cell_type": "code",
   "execution_count": 5,
   "metadata": {},
   "outputs": [],
   "source": [
    "# define start date and end date\n",
    "start=\"2017-01-01\"\n",
    "end=\"2022-06-01\""
   ]
  },
  {
   "cell_type": "code",
   "execution_count": 6,
   "metadata": {},
   "outputs": [],
   "source": [
    "# folder used to store stock data\n",
    "folder = \"../data/raw/\""
   ]
  },
  {
   "cell_type": "code",
   "execution_count": 7,
   "metadata": {},
   "outputs": [],
   "source": [
    "# get price data from Yahoo - ES50\n",
    "tickers_data = get_Yahoo_data_ES50(tickers_ES50)"
   ]
  },
  {
   "cell_type": "code",
   "execution_count": 8,
   "metadata": {},
   "outputs": [],
   "source": [
    "# get price data from Yahoo - Index\n",
    "ndx_data = get_Yahoo_data_ndx(ticker_ndx)"
   ]
  },
  {
   "cell_type": "code",
   "execution_count": 9,
   "metadata": {},
   "outputs": [
    {
     "data": {
      "text/html": [
       "<div>\n",
       "<style scoped>\n",
       "    .dataframe tbody tr th:only-of-type {\n",
       "        vertical-align: middle;\n",
       "    }\n",
       "\n",
       "    .dataframe tbody tr th {\n",
       "        vertical-align: top;\n",
       "    }\n",
       "\n",
       "    .dataframe thead th {\n",
       "        text-align: right;\n",
       "    }\n",
       "</style>\n",
       "<table border=\"1\" class=\"dataframe\">\n",
       "  <thead>\n",
       "    <tr style=\"text-align: right;\">\n",
       "      <th></th>\n",
       "      <th>Date</th>\n",
       "      <th>EuroStoxx50</th>\n",
       "      <th>ADS.DE</th>\n",
       "      <th>ADYEN.AS</th>\n",
       "      <th>AD.AS</th>\n",
       "      <th>AI.PA</th>\n",
       "      <th>AIR.PA</th>\n",
       "      <th>ALV.DE</th>\n",
       "      <th>ABI.BR</th>\n",
       "      <th>ASML.AS</th>\n",
       "      <th>...</th>\n",
       "      <th>SAF.PA</th>\n",
       "      <th>SAN.PA</th>\n",
       "      <th>SAP.DE</th>\n",
       "      <th>SU.PA</th>\n",
       "      <th>SIE.DE</th>\n",
       "      <th>STLA.MI</th>\n",
       "      <th>TTE.PA</th>\n",
       "      <th>DG.PA</th>\n",
       "      <th>VOW.DE</th>\n",
       "      <th>VNA.DE</th>\n",
       "    </tr>\n",
       "  </thead>\n",
       "  <tbody>\n",
       "    <tr>\n",
       "      <th>1</th>\n",
       "      <td>2016-01-04</td>\n",
       "      <td>3164.760010</td>\n",
       "      <td>78.004707</td>\n",
       "      <td>NaN</td>\n",
       "      <td>15.247333</td>\n",
       "      <td>63.063118</td>\n",
       "      <td>53.968327</td>\n",
       "      <td>111.405846</td>\n",
       "      <td>90.266624</td>\n",
       "      <td>74.629242</td>\n",
       "      <td>...</td>\n",
       "      <td>57.882877</td>\n",
       "      <td>59.244190</td>\n",
       "      <td>63.260578</td>\n",
       "      <td>41.909256</td>\n",
       "      <td>68.110123</td>\n",
       "      <td>4.946972</td>\n",
       "      <td>27.490080</td>\n",
       "      <td>47.195293</td>\n",
       "      <td>117.650673</td>\n",
       "      <td>22.053017</td>\n",
       "    </tr>\n",
       "    <tr>\n",
       "      <th>2</th>\n",
       "      <td>2016-01-05</td>\n",
       "      <td>3178.010010</td>\n",
       "      <td>77.737396</td>\n",
       "      <td>NaN</td>\n",
       "      <td>15.321729</td>\n",
       "      <td>62.687923</td>\n",
       "      <td>55.059048</td>\n",
       "      <td>111.762909</td>\n",
       "      <td>91.510849</td>\n",
       "      <td>75.216354</td>\n",
       "      <td>...</td>\n",
       "      <td>57.576126</td>\n",
       "      <td>59.946838</td>\n",
       "      <td>64.022430</td>\n",
       "      <td>42.097519</td>\n",
       "      <td>68.540154</td>\n",
       "      <td>5.077475</td>\n",
       "      <td>27.239086</td>\n",
       "      <td>47.456890</td>\n",
       "      <td>111.036285</td>\n",
       "      <td>22.200811</td>\n",
       "    </tr>\n",
       "    <tr>\n",
       "      <th>3</th>\n",
       "      <td>2016-01-06</td>\n",
       "      <td>3139.320068</td>\n",
       "      <td>76.837410</td>\n",
       "      <td>NaN</td>\n",
       "      <td>15.223837</td>\n",
       "      <td>61.812473</td>\n",
       "      <td>54.331902</td>\n",
       "      <td>112.119972</td>\n",
       "      <td>90.306778</td>\n",
       "      <td>73.464317</td>\n",
       "      <td>...</td>\n",
       "      <td>57.167126</td>\n",
       "      <td>59.137260</td>\n",
       "      <td>64.578133</td>\n",
       "      <td>41.352646</td>\n",
       "      <td>68.269386</td>\n",
       "      <td>4.813435</td>\n",
       "      <td>26.977922</td>\n",
       "      <td>47.178940</td>\n",
       "      <td>110.737564</td>\n",
       "      <td>21.741453</td>\n",
       "    </tr>\n",
       "    <tr>\n",
       "      <th>4</th>\n",
       "      <td>2016-01-07</td>\n",
       "      <td>3084.679932</td>\n",
       "      <td>75.643364</td>\n",
       "      <td>NaN</td>\n",
       "      <td>15.145526</td>\n",
       "      <td>60.386761</td>\n",
       "      <td>53.241184</td>\n",
       "      <td>109.799019</td>\n",
       "      <td>88.781578</td>\n",
       "      <td>71.749557</td>\n",
       "      <td>...</td>\n",
       "      <td>56.051670</td>\n",
       "      <td>58.495708</td>\n",
       "      <td>63.941761</td>\n",
       "      <td>40.501366</td>\n",
       "      <td>66.963402</td>\n",
       "      <td>4.655616</td>\n",
       "      <td>26.323318</td>\n",
       "      <td>46.639381</td>\n",
       "      <td>105.446068</td>\n",
       "      <td>21.334026</td>\n",
       "    </tr>\n",
       "    <tr>\n",
       "      <th>5</th>\n",
       "      <td>2016-01-08</td>\n",
       "      <td>3033.469971</td>\n",
       "      <td>74.360207</td>\n",
       "      <td>NaN</td>\n",
       "      <td>15.176851</td>\n",
       "      <td>59.467541</td>\n",
       "      <td>52.106125</td>\n",
       "      <td>108.406448</td>\n",
       "      <td>86.333267</td>\n",
       "      <td>68.720772</td>\n",
       "      <td>...</td>\n",
       "      <td>55.410286</td>\n",
       "      <td>57.029305</td>\n",
       "      <td>63.681831</td>\n",
       "      <td>40.644611</td>\n",
       "      <td>66.501534</td>\n",
       "      <td>4.464415</td>\n",
       "      <td>25.336323</td>\n",
       "      <td>46.484043</td>\n",
       "      <td>106.726273</td>\n",
       "      <td>20.994507</td>\n",
       "    </tr>\n",
       "  </tbody>\n",
       "</table>\n",
       "<p>5 rows × 52 columns</p>\n",
       "</div>"
      ],
      "text/plain": [
       "         Date  EuroStoxx50     ADS.DE  ADYEN.AS      AD.AS      AI.PA  \\\n",
       "1  2016-01-04  3164.760010  78.004707       NaN  15.247333  63.063118   \n",
       "2  2016-01-05  3178.010010  77.737396       NaN  15.321729  62.687923   \n",
       "3  2016-01-06  3139.320068  76.837410       NaN  15.223837  61.812473   \n",
       "4  2016-01-07  3084.679932  75.643364       NaN  15.145526  60.386761   \n",
       "5  2016-01-08  3033.469971  74.360207       NaN  15.176851  59.467541   \n",
       "\n",
       "      AIR.PA      ALV.DE     ABI.BR    ASML.AS  ...     SAF.PA     SAN.PA  \\\n",
       "1  53.968327  111.405846  90.266624  74.629242  ...  57.882877  59.244190   \n",
       "2  55.059048  111.762909  91.510849  75.216354  ...  57.576126  59.946838   \n",
       "3  54.331902  112.119972  90.306778  73.464317  ...  57.167126  59.137260   \n",
       "4  53.241184  109.799019  88.781578  71.749557  ...  56.051670  58.495708   \n",
       "5  52.106125  108.406448  86.333267  68.720772  ...  55.410286  57.029305   \n",
       "\n",
       "      SAP.DE      SU.PA     SIE.DE   STLA.MI     TTE.PA      DG.PA  \\\n",
       "1  63.260578  41.909256  68.110123  4.946972  27.490080  47.195293   \n",
       "2  64.022430  42.097519  68.540154  5.077475  27.239086  47.456890   \n",
       "3  64.578133  41.352646  68.269386  4.813435  26.977922  47.178940   \n",
       "4  63.941761  40.501366  66.963402  4.655616  26.323318  46.639381   \n",
       "5  63.681831  40.644611  66.501534  4.464415  25.336323  46.484043   \n",
       "\n",
       "       VOW.DE     VNA.DE  \n",
       "1  117.650673  22.053017  \n",
       "2  111.036285  22.200811  \n",
       "3  110.737564  21.741453  \n",
       "4  105.446068  21.334026  \n",
       "5  106.726273  20.994507  \n",
       "\n",
       "[5 rows x 52 columns]"
      ]
     },
     "execution_count": 9,
     "metadata": {},
     "output_type": "execute_result"
    }
   ],
   "source": [
    "df_ES50 = pd.read_csv('../data/raw/ES50.csv', header=1)\n",
    "df_ES50 = df_ES50.iloc[:, : 52]\n",
    "df_ES50 = df_ES50.drop([0])\n",
    "df_ES50 = df_ES50.rename(columns={\"Symbols\": \"Date\", \"^STOXX50E\": \"EuroStoxx50\"})\n",
    "df_ES50.head()"
   ]
  },
  {
   "cell_type": "code",
   "execution_count": 10,
   "metadata": {},
   "outputs": [
    {
     "data": {
      "text/html": [
       "<div>\n",
       "<style scoped>\n",
       "    .dataframe tbody tr th:only-of-type {\n",
       "        vertical-align: middle;\n",
       "    }\n",
       "\n",
       "    .dataframe tbody tr th {\n",
       "        vertical-align: top;\n",
       "    }\n",
       "\n",
       "    .dataframe thead th {\n",
       "        text-align: right;\n",
       "    }\n",
       "</style>\n",
       "<table border=\"1\" class=\"dataframe\">\n",
       "  <thead>\n",
       "    <tr style=\"text-align: right;\">\n",
       "      <th></th>\n",
       "      <th>Date</th>\n",
       "      <th>EuroStoxx50</th>\n",
       "    </tr>\n",
       "  </thead>\n",
       "  <tbody>\n",
       "    <tr>\n",
       "      <th>1</th>\n",
       "      <td>2016-01-04</td>\n",
       "      <td>3164.760010</td>\n",
       "    </tr>\n",
       "    <tr>\n",
       "      <th>2</th>\n",
       "      <td>2016-01-05</td>\n",
       "      <td>3178.010010</td>\n",
       "    </tr>\n",
       "    <tr>\n",
       "      <th>3</th>\n",
       "      <td>2016-01-06</td>\n",
       "      <td>3139.320068</td>\n",
       "    </tr>\n",
       "    <tr>\n",
       "      <th>4</th>\n",
       "      <td>2016-01-07</td>\n",
       "      <td>3084.679932</td>\n",
       "    </tr>\n",
       "    <tr>\n",
       "      <th>5</th>\n",
       "      <td>2016-01-08</td>\n",
       "      <td>3033.469971</td>\n",
       "    </tr>\n",
       "  </tbody>\n",
       "</table>\n",
       "</div>"
      ],
      "text/plain": [
       "         Date  EuroStoxx50\n",
       "1  2016-01-04  3164.760010\n",
       "2  2016-01-05  3178.010010\n",
       "3  2016-01-06  3139.320068\n",
       "4  2016-01-07  3084.679932\n",
       "5  2016-01-08  3033.469971"
      ]
     },
     "execution_count": 10,
     "metadata": {},
     "output_type": "execute_result"
    }
   ],
   "source": [
    "df_ndx = pd.read_csv('../data/raw/ES50_index.csv', header=1)\n",
    "df_ndx = df_ndx.iloc[:, : 2]\n",
    "df_ndx = df_ndx.drop([0])\n",
    "df_ndx = df_ndx.rename(columns={\"Symbols\": \"Date\", \"^STOXX50E\": \"EuroStoxx50\"})\n",
    "df_ndx.head()"
   ]
  },
  {
   "cell_type": "code",
   "execution_count": 11,
   "metadata": {},
   "outputs": [],
   "source": [
    "df_ES50['Date'] = pd.to_datetime(df_ES50['Date'])\n",
    "df_ndx['Date'] = pd.to_datetime(df_ndx['Date'])"
   ]
  },
  {
   "cell_type": "markdown",
   "metadata": {},
   "source": [
    "Data Visualization - Index"
   ]
  },
  {
   "cell_type": "code",
   "execution_count": 12,
   "metadata": {},
   "outputs": [
    {
     "data": {
      "text/html": [
       "<div>\n",
       "<style scoped>\n",
       "    .dataframe tbody tr th:only-of-type {\n",
       "        vertical-align: middle;\n",
       "    }\n",
       "\n",
       "    .dataframe tbody tr th {\n",
       "        vertical-align: top;\n",
       "    }\n",
       "\n",
       "    .dataframe thead th {\n",
       "        text-align: right;\n",
       "    }\n",
       "</style>\n",
       "<table border=\"1\" class=\"dataframe\">\n",
       "  <thead>\n",
       "    <tr style=\"text-align: right;\">\n",
       "      <th></th>\n",
       "      <th>Date</th>\n",
       "      <th>EuroStoxx50</th>\n",
       "    </tr>\n",
       "    <tr>\n",
       "      <th>Date</th>\n",
       "      <th></th>\n",
       "      <th></th>\n",
       "    </tr>\n",
       "  </thead>\n",
       "  <tbody>\n",
       "    <tr>\n",
       "      <th>2016-01-04</th>\n",
       "      <td>2016-01-04</td>\n",
       "      <td>3164.760010</td>\n",
       "    </tr>\n",
       "    <tr>\n",
       "      <th>2016-01-05</th>\n",
       "      <td>2016-01-05</td>\n",
       "      <td>3178.010010</td>\n",
       "    </tr>\n",
       "    <tr>\n",
       "      <th>2016-01-06</th>\n",
       "      <td>2016-01-06</td>\n",
       "      <td>3139.320068</td>\n",
       "    </tr>\n",
       "    <tr>\n",
       "      <th>2016-01-07</th>\n",
       "      <td>2016-01-07</td>\n",
       "      <td>3084.679932</td>\n",
       "    </tr>\n",
       "    <tr>\n",
       "      <th>2016-01-08</th>\n",
       "      <td>2016-01-08</td>\n",
       "      <td>3033.469971</td>\n",
       "    </tr>\n",
       "  </tbody>\n",
       "</table>\n",
       "</div>"
      ],
      "text/plain": [
       "                 Date  EuroStoxx50\n",
       "Date                              \n",
       "2016-01-04 2016-01-04  3164.760010\n",
       "2016-01-05 2016-01-05  3178.010010\n",
       "2016-01-06 2016-01-06  3139.320068\n",
       "2016-01-07 2016-01-07  3084.679932\n",
       "2016-01-08 2016-01-08  3033.469971"
      ]
     },
     "execution_count": 12,
     "metadata": {},
     "output_type": "execute_result"
    }
   ],
   "source": [
    "df_ndx.set_index(df_ndx['Date'], inplace=True)\n",
    "df_ndx.head()"
   ]
  },
  {
   "cell_type": "code",
   "execution_count": 13,
   "metadata": {},
   "outputs": [
    {
     "data": {
      "text/plain": [
       "Text(0.5, 1.0, 'Euro Stoxx 50 Index Price 1/1/17 - 1/6/22')"
      ]
     },
     "execution_count": 13,
     "metadata": {},
     "output_type": "execute_result"
    },
    {
     "data": {
      "image/png": "[encoded data removed]",
      "text/plain": [
       "<Figure size 720x720 with 1 Axes>"
      ]
     },
     "metadata": {
      "needs_background": "light"
     },
     "output_type": "display_data"
    }
   ],
   "source": [
    "plt.figure(figsize=(10,10))\n",
    "plt.plot(df_ndx.index, df_ndx['EuroStoxx50'])\n",
    "plt.xlabel(\"Date\")\n",
    "plt.ylabel(\"€ price\")\n",
    "plt.title(\"Euro Stoxx 50 Index Price 1/1/17 - 1/6/22\")"
   ]
  }
 ],
 "metadata": {
  "kernelspec": {
   "display_name": "Python 3.9.7 ('finance')",
   "language": "python",
   "name": "python3"
  },
  "language_info": {
   "codemirror_mode": {
    "name": "ipython",
    "version": 3
   },
   "file_extension": ".py",
   "mimetype": "text/x-python",
   "name": "python",
   "nbconvert_exporter": "python",
   "pygments_lexer": "ipython3",
   "version": "3.9.7"
  },
  "orig_nbformat": 4,
  "vscode": {
   "interpreter": {
    "hash": "feac5ee11db6385b4c12b0947c117f22892e921fb5655ece65f725e09c2e67f4"
   }
  }
 },
 "nbformat": 4,
 "nbformat_minor": 2
}
