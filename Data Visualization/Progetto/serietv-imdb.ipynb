{
 "cells": [
  {
   "cell_type": "code",
   "execution_count": 1,
   "metadata": {},
   "outputs": [],
   "source": [
    "import pandas as pd\n",
    "import numpy as np"
   ]
  },
  {
   "cell_type": "code",
   "execution_count": 2,
   "metadata": {},
   "outputs": [],
   "source": [
    "dataframeTitoli = pd.read_csv(\"./data/title_basics.tsv\", sep=\"\\t\", low_memory=False)"
   ]
  },
  {
   "cell_type": "code",
   "execution_count": 3,
   "metadata": {},
   "outputs": [],
   "source": [
    "dataframeTitoli['titleType'] = pd.Categorical(dataframeTitoli['titleType'])"
   ]
  },
  {
   "cell_type": "code",
   "execution_count": 4,
   "metadata": {},
   "outputs": [],
   "source": [
    "df = dataframeTitoli[dataframeTitoli['titleType'] == \"tvSeries\"]"
   ]
  },
  {
   "cell_type": "code",
   "execution_count": 8,
   "metadata": {},
   "outputs": [
    {
     "data": {
      "text/plain": [
       "startYear\n",
       "2003     3569\n",
       "2004     3750\n",
       "2005     4265\n",
       "2006     4876\n",
       "2007     5253\n",
       "2008     5447\n",
       "2009     5834\n",
       "2010     6508\n",
       "2011     7912\n",
       "2012     8711\n",
       "2013     9020\n",
       "2014     9383\n",
       "2015    10216\n",
       "2016    10344\n",
       "2017    10432\n",
       "2018    10233\n",
       "2019     9784\n",
       "2020    10358\n",
       "2021     8837\n",
       "2022     1628\n",
       "2023       52\n",
       "2024        9\n",
       "2025        4\n",
       "2026        1\n",
       "\\N      15712\n",
       "Name: startYear, dtype: int64"
      ]
     },
     "execution_count": 8,
     "metadata": {},
     "output_type": "execute_result"
    }
   ],
   "source": [
    "df2 = df.groupby('startYear')['startYear'].count()\n",
    "df2.tail(25)"
   ]
  }
 ],
 "metadata": {
  "interpreter": {
   "hash": "321174d8aa7f52ed5be9f93845e9080b08d7e9bc896d6b210b4716153a145d05"
  },
  "kernelspec": {
   "display_name": "Python 3.9.7 64-bit ('dataViz': conda)",
   "language": "python",
   "name": "python3"
  },
  "language_info": {
   "codemirror_mode": {
    "name": "ipython",
    "version": 3
   },
   "file_extension": ".py",
   "mimetype": "text/x-python",
   "name": "python",
   "nbconvert_exporter": "python",
   "pygments_lexer": "ipython3",
   "version": "3.9.7"
  },
  "orig_nbformat": 4
 },
 "nbformat": 4,
 "nbformat_minor": 2
}
