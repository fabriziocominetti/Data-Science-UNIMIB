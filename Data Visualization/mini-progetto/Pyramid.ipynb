{
 "cells": [
  {
   "cell_type": "markdown",
   "metadata": {},
   "source": [
    "L'obiettivo della visualizzazione consiste nel verificare se il numero di score postoperatori fisici migliorati o peggiorati è influenzato dall'età del paziente"
   ]
  },
  {
   "cell_type": "code",
   "execution_count": 3,
   "metadata": {},
   "outputs": [],
   "source": [
    "#importazione delle librerie\n",
    "import pandas as pd\n",
    "import plotly.io as pio\n",
    "import plotly.graph_objs as go"
   ]
  },
  {
   "cell_type": "markdown",
   "metadata": {},
   "source": [
    "Importazione dei dati"
   ]
  },
  {
   "cell_type": "code",
   "execution_count": 4,
   "metadata": {},
   "outputs": [
    {
     "data": {
      "text/html": [
       "<div>\n",
       "<style scoped>\n",
       "    .dataframe tbody tr th:only-of-type {\n",
       "        vertical-align: middle;\n",
       "    }\n",
       "\n",
       "    .dataframe tbody tr th {\n",
       "        vertical-align: top;\n",
       "    }\n",
       "\n",
       "    .dataframe thead th {\n",
       "        text-align: right;\n",
       "    }\n",
       "</style>\n",
       "<table border=\"1\" class=\"dataframe\">\n",
       "  <thead>\n",
       "    <tr style=\"text-align: right;\">\n",
       "      <th></th>\n",
       "      <th>nome_modulistica</th>\n",
       "      <th>score_preop</th>\n",
       "      <th>score_postop</th>\n",
       "      <th>condizioni_meteo</th>\n",
       "      <th>sesso</th>\n",
       "      <th>anni_ricovero</th>\n",
       "      <th>temperatura_media</th>\n",
       "      <th>umidita_media</th>\n",
       "      <th>HI &gt; 27</th>\n",
       "      <th>natural_light</th>\n",
       "    </tr>\n",
       "  </thead>\n",
       "  <tbody>\n",
       "    <tr>\n",
       "      <th>0</th>\n",
       "      <td>SF12 PhysicalScore</td>\n",
       "      <td>27.60</td>\n",
       "      <td>37.40</td>\n",
       "      <td>poco nuvoloso</td>\n",
       "      <td>F</td>\n",
       "      <td>70</td>\n",
       "      <td>20.0</td>\n",
       "      <td>69.0</td>\n",
       "      <td>False</td>\n",
       "      <td>True</td>\n",
       "    </tr>\n",
       "    <tr>\n",
       "      <th>1</th>\n",
       "      <td>SF12 MentalScore</td>\n",
       "      <td>54.36</td>\n",
       "      <td>58.46</td>\n",
       "      <td>poco nuvoloso</td>\n",
       "      <td>F</td>\n",
       "      <td>70</td>\n",
       "      <td>20.0</td>\n",
       "      <td>69.0</td>\n",
       "      <td>False</td>\n",
       "      <td>True</td>\n",
       "    </tr>\n",
       "    <tr>\n",
       "      <th>2</th>\n",
       "      <td>SF12 PhysicalScore</td>\n",
       "      <td>28.15</td>\n",
       "      <td>38.25</td>\n",
       "      <td>poco nuvoloso</td>\n",
       "      <td>M</td>\n",
       "      <td>69</td>\n",
       "      <td>18.0</td>\n",
       "      <td>65.0</td>\n",
       "      <td>False</td>\n",
       "      <td>True</td>\n",
       "    </tr>\n",
       "    <tr>\n",
       "      <th>3</th>\n",
       "      <td>SF12 MentalScore</td>\n",
       "      <td>57.02</td>\n",
       "      <td>64.62</td>\n",
       "      <td>poco nuvoloso</td>\n",
       "      <td>M</td>\n",
       "      <td>69</td>\n",
       "      <td>18.0</td>\n",
       "      <td>65.0</td>\n",
       "      <td>False</td>\n",
       "      <td>True</td>\n",
       "    </tr>\n",
       "    <tr>\n",
       "      <th>4</th>\n",
       "      <td>SF12 PhysicalScore</td>\n",
       "      <td>31.57</td>\n",
       "      <td>55.67</td>\n",
       "      <td>poco nuvoloso</td>\n",
       "      <td>M</td>\n",
       "      <td>70</td>\n",
       "      <td>23.0</td>\n",
       "      <td>74.0</td>\n",
       "      <td>False</td>\n",
       "      <td>True</td>\n",
       "    </tr>\n",
       "  </tbody>\n",
       "</table>\n",
       "</div>"
      ],
      "text/plain": [
       "     nome_modulistica  score_preop  score_postop condizioni_meteo sesso  \\\n",
       "0  SF12 PhysicalScore        27.60         37.40    poco nuvoloso     F   \n",
       "1    SF12 MentalScore        54.36         58.46    poco nuvoloso     F   \n",
       "2  SF12 PhysicalScore        28.15         38.25    poco nuvoloso     M   \n",
       "3    SF12 MentalScore        57.02         64.62    poco nuvoloso     M   \n",
       "4  SF12 PhysicalScore        31.57         55.67    poco nuvoloso     M   \n",
       "\n",
       "   anni_ricovero  temperatura_media  umidita_media  HI > 27  natural_light  \n",
       "0             70               20.0           69.0    False           True  \n",
       "1             70               20.0           69.0    False           True  \n",
       "2             69               18.0           65.0    False           True  \n",
       "3             69               18.0           65.0    False           True  \n",
       "4             70               23.0           74.0    False           True  "
      ]
     },
     "execution_count": 4,
     "metadata": {},
     "output_type": "execute_result"
    }
   ],
   "source": [
    "dataset= pd.read_csv(\"./compitino_dataviz_2021_2022.csv\")\n",
    "dataset.head()"
   ]
  },
  {
   "cell_type": "markdown",
   "metadata": {},
   "source": [
    "Calcolo colonne aggiuntive utili alla visualizzazione"
   ]
  },
  {
   "cell_type": "code",
   "execution_count": 5,
   "metadata": {},
   "outputs": [],
   "source": [
    "dataset[\"delta_score\"] = dataset[\"score_postop\"] - dataset[\"score_preop\"] \n",
    "dataset[\"peggiorato\"] = dataset[\"delta_score\"] < 0\n",
    "dataset[\"pshysical_score\"] = dataset[\"nome_modulistica\"] == \"SF12 PhysicalScore\""
   ]
  },
  {
   "cell_type": "code",
   "execution_count": 6,
   "metadata": {},
   "outputs": [],
   "source": [
    "\n",
    "dataset[\"gruppo_eta\"] = pd.qcut(dataset[\"anni_ricovero\"], 6, labels=[\n",
    "                                \"(24, 58]\", \"(58, 65]\", \"(65, 69]\", \"(69, 74]\", \"(74, 79]\", \"(79, 97]\"])\n",
    "dataset[\"gruppo_eta\"] = dataset[\"gruppo_eta\"].astype(str)\n"
   ]
  },
  {
   "cell_type": "markdown",
   "metadata": {},
   "source": [
    "Creazione di classi di età con numero di osservazioni omogeneo"
   ]
  },
  {
   "cell_type": "code",
   "execution_count": 7,
   "metadata": {},
   "outputs": [],
   "source": [
    "#creazione di 6 intervalli di età\n",
    "dataset[\"gruppo_eta\"] = pd.qcut(dataset[\"anni_ricovero\"], 6, labels=[\n",
    "                                \"(24, 58]\", \"(58, 65]\", \"(65, 69]\", \"(69, 74]\", \"(74, 79]\", \"(79, 97]\"])\n",
    "#conversione della colonna appena creata in stringa, per comodità \n",
    "dataset[\"gruppo_eta\"] = dataset[\"gruppo_eta\"].astype(str)\n"
   ]
  },
  {
   "cell_type": "markdown",
   "metadata": {},
   "source": [
    "Calcolo per ogni classe d'età del numero punteggi fisici migliorati e peggiorati"
   ]
  },
  {
   "cell_type": "code",
   "execution_count": 8,
   "metadata": {},
   "outputs": [
    {
     "data": {
      "text/html": [
       "<div>\n",
       "<style scoped>\n",
       "    .dataframe tbody tr th:only-of-type {\n",
       "        vertical-align: middle;\n",
       "    }\n",
       "\n",
       "    .dataframe tbody tr th {\n",
       "        vertical-align: top;\n",
       "    }\n",
       "\n",
       "    .dataframe thead th {\n",
       "        text-align: right;\n",
       "    }\n",
       "</style>\n",
       "<table border=\"1\" class=\"dataframe\">\n",
       "  <thead>\n",
       "    <tr style=\"text-align: right;\">\n",
       "      <th></th>\n",
       "      <th>gruppo_eta</th>\n",
       "      <th>peggiorati</th>\n",
       "      <th>migliorati</th>\n",
       "    </tr>\n",
       "  </thead>\n",
       "  <tbody>\n",
       "    <tr>\n",
       "      <th>5</th>\n",
       "      <td>(24, 58]</td>\n",
       "      <td>-0.150538</td>\n",
       "      <td>0.199079</td>\n",
       "    </tr>\n",
       "    <tr>\n",
       "      <th>4</th>\n",
       "      <td>(58, 65]</td>\n",
       "      <td>-0.204301</td>\n",
       "      <td>0.154200</td>\n",
       "    </tr>\n",
       "    <tr>\n",
       "      <th>1</th>\n",
       "      <td>(65, 69]</td>\n",
       "      <td>-0.107527</td>\n",
       "      <td>0.163406</td>\n",
       "    </tr>\n",
       "    <tr>\n",
       "      <th>0</th>\n",
       "      <td>(69, 74]</td>\n",
       "      <td>-0.182796</td>\n",
       "      <td>0.176064</td>\n",
       "    </tr>\n",
       "    <tr>\n",
       "      <th>2</th>\n",
       "      <td>(74, 79]</td>\n",
       "      <td>-0.225806</td>\n",
       "      <td>0.162255</td>\n",
       "    </tr>\n",
       "  </tbody>\n",
       "</table>\n",
       "</div>"
      ],
      "text/plain": [
       "  gruppo_eta  peggiorati  migliorati\n",
       "5   (24, 58]   -0.150538    0.199079\n",
       "4   (58, 65]   -0.204301    0.154200\n",
       "1   (65, 69]   -0.107527    0.163406\n",
       "0   (69, 74]   -0.182796    0.176064\n",
       "2   (74, 79]   -0.225806    0.162255"
      ]
     },
     "execution_count": 8,
     "metadata": {},
     "output_type": "execute_result"
    }
   ],
   "source": [
    "#creazione nuovo dataframe\n",
    "dataframe = pd.DataFrame({\"gruppo_eta\":[], \"peggiorati\": [], \"migliorati\":[]})\n",
    "#ciclo for per ogni classe d'età\n",
    "for item in dataset[\"gruppo_eta\"].unique():\n",
    "  #query per identificare i record con punteggio peggiorato per la classe d'età in esame\n",
    "  queryStringPegg = \"gruppo_eta == '\"+str(item)+\"' and peggiorato == 1 and pshysical_score == 1\"\n",
    "  #query per identificare i record con punteggio migliorato per la classe d'età in esame\n",
    "  queryStringMigl = \"gruppo_eta == '\"+str(item)+\"' and peggiorato == 0 and pshysical_score == 1\"\n",
    "\n",
    "  #query\n",
    "  resPeggiorati = dataset.query(queryStringPegg)\n",
    "  resMigliorati = dataset.query(queryStringMigl)\n",
    "  #inserimento nel dataframe del numero di migliorati o peggiorati per la classe d'età in esame\n",
    "  dataframe.loc[len(dataframe.index)] = [str(item), len(resPeggiorati), len(resMigliorati)]\n",
    "#ordinamento delle classi d'età\n",
    "dataframe = dataframe.sort_values(\"gruppo_eta\")\n",
    "#calcolo della percentuale di migliorati e peggiorati rispetto al totale di migliorati e peggiorati\n",
    "dataframe[\"peggiorati\"] =- (dataframe[\"peggiorati\"]/ dataframe[\"peggiorati\"].sum())\n",
    "dataframe[\"migliorati\"] = dataframe[\"migliorati\"]/ dataframe[\"migliorati\"].sum()\n",
    "dataframe.head()\n"
   ]
  },
  {
   "cell_type": "markdown",
   "metadata": {},
   "source": [
    "Creazione della visualizzazione a piramide relativa alla percentuale di migliorati e peggiorati per ogni classe di età"
   ]
  },
  {
   "cell_type": "code",
   "execution_count": 9,
   "metadata": {},
   "outputs": [
    {
     "data": {
      "application/vnd.plotly.v1+json": {
       "config": {
        "plotlyServerURL": "https://plot.ly"
       },
       "data": [
        {
         "hoverinfo": "skip",
         "marker": {
          "color": "#F4B942"
         },
         "name": "Peggiorati",
         "orientation": "h",
         "text": [
          "15.05",
          "20.43",
          "10.75",
          "18.28",
          "22.58",
          "12.9"
         ],
         "textposition": "auto",
         "type": "bar",
         "x": [
          -0.15053763440860216,
          -0.20430107526881722,
          -0.10752688172043011,
          -0.1827956989247312,
          -0.22580645161290322,
          -0.12903225806451613
         ],
         "y": [
          "(24, 58]",
          "(58, 65]",
          "(65, 69]",
          "(69, 74]",
          "(74, 79]",
          "(79, 97]"
         ]
        },
        {
         "hoverinfo": "skip",
         "marker": {
          "color": "#4059AD"
         },
         "name": "Migliorati",
         "orientation": "h",
         "text": [
          "19.91",
          "15.42",
          "16.34",
          "17.61",
          "16.23",
          "14.5"
         ],
         "textposition": "auto",
         "type": "bar",
         "x": [
          0.19907940161104717,
          0.15420023014959724,
          0.16340621403912542,
          0.1760644418872267,
          0.1622554660529344,
          0.14499424626006904
         ],
         "y": [
          "(24, 58]",
          "(58, 65]",
          "(65, 69]",
          "(69, 74]",
          "(74, 79]",
          "(79, 97]"
         ]
        }
       ],
       "layout": {
        "bargap": 0.1,
        "barmode": "overlay",
        "font": {
         "size": 14
        },
        "plot_bgcolor": "rgba(0,0,0,0)",
        "template": {
         "data": {
          "bar": [
           {
            "error_x": {
             "color": "#2a3f5f"
            },
            "error_y": {
             "color": "#2a3f5f"
            },
            "marker": {
             "line": {
              "color": "#E5ECF6",
              "width": 0.5
             },
             "pattern": {
              "fillmode": "overlay",
              "size": 10,
              "solidity": 0.2
             }
            },
            "type": "bar"
           }
          ],
          "barpolar": [
           {
            "marker": {
             "line": {
              "color": "#E5ECF6",
              "width": 0.5
             },
             "pattern": {
              "fillmode": "overlay",
              "size": 10,
              "solidity": 0.2
             }
            },
            "type": "barpolar"
           }
          ],
          "carpet": [
           {
            "aaxis": {
             "endlinecolor": "#2a3f5f",
             "gridcolor": "white",
             "linecolor": "white",
             "minorgridcolor": "white",
             "startlinecolor": "#2a3f5f"
            },
            "baxis": {
             "endlinecolor": "#2a3f5f",
             "gridcolor": "white",
             "linecolor": "white",
             "minorgridcolor": "white",
             "startlinecolor": "#2a3f5f"
            },
            "type": "carpet"
           }
          ],
          "choropleth": [
           {
            "colorbar": {
             "outlinewidth": 0,
             "ticks": ""
            },
            "type": "choropleth"
           }
          ],
          "contour": [
           {
            "colorbar": {
             "outlinewidth": 0,
             "ticks": ""
            },
            "colorscale": [
             [
              0,
              "#0d0887"
             ],
             [
              0.1111111111111111,
              "#46039f"
             ],
             [
              0.2222222222222222,
              "#7201a8"
             ],
             [
              0.3333333333333333,
              "#9c179e"
             ],
             [
              0.4444444444444444,
              "#bd3786"
             ],
             [
              0.5555555555555556,
              "#d8576b"
             ],
             [
              0.6666666666666666,
              "#ed7953"
             ],
             [
              0.7777777777777778,
              "#fb9f3a"
             ],
             [
              0.8888888888888888,
              "#fdca26"
             ],
             [
              1,
              "#f0f921"
             ]
            ],
            "type": "contour"
           }
          ],
          "contourcarpet": [
           {
            "colorbar": {
             "outlinewidth": 0,
             "ticks": ""
            },
            "type": "contourcarpet"
           }
          ],
          "heatmap": [
           {
            "colorbar": {
             "outlinewidth": 0,
             "ticks": ""
            },
            "colorscale": [
             [
              0,
              "#0d0887"
             ],
             [
              0.1111111111111111,
              "#46039f"
             ],
             [
              0.2222222222222222,
              "#7201a8"
             ],
             [
              0.3333333333333333,
              "#9c179e"
             ],
             [
              0.4444444444444444,
              "#bd3786"
             ],
             [
              0.5555555555555556,
              "#d8576b"
             ],
             [
              0.6666666666666666,
              "#ed7953"
             ],
             [
              0.7777777777777778,
              "#fb9f3a"
             ],
             [
              0.8888888888888888,
              "#fdca26"
             ],
             [
              1,
              "#f0f921"
             ]
            ],
            "type": "heatmap"
           }
          ],
          "heatmapgl": [
           {
            "colorbar": {
             "outlinewidth": 0,
             "ticks": ""
            },
            "colorscale": [
             [
              0,
              "#0d0887"
             ],
             [
              0.1111111111111111,
              "#46039f"
             ],
             [
              0.2222222222222222,
              "#7201a8"
             ],
             [
              0.3333333333333333,
              "#9c179e"
             ],
             [
              0.4444444444444444,
              "#bd3786"
             ],
             [
              0.5555555555555556,
              "#d8576b"
             ],
             [
              0.6666666666666666,
              "#ed7953"
             ],
             [
              0.7777777777777778,
              "#fb9f3a"
             ],
             [
              0.8888888888888888,
              "#fdca26"
             ],
             [
              1,
              "#f0f921"
             ]
            ],
            "type": "heatmapgl"
           }
          ],
          "histogram": [
           {
            "marker": {
             "pattern": {
              "fillmode": "overlay",
              "size": 10,
              "solidity": 0.2
             }
            },
            "type": "histogram"
           }
          ],
          "histogram2d": [
           {
            "colorbar": {
             "outlinewidth": 0,
             "ticks": ""
            },
            "colorscale": [
             [
              0,
              "#0d0887"
             ],
             [
              0.1111111111111111,
              "#46039f"
             ],
             [
              0.2222222222222222,
              "#7201a8"
             ],
             [
              0.3333333333333333,
              "#9c179e"
             ],
             [
              0.4444444444444444,
              "#bd3786"
             ],
             [
              0.5555555555555556,
              "#d8576b"
             ],
             [
              0.6666666666666666,
              "#ed7953"
             ],
             [
              0.7777777777777778,
              "#fb9f3a"
             ],
             [
              0.8888888888888888,
              "#fdca26"
             ],
             [
              1,
              "#f0f921"
             ]
            ],
            "type": "histogram2d"
           }
          ],
          "histogram2dcontour": [
           {
            "colorbar": {
             "outlinewidth": 0,
             "ticks": ""
            },
            "colorscale": [
             [
              0,
              "#0d0887"
             ],
             [
              0.1111111111111111,
              "#46039f"
             ],
             [
              0.2222222222222222,
              "#7201a8"
             ],
             [
              0.3333333333333333,
              "#9c179e"
             ],
             [
              0.4444444444444444,
              "#bd3786"
             ],
             [
              0.5555555555555556,
              "#d8576b"
             ],
             [
              0.6666666666666666,
              "#ed7953"
             ],
             [
              0.7777777777777778,
              "#fb9f3a"
             ],
             [
              0.8888888888888888,
              "#fdca26"
             ],
             [
              1,
              "#f0f921"
             ]
            ],
            "type": "histogram2dcontour"
           }
          ],
          "mesh3d": [
           {
            "colorbar": {
             "outlinewidth": 0,
             "ticks": ""
            },
            "type": "mesh3d"
           }
          ],
          "parcoords": [
           {
            "line": {
             "colorbar": {
              "outlinewidth": 0,
              "ticks": ""
             }
            },
            "type": "parcoords"
           }
          ],
          "pie": [
           {
            "automargin": true,
            "type": "pie"
           }
          ],
          "scatter": [
           {
            "marker": {
             "colorbar": {
              "outlinewidth": 0,
              "ticks": ""
             }
            },
            "type": "scatter"
           }
          ],
          "scatter3d": [
           {
            "line": {
             "colorbar": {
              "outlinewidth": 0,
              "ticks": ""
             }
            },
            "marker": {
             "colorbar": {
              "outlinewidth": 0,
              "ticks": ""
             }
            },
            "type": "scatter3d"
           }
          ],
          "scattercarpet": [
           {
            "marker": {
             "colorbar": {
              "outlinewidth": 0,
              "ticks": ""
             }
            },
            "type": "scattercarpet"
           }
          ],
          "scattergeo": [
           {
            "marker": {
             "colorbar": {
              "outlinewidth": 0,
              "ticks": ""
             }
            },
            "type": "scattergeo"
           }
          ],
          "scattergl": [
           {
            "marker": {
             "colorbar": {
              "outlinewidth": 0,
              "ticks": ""
             }
            },
            "type": "scattergl"
           }
          ],
          "scattermapbox": [
           {
            "marker": {
             "colorbar": {
              "outlinewidth": 0,
              "ticks": ""
             }
            },
            "type": "scattermapbox"
           }
          ],
          "scatterpolar": [
           {
            "marker": {
             "colorbar": {
              "outlinewidth": 0,
              "ticks": ""
             }
            },
            "type": "scatterpolar"
           }
          ],
          "scatterpolargl": [
           {
            "marker": {
             "colorbar": {
              "outlinewidth": 0,
              "ticks": ""
             }
            },
            "type": "scatterpolargl"
           }
          ],
          "scatterternary": [
           {
            "marker": {
             "colorbar": {
              "outlinewidth": 0,
              "ticks": ""
             }
            },
            "type": "scatterternary"
           }
          ],
          "surface": [
           {
            "colorbar": {
             "outlinewidth": 0,
             "ticks": ""
            },
            "colorscale": [
             [
              0,
              "#0d0887"
             ],
             [
              0.1111111111111111,
              "#46039f"
             ],
             [
              0.2222222222222222,
              "#7201a8"
             ],
             [
              0.3333333333333333,
              "#9c179e"
             ],
             [
              0.4444444444444444,
              "#bd3786"
             ],
             [
              0.5555555555555556,
              "#d8576b"
             ],
             [
              0.6666666666666666,
              "#ed7953"
             ],
             [
              0.7777777777777778,
              "#fb9f3a"
             ],
             [
              0.8888888888888888,
              "#fdca26"
             ],
             [
              1,
              "#f0f921"
             ]
            ],
            "type": "surface"
           }
          ],
          "table": [
           {
            "cells": {
             "fill": {
              "color": "#EBF0F8"
             },
             "line": {
              "color": "white"
             }
            },
            "header": {
             "fill": {
              "color": "#C8D4E3"
             },
             "line": {
              "color": "white"
             }
            },
            "type": "table"
           }
          ]
         },
         "layout": {
          "annotationdefaults": {
           "arrowcolor": "#2a3f5f",
           "arrowhead": 0,
           "arrowwidth": 1
          },
          "autotypenumbers": "strict",
          "coloraxis": {
           "colorbar": {
            "outlinewidth": 0,
            "ticks": ""
           }
          },
          "colorscale": {
           "diverging": [
            [
             0,
             "#8e0152"
            ],
            [
             0.1,
             "#c51b7d"
            ],
            [
             0.2,
             "#de77ae"
            ],
            [
             0.3,
             "#f1b6da"
            ],
            [
             0.4,
             "#fde0ef"
            ],
            [
             0.5,
             "#f7f7f7"
            ],
            [
             0.6,
             "#e6f5d0"
            ],
            [
             0.7,
             "#b8e186"
            ],
            [
             0.8,
             "#7fbc41"
            ],
            [
             0.9,
             "#4d9221"
            ],
            [
             1,
             "#276419"
            ]
           ],
           "sequential": [
            [
             0,
             "#0d0887"
            ],
            [
             0.1111111111111111,
             "#46039f"
            ],
            [
             0.2222222222222222,
             "#7201a8"
            ],
            [
             0.3333333333333333,
             "#9c179e"
            ],
            [
             0.4444444444444444,
             "#bd3786"
            ],
            [
             0.5555555555555556,
             "#d8576b"
            ],
            [
             0.6666666666666666,
             "#ed7953"
            ],
            [
             0.7777777777777778,
             "#fb9f3a"
            ],
            [
             0.8888888888888888,
             "#fdca26"
            ],
            [
             1,
             "#f0f921"
            ]
           ],
           "sequentialminus": [
            [
             0,
             "#0d0887"
            ],
            [
             0.1111111111111111,
             "#46039f"
            ],
            [
             0.2222222222222222,
             "#7201a8"
            ],
            [
             0.3333333333333333,
             "#9c179e"
            ],
            [
             0.4444444444444444,
             "#bd3786"
            ],
            [
             0.5555555555555556,
             "#d8576b"
            ],
            [
             0.6666666666666666,
             "#ed7953"
            ],
            [
             0.7777777777777778,
             "#fb9f3a"
            ],
            [
             0.8888888888888888,
             "#fdca26"
            ],
            [
             1,
             "#f0f921"
            ]
           ]
          },
          "colorway": [
           "#636efa",
           "#EF553B",
           "#00cc96",
           "#ab63fa",
           "#FFA15A",
           "#19d3f3",
           "#FF6692",
           "#B6E880",
           "#FF97FF",
           "#FECB52"
          ],
          "font": {
           "color": "#2a3f5f"
          },
          "geo": {
           "bgcolor": "white",
           "lakecolor": "white",
           "landcolor": "#E5ECF6",
           "showlakes": true,
           "showland": true,
           "subunitcolor": "white"
          },
          "hoverlabel": {
           "align": "left"
          },
          "hovermode": "closest",
          "mapbox": {
           "style": "light"
          },
          "paper_bgcolor": "white",
          "plot_bgcolor": "#E5ECF6",
          "polar": {
           "angularaxis": {
            "gridcolor": "white",
            "linecolor": "white",
            "ticks": ""
           },
           "bgcolor": "#E5ECF6",
           "radialaxis": {
            "gridcolor": "white",
            "linecolor": "white",
            "ticks": ""
           }
          },
          "scene": {
           "xaxis": {
            "backgroundcolor": "#E5ECF6",
            "gridcolor": "white",
            "gridwidth": 2,
            "linecolor": "white",
            "showbackground": true,
            "ticks": "",
            "zerolinecolor": "white"
           },
           "yaxis": {
            "backgroundcolor": "#E5ECF6",
            "gridcolor": "white",
            "gridwidth": 2,
            "linecolor": "white",
            "showbackground": true,
            "ticks": "",
            "zerolinecolor": "white"
           },
           "zaxis": {
            "backgroundcolor": "#E5ECF6",
            "gridcolor": "white",
            "gridwidth": 2,
            "linecolor": "white",
            "showbackground": true,
            "ticks": "",
            "zerolinecolor": "white"
           }
          },
          "shapedefaults": {
           "line": {
            "color": "#2a3f5f"
           }
          },
          "ternary": {
           "aaxis": {
            "gridcolor": "white",
            "linecolor": "white",
            "ticks": ""
           },
           "baxis": {
            "gridcolor": "white",
            "linecolor": "white",
            "ticks": ""
           },
           "bgcolor": "#E5ECF6",
           "caxis": {
            "gridcolor": "white",
            "linecolor": "white",
            "ticks": ""
           }
          },
          "title": {
           "x": 0.05
          },
          "xaxis": {
           "automargin": true,
           "gridcolor": "white",
           "linecolor": "white",
           "ticks": "",
           "title": {
            "standoff": 15
           },
           "zerolinecolor": "white",
           "zerolinewidth": 2
          },
          "yaxis": {
           "automargin": true,
           "gridcolor": "white",
           "linecolor": "white",
           "ticks": "",
           "title": {
            "standoff": 15
           },
           "zerolinecolor": "white",
           "zerolinewidth": 2
          }
         }
        },
        "xaxis": {
         "range": [
          -0.5,
          0.5
         ],
         "ticktext": [
          50,
          25,
          0,
          25,
          50
         ],
         "tickvals": [
          -0.5,
          -0.25,
          0,
          0.25,
          0.5
         ],
         "title": {
          "text": "Percentuale (%)"
         }
        },
        "yaxis": {
         "title": {
          "text": "Classe di età"
         }
        }
       }
      }
     },
     "metadata": {},
     "output_type": "display_data"
    }
   ],
   "source": [
    "\n",
    "#creazione finestra grafico\n",
    "fig = go.Figure()\n",
    "#creazione layout grafico con nome degli assi, titolo del grafico, etichette dei dati degli assi e grandezza del font\n",
    "fig.update_layout(go.Layout(plot_bgcolor='rgba(0,0,0,0)',\n",
    "                            yaxis=go.layout.YAxis(title='Classe di età'),\n",
    "                            xaxis=go.layout.XAxis(\n",
    "                                range=[-0.5, 0.5],\n",
    "                                tickvals=[-0.5, -0.25, 0, 0.25, 0.5],\n",
    "                                ticktext=[50, 25, 0, 25, 50],\n",
    "                                title='Percentuale (%)'),\n",
    "                            barmode='overlay',\n",
    "                            # title=\"\",\n",
    "                            bargap=0.1,\n",
    "                            font=dict(\n",
    "                                size=14,\n",
    "                            )\n",
    "\n",
    "                            ))\n",
    "#creazione della porzione di piramide relativo alla percentuale di peggiorati\n",
    "fig.add_trace(go.Bar(y=dataframe[\"gruppo_eta\"].to_list(), x=dataframe[\"peggiorati\"],\n",
    "                     orientation='h',\n",
    "                     name='Peggiorati',\n",
    "                     text=(dataframe[\"peggiorati\"] *\n",
    "                           100).abs().round(2).to_list(),\n",
    "                     hoverinfo='skip',\n",
    "\n",
    "                     marker=dict(color='#F4B942'),\n",
    "                     textposition='auto',\n",
    "                     ),)\n",
    "#creazione della porzione di piramide relativo alla percentuale di migliorati\n",
    "fig.add_trace(go.Bar(y=dataframe[\"gruppo_eta\"].to_list(), x=dataframe[\"migliorati\"],\n",
    "                     orientation='h',\n",
    "                     text=(dataframe[\"migliorati\"] *\n",
    "                           100).abs().round(2).to_list(),\n",
    "                     name='Migliorati',\n",
    "                     hoverinfo='skip',\n",
    "                     marker=dict(color='#4059AD'),\n",
    "                     textposition='auto',\n",
    "                     ))\n",
    "\n",
    "#visualizzazione grafico\n",
    "fig.show()"
   ]
  },
  {
   "cell_type": "markdown",
   "metadata": {},
   "source": [
    "Salvataggio della visualizzazione come immagine"
   ]
  },
  {
   "cell_type": "code",
   "execution_count": 10,
   "metadata": {},
   "outputs": [],
   "source": [
    "#salvataggio della visualizzazione come file png con larghezza di 1700px\n",
    "fig.write_image(\"pyramid.png\", scale=1, width= 1700 )"
   ]
  }
 ],
 "metadata": {
  "interpreter": {
   "hash": "63fd5069d213b44bf678585dea6b12cceca9941eaf7f819626cde1f2670de90d"
  },
  "kernelspec": {
   "display_name": "Python 3.9.1 64-bit",
   "language": "python",
   "name": "python3"
  },
  "language_info": {
   "codemirror_mode": {
    "name": "ipython",
    "version": 3
   },
   "file_extension": ".py",
   "mimetype": "text/x-python",
   "name": "python",
   "nbconvert_exporter": "python",
   "pygments_lexer": "ipython3",
   "version": "3.9.7"
  },
  "orig_nbformat": 4
 },
 "nbformat": 4,
 "nbformat_minor": 2
}
